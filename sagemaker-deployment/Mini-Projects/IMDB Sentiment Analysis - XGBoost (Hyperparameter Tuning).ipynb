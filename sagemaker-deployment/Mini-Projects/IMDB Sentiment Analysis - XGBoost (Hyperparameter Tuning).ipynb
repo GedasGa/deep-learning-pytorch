{
 "cells": [
  {
   "cell_type": "markdown",
   "metadata": {},
   "source": [
    "# Sentiment Analysis\n",
    "\n",
    "## Using XGBoost in SageMaker\n",
    "\n",
    "_Deep Learning Nanodegree Program | Deployment_\n",
    "\n",
    "---\n",
    "\n",
    "In this example of using Amazon's SageMaker service we will construct a random tree model to predict the sentiment of a movie review. You may have seen a version of this example in a pervious lesson although it would have been done using the sklearn package. Instead, we will be using the XGBoost package as it is provided to us by Amazon.\n",
    "\n",
    "## Instructions\n",
    "\n",
    "Some template code has already been provided for you, and you will need to implement additional functionality to successfully complete this notebook. You will not need to modify the included code beyond what is requested. Sections that begin with '**TODO**' in the header indicate that you need to complete or implement some portion within them. Instructions will be provided for each section and the specifics of the implementation are marked in the code block with a `# TODO: ...` comment. Please be sure to read the instructions carefully!\n",
    "\n",
    "In addition to implementing code, there will be questions for you to answer which relate to the task and your implementation. Each section where you will answer a question is preceded by a '**Question:**' header. Carefully read each question and provide your answer below the '**Answer:**' header by editing the Markdown cell.\n",
    "\n",
    "> **Note**: Code and Markdown cells can be executed using the **Shift+Enter** keyboard shortcut. In addition, a cell can be edited by typically clicking it (double-click for Markdown cells) or by pressing **Enter** while it is highlighted."
   ]
  },
  {
   "cell_type": "markdown",
   "metadata": {},
   "source": [
    "## Step 1: Downloading the data\n",
    "\n",
    "The dataset we are going to use is very popular among researchers in Natural Language Processing, usually referred to as the [IMDb dataset](http://ai.stanford.edu/~amaas/data/sentiment/). It consists of movie reviews from the website [imdb.com](http://www.imdb.com/), each labeled as either '**pos**itive', if the reviewer enjoyed the film, or '**neg**ative' otherwise.\n",
    "\n",
    "> Maas, Andrew L., et al. [Learning Word Vectors for Sentiment Analysis](http://ai.stanford.edu/~amaas/data/sentiment/). In _Proceedings of the 49th Annual Meeting of the Association for Computational Linguistics: Human Language Technologies_. Association for Computational Linguistics, 2011.\n",
    "\n",
    "We begin by using some Jupyter Notebook magic to download and extract the dataset."
   ]
  },
  {
   "cell_type": "code",
   "execution_count": 33,
   "metadata": {},
   "outputs": [
    {
     "name": "stdout",
     "output_type": "stream",
     "text": [
      "mkdir: cannot create directory ‘../data’: File exists\n",
      "--2019-05-02 12:36:32--  http://ai.stanford.edu/~amaas/data/sentiment/aclImdb_v1.tar.gz\n",
      "Resolving ai.stanford.edu (ai.stanford.edu)... 171.64.68.10\n",
      "Connecting to ai.stanford.edu (ai.stanford.edu)|171.64.68.10|:80... connected.\n",
      "HTTP request sent, awaiting response... 200 OK\n",
      "Length: 84125825 (80M) [application/x-gzip]\n",
      "Saving to: ‘../data/aclImdb_v1.tar.gz’\n",
      "\n",
      "../data/aclImdb_v1. 100%[===================>]  80.23M  7.53MB/s    in 12s     \n",
      "\n",
      "2019-05-02 12:36:44 (6.61 MB/s) - ‘../data/aclImdb_v1.tar.gz’ saved [84125825/84125825]\n",
      "\n"
     ]
    }
   ],
   "source": [
    "%mkdir ../data\n",
    "!wget -O ../data/aclImdb_v1.tar.gz http://ai.stanford.edu/~amaas/data/sentiment/aclImdb_v1.tar.gz\n",
    "!tar -zxf ../data/aclImdb_v1.tar.gz -C ../data"
   ]
  },
  {
   "cell_type": "markdown",
   "metadata": {},
   "source": [
    "## Step 2: Preparing the data\n",
    "\n",
    "The data we have downloaded is split into various files, each of which contains a single review. It will be much easier going forward if we combine these individual files into two large files, one for training and one for testing."
   ]
  },
  {
   "cell_type": "code",
   "execution_count": 34,
   "metadata": {},
   "outputs": [],
   "source": [
    "import os\n",
    "import glob\n",
    "\n",
    "def read_imdb_data(data_dir='../data/aclImdb'):\n",
    "    data = {}\n",
    "    labels = {}\n",
    "    \n",
    "    for data_type in ['train', 'test']:\n",
    "        data[data_type] = {}\n",
    "        labels[data_type] = {}\n",
    "        \n",
    "        for sentiment in ['pos', 'neg']:\n",
    "            data[data_type][sentiment] = []\n",
    "            labels[data_type][sentiment] = []\n",
    "            \n",
    "            path = os.path.join(data_dir, data_type, sentiment, '*.txt')\n",
    "            files = glob.glob(path)\n",
    "            \n",
    "            for f in files:\n",
    "                with open(f) as review:\n",
    "                    data[data_type][sentiment].append(review.read())\n",
    "                    # Here we represent a positive review by '1' and a negative review by '0'\n",
    "                    labels[data_type][sentiment].append(1 if sentiment == 'pos' else 0)\n",
    "                    \n",
    "            assert len(data[data_type][sentiment]) == len(labels[data_type][sentiment]), \\\n",
    "                    \"{}/{} data size does not match labels size\".format(data_type, sentiment)\n",
    "                \n",
    "    return data, labels"
   ]
  },
  {
   "cell_type": "code",
   "execution_count": 35,
   "metadata": {},
   "outputs": [
    {
     "name": "stdout",
     "output_type": "stream",
     "text": [
      "IMDB reviews: train = 12500 pos / 12500 neg, test = 12500 pos / 12500 neg\n"
     ]
    }
   ],
   "source": [
    "data, labels = read_imdb_data()\n",
    "print(\"IMDB reviews: train = {} pos / {} neg, test = {} pos / {} neg\".format(\n",
    "            len(data['train']['pos']), len(data['train']['neg']),\n",
    "            len(data['test']['pos']), len(data['test']['neg'])))"
   ]
  },
  {
   "cell_type": "code",
   "execution_count": 36,
   "metadata": {},
   "outputs": [],
   "source": [
    "from sklearn.utils import shuffle\n",
    "\n",
    "def prepare_imdb_data(data, labels):\n",
    "    \"\"\"Prepare training and test sets from IMDb movie reviews.\"\"\"\n",
    "    \n",
    "    #Combine positive and negative reviews and labels\n",
    "    data_train = data['train']['pos'] + data['train']['neg']\n",
    "    data_test = data['test']['pos'] + data['test']['neg']\n",
    "    labels_train = labels['train']['pos'] + labels['train']['neg']\n",
    "    labels_test = labels['test']['pos'] + labels['test']['neg']\n",
    "    \n",
    "    #Shuffle reviews and corresponding labels within training and test sets\n",
    "    data_train, labels_train = shuffle(data_train, labels_train)\n",
    "    data_test, labels_test = shuffle(data_test, labels_test)\n",
    "    \n",
    "    # Return a unified training data, test data, training labels, test labets\n",
    "    return data_train, data_test, labels_train, labels_test"
   ]
  },
  {
   "cell_type": "code",
   "execution_count": 37,
   "metadata": {},
   "outputs": [
    {
     "name": "stdout",
     "output_type": "stream",
     "text": [
      "IMDb reviews (combined): train = 25000, test = 25000\n"
     ]
    }
   ],
   "source": [
    "train_X, test_X, train_y, test_y = prepare_imdb_data(data, labels)\n",
    "print(\"IMDb reviews (combined): train = {}, test = {}\".format(len(train_X), len(test_X)))"
   ]
  },
  {
   "cell_type": "code",
   "execution_count": 38,
   "metadata": {},
   "outputs": [
    {
     "data": {
      "text/plain": [
       "\"This flick reminds me some really bad science-fiction movies from 50's and 60's.It is not scary or interesting,but it's dull,cheesy and stupid.Special effects are laughable,all actors are ludicrous and the ending is simply awful.Don't waste your money,rent or buy something better.I give it 3.5 out of 10( I found this turkey quite amusing because of its stupidity).\""
      ]
     },
     "execution_count": 38,
     "metadata": {},
     "output_type": "execute_result"
    }
   ],
   "source": [
    "train_X[100]"
   ]
  },
  {
   "cell_type": "markdown",
   "metadata": {},
   "source": [
    "## Step 3: Processing the data\n",
    "\n",
    "Now that we have our training and testing datasets merged and ready to use, we need to start processing the raw data into something that will be useable by our machine learning algorithm. To begin with, we remove any html formatting that may appear in the reviews and perform some standard natural language processing in order to homogenize the data."
   ]
  },
  {
   "cell_type": "code",
   "execution_count": 39,
   "metadata": {},
   "outputs": [
    {
     "name": "stdout",
     "output_type": "stream",
     "text": [
      "[nltk_data] Downloading package stopwords to\n",
      "[nltk_data]     /home/ec2-user/nltk_data...\n",
      "[nltk_data]   Package stopwords is already up-to-date!\n"
     ]
    }
   ],
   "source": [
    "import nltk\n",
    "nltk.download(\"stopwords\")\n",
    "from nltk.corpus import stopwords\n",
    "from nltk.stem.porter import *\n",
    "stemmer = PorterStemmer()"
   ]
  },
  {
   "cell_type": "code",
   "execution_count": 40,
   "metadata": {},
   "outputs": [],
   "source": [
    "import re\n",
    "from bs4 import BeautifulSoup\n",
    "\n",
    "def review_to_words(review):\n",
    "    text = BeautifulSoup(review, \"html.parser\").get_text() # Remove HTML tags\n",
    "    text = re.sub(r\"[^a-zA-Z0-9]\", \" \", text.lower()) # Convert to lower case\n",
    "    words = text.split() # Split string into words\n",
    "    words = [w for w in words if w not in stopwords.words(\"english\")] # Remove stopwords\n",
    "    words = [PorterStemmer().stem(w) for w in words] # stem\n",
    "    \n",
    "    return words"
   ]
  },
  {
   "cell_type": "code",
   "execution_count": 41,
   "metadata": {},
   "outputs": [],
   "source": [
    "import pickle\n",
    "\n",
    "cache_dir = os.path.join(\"../cache\", \"sentiment_analysis\")  # where to store cache files\n",
    "os.makedirs(cache_dir, exist_ok=True)  # ensure cache directory exists\n",
    "\n",
    "def preprocess_data(data_train, data_test, labels_train, labels_test,\n",
    "                    cache_dir=cache_dir, cache_file=\"preprocessed_data.pkl\"):\n",
    "    \"\"\"Convert each review to words; read from cache if available.\"\"\"\n",
    "\n",
    "    # If cache_file is not None, try to read from it first\n",
    "    cache_data = None\n",
    "    if cache_file is not None:\n",
    "        try:\n",
    "            with open(os.path.join(cache_dir, cache_file), \"rb\") as f:\n",
    "                cache_data = pickle.load(f)\n",
    "            print(\"Read preprocessed data from cache file:\", cache_file)\n",
    "        except:\n",
    "            pass  # unable to read from cache, but that's okay\n",
    "    \n",
    "    # If cache is missing, then do the heavy lifting\n",
    "    if cache_data is None:\n",
    "        # Preprocess training and test data to obtain words for each review\n",
    "        #words_train = list(map(review_to_words, data_train))\n",
    "        #words_test = list(map(review_to_words, data_test))\n",
    "        words_train = [review_to_words(review) for review in data_train]\n",
    "        words_test = [review_to_words(review) for review in data_test]\n",
    "        \n",
    "        # Write to cache file for future runs\n",
    "        if cache_file is not None:\n",
    "            cache_data = dict(words_train=words_train, words_test=words_test,\n",
    "                              labels_train=labels_train, labels_test=labels_test)\n",
    "            with open(os.path.join(cache_dir, cache_file), \"wb\") as f:\n",
    "                pickle.dump(cache_data, f)\n",
    "            print(\"Wrote preprocessed data to cache file:\", cache_file)\n",
    "    else:\n",
    "        # Unpack data loaded from cache file\n",
    "        words_train, words_test, labels_train, labels_test = (cache_data['words_train'],\n",
    "                cache_data['words_test'], cache_data['labels_train'], cache_data['labels_test'])\n",
    "    \n",
    "    return words_train, words_test, labels_train, labels_test"
   ]
  },
  {
   "cell_type": "code",
   "execution_count": 42,
   "metadata": {},
   "outputs": [
    {
     "name": "stdout",
     "output_type": "stream",
     "text": [
      "Read preprocessed data from cache file: preprocessed_data.pkl\n"
     ]
    }
   ],
   "source": [
    "# Preprocess data\n",
    "train_X, test_X, train_y, test_y = preprocess_data(train_X, test_X, train_y, test_y)"
   ]
  },
  {
   "cell_type": "markdown",
   "metadata": {},
   "source": [
    "### Extract Bag-of-Words features\n",
    "\n",
    "For the model we will be implementing, rather than using the reviews directly, we are going to transform each review into a Bag-of-Words feature representation. Keep in mind that 'in the wild' we will only have access to the training set so our transformer can only use the training set to construct a representation."
   ]
  },
  {
   "cell_type": "code",
   "execution_count": 43,
   "metadata": {},
   "outputs": [],
   "source": [
    "import numpy as np\n",
    "from sklearn.feature_extraction.text import CountVectorizer\n",
    "from sklearn.externals import joblib\n",
    "# joblib is an enhanced version of pickle that is more efficient for storing NumPy arrays\n",
    "\n",
    "def extract_BoW_features(words_train, words_test, vocabulary_size=5000,\n",
    "                         cache_dir=cache_dir, cache_file=\"bow_features.pkl\"):\n",
    "    \"\"\"Extract Bag-of-Words for a given set of documents, already preprocessed into words.\"\"\"\n",
    "    \n",
    "    # If cache_file is not None, try to read from it first\n",
    "    cache_data = None\n",
    "    if cache_file is not None:\n",
    "        try:\n",
    "            with open(os.path.join(cache_dir, cache_file), \"rb\") as f:\n",
    "                cache_data = joblib.load(f)\n",
    "            print(\"Read features from cache file:\", cache_file)\n",
    "        except:\n",
    "            pass  # unable to read from cache, but that's okay\n",
    "    \n",
    "    # If cache is missing, then do the heavy lifting\n",
    "    if cache_data is None:\n",
    "        # Fit a vectorizer to training documents and use it to transform them\n",
    "        # NOTE: Training documents have already been preprocessed and tokenized into words;\n",
    "        #       pass in dummy functions to skip those steps, e.g. preprocessor=lambda x: x\n",
    "        vectorizer = CountVectorizer(max_features=vocabulary_size,\n",
    "                preprocessor=lambda x: x, tokenizer=lambda x: x)  # already preprocessed\n",
    "        features_train = vectorizer.fit_transform(words_train).toarray()\n",
    "\n",
    "        # Apply the same vectorizer to transform the test documents (ignore unknown words)\n",
    "        features_test = vectorizer.transform(words_test).toarray()\n",
    "        \n",
    "        # NOTE: Remember to convert the features using .toarray() for a compact representation\n",
    "        \n",
    "        # Write to cache file for future runs (store vocabulary as well)\n",
    "        if cache_file is not None:\n",
    "            vocabulary = vectorizer.vocabulary_\n",
    "            cache_data = dict(features_train=features_train, features_test=features_test,\n",
    "                             vocabulary=vocabulary)\n",
    "            with open(os.path.join(cache_dir, cache_file), \"wb\") as f:\n",
    "                joblib.dump(cache_data, f)\n",
    "            print(\"Wrote features to cache file:\", cache_file)\n",
    "    else:\n",
    "        # Unpack data loaded from cache file\n",
    "        features_train, features_test, vocabulary = (cache_data['features_train'],\n",
    "                cache_data['features_test'], cache_data['vocabulary'])\n",
    "    \n",
    "    # Return both the extracted features as well as the vocabulary\n",
    "    return features_train, features_test, vocabulary"
   ]
  },
  {
   "cell_type": "code",
   "execution_count": 44,
   "metadata": {},
   "outputs": [
    {
     "name": "stdout",
     "output_type": "stream",
     "text": [
      "Read features from cache file: bow_features.pkl\n"
     ]
    }
   ],
   "source": [
    "# Extract Bag of Words features for both training and test datasets\n",
    "train_X, test_X, vocabulary = extract_BoW_features(train_X, test_X)"
   ]
  },
  {
   "cell_type": "markdown",
   "metadata": {},
   "source": [
    "## Step 4: Classification using XGBoost\n",
    "\n",
    "Now that we have created the feature representation of our training (and testing) data, it is time to start setting up and using the XGBoost classifier provided by SageMaker.\n",
    "\n",
    "### Writing the dataset\n",
    "\n",
    "The XGBoost classifier that we will be using requires the dataset to be written to a file and stored using Amazon S3. To do this, we will start by splitting the training dataset into two parts, the data we will train the model with and a validation set. Then, we will write those datasets to a file and upload the files to S3. In addition, we will write the test set input to a file and upload the file to S3. This is so that we can use SageMakers Batch Transform functionality to test our model once we've fit it."
   ]
  },
  {
   "cell_type": "code",
   "execution_count": 45,
   "metadata": {},
   "outputs": [],
   "source": [
    "import pandas as pd\n",
    "\n",
    "val_X = pd.DataFrame(train_X[:10000])\n",
    "train_X = pd.DataFrame(train_X[10000:])\n",
    "\n",
    "val_y = pd.DataFrame(train_y[:10000])\n",
    "train_y = pd.DataFrame(train_y[10000:])\n",
    "\n",
    "test_y = pd.DataFrame(test_y)\n",
    "test_X = pd.DataFrame(test_X)"
   ]
  },
  {
   "cell_type": "markdown",
   "metadata": {},
   "source": [
    "The documentation for the XGBoost algorithm in SageMaker requires that the saved datasets should contain no headers or index and that for the training and validation data, the label should occur first for each sample.\n",
    "\n",
    "For more information about this and other algorithms, the SageMaker developer documentation can be found on __[Amazon's website.](https://docs.aws.amazon.com/sagemaker/latest/dg/)__"
   ]
  },
  {
   "cell_type": "code",
   "execution_count": 46,
   "metadata": {},
   "outputs": [],
   "source": [
    "# First we make sure that the local directory in which we'd like to store the training and validation csv files exists.\n",
    "data_dir = '../data/xgboost'\n",
    "if not os.path.exists(data_dir):\n",
    "    os.makedirs(data_dir)"
   ]
  },
  {
   "cell_type": "code",
   "execution_count": 47,
   "metadata": {},
   "outputs": [],
   "source": [
    "# First, save the test data to test.csv in the data_dir directory. Note that we do not save the associated ground truth\n",
    "# labels, instead we will use them later to compare with our model output.\n",
    "\n",
    "pd.DataFrame(test_X).to_csv(os.path.join(data_dir, 'test.csv'), header=False, index=False)\n",
    "pd.concat([val_y, val_X], axis=1).to_csv(os.path.join(data_dir, 'validation.csv'), header=False, index=False)\n",
    "pd.concat([train_y, train_X], axis=1).to_csv(os.path.join(data_dir, 'train.csv'), header=False, index=False)"
   ]
  },
  {
   "cell_type": "code",
   "execution_count": 48,
   "metadata": {},
   "outputs": [],
   "source": [
    "# To save a bit of memory we can set text_X, train_X, val_X, train_y and val_y to None.\n",
    "\n",
    "train_X = val_X = train_y = val_y = None"
   ]
  },
  {
   "cell_type": "markdown",
   "metadata": {},
   "source": [
    "### Uploading Training / Validation files to S3\n",
    "\n",
    "Amazon's S3 service allows us to store files that can be access by both the built-in training models such as the XGBoost model we will be using as well as custom models such as the one we will see a little later.\n",
    "\n",
    "For this, and most other tasks we will be doing using SageMaker, there are two methods we could use. The first is to use the low level functionality of SageMaker which requires knowing each of the objects involved in the SageMaker environment. The second is to use the high level functionality in which certain choices have been made on the user's behalf. The low level approach benefits from allowing the user a great deal of flexibility while the high level approach makes development much quicker. For our purposes we will opt to use the high level approach although using the low-level approach is certainly an option.\n",
    "\n",
    "Recall the method `upload_data()` which is a member of object representing our current SageMaker session. What this method does is upload the data to the default bucket (which is created if it does not exist) into the path described by the key_prefix variable. To see this for yourself, once you have uploaded the data files, go to the S3 console and look to see where the files have been uploaded.\n",
    "\n",
    "For additional resources, see the __[SageMaker API documentation](http://sagemaker.readthedocs.io/en/latest/)__ and in addition the __[SageMaker Developer Guide.](https://docs.aws.amazon.com/sagemaker/latest/dg/)__"
   ]
  },
  {
   "cell_type": "code",
   "execution_count": 49,
   "metadata": {},
   "outputs": [],
   "source": [
    "import sagemaker\n",
    "\n",
    "session = sagemaker.Session() # Store the current SageMaker session\n",
    "\n",
    "# S3 prefix (which folder will we use)\n",
    "prefix = 'sentiment-xgboost'\n",
    "\n",
    "test_location = session.upload_data(os.path.join(data_dir, 'test.csv'), key_prefix=prefix)\n",
    "val_location = session.upload_data(os.path.join(data_dir, 'validation.csv'), key_prefix=prefix)\n",
    "train_location = session.upload_data(os.path.join(data_dir, 'train.csv'), key_prefix=prefix)"
   ]
  },
  {
   "cell_type": "markdown",
   "metadata": {},
   "source": [
    "### (TODO) Creating a hypertuned XGBoost model\n",
    "\n",
    "Now that the data has been uploaded it is time to create the XGBoost model. As in the Boston Housing notebook, the first step is to create an estimator object which will be used as the *base* of your hyperparameter tuning job."
   ]
  },
  {
   "cell_type": "code",
   "execution_count": 18,
   "metadata": {},
   "outputs": [],
   "source": [
    "from sagemaker import get_execution_role\n",
    "\n",
    "# Our current execution role is require when creating the model as the training\n",
    "# and inference code will need to access the model artifacts.\n",
    "role = get_execution_role()"
   ]
  },
  {
   "cell_type": "code",
   "execution_count": 19,
   "metadata": {},
   "outputs": [],
   "source": [
    "# We need to retrieve the location of the container which is provided by Amazon for using XGBoost.\n",
    "# As a matter of convenience, the training and inference code both use the same container.\n",
    "from sagemaker.amazon.amazon_estimator import get_image_uri\n",
    "\n",
    "container = get_image_uri(session.boto_region_name, 'xgboost')"
   ]
  },
  {
   "cell_type": "code",
   "execution_count": 20,
   "metadata": {},
   "outputs": [],
   "source": [
    "# Create a SageMaker estimator using the container location determined in the previous cell.\n",
    "# It is recommended that you use a single training instance of type ml.m4.xlarge. It is also\n",
    "# recommended that you use 's3://{}/{}/output'.format(session.default_bucket(), prefix) as the\n",
    "# output path.\n",
    "\n",
    "xgb = sagemaker.estimator.Estimator(container, # The name of the training container\n",
    "                                    role,      # The IAM role to use (our current role in this case)\n",
    "                                    train_instance_count=1, # The number of instances to use for training\n",
    "                                    train_instance_type='ml.m4.xlarge', # The type of instance ot use for training\n",
    "                                    output_path='s3://{}/{}/output'.format(session.default_bucket(), prefix), # Where to save the output (the model artifacts)\n",
    "                                    sagemaker_session=session) # The current SageMaker session\n",
    "\n",
    "# Set the XGBoost hyperparameters in the xgb object. Don't forget that in this case we have a binary\n",
    "# label so we should be using the 'binary:logistic' objective.\n",
    "xgb.set_hyperparameters(max_depth=5,\n",
    "                        eta=0.2,\n",
    "                        gamma=4,\n",
    "                        min_child_weight=6,\n",
    "                        subsample=0.8,\n",
    "                        silent=0,\n",
    "                        objective='binary:logistic',\n",
    "                        early_stopping_rounds=10,\n",
    "                        num_round=200)\n"
   ]
  },
  {
   "cell_type": "markdown",
   "metadata": {},
   "source": [
    "### (TODO) Create the hyperparameter tuner\n",
    "\n",
    "Now that the base estimator has been set up we need to construct a hyperparameter tuner object which we will use to request SageMaker construct a hyperparameter tuning job.\n",
    "\n",
    "**Note:** Training a single sentiment analysis XGBoost model takes longer than training a Boston Housing XGBoost model so if you don't want the hyperparameter tuning job to take too long, make sure to not set the total number of models (jobs) too high."
   ]
  },
  {
   "cell_type": "code",
   "execution_count": 21,
   "metadata": {},
   "outputs": [],
   "source": [
    "# First, make sure to import the relevant objects used to construct the tuner\n",
    "from sagemaker.tuner import IntegerParameter, ContinuousParameter, HyperparameterTuner\n",
    "\n",
    "# Create the hyperparameter tuner object\n",
    "xgb_hyperparameter_tuner = HyperparameterTuner(estimator = xgb, # The estimator object to use as the basis for the training jobs.\n",
    "                                               objective_metric_name = 'validation:rmse', # The metric used to compare trained models.\n",
    "                                               objective_type = 'Minimize', # Whether we wish to minimize or maximize the metric.\n",
    "                                               max_jobs = 20, # The total number of models to train\n",
    "                                               max_parallel_jobs = 3, # The number of models to train in parallel\n",
    "                                               hyperparameter_ranges = {\n",
    "                                                    'max_depth': IntegerParameter(3, 12),\n",
    "                                                    'eta'      : ContinuousParameter(0.05, 0.5),\n",
    "                                                    'min_child_weight': IntegerParameter(2, 8),\n",
    "                                                    'subsample': ContinuousParameter(0.5, 0.9),\n",
    "                                                    'gamma': ContinuousParameter(0, 10),\n",
    "                                               })\n"
   ]
  },
  {
   "cell_type": "markdown",
   "metadata": {},
   "source": [
    "### Fit the hyperparameter tuner\n",
    "\n",
    "Now that the hyperparameter tuner object has been constructed, it is time to fit the various models and find the best performing model."
   ]
  },
  {
   "cell_type": "code",
   "execution_count": 22,
   "metadata": {},
   "outputs": [],
   "source": [
    "s3_input_train = sagemaker.s3_input(s3_data=train_location, content_type='csv')\n",
    "s3_input_validation = sagemaker.s3_input(s3_data=val_location, content_type='csv')"
   ]
  },
  {
   "cell_type": "code",
   "execution_count": 23,
   "metadata": {},
   "outputs": [
    {
     "name": "stderr",
     "output_type": "stream",
     "text": [
      "INFO:sagemaker:Creating hyperparameter tuning job with name: xgboost-190502-1034\n"
     ]
    }
   ],
   "source": [
    "xgb_hyperparameter_tuner.fit({'train': s3_input_train, 'validation': s3_input_validation})"
   ]
  },
  {
   "cell_type": "markdown",
   "metadata": {},
   "source": [
    "Remember that the tuning job is constructed and run in the background so if we want to see the progress of our training job we need to call the `wait()` method."
   ]
  },
  {
   "cell_type": "code",
   "execution_count": 24,
   "metadata": {},
   "outputs": [
    {
     "name": "stdout",
     "output_type": "stream",
     "text": [
      ".........................................................................................................................................................................................................................................................................................................................................................................................................................................................................................................................................................................................................................................................................................................................................................................................................................................................................................................................................................!\n"
     ]
    }
   ],
   "source": [
    "xgb_hyperparameter_tuner.wait()"
   ]
  },
  {
   "cell_type": "markdown",
   "metadata": {},
   "source": [
    "### (TODO) Testing the model\n",
    "\n",
    "Now that we've run our hyperparameter tuning job, it's time to see how well the best performing model actually performs. To do this we will use SageMaker's Batch Transform functionality. Batch Transform is a convenient way to perform inference on a large dataset in a way that is not realtime. That is, we don't necessarily need to use our model's results immediately and instead we can peform inference on a large number of samples. An example of this in industry might be peforming an end of month report. This method of inference can also be useful to us as it means to can perform inference on our entire test set. \n",
    "\n",
    "Remember that in order to create a transformer object to perform the batch transform job, we need a trained estimator object. We can do that using the `attach()` method, creating an estimator object which is attached to the best trained job."
   ]
  },
  {
   "cell_type": "code",
   "execution_count": 26,
   "metadata": {},
   "outputs": [
    {
     "name": "stdout",
     "output_type": "stream",
     "text": [
      "2019-05-02 11:42:41 Starting - Preparing the instances for training\n",
      "2019-05-02 11:42:41 Downloading - Downloading input data\n",
      "2019-05-02 11:42:41 Training - Training image download completed. Training in progress.\n",
      "2019-05-02 11:42:41 Uploading - Uploading generated training model\n",
      "2019-05-02 11:42:41 Completed - Training job completed\u001b[31mArguments: train\u001b[0m\n",
      "\u001b[31m[2019-05-02:11:34:33:INFO] Running standalone xgboost training.\u001b[0m\n",
      "\u001b[31m[2019-05-02:11:34:33:INFO] Setting up HPO optimized metric to be : rmse\u001b[0m\n",
      "\u001b[31m[2019-05-02:11:34:33:INFO] File size need to be processed in the node: 238.47mb. Available memory size in the node: 8392.24mb\u001b[0m\n",
      "\u001b[31m[2019-05-02:11:34:33:INFO] Determined delimiter of CSV input is ','\u001b[0m\n",
      "\u001b[31m[11:34:33] S3DistributionType set as FullyReplicated\u001b[0m\n",
      "\u001b[31m[11:34:35] 15000x5000 matrix with 75000000 entries loaded from /opt/ml/input/data/train?format=csv&label_column=0&delimiter=,\u001b[0m\n",
      "\u001b[31m[2019-05-02:11:34:35:INFO] Determined delimiter of CSV input is ','\u001b[0m\n",
      "\u001b[31m[11:34:35] S3DistributionType set as FullyReplicated\u001b[0m\n",
      "\u001b[31m[11:34:36] 10000x5000 matrix with 50000000 entries loaded from /opt/ml/input/data/validation?format=csv&label_column=0&delimiter=,\u001b[0m\n",
      "\u001b[31m[11:34:40] src/tree/updater_prune.cc:74: tree pruning end, 1 roots, 78 extra nodes, 34 pruned nodes, max_depth=8\u001b[0m\n",
      "\u001b[31m[0]#011train-rmse:0.468964#011validation-rmse:0.47094\u001b[0m\n",
      "\u001b[31mMultiple eval metrics have been passed: 'validation-rmse' will be used for early stopping.\n",
      "\u001b[0m\n",
      "\u001b[31mWill train until validation-rmse hasn't improved in 10 rounds.\u001b[0m\n",
      "\u001b[31m[11:34:43] src/tree/updater_prune.cc:74: tree pruning end, 1 roots, 70 extra nodes, 26 pruned nodes, max_depth=8\u001b[0m\n",
      "\u001b[31m[1]#011train-rmse:0.448467#011validation-rmse:0.452306\u001b[0m\n",
      "\u001b[31m[11:34:45] src/tree/updater_prune.cc:74: tree pruning end, 1 roots, 70 extra nodes, 26 pruned nodes, max_depth=8\u001b[0m\n",
      "\u001b[31m[2]#011train-rmse:0.43446#011validation-rmse:0.439689\u001b[0m\n",
      "\u001b[31m[11:34:48] src/tree/updater_prune.cc:74: tree pruning end, 1 roots, 48 extra nodes, 36 pruned nodes, max_depth=8\u001b[0m\n",
      "\u001b[31m[3]#011train-rmse:0.423166#011validation-rmse:0.429175\u001b[0m\n",
      "\u001b[31m[11:34:50] src/tree/updater_prune.cc:74: tree pruning end, 1 roots, 64 extra nodes, 54 pruned nodes, max_depth=8\u001b[0m\n",
      "\u001b[31m[4]#011train-rmse:0.413726#011validation-rmse:0.421468\u001b[0m\n",
      "\u001b[31m[11:34:53] src/tree/updater_prune.cc:74: tree pruning end, 1 roots, 28 extra nodes, 38 pruned nodes, max_depth=8\u001b[0m\n",
      "\u001b[31m[5]#011train-rmse:0.406047#011validation-rmse:0.414093\u001b[0m\n",
      "\u001b[31m[11:34:55] src/tree/updater_prune.cc:74: tree pruning end, 1 roots, 48 extra nodes, 24 pruned nodes, max_depth=8\u001b[0m\n",
      "\u001b[31m[6]#011train-rmse:0.399242#011validation-rmse:0.408788\u001b[0m\n",
      "\u001b[31m[11:34:57] src/tree/updater_prune.cc:74: tree pruning end, 1 roots, 36 extra nodes, 34 pruned nodes, max_depth=8\u001b[0m\n",
      "\u001b[31m[7]#011train-rmse:0.393301#011validation-rmse:0.403446\u001b[0m\n",
      "\u001b[31m[11:35:00] src/tree/updater_prune.cc:74: tree pruning end, 1 roots, 40 extra nodes, 34 pruned nodes, max_depth=8\u001b[0m\n",
      "\u001b[31m[8]#011train-rmse:0.388471#011validation-rmse:0.399707\u001b[0m\n",
      "\u001b[31m[11:35:02] src/tree/updater_prune.cc:74: tree pruning end, 1 roots, 26 extra nodes, 40 pruned nodes, max_depth=8\u001b[0m\n",
      "\u001b[31m[9]#011train-rmse:0.383794#011validation-rmse:0.395461\u001b[0m\n",
      "\u001b[31m[11:35:04] src/tree/updater_prune.cc:74: tree pruning end, 1 roots, 66 extra nodes, 50 pruned nodes, max_depth=8\u001b[0m\n",
      "\u001b[31m[10]#011train-rmse:0.3781#011validation-rmse:0.391369\u001b[0m\n",
      "\u001b[31m[11:35:07] src/tree/updater_prune.cc:74: tree pruning end, 1 roots, 54 extra nodes, 26 pruned nodes, max_depth=8\u001b[0m\n",
      "\u001b[31m[11]#011train-rmse:0.372956#011validation-rmse:0.387647\u001b[0m\n",
      "\u001b[31m[11:35:09] src/tree/updater_prune.cc:74: tree pruning end, 1 roots, 42 extra nodes, 22 pruned nodes, max_depth=8\u001b[0m\n",
      "\u001b[31m[12]#011train-rmse:0.369469#011validation-rmse:0.384797\u001b[0m\n",
      "\u001b[31m[11:35:12] src/tree/updater_prune.cc:74: tree pruning end, 1 roots, 32 extra nodes, 44 pruned nodes, max_depth=8\u001b[0m\n",
      "\u001b[31m[13]#011train-rmse:0.366107#011validation-rmse:0.381579\u001b[0m\n",
      "\u001b[31m[11:35:14] src/tree/updater_prune.cc:74: tree pruning end, 1 roots, 38 extra nodes, 38 pruned nodes, max_depth=8\u001b[0m\n",
      "\u001b[31m[14]#011train-rmse:0.362528#011validation-rmse:0.378637\u001b[0m\n",
      "\u001b[31m[11:35:16] src/tree/updater_prune.cc:74: tree pruning end, 1 roots, 44 extra nodes, 40 pruned nodes, max_depth=8\u001b[0m\n",
      "\u001b[31m[15]#011train-rmse:0.358584#011validation-rmse:0.375159\u001b[0m\n",
      "\u001b[31m[11:35:19] src/tree/updater_prune.cc:74: tree pruning end, 1 roots, 34 extra nodes, 32 pruned nodes, max_depth=8\u001b[0m\n",
      "\u001b[31m[16]#011train-rmse:0.355303#011validation-rmse:0.372494\u001b[0m\n",
      "\u001b[31m[11:35:21] src/tree/updater_prune.cc:74: tree pruning end, 1 roots, 24 extra nodes, 28 pruned nodes, max_depth=8\u001b[0m\n",
      "\u001b[31m[17]#011train-rmse:0.352773#011validation-rmse:0.370021\u001b[0m\n",
      "\u001b[31m[11:35:23] src/tree/updater_prune.cc:74: tree pruning end, 1 roots, 38 extra nodes, 44 pruned nodes, max_depth=8\u001b[0m\n",
      "\u001b[31m[18]#011train-rmse:0.349899#011validation-rmse:0.368014\u001b[0m\n",
      "\u001b[31m[11:35:26] src/tree/updater_prune.cc:74: tree pruning end, 1 roots, 36 extra nodes, 24 pruned nodes, max_depth=8\u001b[0m\n",
      "\u001b[31m[19]#011train-rmse:0.347244#011validation-rmse:0.365933\u001b[0m\n",
      "\u001b[31m[11:35:28] src/tree/updater_prune.cc:74: tree pruning end, 1 roots, 20 extra nodes, 44 pruned nodes, max_depth=8\u001b[0m\n",
      "\u001b[31m[20]#011train-rmse:0.345267#011validation-rmse:0.364415\u001b[0m\n",
      "\u001b[31m[11:35:31] src/tree/updater_prune.cc:74: tree pruning end, 1 roots, 28 extra nodes, 32 pruned nodes, max_depth=8\u001b[0m\n",
      "\u001b[31m[21]#011train-rmse:0.343232#011validation-rmse:0.362784\u001b[0m\n",
      "\u001b[31m[11:35:33] src/tree/updater_prune.cc:74: tree pruning end, 1 roots, 36 extra nodes, 38 pruned nodes, max_depth=8\u001b[0m\n",
      "\u001b[31m[22]#011train-rmse:0.340945#011validation-rmse:0.361102\u001b[0m\n",
      "\u001b[31m[11:35:35] src/tree/updater_prune.cc:74: tree pruning end, 1 roots, 42 extra nodes, 24 pruned nodes, max_depth=8\u001b[0m\n",
      "\u001b[31m[23]#011train-rmse:0.338379#011validation-rmse:0.359374\u001b[0m\n",
      "\u001b[31m[11:35:38] src/tree/updater_prune.cc:74: tree pruning end, 1 roots, 48 extra nodes, 36 pruned nodes, max_depth=8\u001b[0m\n",
      "\u001b[31m[24]#011train-rmse:0.335547#011validation-rmse:0.357648\u001b[0m\n",
      "\u001b[31m[11:35:40] src/tree/updater_prune.cc:74: tree pruning end, 1 roots, 24 extra nodes, 34 pruned nodes, max_depth=8\u001b[0m\n",
      "\u001b[31m[25]#011train-rmse:0.333472#011validation-rmse:0.355632\u001b[0m\n",
      "\u001b[31m[11:35:43] src/tree/updater_prune.cc:74: tree pruning end, 1 roots, 26 extra nodes, 24 pruned nodes, max_depth=8\u001b[0m\n",
      "\u001b[31m[26]#011train-rmse:0.331681#011validation-rmse:0.354138\u001b[0m\n",
      "\u001b[31m[11:35:45] src/tree/updater_prune.cc:74: tree pruning end, 1 roots, 20 extra nodes, 30 pruned nodes, max_depth=8\u001b[0m\n",
      "\u001b[31m[27]#011train-rmse:0.329888#011validation-rmse:0.352939\u001b[0m\n",
      "\u001b[31m[11:35:47] src/tree/updater_prune.cc:74: tree pruning end, 1 roots, 42 extra nodes, 22 pruned nodes, max_depth=8\u001b[0m\n",
      "\u001b[31m[28]#011train-rmse:0.327609#011validation-rmse:0.351284\u001b[0m\n",
      "\u001b[31m[11:35:50] src/tree/updater_prune.cc:74: tree pruning end, 1 roots, 18 extra nodes, 40 pruned nodes, max_depth=8\u001b[0m\n",
      "\u001b[31m[29]#011train-rmse:0.326132#011validation-rmse:0.350035\u001b[0m\n",
      "\u001b[31m[11:35:52] src/tree/updater_prune.cc:74: tree pruning end, 1 roots, 24 extra nodes, 20 pruned nodes, max_depth=8\u001b[0m\n",
      "\u001b[31m[30]#011train-rmse:0.324486#011validation-rmse:0.348792\u001b[0m\n",
      "\u001b[31m[11:35:54] src/tree/updater_prune.cc:74: tree pruning end, 1 roots, 44 extra nodes, 36 pruned nodes, max_depth=8\u001b[0m\n",
      "\u001b[31m[31]#011train-rmse:0.322142#011validation-rmse:0.347395\u001b[0m\n",
      "\u001b[31m[11:35:57] src/tree/updater_prune.cc:74: tree pruning end, 1 roots, 18 extra nodes, 20 pruned nodes, max_depth=8\u001b[0m\n",
      "\u001b[31m[32]#011train-rmse:0.321025#011validation-rmse:0.346558\u001b[0m\n",
      "\u001b[31m[11:35:59] src/tree/updater_prune.cc:74: tree pruning end, 1 roots, 26 extra nodes, 14 pruned nodes, max_depth=8\u001b[0m\n",
      "\u001b[31m[33]#011train-rmse:0.319452#011validation-rmse:0.345449\u001b[0m\n",
      "\u001b[31m[11:36:02] src/tree/updater_prune.cc:74: tree pruning end, 1 roots, 30 extra nodes, 48 pruned nodes, max_depth=8\u001b[0m\n",
      "\u001b[31m[34]#011train-rmse:0.317906#011validation-rmse:0.344404\u001b[0m\n",
      "\u001b[31m[11:36:04] src/tree/updater_prune.cc:74: tree pruning end, 1 roots, 34 extra nodes, 52 pruned nodes, max_depth=8\u001b[0m\n",
      "\u001b[31m[35]#011train-rmse:0.316513#011validation-rmse:0.343687\u001b[0m\n",
      "\u001b[31m[11:36:06] src/tree/updater_prune.cc:74: tree pruning end, 1 roots, 20 extra nodes, 26 pruned nodes, max_depth=8\u001b[0m\n",
      "\u001b[31m[36]#011train-rmse:0.315087#011validation-rmse:0.34276\u001b[0m\n",
      "\u001b[31m[11:36:09] src/tree/updater_prune.cc:74: tree pruning end, 1 roots, 16 extra nodes, 20 pruned nodes, max_depth=8\u001b[0m\n",
      "\u001b[31m[37]#011train-rmse:0.313913#011validation-rmse:0.341855\u001b[0m\n",
      "\u001b[31m[11:36:11] src/tree/updater_prune.cc:74: tree pruning end, 1 roots, 22 extra nodes, 26 pruned nodes, max_depth=8\u001b[0m\n",
      "\u001b[31m[38]#011train-rmse:0.312556#011validation-rmse:0.340573\u001b[0m\n",
      "\u001b[31m[11:36:13] src/tree/updater_prune.cc:74: tree pruning end, 1 roots, 26 extra nodes, 20 pruned nodes, max_depth=8\u001b[0m\n",
      "\u001b[31m[39]#011train-rmse:0.311152#011validation-rmse:0.339379\u001b[0m\n",
      "\u001b[31m[11:36:16] src/tree/updater_prune.cc:74: tree pruning end, 1 roots, 18 extra nodes, 16 pruned nodes, max_depth=8\u001b[0m\n",
      "\u001b[31m[40]#011train-rmse:0.309932#011validation-rmse:0.338705\u001b[0m\n",
      "\u001b[31m[11:36:18] src/tree/updater_prune.cc:74: tree pruning end, 1 roots, 22 extra nodes, 22 pruned nodes, max_depth=8\u001b[0m\n",
      "\u001b[31m[41]#011train-rmse:0.308756#011validation-rmse:0.3381\u001b[0m\n",
      "\u001b[31m[11:36:21] src/tree/updater_prune.cc:74: tree pruning end, 1 roots, 20 extra nodes, 12 pruned nodes, max_depth=8\u001b[0m\n",
      "\u001b[31m[42]#011train-rmse:0.307727#011validation-rmse:0.337445\u001b[0m\n",
      "\u001b[31m[11:36:23] src/tree/updater_prune.cc:74: tree pruning end, 1 roots, 32 extra nodes, 8 pruned nodes, max_depth=8\u001b[0m\n",
      "\u001b[31m[43]#011train-rmse:0.306424#011validation-rmse:0.336749\u001b[0m\n",
      "\u001b[31m[11:36:25] src/tree/updater_prune.cc:74: tree pruning end, 1 roots, 16 extra nodes, 26 pruned nodes, max_depth=8\u001b[0m\n",
      "\u001b[31m[44]#011train-rmse:0.305552#011validation-rmse:0.335893\u001b[0m\n",
      "\u001b[31m[11:36:28] src/tree/updater_prune.cc:74: tree pruning end, 1 roots, 24 extra nodes, 24 pruned nodes, max_depth=8\u001b[0m\n",
      "\u001b[31m[45]#011train-rmse:0.30441#011validation-rmse:0.335333\u001b[0m\n",
      "\u001b[31m[11:36:30] src/tree/updater_prune.cc:74: tree pruning end, 1 roots, 18 extra nodes, 18 pruned nodes, max_depth=8\u001b[0m\n",
      "\u001b[31m[46]#011train-rmse:0.303304#011validation-rmse:0.334543\u001b[0m\n",
      "\u001b[31m[11:36:32] src/tree/updater_prune.cc:74: tree pruning end, 1 roots, 18 extra nodes, 26 pruned nodes, max_depth=8\u001b[0m\n",
      "\u001b[31m[47]#011train-rmse:0.302112#011validation-rmse:0.3338\u001b[0m\n",
      "\u001b[31m[11:36:35] src/tree/updater_prune.cc:74: tree pruning end, 1 roots, 24 extra nodes, 24 pruned nodes, max_depth=8\u001b[0m\n",
      "\u001b[31m[48]#011train-rmse:0.300933#011validation-rmse:0.332904\u001b[0m\n",
      "\u001b[31m[11:36:37] src/tree/updater_prune.cc:74: tree pruning end, 1 roots, 32 extra nodes, 38 pruned nodes, max_depth=8\u001b[0m\n",
      "\u001b[31m[49]#011train-rmse:0.299794#011validation-rmse:0.332557\u001b[0m\n",
      "\u001b[31m[11:36:39] src/tree/updater_prune.cc:74: tree pruning end, 1 roots, 22 extra nodes, 14 pruned nodes, max_depth=8\u001b[0m\n",
      "\u001b[31m[50]#011train-rmse:0.298815#011validation-rmse:0.332239\u001b[0m\n",
      "\u001b[31m[11:36:42] src/tree/updater_prune.cc:74: tree pruning end, 1 roots, 30 extra nodes, 26 pruned nodes, max_depth=8\u001b[0m\n",
      "\u001b[31m[51]#011train-rmse:0.297621#011validation-rmse:0.331523\u001b[0m\n",
      "\u001b[31m[11:36:44] src/tree/updater_prune.cc:74: tree pruning end, 1 roots, 24 extra nodes, 42 pruned nodes, max_depth=8\u001b[0m\n",
      "\u001b[31m[52]#011train-rmse:0.296483#011validation-rmse:0.33121\u001b[0m\n",
      "\u001b[31m[11:36:47] src/tree/updater_prune.cc:74: tree pruning end, 1 roots, 24 extra nodes, 24 pruned nodes, max_depth=8\u001b[0m\n",
      "\u001b[31m[53]#011train-rmse:0.295546#011validation-rmse:0.330784\u001b[0m\n",
      "\u001b[31m[11:36:49] src/tree/updater_prune.cc:74: tree pruning end, 1 roots, 18 extra nodes, 24 pruned nodes, max_depth=8\u001b[0m\n",
      "\u001b[31m[54]#011train-rmse:0.294736#011validation-rmse:0.330492\u001b[0m\n",
      "\u001b[31m[11:36:51] src/tree/updater_prune.cc:74: tree pruning end, 1 roots, 16 extra nodes, 22 pruned nodes, max_depth=8\u001b[0m\n",
      "\u001b[31m[55]#011train-rmse:0.294062#011validation-rmse:0.330115\u001b[0m\n",
      "\u001b[31m[11:36:54] src/tree/updater_prune.cc:74: tree pruning end, 1 roots, 22 extra nodes, 20 pruned nodes, max_depth=8\u001b[0m\n",
      "\u001b[31m[56]#011train-rmse:0.293083#011validation-rmse:0.329515\u001b[0m\n",
      "\u001b[31m[11:36:56] src/tree/updater_prune.cc:74: tree pruning end, 1 roots, 16 extra nodes, 18 pruned nodes, max_depth=8\u001b[0m\n",
      "\u001b[31m[57]#011train-rmse:0.29252#011validation-rmse:0.328881\u001b[0m\n",
      "\u001b[31m[11:36:59] src/tree/updater_prune.cc:74: tree pruning end, 1 roots, 28 extra nodes, 30 pruned nodes, max_depth=8\u001b[0m\n",
      "\u001b[31m[58]#011train-rmse:0.29154#011validation-rmse:0.328509\u001b[0m\n",
      "\u001b[31m[11:37:01] src/tree/updater_prune.cc:74: tree pruning end, 1 roots, 20 extra nodes, 8 pruned nodes, max_depth=8\u001b[0m\n",
      "\u001b[31m[59]#011train-rmse:0.290663#011validation-rmse:0.328155\u001b[0m\n",
      "\u001b[31m[11:37:03] src/tree/updater_prune.cc:74: tree pruning end, 1 roots, 18 extra nodes, 38 pruned nodes, max_depth=8\u001b[0m\n",
      "\u001b[31m[60]#011train-rmse:0.29003#011validation-rmse:0.327824\u001b[0m\n",
      "\u001b[31m[11:37:06] src/tree/updater_prune.cc:74: tree pruning end, 1 roots, 28 extra nodes, 20 pruned nodes, max_depth=8\u001b[0m\n",
      "\u001b[31m[61]#011train-rmse:0.289032#011validation-rmse:0.327242\u001b[0m\n",
      "\u001b[31m[11:37:08] src/tree/updater_prune.cc:74: tree pruning end, 1 roots, 18 extra nodes, 24 pruned nodes, max_depth=8\u001b[0m\n",
      "\u001b[31m[62]#011train-rmse:0.288326#011validation-rmse:0.326963\u001b[0m\n",
      "\u001b[31m[11:37:11] src/tree/updater_prune.cc:74: tree pruning end, 1 roots, 18 extra nodes, 24 pruned nodes, max_depth=8\u001b[0m\n",
      "\u001b[31m[63]#011train-rmse:0.287589#011validation-rmse:0.326253\u001b[0m\n",
      "\u001b[31m[11:37:13] src/tree/updater_prune.cc:74: tree pruning end, 1 roots, 16 extra nodes, 20 pruned nodes, max_depth=8\u001b[0m\n",
      "\u001b[31m[64]#011train-rmse:0.287105#011validation-rmse:0.32559\u001b[0m\n",
      "\u001b[31m[11:37:15] src/tree/updater_prune.cc:74: tree pruning end, 1 roots, 18 extra nodes, 28 pruned nodes, max_depth=8\u001b[0m\n",
      "\u001b[31m[65]#011train-rmse:0.286631#011validation-rmse:0.325223\u001b[0m\n",
      "\u001b[31m[11:37:18] src/tree/updater_prune.cc:74: tree pruning end, 1 roots, 22 extra nodes, 34 pruned nodes, max_depth=8\u001b[0m\n",
      "\u001b[31m[66]#011train-rmse:0.285712#011validation-rmse:0.324857\u001b[0m\n",
      "\u001b[31m[11:37:20] src/tree/updater_prune.cc:74: tree pruning end, 1 roots, 18 extra nodes, 12 pruned nodes, max_depth=8\u001b[0m\n",
      "\u001b[31m[67]#011train-rmse:0.284916#011validation-rmse:0.324443\u001b[0m\n",
      "\u001b[31m[11:37:22] src/tree/updater_prune.cc:74: tree pruning end, 1 roots, 24 extra nodes, 40 pruned nodes, max_depth=8\u001b[0m\n",
      "\u001b[31m[68]#011train-rmse:0.283986#011validation-rmse:0.324246\u001b[0m\n",
      "\u001b[31m[11:37:25] src/tree/updater_prune.cc:74: tree pruning end, 1 roots, 24 extra nodes, 14 pruned nodes, max_depth=8\u001b[0m\n",
      "\u001b[31m[69]#011train-rmse:0.28303#011validation-rmse:0.324147\u001b[0m\n",
      "\u001b[31m[11:37:27] src/tree/updater_prune.cc:74: tree pruning end, 1 roots, 16 extra nodes, 20 pruned nodes, max_depth=8\u001b[0m\n",
      "\u001b[31m[70]#011train-rmse:0.28271#011validation-rmse:0.323961\u001b[0m\n",
      "\u001b[31m[11:37:30] src/tree/updater_prune.cc:74: tree pruning end, 1 roots, 20 extra nodes, 18 pruned nodes, max_depth=8\u001b[0m\n",
      "\u001b[31m[71]#011train-rmse:0.281954#011validation-rmse:0.32369\u001b[0m\n",
      "\u001b[31m[11:37:32] src/tree/updater_prune.cc:74: tree pruning end, 1 roots, 22 extra nodes, 18 pruned nodes, max_depth=8\u001b[0m\n",
      "\u001b[31m[72]#011train-rmse:0.281154#011validation-rmse:0.323119\u001b[0m\n",
      "\u001b[31m[11:37:34] src/tree/updater_prune.cc:74: tree pruning end, 1 roots, 16 extra nodes, 12 pruned nodes, max_depth=8\u001b[0m\n",
      "\u001b[31m[73]#011train-rmse:0.280725#011validation-rmse:0.32305\u001b[0m\n",
      "\u001b[31m[11:37:37] src/tree/updater_prune.cc:74: tree pruning end, 1 roots, 20 extra nodes, 12 pruned nodes, max_depth=8\u001b[0m\n",
      "\u001b[31m[74]#011train-rmse:0.279986#011validation-rmse:0.322718\u001b[0m\n",
      "\u001b[31m[11:37:39] src/tree/updater_prune.cc:74: tree pruning end, 1 roots, 22 extra nodes, 12 pruned nodes, max_depth=8\u001b[0m\n",
      "\u001b[31m[75]#011train-rmse:0.279128#011validation-rmse:0.322207\u001b[0m\n",
      "\u001b[31m[11:37:41] src/tree/updater_prune.cc:74: tree pruning end, 1 roots, 20 extra nodes, 20 pruned nodes, max_depth=8\u001b[0m\n",
      "\u001b[31m[76]#011train-rmse:0.278432#011validation-rmse:0.321895\u001b[0m\n",
      "\u001b[31m[11:37:44] src/tree/updater_prune.cc:74: tree pruning end, 1 roots, 24 extra nodes, 36 pruned nodes, max_depth=8\u001b[0m\n",
      "\u001b[31m[77]#011train-rmse:0.277656#011validation-rmse:0.321666\u001b[0m\n",
      "\u001b[31m[11:37:46] src/tree/updater_prune.cc:74: tree pruning end, 1 roots, 20 extra nodes, 16 pruned nodes, max_depth=8\u001b[0m\n",
      "\u001b[31m[78]#011train-rmse:0.277075#011validation-rmse:0.321375\u001b[0m\n",
      "\u001b[31m[11:37:49] src/tree/updater_prune.cc:74: tree pruning end, 1 roots, 20 extra nodes, 22 pruned nodes, max_depth=8\u001b[0m\n",
      "\u001b[31m[79]#011train-rmse:0.276382#011validation-rmse:0.321006\u001b[0m\n",
      "\u001b[31m[11:37:51] src/tree/updater_prune.cc:74: tree pruning end, 1 roots, 16 extra nodes, 14 pruned nodes, max_depth=8\u001b[0m\n",
      "\u001b[31m[80]#011train-rmse:0.275934#011validation-rmse:0.320923\u001b[0m\n",
      "\u001b[31m[11:37:53] src/tree/updater_prune.cc:74: tree pruning end, 1 roots, 18 extra nodes, 6 pruned nodes, max_depth=8\u001b[0m\n",
      "\u001b[31m[81]#011train-rmse:0.27534#011validation-rmse:0.320522\u001b[0m\n",
      "\u001b[31m[11:37:56] src/tree/updater_prune.cc:74: tree pruning end, 1 roots, 20 extra nodes, 8 pruned nodes, max_depth=8\u001b[0m\n",
      "\u001b[31m[82]#011train-rmse:0.27465#011validation-rmse:0.320326\u001b[0m\n",
      "\u001b[31m[11:37:58] src/tree/updater_prune.cc:74: tree pruning end, 1 roots, 18 extra nodes, 32 pruned nodes, max_depth=8\u001b[0m\n",
      "\u001b[31m[83]#011train-rmse:0.274108#011validation-rmse:0.319897\u001b[0m\n",
      "\u001b[31m[11:38:00] src/tree/updater_prune.cc:74: tree pruning end, 1 roots, 18 extra nodes, 22 pruned nodes, max_depth=8\u001b[0m\n",
      "\u001b[31m[84]#011train-rmse:0.27354#011validation-rmse:0.319577\u001b[0m\n",
      "\u001b[31m[11:38:03] src/tree/updater_prune.cc:74: tree pruning end, 1 roots, 16 extra nodes, 16 pruned nodes, max_depth=8\u001b[0m\n",
      "\u001b[31m[85]#011train-rmse:0.273053#011validation-rmse:0.319264\u001b[0m\n",
      "\u001b[31m[11:38:05] src/tree/updater_prune.cc:74: tree pruning end, 1 roots, 16 extra nodes, 8 pruned nodes, max_depth=8\u001b[0m\n",
      "\u001b[31m[86]#011train-rmse:0.272569#011validation-rmse:0.319094\u001b[0m\n",
      "\u001b[31m[11:38:08] src/tree/updater_prune.cc:74: tree pruning end, 1 roots, 18 extra nodes, 26 pruned nodes, max_depth=8\u001b[0m\n",
      "\u001b[31m[87]#011train-rmse:0.272036#011validation-rmse:0.318919\u001b[0m\n",
      "\u001b[31m[11:38:10] src/tree/updater_prune.cc:74: tree pruning end, 1 roots, 18 extra nodes, 44 pruned nodes, max_depth=8\u001b[0m\n",
      "\u001b[31m[88]#011train-rmse:0.271403#011validation-rmse:0.318618\u001b[0m\n",
      "\u001b[31m[11:38:12] src/tree/updater_prune.cc:74: tree pruning end, 1 roots, 20 extra nodes, 4 pruned nodes, max_depth=8\u001b[0m\n",
      "\u001b[31m[89]#011train-rmse:0.270798#011validation-rmse:0.318266\u001b[0m\n",
      "\u001b[31m[11:38:15] src/tree/updater_prune.cc:74: tree pruning end, 1 roots, 22 extra nodes, 20 pruned nodes, max_depth=8\u001b[0m\n",
      "\u001b[31m[90]#011train-rmse:0.27017#011validation-rmse:0.318129\u001b[0m\n",
      "\u001b[31m[11:38:17] src/tree/updater_prune.cc:74: tree pruning end, 1 roots, 18 extra nodes, 10 pruned nodes, max_depth=8\u001b[0m\n",
      "\u001b[31m[91]#011train-rmse:0.269585#011validation-rmse:0.318214\u001b[0m\n",
      "\u001b[31m[11:38:19] src/tree/updater_prune.cc:74: tree pruning end, 1 roots, 22 extra nodes, 32 pruned nodes, max_depth=8\u001b[0m\n",
      "\u001b[31m[92]#011train-rmse:0.268813#011validation-rmse:0.317989\u001b[0m\n",
      "\u001b[31m[11:38:22] src/tree/updater_prune.cc:74: tree pruning end, 1 roots, 22 extra nodes, 24 pruned nodes, max_depth=8\u001b[0m\n",
      "\u001b[31m[93]#011train-rmse:0.268115#011validation-rmse:0.317589\u001b[0m\n",
      "\u001b[31m[11:38:24] src/tree/updater_prune.cc:74: tree pruning end, 1 roots, 18 extra nodes, 18 pruned nodes, max_depth=8\u001b[0m\n",
      "\u001b[31m[94]#011train-rmse:0.267617#011validation-rmse:0.317179\u001b[0m\n",
      "\u001b[31m[11:38:27] src/tree/updater_prune.cc:74: tree pruning end, 1 roots, 18 extra nodes, 6 pruned nodes, max_depth=8\u001b[0m\n",
      "\u001b[31m[95]#011train-rmse:0.267039#011validation-rmse:0.316841\u001b[0m\n",
      "\u001b[31m[11:38:29] src/tree/updater_prune.cc:74: tree pruning end, 1 roots, 24 extra nodes, 24 pruned nodes, max_depth=8\u001b[0m\n",
      "\u001b[31m[96]#011train-rmse:0.266445#011validation-rmse:0.316553\u001b[0m\n",
      "\u001b[31m[11:38:31] src/tree/updater_prune.cc:74: tree pruning end, 1 roots, 20 extra nodes, 24 pruned nodes, max_depth=8\u001b[0m\n",
      "\u001b[31m[97]#011train-rmse:0.266002#011validation-rmse:0.316571\u001b[0m\n",
      "\u001b[31m[11:38:34] src/tree/updater_prune.cc:74: tree pruning end, 1 roots, 16 extra nodes, 20 pruned nodes, max_depth=8\u001b[0m\n",
      "\u001b[31m[98]#011train-rmse:0.265613#011validation-rmse:0.316412\u001b[0m\n",
      "\u001b[31m[11:38:36] src/tree/updater_prune.cc:74: tree pruning end, 1 roots, 16 extra nodes, 6 pruned nodes, max_depth=8\u001b[0m\n",
      "\u001b[31m[99]#011train-rmse:0.265296#011validation-rmse:0.31627\u001b[0m\n",
      "\u001b[31m[11:38:38] src/tree/updater_prune.cc:74: tree pruning end, 1 roots, 16 extra nodes, 10 pruned nodes, max_depth=8\u001b[0m\n",
      "\u001b[31m[100]#011train-rmse:0.264765#011validation-rmse:0.315855\u001b[0m\n",
      "\u001b[31m[11:38:41] src/tree/updater_prune.cc:74: tree pruning end, 1 roots, 18 extra nodes, 22 pruned nodes, max_depth=8\u001b[0m\n",
      "\u001b[31m[101]#011train-rmse:0.264249#011validation-rmse:0.315732\u001b[0m\n",
      "\u001b[31m[11:38:43] src/tree/updater_prune.cc:74: tree pruning end, 1 roots, 16 extra nodes, 6 pruned nodes, max_depth=8\u001b[0m\n",
      "\u001b[31m[102]#011train-rmse:0.263814#011validation-rmse:0.315499\u001b[0m\n",
      "\u001b[31m[11:38:45] src/tree/updater_prune.cc:74: tree pruning end, 1 roots, 16 extra nodes, 0 pruned nodes, max_depth=8\u001b[0m\n",
      "\u001b[31m[103]#011train-rmse:0.263399#011validation-rmse:0.31534\u001b[0m\n",
      "\u001b[31m[11:38:48] src/tree/updater_prune.cc:74: tree pruning end, 1 roots, 16 extra nodes, 32 pruned nodes, max_depth=8\u001b[0m\n",
      "\u001b[31m[104]#011train-rmse:0.26305#011validation-rmse:0.315263\u001b[0m\n",
      "\u001b[31m[11:38:50] src/tree/updater_prune.cc:74: tree pruning end, 1 roots, 16 extra nodes, 38 pruned nodes, max_depth=8\u001b[0m\n",
      "\u001b[31m[105]#011train-rmse:0.262617#011validation-rmse:0.314869\u001b[0m\n",
      "\u001b[31m[11:38:52] src/tree/updater_prune.cc:74: tree pruning end, 1 roots, 24 extra nodes, 26 pruned nodes, max_depth=8\u001b[0m\n",
      "\u001b[31m[106]#011train-rmse:0.262101#011validation-rmse:0.314884\u001b[0m\n",
      "\u001b[31m[11:38:55] src/tree/updater_prune.cc:74: tree pruning end, 1 roots, 20 extra nodes, 24 pruned nodes, max_depth=8\u001b[0m\n",
      "\u001b[31m[107]#011train-rmse:0.261468#011validation-rmse:0.314847\u001b[0m\n",
      "\u001b[31m[11:38:57] src/tree/updater_prune.cc:74: tree pruning end, 1 roots, 14 extra nodes, 12 pruned nodes, max_depth=7\u001b[0m\n",
      "\u001b[31m[108]#011train-rmse:0.261196#011validation-rmse:0.314669\u001b[0m\n",
      "\u001b[31m[11:39:00] src/tree/updater_prune.cc:74: tree pruning end, 1 roots, 22 extra nodes, 44 pruned nodes, max_depth=8\u001b[0m\n",
      "\u001b[31m[109]#011train-rmse:0.260574#011validation-rmse:0.314629\u001b[0m\n",
      "\u001b[31m[11:39:02] src/tree/updater_prune.cc:74: tree pruning end, 1 roots, 18 extra nodes, 4 pruned nodes, max_depth=8\u001b[0m\n",
      "\u001b[31m[110]#011train-rmse:0.259961#011validation-rmse:0.314524\u001b[0m\n",
      "\u001b[31m[11:39:04] src/tree/updater_prune.cc:74: tree pruning end, 1 roots, 18 extra nodes, 28 pruned nodes, max_depth=8\u001b[0m\n",
      "\u001b[31m[111]#011train-rmse:0.259687#011validation-rmse:0.314375\u001b[0m\n",
      "\u001b[31m[11:39:07] src/tree/updater_prune.cc:74: tree pruning end, 1 roots, 12 extra nodes, 16 pruned nodes, max_depth=6\u001b[0m\n",
      "\u001b[31m[112]#011train-rmse:0.259304#011validation-rmse:0.314177\u001b[0m\n",
      "\u001b[31m[11:39:09] src/tree/updater_prune.cc:74: tree pruning end, 1 roots, 20 extra nodes, 10 pruned nodes, max_depth=8\u001b[0m\n",
      "\u001b[31m[113]#011train-rmse:0.258832#011validation-rmse:0.314117\u001b[0m\n",
      "\u001b[31m[11:39:11] src/tree/updater_prune.cc:74: tree pruning end, 1 roots, 16 extra nodes, 14 pruned nodes, max_depth=8\u001b[0m\n",
      "\u001b[31m[114]#011train-rmse:0.258463#011validation-rmse:0.313712\u001b[0m\n",
      "\u001b[31m[11:39:14] src/tree/updater_prune.cc:74: tree pruning end, 1 roots, 18 extra nodes, 30 pruned nodes, max_depth=8\u001b[0m\n",
      "\u001b[31m[115]#011train-rmse:0.257957#011validation-rmse:0.313448\u001b[0m\n",
      "\u001b[31m[11:39:16] src/tree/updater_prune.cc:74: tree pruning end, 1 roots, 16 extra nodes, 16 pruned nodes, max_depth=8\u001b[0m\n",
      "\u001b[31m[116]#011train-rmse:0.257458#011validation-rmse:0.313289\u001b[0m\n",
      "\u001b[31m[11:39:18] src/tree/updater_prune.cc:74: tree pruning end, 1 roots, 16 extra nodes, 26 pruned nodes, max_depth=8\u001b[0m\n",
      "\u001b[31m[117]#011train-rmse:0.257175#011validation-rmse:0.313065\u001b[0m\n",
      "\u001b[31m[11:39:21] src/tree/updater_prune.cc:74: tree pruning end, 1 roots, 14 extra nodes, 26 pruned nodes, max_depth=7\u001b[0m\n",
      "\u001b[31m[118]#011train-rmse:0.256944#011validation-rmse:0.312912\u001b[0m\n",
      "\u001b[31m[11:39:23] src/tree/updater_prune.cc:74: tree pruning end, 1 roots, 16 extra nodes, 6 pruned nodes, max_depth=8\u001b[0m\n",
      "\u001b[31m[119]#011train-rmse:0.256714#011validation-rmse:0.312851\u001b[0m\n",
      "\u001b[31m[11:39:25] src/tree/updater_prune.cc:74: tree pruning end, 1 roots, 14 extra nodes, 16 pruned nodes, max_depth=7\u001b[0m\n",
      "\u001b[31m[120]#011train-rmse:0.256483#011validation-rmse:0.312646\u001b[0m\n",
      "\u001b[31m[11:39:28] src/tree/updater_prune.cc:74: tree pruning end, 1 roots, 10 extra nodes, 20 pruned nodes, max_depth=5\u001b[0m\n",
      "\u001b[31m[121]#011train-rmse:0.256258#011validation-rmse:0.312523\u001b[0m\n",
      "\u001b[31m[11:39:30] src/tree/updater_prune.cc:74: tree pruning end, 1 roots, 16 extra nodes, 4 pruned nodes, max_depth=8\u001b[0m\n",
      "\u001b[31m[122]#011train-rmse:0.255794#011validation-rmse:0.312475\u001b[0m\n",
      "\u001b[31m[11:39:32] src/tree/updater_prune.cc:74: tree pruning end, 1 roots, 20 extra nodes, 14 pruned nodes, max_depth=8\u001b[0m\n",
      "\u001b[31m[123]#011train-rmse:0.255398#011validation-rmse:0.31235\u001b[0m\n",
      "\u001b[31m[11:39:35] src/tree/updater_prune.cc:74: tree pruning end, 1 roots, 18 extra nodes, 16 pruned nodes, max_depth=8\u001b[0m\n",
      "\u001b[31m[124]#011train-rmse:0.255057#011validation-rmse:0.312265\u001b[0m\n",
      "\u001b[31m[11:39:37] src/tree/updater_prune.cc:74: tree pruning end, 1 roots, 8 extra nodes, 16 pruned nodes, max_depth=4\u001b[0m\n",
      "\u001b[31m[125]#011train-rmse:0.254829#011validation-rmse:0.312239\u001b[0m\n",
      "\u001b[31m[11:39:39] src/tree/updater_prune.cc:74: tree pruning end, 1 roots, 16 extra nodes, 16 pruned nodes, max_depth=8\u001b[0m\n",
      "\u001b[31m[126]#011train-rmse:0.254366#011validation-rmse:0.311921\u001b[0m\n",
      "\u001b[31m[11:39:42] src/tree/updater_prune.cc:74: tree pruning end, 1 roots, 12 extra nodes, 30 pruned nodes, max_depth=6\u001b[0m\n",
      "\u001b[31m[127]#011train-rmse:0.254085#011validation-rmse:0.311694\u001b[0m\n",
      "\u001b[31m[11:39:44] src/tree/updater_prune.cc:74: tree pruning end, 1 roots, 16 extra nodes, 16 pruned nodes, max_depth=6\u001b[0m\n",
      "\u001b[31m[128]#011train-rmse:0.253735#011validation-rmse:0.311702\u001b[0m\n",
      "\u001b[31m[11:39:47] src/tree/updater_prune.cc:74: tree pruning end, 1 roots, 6 extra nodes, 30 pruned nodes, max_depth=3\u001b[0m\n",
      "\u001b[31m[129]#011train-rmse:0.253637#011validation-rmse:0.311776\u001b[0m\n",
      "\u001b[31m[11:39:49] src/tree/updater_prune.cc:74: tree pruning end, 1 roots, 16 extra nodes, 14 pruned nodes, max_depth=8\u001b[0m\n",
      "\u001b[31m[130]#011train-rmse:0.253324#011validation-rmse:0.311879\u001b[0m\n",
      "\u001b[31m[11:39:51] src/tree/updater_prune.cc:74: tree pruning end, 1 roots, 18 extra nodes, 20 pruned nodes, max_depth=8\u001b[0m\n",
      "\u001b[31m[131]#011train-rmse:0.252865#011validation-rmse:0.31174\u001b[0m\n",
      "\u001b[31m[11:39:54] src/tree/updater_prune.cc:74: tree pruning end, 1 roots, 6 extra nodes, 34 pruned nodes, max_depth=3\u001b[0m\n",
      "\u001b[31m[132]#011train-rmse:0.252781#011validation-rmse:0.311661\u001b[0m\n",
      "\u001b[31m[11:39:56] src/tree/updater_prune.cc:74: tree pruning end, 1 roots, 12 extra nodes, 18 pruned nodes, max_depth=6\u001b[0m\n",
      "\u001b[31m[133]#011train-rmse:0.252549#011validation-rmse:0.3113\u001b[0m\n",
      "\u001b[31m[11:39:58] src/tree/updater_prune.cc:74: tree pruning end, 1 roots, 16 extra nodes, 30 pruned nodes, max_depth=8\u001b[0m\n",
      "\u001b[31m[134]#011train-rmse:0.252129#011validation-rmse:0.311129\u001b[0m\n",
      "\u001b[31m[11:40:01] src/tree/updater_prune.cc:74: tree pruning end, 1 roots, 22 extra nodes, 30 pruned nodes, max_depth=6\u001b[0m\n",
      "\u001b[31m[135]#011train-rmse:0.251547#011validation-rmse:0.311044\u001b[0m\n",
      "\u001b[31m[11:40:03] src/tree/updater_prune.cc:74: tree pruning end, 1 roots, 18 extra nodes, 6 pruned nodes, max_depth=8\u001b[0m\n",
      "\u001b[31m[136]#011train-rmse:0.251159#011validation-rmse:0.311131\u001b[0m\n",
      "\u001b[31m[11:40:06] src/tree/updater_prune.cc:74: tree pruning end, 1 roots, 10 extra nodes, 24 pruned nodes, max_depth=5\u001b[0m\n",
      "\u001b[31m[137]#011train-rmse:0.251007#011validation-rmse:0.311023\u001b[0m\n",
      "\u001b[31m[11:40:08] src/tree/updater_prune.cc:74: tree pruning end, 1 roots, 18 extra nodes, 26 pruned nodes, max_depth=8\u001b[0m\n",
      "\u001b[31m[138]#011train-rmse:0.250725#011validation-rmse:0.31087\u001b[0m\n",
      "\u001b[31m[11:40:10] src/tree/updater_prune.cc:74: tree pruning end, 1 roots, 14 extra nodes, 12 pruned nodes, max_depth=7\u001b[0m\n",
      "\u001b[31m[139]#011train-rmse:0.25045#011validation-rmse:0.310842\u001b[0m\n",
      "\u001b[31m[11:40:13] src/tree/updater_prune.cc:74: tree pruning end, 1 roots, 16 extra nodes, 30 pruned nodes, max_depth=8\u001b[0m\n",
      "\u001b[31m[140]#011train-rmse:0.250105#011validation-rmse:0.310546\u001b[0m\n",
      "\u001b[31m[11:40:15] src/tree/updater_prune.cc:74: tree pruning end, 1 roots, 12 extra nodes, 16 pruned nodes, max_depth=6\u001b[0m\n",
      "\u001b[31m[141]#011train-rmse:0.249951#011validation-rmse:0.310424\u001b[0m\n",
      "\u001b[31m[11:40:17] src/tree/updater_prune.cc:74: tree pruning end, 1 roots, 4 extra nodes, 30 pruned nodes, max_depth=2\u001b[0m\n",
      "\u001b[31m[142]#011train-rmse:0.249851#011validation-rmse:0.310404\u001b[0m\n",
      "\u001b[31m[11:40:20] src/tree/updater_prune.cc:74: tree pruning end, 1 roots, 16 extra nodes, 42 pruned nodes, max_depth=8\u001b[0m\n",
      "\u001b[31m[143]#011train-rmse:0.249526#011validation-rmse:0.310331\u001b[0m\n",
      "\u001b[31m[11:40:22] src/tree/updater_prune.cc:74: tree pruning end, 1 roots, 16 extra nodes, 32 pruned nodes, max_depth=6\u001b[0m\n",
      "\u001b[31m[144]#011train-rmse:0.249149#011validation-rmse:0.31026\u001b[0m\n",
      "\u001b[31m[11:40:25] src/tree/updater_prune.cc:74: tree pruning end, 1 roots, 18 extra nodes, 50 pruned nodes, max_depth=7\u001b[0m\n",
      "\u001b[31m[145]#011train-rmse:0.248659#011validation-rmse:0.309777\u001b[0m\n",
      "\u001b[31m[11:40:27] src/tree/updater_prune.cc:74: tree pruning end, 1 roots, 16 extra nodes, 12 pruned nodes, max_depth=8\u001b[0m\n",
      "\u001b[31m[146]#011train-rmse:0.248369#011validation-rmse:0.309534\u001b[0m\n",
      "\u001b[31m[11:40:29] src/tree/updater_prune.cc:74: tree pruning end, 1 roots, 14 extra nodes, 34 pruned nodes, max_depth=5\u001b[0m\n",
      "\u001b[31m[147]#011train-rmse:0.247953#011validation-rmse:0.309415\u001b[0m\n",
      "\u001b[31m[11:40:32] src/tree/updater_prune.cc:74: tree pruning end, 1 roots, 14 extra nodes, 20 pruned nodes, max_depth=6\u001b[0m\n",
      "\u001b[31m[148]#011train-rmse:0.247697#011validation-rmse:0.309475\u001b[0m\n",
      "\u001b[31m[11:40:34] src/tree/updater_prune.cc:74: tree pruning end, 1 roots, 12 extra nodes, 56 pruned nodes, max_depth=4\u001b[0m\n",
      "\u001b[31m[149]#011train-rmse:0.247366#011validation-rmse:0.309267\u001b[0m\n",
      "\u001b[31m[11:40:36] src/tree/updater_prune.cc:74: tree pruning end, 1 roots, 2 extra nodes, 36 pruned nodes, max_depth=1\u001b[0m\n",
      "\u001b[31m[150]#011train-rmse:0.247319#011validation-rmse:0.309289\u001b[0m\n",
      "\u001b[31m[11:40:39] src/tree/updater_prune.cc:74: tree pruning end, 1 roots, 22 extra nodes, 40 pruned nodes, max_depth=8\u001b[0m\n",
      "\u001b[31m[151]#011train-rmse:0.246788#011validation-rmse:0.309143\u001b[0m\n",
      "\u001b[31m[11:40:41] src/tree/updater_prune.cc:74: tree pruning end, 1 roots, 8 extra nodes, 30 pruned nodes, max_depth=4\u001b[0m\n",
      "\u001b[31m[152]#011train-rmse:0.246667#011validation-rmse:0.309089\u001b[0m\n",
      "\u001b[31m[11:40:43] src/tree/updater_prune.cc:74: tree pruning end, 1 roots, 2 extra nodes, 30 pruned nodes, max_depth=1\u001b[0m\n",
      "\u001b[31m[153]#011train-rmse:0.246633#011validation-rmse:0.309079\u001b[0m\n",
      "\u001b[31m[11:40:46] src/tree/updater_prune.cc:74: tree pruning end, 1 roots, 16 extra nodes, 10 pruned nodes, max_depth=8\u001b[0m\n",
      "\u001b[31m[154]#011train-rmse:0.246403#011validation-rmse:0.309092\u001b[0m\n",
      "\u001b[31m[11:40:48] src/tree/updater_prune.cc:74: tree pruning end, 1 roots, 18 extra nodes, 30 pruned nodes, max_depth=8\u001b[0m\n",
      "\u001b[31m[155]#011train-rmse:0.246055#011validation-rmse:0.309015\u001b[0m\n",
      "\u001b[31m[11:40:51] src/tree/updater_prune.cc:74: tree pruning end, 1 roots, 14 extra nodes, 38 pruned nodes, max_depth=7\u001b[0m\n",
      "\u001b[31m[156]#011train-rmse:0.245776#011validation-rmse:0.308843\u001b[0m\n",
      "\u001b[31m[11:40:53] src/tree/updater_prune.cc:74: tree pruning end, 1 roots, 4 extra nodes, 24 pruned nodes, max_depth=2\u001b[0m\n",
      "\u001b[31m[157]#011train-rmse:0.24571#011validation-rmse:0.308774\u001b[0m\n",
      "\u001b[31m[11:40:55] src/tree/updater_prune.cc:74: tree pruning end, 1 roots, 14 extra nodes, 32 pruned nodes, max_depth=7\u001b[0m\n",
      "\u001b[31m[158]#011train-rmse:0.245394#011validation-rmse:0.308707\u001b[0m\n",
      "\u001b[31m[11:40:58] src/tree/updater_prune.cc:74: tree pruning end, 1 roots, 18 extra nodes, 50 pruned nodes, max_depth=8\u001b[0m\n",
      "\u001b[31m[159]#011train-rmse:0.244941#011validation-rmse:0.308543\u001b[0m\n",
      "\u001b[31m[11:41:00] src/tree/updater_prune.cc:74: tree pruning end, 1 roots, 0 extra nodes, 38 pruned nodes, max_depth=0\u001b[0m\n",
      "\u001b[31m[160]#011train-rmse:0.244945#011validation-rmse:0.30854\u001b[0m\n",
      "\u001b[31m[11:41:02] src/tree/updater_prune.cc:74: tree pruning end, 1 roots, 14 extra nodes, 12 pruned nodes, max_depth=7\u001b[0m\n",
      "\u001b[31m[161]#011train-rmse:0.244545#011validation-rmse:0.308435\u001b[0m\n",
      "\u001b[31m[11:41:05] src/tree/updater_prune.cc:74: tree pruning end, 1 roots, 10 extra nodes, 26 pruned nodes, max_depth=4\u001b[0m\n",
      "\u001b[31m[162]#011train-rmse:0.244352#011validation-rmse:0.308323\u001b[0m\n",
      "\u001b[31m[11:41:07] src/tree/updater_prune.cc:74: tree pruning end, 1 roots, 12 extra nodes, 32 pruned nodes, max_depth=5\u001b[0m\n",
      "\u001b[31m[163]#011train-rmse:0.244161#011validation-rmse:0.308249\u001b[0m\n",
      "\u001b[31m[11:41:10] src/tree/updater_prune.cc:74: tree pruning end, 1 roots, 6 extra nodes, 46 pruned nodes, max_depth=3\u001b[0m\n",
      "\u001b[31m[164]#011train-rmse:0.244085#011validation-rmse:0.308244\u001b[0m\n",
      "\u001b[31m[11:41:12] src/tree/updater_prune.cc:74: tree pruning end, 1 roots, 14 extra nodes, 14 pruned nodes, max_depth=7\u001b[0m\n",
      "\u001b[31m[165]#011train-rmse:0.243919#011validation-rmse:0.308266\u001b[0m\n",
      "\u001b[31m[11:41:14] src/tree/updater_prune.cc:74: tree pruning end, 1 roots, 4 extra nodes, 16 pruned nodes, max_depth=2\u001b[0m\n",
      "\u001b[31m[166]#011train-rmse:0.243836#011validation-rmse:0.308223\u001b[0m\n",
      "\u001b[31m[11:41:17] src/tree/updater_prune.cc:74: tree pruning end, 1 roots, 12 extra nodes, 34 pruned nodes, max_depth=6\u001b[0m\n",
      "\u001b[31m[167]#011train-rmse:0.243504#011validation-rmse:0.308101\u001b[0m\n",
      "\u001b[31m[11:41:19] src/tree/updater_prune.cc:74: tree pruning end, 1 roots, 0 extra nodes, 24 pruned nodes, max_depth=0\u001b[0m\n",
      "\u001b[31m[168]#011train-rmse:0.243508#011validation-rmse:0.308102\u001b[0m\n",
      "\u001b[31m[11:41:21] src/tree/updater_prune.cc:74: tree pruning end, 1 roots, 6 extra nodes, 22 pruned nodes, max_depth=3\u001b[0m\n",
      "\u001b[31m[169]#011train-rmse:0.243367#011validation-rmse:0.308133\u001b[0m\n",
      "\u001b[31m[11:41:24] src/tree/updater_prune.cc:74: tree pruning end, 1 roots, 16 extra nodes, 20 pruned nodes, max_depth=8\u001b[0m\n",
      "\u001b[31m[170]#011train-rmse:0.242957#011validation-rmse:0.308309\u001b[0m\n",
      "\u001b[31m[11:41:26] src/tree/updater_prune.cc:74: tree pruning end, 1 roots, 22 extra nodes, 40 pruned nodes, max_depth=7\u001b[0m\n",
      "\u001b[31m[171]#011train-rmse:0.242401#011validation-rmse:0.308123\u001b[0m\n",
      "\u001b[31m[11:41:29] src/tree/updater_prune.cc:74: tree pruning end, 1 roots, 8 extra nodes, 14 pruned nodes, max_depth=4\u001b[0m\n",
      "\u001b[31m[172]#011train-rmse:0.242328#011validation-rmse:0.308114\u001b[0m\n",
      "\u001b[31m[11:41:31] src/tree/updater_prune.cc:74: tree pruning end, 1 roots, 4 extra nodes, 32 pruned nodes, max_depth=2\u001b[0m\n",
      "\u001b[31m[173]#011train-rmse:0.242249#011validation-rmse:0.308153\u001b[0m\n",
      "\u001b[31m[11:41:33] src/tree/updater_prune.cc:74: tree pruning end, 1 roots, 14 extra nodes, 24 pruned nodes, max_depth=7\u001b[0m\n",
      "\u001b[31m[174]#011train-rmse:0.242003#011validation-rmse:0.307884\u001b[0m\n",
      "\u001b[31m[11:41:36] src/tree/updater_prune.cc:74: tree pruning end, 1 roots, 2 extra nodes, 20 pruned nodes, max_depth=1\u001b[0m\n",
      "\u001b[31m[175]#011train-rmse:0.24198#011validation-rmse:0.307928\u001b[0m\n",
      "\u001b[31m[11:41:38] src/tree/updater_prune.cc:74: tree pruning end, 1 roots, 4 extra nodes, 18 pruned nodes, max_depth=2\u001b[0m\n",
      "\u001b[31m[176]#011train-rmse:0.241889#011validation-rmse:0.307951\u001b[0m\n",
      "\u001b[31m[11:41:40] src/tree/updater_prune.cc:74: tree pruning end, 1 roots, 8 extra nodes, 36 pruned nodes, max_depth=4\u001b[0m\n",
      "\u001b[31m[177]#011train-rmse:0.241737#011validation-rmse:0.307909\u001b[0m\n",
      "\u001b[31m[11:41:43] src/tree/updater_prune.cc:74: tree pruning end, 1 roots, 6 extra nodes, 36 pruned nodes, max_depth=3\u001b[0m\n",
      "\u001b[31m[178]#011train-rmse:0.241614#011validation-rmse:0.307829\u001b[0m\n",
      "\u001b[31m[11:41:45] src/tree/updater_prune.cc:74: tree pruning end, 1 roots, 10 extra nodes, 20 pruned nodes, max_depth=5\u001b[0m\n",
      "\u001b[31m[179]#011train-rmse:0.241487#011validation-rmse:0.308157\u001b[0m\n",
      "\u001b[31m[11:41:48] src/tree/updater_prune.cc:74: tree pruning end, 1 roots, 16 extra nodes, 32 pruned nodes, max_depth=6\u001b[0m\n",
      "\u001b[31m[180]#011train-rmse:0.241121#011validation-rmse:0.308287\u001b[0m\n",
      "\u001b[31m[11:41:50] src/tree/updater_prune.cc:74: tree pruning end, 1 roots, 16 extra nodes, 8 pruned nodes, max_depth=8\u001b[0m\n",
      "\u001b[31m[181]#011train-rmse:0.240963#011validation-rmse:0.308298\u001b[0m\n",
      "\u001b[31m[11:41:52] src/tree/updater_prune.cc:74: tree pruning end, 1 roots, 8 extra nodes, 34 pruned nodes, max_depth=4\u001b[0m\n",
      "\u001b[31m[182]#011train-rmse:0.240793#011validation-rmse:0.30832\u001b[0m\n",
      "\u001b[31m[11:41:55] src/tree/updater_prune.cc:74: tree pruning end, 1 roots, 16 extra nodes, 20 pruned nodes, max_depth=7\u001b[0m\n",
      "\u001b[31m[183]#011train-rmse:0.240555#011validation-rmse:0.308225\u001b[0m\n",
      "\u001b[31m[11:41:57] src/tree/updater_prune.cc:74: tree pruning end, 1 roots, 0 extra nodes, 20 pruned nodes, max_depth=0\u001b[0m\n",
      "\u001b[31m[184]#011train-rmse:0.240546#011validation-rmse:0.308224\u001b[0m\n",
      "\u001b[31m[11:41:59] src/tree/updater_prune.cc:74: tree pruning end, 1 roots, 14 extra nodes, 26 pruned nodes, max_depth=7\u001b[0m\n",
      "\u001b[31m[185]#011train-rmse:0.240222#011validation-rmse:0.30802\u001b[0m\n",
      "\u001b[31m[11:42:02] src/tree/updater_prune.cc:74: tree pruning end, 1 roots, 8 extra nodes, 20 pruned nodes, max_depth=4\u001b[0m\n",
      "\u001b[31m[186]#011train-rmse:0.240056#011validation-rmse:0.308045\u001b[0m\n",
      "\u001b[31m[11:42:04] src/tree/updater_prune.cc:74: tree pruning end, 1 roots, 16 extra nodes, 28 pruned nodes, max_depth=8\u001b[0m\n",
      "\u001b[31m[187]#011train-rmse:0.239746#011validation-rmse:0.307842\u001b[0m\n",
      "\u001b[31m[11:42:07] src/tree/updater_prune.cc:74: tree pruning end, 1 roots, 20 extra nodes, 12 pruned nodes, max_depth=8\u001b[0m\n",
      "\u001b[31m[188]#011train-rmse:0.239389#011validation-rmse:0.307637\u001b[0m\n",
      "\u001b[31m[11:42:09] src/tree/updater_prune.cc:74: tree pruning end, 1 roots, 2 extra nodes, 20 pruned nodes, max_depth=1\u001b[0m\n",
      "\u001b[31m[189]#011train-rmse:0.239383#011validation-rmse:0.307634\u001b[0m\n",
      "\u001b[31m[11:42:11] src/tree/updater_prune.cc:74: tree pruning end, 1 roots, 4 extra nodes, 28 pruned nodes, max_depth=2\u001b[0m\n",
      "\u001b[31m[190]#011train-rmse:0.239298#011validation-rmse:0.307687\u001b[0m\n",
      "\u001b[31m[11:42:14] src/tree/updater_prune.cc:74: tree pruning end, 1 roots, 4 extra nodes, 30 pruned nodes, max_depth=2\u001b[0m\n",
      "\u001b[31m[191]#011train-rmse:0.239238#011validation-rmse:0.307721\u001b[0m\n",
      "\u001b[31m[11:42:16] src/tree/updater_prune.cc:74: tree pruning end, 1 roots, 6 extra nodes, 24 pruned nodes, max_depth=3\u001b[0m\n",
      "\u001b[31m[192]#011train-rmse:0.239132#011validation-rmse:0.307515\u001b[0m\n",
      "\u001b[31m[11:42:18] src/tree/updater_prune.cc:74: tree pruning end, 1 roots, 2 extra nodes, 32 pruned nodes, max_depth=1\u001b[0m\n",
      "\u001b[31m[193]#011train-rmse:0.239094#011validation-rmse:0.307429\u001b[0m\n",
      "\u001b[31m[11:42:21] src/tree/updater_prune.cc:74: tree pruning end, 1 roots, 14 extra nodes, 10 pruned nodes, max_depth=7\u001b[0m\n",
      "\u001b[31m[194]#011train-rmse:0.23891#011validation-rmse:0.307441\u001b[0m\n",
      "\u001b[31m[11:42:23] src/tree/updater_prune.cc:74: tree pruning end, 1 roots, 18 extra nodes, 16 pruned nodes, max_depth=8\u001b[0m\n",
      "\u001b[31m[195]#011train-rmse:0.238528#011validation-rmse:0.307313\u001b[0m\n",
      "\u001b[31m[11:42:26] src/tree/updater_prune.cc:74: tree pruning end, 1 roots, 4 extra nodes, 22 pruned nodes, max_depth=2\u001b[0m\n",
      "\u001b[31m[196]#011train-rmse:0.23843#011validation-rmse:0.307322\u001b[0m\n",
      "\u001b[31m[11:42:28] src/tree/updater_prune.cc:74: tree pruning end, 1 roots, 18 extra nodes, 16 pruned nodes, max_depth=8\u001b[0m\n",
      "\u001b[31m[197]#011train-rmse:0.238008#011validation-rmse:0.307341\u001b[0m\n",
      "\u001b[31m[11:42:30] src/tree/updater_prune.cc:74: tree pruning end, 1 roots, 2 extra nodes, 22 pruned nodes, max_depth=1\u001b[0m\n",
      "\u001b[31m[198]#011train-rmse:0.23794#011validation-rmse:0.307366\u001b[0m\n",
      "\u001b[31m[11:42:33] src/tree/updater_prune.cc:74: tree pruning end, 1 roots, 12 extra nodes, 38 pruned nodes, max_depth=6\u001b[0m\n",
      "\u001b[31m[199]#011train-rmse:0.237762#011validation-rmse:0.307465\u001b[0m\n",
      "Billable seconds: 522\n"
     ]
    }
   ],
   "source": [
    "# Create a new estimator object attached to the best training job found during hyperparameter tuning\n",
    "xgb_attached = sagemaker.estimator.Estimator.attach(xgb_hyperparameter_tuner.best_training_job())"
   ]
  },
  {
   "cell_type": "markdown",
   "metadata": {},
   "source": [
    "Now that we have an estimator object attached to the correct training job, we can proceed as we normally would and create a transformer object."
   ]
  },
  {
   "cell_type": "code",
   "execution_count": 27,
   "metadata": {},
   "outputs": [
    {
     "name": "stderr",
     "output_type": "stream",
     "text": [
      "INFO:sagemaker:Creating model with name: xgboost-190502-1034-017-31a5d831\n"
     ]
    }
   ],
   "source": [
    "# Create a transformer object from the attached estimator. Using an instance count of 1 and an instance type of ml.m4.xlarge\n",
    "# should be more than enough.\n",
    "xgb_transformer = xgb_attached.transformer(instance_count = 1, instance_type = 'ml.m4.xlarge')\n"
   ]
  },
  {
   "cell_type": "markdown",
   "metadata": {},
   "source": [
    "Next we actually perform the transform job. When doing so we need to make sure to specify the type of data we are sending so that it is serialized correctly in the background. In our case we are providing our model with csv data so we specify `text/csv`. Also, if the test data that we have provided is too large to process all at once then we need to specify how the data file should be split up. Since each line is a single entry in our data set we tell SageMaker that it can split the input on each line."
   ]
  },
  {
   "cell_type": "code",
   "execution_count": 50,
   "metadata": {},
   "outputs": [
    {
     "name": "stderr",
     "output_type": "stream",
     "text": [
      "INFO:sagemaker:Creating transform job with name: xgboost-190502-1034-017-31a5d831-2019-05-02-12-42-07-726\n"
     ]
    }
   ],
   "source": [
    "# Start the transform job. Make sure to specify the content type and the split type of the test data.\n",
    "xgb_transformer.transform(test_location, content_type='text/csv', split_type='Line')"
   ]
  },
  {
   "cell_type": "markdown",
   "metadata": {},
   "source": [
    "Currently the transform job is running but it is doing so in the background. Since we wish to wait until the transform job is done and we would like a bit of feedback we can run the `wait()` method."
   ]
  },
  {
   "cell_type": "code",
   "execution_count": 51,
   "metadata": {},
   "outputs": [
    {
     "name": "stdout",
     "output_type": "stream",
     "text": [
      "...........................................................!\n"
     ]
    }
   ],
   "source": [
    "xgb_transformer.wait()"
   ]
  },
  {
   "cell_type": "markdown",
   "metadata": {},
   "source": [
    "Now the transform job has executed and the result, the estimated sentiment of each review, has been saved on S3. Since we would rather work on this file locally we can perform a bit of notebook magic to copy the file to the `data_dir`."
   ]
  },
  {
   "cell_type": "code",
   "execution_count": 52,
   "metadata": {},
   "outputs": [
    {
     "name": "stdout",
     "output_type": "stream",
     "text": [
      "download: s3://sagemaker-ap-northeast-1-926798200699/xgboost-190502-1034-017-31a5d831-2019-05-02-12-20-37-173/test.csv.out to ../data/xgboost/test.csv.out\r\n"
     ]
    }
   ],
   "source": [
    "!aws s3 cp --recursive $xgb_transformer.output_path $data_dir"
   ]
  },
  {
   "cell_type": "markdown",
   "metadata": {},
   "source": [
    "The last step is now to read in the output from our model, convert the output to something a little more usable, in this case we want the sentiment to be either `1` (positive) or `0` (negative), and then compare to the ground truth labels."
   ]
  },
  {
   "cell_type": "code",
   "execution_count": 53,
   "metadata": {},
   "outputs": [],
   "source": [
    "predictions = pd.read_csv(os.path.join(data_dir, 'test.csv.out'), header=None)\n",
    "predictions = [round(num) for num in predictions.squeeze().values]"
   ]
  },
  {
   "cell_type": "code",
   "execution_count": 54,
   "metadata": {},
   "outputs": [
    {
     "data": {
      "text/plain": [
       "0.86456"
      ]
     },
     "execution_count": 54,
     "metadata": {},
     "output_type": "execute_result"
    }
   ],
   "source": [
    "from sklearn.metrics import accuracy_score\n",
    "accuracy_score(test_y, predictions)"
   ]
  },
  {
   "cell_type": "markdown",
   "metadata": {},
   "source": [
    "## Optional: Clean up\n",
    "\n",
    "The default notebook instance on SageMaker doesn't have a lot of excess disk space available. As you continue to complete and execute notebooks you will eventually fill up this disk space, leading to errors which can be difficult to diagnose. Once you are completely finished using a notebook it is a good idea to remove the files that you created along the way. Of course, you can do this from the terminal or from the notebook hub if you would like. The cell below contains some commands to clean up the created files from within the notebook."
   ]
  },
  {
   "cell_type": "code",
   "execution_count": 56,
   "metadata": {},
   "outputs": [
    {
     "name": "stdout",
     "output_type": "stream",
     "text": [
      "rm: cannot remove ‘../data/xgboost/*’: No such file or directory\n",
      "rmdir: failed to remove ‘../data/xgboost’: Directory not empty\n",
      "rm: cannot remove ‘../cache/sentiment_analysis/*’: No such file or directory\n",
      "rmdir: failed to remove ‘../cache/sentiment_analysis’: No such file or directory\n"
     ]
    }
   ],
   "source": [
    "# First we will remove all of the files contained in the data_dir directory\n",
    "!rm $data_dir/*\n",
    "\n",
    "# And then we delete the directory itself\n",
    "!rmdir $data_dir\n",
    "\n",
    "# Similarly we will remove the files in the cache_dir directory and the directory itself\n",
    "!rm $cache_dir/*\n",
    "!rmdir $cache_dir"
   ]
  },
  {
   "cell_type": "code",
   "execution_count": null,
   "metadata": {},
   "outputs": [],
   "source": []
  }
 ],
 "metadata": {
  "kernelspec": {
   "display_name": "conda_python3",
   "language": "python",
   "name": "conda_python3"
  },
  "language_info": {
   "codemirror_mode": {
    "name": "ipython",
    "version": 3
   },
   "file_extension": ".py",
   "mimetype": "text/x-python",
   "name": "python",
   "nbconvert_exporter": "python",
   "pygments_lexer": "ipython3",
   "version": "3.6.5"
  }
 },
 "nbformat": 4,
 "nbformat_minor": 2
}
