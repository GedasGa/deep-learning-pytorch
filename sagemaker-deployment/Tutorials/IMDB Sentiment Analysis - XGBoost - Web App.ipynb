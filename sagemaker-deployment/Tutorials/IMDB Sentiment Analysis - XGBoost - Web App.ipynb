{
 "cells": [
  {
   "cell_type": "markdown",
   "metadata": {},
   "source": [
    "# Sentiment Analysis Web App\n",
    "\n",
    "_Deep Learning Nanodegree Program | Deployment_\n",
    "\n",
    "---\n",
    "\n",
    "In this notebook we will use Amazon's SageMaker service to construct a random tree model to predict the sentiment of a movie review. In addition, we will deploy this model to an endpoint and construct a very simple web app which will interact with our model's deployed endpoint.\n",
    "\n",
    "## General Outline\n",
    "\n",
    "Typically, when using a notebook instance with SageMaker, you will proceed through the following steps. Of course, not every step will need to be done with each project. Also, there is quite a lot of room for variation in many of the steps, as you will see throughout these lessons.\n",
    "\n",
    "1. Download or otherwise retrieve the data.\n",
    "2. Process / Prepare the data.\n",
    "3. Upload the processed data to S3.\n",
    "4. Train a chosen model.\n",
    "5. Test the trained model (typically using a batch transform job).\n",
    "6. Deploy the trained model.\n",
    "7. Use the deployed model.\n",
    "\n",
    "In this notebook we will progress through each of the steps above. We will also see that the final step, using the deployed model, can be quite challenging."
   ]
  },
  {
   "cell_type": "markdown",
   "metadata": {},
   "source": [
    "## Step 1: Downloading the data\n",
    "\n",
    "The dataset we are going to use is very popular among researchers in Natural Language Processing, usually referred to as the [IMDb dataset](http://ai.stanford.edu/~amaas/data/sentiment/). It consists of movie reviews from the website [imdb.com](http://www.imdb.com/), each labeled as either '**pos**itive', if the reviewer enjoyed the film, or '**neg**ative' otherwise.\n",
    "\n",
    "> Maas, Andrew L., et al. [Learning Word Vectors for Sentiment Analysis](http://ai.stanford.edu/~amaas/data/sentiment/). In _Proceedings of the 49th Annual Meeting of the Association for Computational Linguistics: Human Language Technologies_. Association for Computational Linguistics, 2011.\n",
    "\n",
    "We begin by using some Jupyter Notebook magic to download and extract the dataset."
   ]
  },
  {
   "cell_type": "code",
   "execution_count": 1,
   "metadata": {},
   "outputs": [
    {
     "name": "stdout",
     "output_type": "stream",
     "text": [
      "mkdir: cannot create directory ‘../data’: File exists\n",
      "--2019-05-01 12:01:09--  http://ai.stanford.edu/~amaas/data/sentiment/aclImdb_v1.tar.gz\n",
      "Resolving ai.stanford.edu (ai.stanford.edu)... 171.64.68.10\n",
      "Connecting to ai.stanford.edu (ai.stanford.edu)|171.64.68.10|:80... connected.\n",
      "HTTP request sent, awaiting response... 200 OK\n",
      "Length: 84125825 (80M) [application/x-gzip]\n",
      "Saving to: ‘../data/aclImdb_v1.tar.gz’\n",
      "\n",
      "../data/aclImdb_v1. 100%[===================>]  80.23M  6.96MB/s    in 32s     \n",
      "\n",
      "2019-05-01 12:01:41 (2.54 MB/s) - ‘../data/aclImdb_v1.tar.gz’ saved [84125825/84125825]\n",
      "\n"
     ]
    }
   ],
   "source": [
    "%mkdir ../data\n",
    "!wget -O ../data/aclImdb_v1.tar.gz http://ai.stanford.edu/~amaas/data/sentiment/aclImdb_v1.tar.gz\n",
    "!tar -zxf ../data/aclImdb_v1.tar.gz -C ../data"
   ]
  },
  {
   "cell_type": "markdown",
   "metadata": {},
   "source": [
    "## Step 2: Preparing and Processing the data\n",
    "\n",
    "The data we have downloaded is split into various files, each of which contains a single review. It will be much easier going forward if we combine these individual files into two large files, one for training and one for testing."
   ]
  },
  {
   "cell_type": "code",
   "execution_count": 2,
   "metadata": {},
   "outputs": [],
   "source": [
    "import os\n",
    "import glob\n",
    "\n",
    "def read_imdb_data(data_dir='../data/aclImdb'):\n",
    "    data = {}\n",
    "    labels = {}\n",
    "    \n",
    "    for data_type in ['train', 'test']:\n",
    "        data[data_type] = {}\n",
    "        labels[data_type] = {}\n",
    "        \n",
    "        for sentiment in ['pos', 'neg']:\n",
    "            data[data_type][sentiment] = []\n",
    "            labels[data_type][sentiment] = []\n",
    "            \n",
    "            path = os.path.join(data_dir, data_type, sentiment, '*.txt')\n",
    "            files = glob.glob(path)\n",
    "            \n",
    "            for f in files:\n",
    "                with open(f) as review:\n",
    "                    data[data_type][sentiment].append(review.read())\n",
    "                    # Here we represent a positive review by '1' and a negative review by '0'\n",
    "                    labels[data_type][sentiment].append(1 if sentiment == 'pos' else 0)\n",
    "                    \n",
    "            assert len(data[data_type][sentiment]) == len(labels[data_type][sentiment]), \\\n",
    "                    \"{}/{} data size does not match labels size\".format(data_type, sentiment)\n",
    "                \n",
    "    return data, labels"
   ]
  },
  {
   "cell_type": "code",
   "execution_count": 3,
   "metadata": {},
   "outputs": [
    {
     "name": "stdout",
     "output_type": "stream",
     "text": [
      "IMDB reviews: train = 12500 pos / 12500 neg, test = 12500 pos / 12500 neg\n"
     ]
    }
   ],
   "source": [
    "data, labels = read_imdb_data()\n",
    "print(\"IMDB reviews: train = {} pos / {} neg, test = {} pos / {} neg\".format(\n",
    "            len(data['train']['pos']), len(data['train']['neg']),\n",
    "            len(data['test']['pos']), len(data['test']['neg'])))"
   ]
  },
  {
   "cell_type": "code",
   "execution_count": 4,
   "metadata": {},
   "outputs": [],
   "source": [
    "from sklearn.utils import shuffle\n",
    "\n",
    "def prepare_imdb_data(data, labels):\n",
    "    \"\"\"Prepare training and test sets from IMDb movie reviews.\"\"\"\n",
    "    \n",
    "    #Combine positive and negative reviews and labels\n",
    "    data_train = data['train']['pos'] + data['train']['neg']\n",
    "    data_test = data['test']['pos'] + data['test']['neg']\n",
    "    labels_train = labels['train']['pos'] + labels['train']['neg']\n",
    "    labels_test = labels['test']['pos'] + labels['test']['neg']\n",
    "    \n",
    "    #Shuffle reviews and corresponding labels within training and test sets\n",
    "    data_train, labels_train = shuffle(data_train, labels_train)\n",
    "    data_test, labels_test = shuffle(data_test, labels_test)\n",
    "    \n",
    "    # Return a unified training data, test data, training labels, test labets\n",
    "    return data_train, data_test, labels_train, labels_test"
   ]
  },
  {
   "cell_type": "code",
   "execution_count": 5,
   "metadata": {},
   "outputs": [
    {
     "name": "stdout",
     "output_type": "stream",
     "text": [
      "IMDb reviews (combined): train = 25000, test = 25000\n"
     ]
    }
   ],
   "source": [
    "train_X, test_X, train_y, test_y = prepare_imdb_data(data, labels)\n",
    "print(\"IMDb reviews (combined): train = {}, test = {}\".format(len(train_X), len(test_X)))"
   ]
  },
  {
   "cell_type": "code",
   "execution_count": 6,
   "metadata": {},
   "outputs": [
    {
     "data": {
      "text/plain": [
       "\"This movie sucked. The acting sucked, the script sucked, and the movie overall sucked. There were two threads in the movie that were not developed and the viewer had to do a bit of work to figure out what was happening.<br /><br />I'm not saying that it needs to be spelled out, but you suddenly find things happening and being said as if you have the slightest clue as to what they are. Examples:<br /><br />The heroine's negative comments about the hero. The audience is never shown how she even knows anything about the guy and how he is tied into her fiance's death. The viewer has minimal exposure to the guy's death as well.<br /><br />Also, all of a sudden there is a scene with a bunch of guys loading up and cocking machine guns and that is all you see before cutting back to the other scenes. No explanation what-so-ever about the guns and the folks with them.<br /><br />We gave it a 3 because we didn't feel like we wanted our time back. It was fun to bad-mouth the movie while watching it, so it at least gave us a bit of entertainment. ;-)\""
      ]
     },
     "execution_count": 6,
     "metadata": {},
     "output_type": "execute_result"
    }
   ],
   "source": [
    "train_X[100]"
   ]
  },
  {
   "cell_type": "markdown",
   "metadata": {},
   "source": [
    "## Processing the data\n",
    "\n",
    "Now that we have our training and testing datasets merged and ready to use, we need to start processing the raw data into something that will be useable by our machine learning algorithm. To begin with, we remove any html formatting and any non-alpha numeric characters that may appear in the reviews. We will do this in a very simplistic way using Python's regular expression module. We will discuss the reason for this rather simplistic pre-processing later on."
   ]
  },
  {
   "cell_type": "code",
   "execution_count": 7,
   "metadata": {},
   "outputs": [],
   "source": [
    "import re\n",
    "\n",
    "REPLACE_NO_SPACE = re.compile(\"(\\.)|(\\;)|(\\:)|(\\!)|(\\')|(\\?)|(\\,)|(\\\")|(\\()|(\\))|(\\[)|(\\])\")\n",
    "REPLACE_WITH_SPACE = re.compile(\"(<br\\s*/><br\\s*/>)|(\\-)|(\\/)\")\n",
    "\n",
    "def review_to_words(review):\n",
    "    words = REPLACE_NO_SPACE.sub(\"\", review.lower())\n",
    "    words = REPLACE_WITH_SPACE.sub(\" \", words)\n",
    "    return words"
   ]
  },
  {
   "cell_type": "code",
   "execution_count": 8,
   "metadata": {},
   "outputs": [
    {
     "data": {
      "text/plain": [
       "'this movie sucked the acting sucked the script sucked and the movie overall sucked there were two threads in the movie that were not developed and the viewer had to do a bit of work to figure out what was happening im not saying that it needs to be spelled out but you suddenly find things happening and being said as if you have the slightest clue as to what they are examples the heroines negative comments about the hero the audience is never shown how she even knows anything about the guy and how he is tied into her fiances death the viewer has minimal exposure to the guys death as well also all of a sudden there is a scene with a bunch of guys loading up and cocking machine guns and that is all you see before cutting back to the other scenes no explanation what so ever about the guns and the folks with them we gave it a 3 because we didnt feel like we wanted our time back it was fun to bad mouth the movie while watching it so it at least gave us a bit of entertainment  '"
      ]
     },
     "execution_count": 8,
     "metadata": {},
     "output_type": "execute_result"
    }
   ],
   "source": [
    "review_to_words(train_X[100])"
   ]
  },
  {
   "cell_type": "code",
   "execution_count": 9,
   "metadata": {},
   "outputs": [],
   "source": [
    "import pickle\n",
    "\n",
    "cache_dir = os.path.join(\"../cache\", \"sentiment_web_app\")  # where to store cache files\n",
    "os.makedirs(cache_dir, exist_ok=True)  # ensure cache directory exists\n",
    "\n",
    "def preprocess_data(data_train, data_test, labels_train, labels_test,\n",
    "                    cache_dir=cache_dir, cache_file=\"preprocessed_data.pkl\"):\n",
    "    \"\"\"Convert each review to words; read from cache if available.\"\"\"\n",
    "\n",
    "    # If cache_file is not None, try to read from it first\n",
    "    cache_data = None\n",
    "    if cache_file is not None:\n",
    "        try:\n",
    "            with open(os.path.join(cache_dir, cache_file), \"rb\") as f:\n",
    "                cache_data = pickle.load(f)\n",
    "            print(\"Read preprocessed data from cache file:\", cache_file)\n",
    "        except:\n",
    "            pass  # unable to read from cache, but that's okay\n",
    "    \n",
    "    # If cache is missing, then do the heavy lifting\n",
    "    if cache_data is None:\n",
    "        # Preprocess training and test data to obtain words for each review\n",
    "        #words_train = list(map(review_to_words, data_train))\n",
    "        #words_test = list(map(review_to_words, data_test))\n",
    "        words_train = [review_to_words(review) for review in data_train]\n",
    "        words_test = [review_to_words(review) for review in data_test]\n",
    "        \n",
    "        # Write to cache file for future runs\n",
    "        if cache_file is not None:\n",
    "            cache_data = dict(words_train=words_train, words_test=words_test,\n",
    "                              labels_train=labels_train, labels_test=labels_test)\n",
    "            with open(os.path.join(cache_dir, cache_file), \"wb\") as f:\n",
    "                pickle.dump(cache_data, f)\n",
    "            print(\"Wrote preprocessed data to cache file:\", cache_file)\n",
    "    else:\n",
    "        # Unpack data loaded from cache file\n",
    "        words_train, words_test, labels_train, labels_test = (cache_data['words_train'],\n",
    "                cache_data['words_test'], cache_data['labels_train'], cache_data['labels_test'])\n",
    "    \n",
    "    return words_train, words_test, labels_train, labels_test"
   ]
  },
  {
   "cell_type": "code",
   "execution_count": 10,
   "metadata": {},
   "outputs": [
    {
     "name": "stdout",
     "output_type": "stream",
     "text": [
      "Wrote preprocessed data to cache file: preprocessed_data.pkl\n"
     ]
    }
   ],
   "source": [
    "# Preprocess data\n",
    "train_X, test_X, train_y, test_y = preprocess_data(train_X, test_X, train_y, test_y)"
   ]
  },
  {
   "cell_type": "markdown",
   "metadata": {},
   "source": [
    "### Extract Bag-of-Words features\n",
    "\n",
    "For the model we will be implementing, rather than using the reviews directly, we are going to transform each review into a Bag-of-Words feature representation. Keep in mind that 'in the wild' we will only have access to the training set so our transformer can only use the training set to construct a representation."
   ]
  },
  {
   "cell_type": "code",
   "execution_count": 11,
   "metadata": {},
   "outputs": [],
   "source": [
    "import numpy as np\n",
    "from sklearn.feature_extraction.text import CountVectorizer\n",
    "from sklearn.externals import joblib\n",
    "# joblib is an enhanced version of pickle that is more efficient for storing NumPy arrays\n",
    "\n",
    "def extract_BoW_features(words_train, words_test, vocabulary_size=5000,\n",
    "                         cache_dir=cache_dir, cache_file=\"bow_features.pkl\"):\n",
    "    \"\"\"Extract Bag-of-Words for a given set of documents, already preprocessed into words.\"\"\"\n",
    "    \n",
    "    # If cache_file is not None, try to read from it first\n",
    "    cache_data = None\n",
    "    if cache_file is not None:\n",
    "        try:\n",
    "            with open(os.path.join(cache_dir, cache_file), \"rb\") as f:\n",
    "                cache_data = joblib.load(f)\n",
    "            print(\"Read features from cache file:\", cache_file)\n",
    "        except:\n",
    "            pass  # unable to read from cache, but that's okay\n",
    "    \n",
    "    # If cache is missing, then do the heavy lifting\n",
    "    if cache_data is None:\n",
    "        # Fit a vectorizer to training documents and use it to transform them\n",
    "        # NOTE: Training documents have already been preprocessed and tokenized into words;\n",
    "        #       pass in dummy functions to skip those steps, e.g. preprocessor=lambda x: x\n",
    "        vectorizer = CountVectorizer(max_features=vocabulary_size)\n",
    "        features_train = vectorizer.fit_transform(words_train).toarray()\n",
    "\n",
    "        # Apply the same vectorizer to transform the test documents (ignore unknown words)\n",
    "        features_test = vectorizer.transform(words_test).toarray()\n",
    "        \n",
    "        # NOTE: Remember to convert the features using .toarray() for a compact representation\n",
    "        \n",
    "        # Write to cache file for future runs (store vocabulary as well)\n",
    "        if cache_file is not None:\n",
    "            vocabulary = vectorizer.vocabulary_\n",
    "            cache_data = dict(features_train=features_train, features_test=features_test,\n",
    "                             vocabulary=vocabulary)\n",
    "            with open(os.path.join(cache_dir, cache_file), \"wb\") as f:\n",
    "                joblib.dump(cache_data, f)\n",
    "            print(\"Wrote features to cache file:\", cache_file)\n",
    "    else:\n",
    "        # Unpack data loaded from cache file\n",
    "        features_train, features_test, vocabulary = (cache_data['features_train'],\n",
    "                cache_data['features_test'], cache_data['vocabulary'])\n",
    "    \n",
    "    # Return both the extracted features as well as the vocabulary\n",
    "    return features_train, features_test, vocabulary"
   ]
  },
  {
   "cell_type": "code",
   "execution_count": 12,
   "metadata": {},
   "outputs": [
    {
     "name": "stdout",
     "output_type": "stream",
     "text": [
      "Wrote features to cache file: bow_features.pkl\n"
     ]
    }
   ],
   "source": [
    "# Extract Bag of Words features for both training and test datasets\n",
    "train_X, test_X, vocabulary = extract_BoW_features(train_X, test_X)"
   ]
  },
  {
   "cell_type": "code",
   "execution_count": 13,
   "metadata": {},
   "outputs": [
    {
     "data": {
      "text/plain": [
       "5000"
      ]
     },
     "execution_count": 13,
     "metadata": {},
     "output_type": "execute_result"
    }
   ],
   "source": [
    "len(train_X[100])"
   ]
  },
  {
   "cell_type": "markdown",
   "metadata": {},
   "source": [
    "## Step 3: Upload data to S3\n",
    "\n",
    "Now that we have created the feature representation of our training (and testing) data, it is time to start setting up and using the XGBoost classifier provided by SageMaker.\n",
    "\n",
    "### Writing the datasets\n",
    "\n",
    "The XGBoost classifier that we will be using requires the dataset to be written to a file and stored using Amazon S3. To do this, we will start by splitting the training dataset into two parts, the data we will train the model with and a validation set. Then, we will write those datasets to a file locally and then upload the files to S3. In addition, we will write the test set to a file and upload that file to S3. This is so that we can use SageMakers Batch Transform functionality to test our model once we've fit it."
   ]
  },
  {
   "cell_type": "code",
   "execution_count": 14,
   "metadata": {},
   "outputs": [],
   "source": [
    "import pandas as pd\n",
    "\n",
    "# Earlier we shuffled the training dataset so to make things simple we can just assign\n",
    "# the first 10 000 reviews to the validation set and use the remaining reviews for training.\n",
    "val_X = pd.DataFrame(train_X[:10000])\n",
    "train_X = pd.DataFrame(train_X[10000:])\n",
    "\n",
    "val_y = pd.DataFrame(train_y[:10000])\n",
    "train_y = pd.DataFrame(train_y[10000:])"
   ]
  },
  {
   "cell_type": "markdown",
   "metadata": {},
   "source": [
    "The documentation for the XGBoost algorithm in SageMaker requires that the training and validation datasets should contain no headers or index and that the label should occur first for each sample.\n",
    "\n",
    "For more information about this and other algorithms, the SageMaker developer documentation can be found on __[Amazon's website.](https://docs.aws.amazon.com/sagemaker/latest/dg/)__"
   ]
  },
  {
   "cell_type": "code",
   "execution_count": 15,
   "metadata": {},
   "outputs": [],
   "source": [
    "# First we make sure that the local directory in which we'd like to store the training and validation csv files exists.\n",
    "data_dir = '../data/sentiment_web_app'\n",
    "if not os.path.exists(data_dir):\n",
    "    os.makedirs(data_dir)"
   ]
  },
  {
   "cell_type": "code",
   "execution_count": 16,
   "metadata": {},
   "outputs": [],
   "source": [
    "pd.DataFrame(test_X).to_csv(os.path.join(data_dir, 'test.csv'), header=False, index=False)\n",
    "\n",
    "pd.concat([val_y, val_X], axis=1).to_csv(os.path.join(data_dir, 'validation.csv'), header=False, index=False)\n",
    "pd.concat([train_y, train_X], axis=1).to_csv(os.path.join(data_dir, 'train.csv'), header=False, index=False)"
   ]
  },
  {
   "cell_type": "code",
   "execution_count": 17,
   "metadata": {},
   "outputs": [],
   "source": [
    "# To save a bit of memory we can set text_X, train_X, val_X, train_y and val_y to None.\n",
    "\n",
    "test_X = train_X = val_X = train_y = val_y = None"
   ]
  },
  {
   "cell_type": "markdown",
   "metadata": {},
   "source": [
    "### Uploading Training / Validation files to S3\n",
    "\n",
    "Amazon's S3 service allows us to store files that can be accessed by both the built-in training models such as the XGBoost model we will be using as well as custom models such as the one we will see a little later.\n",
    "\n",
    "For this and most other tasks we will be doing using SageMaker, there are two methods we could use. The first is to use the low level functionality of SageMaker which requires knowing each of the objects involved in the SageMaker environment. The second is to use the high level functionality in which certain choices have been made on the user's behalf. The low level approach benefits from allowing the user a great deal of flexibility while the high level approach makes development much quicker. For our purposes we will opt to use the high level approach although using the low-level approach is certainly an option.\n",
    "\n",
    "Recall the method `upload_data()` which is a member of the object representing our current SageMaker session. What this method does is upload the data to the default bucket (which is created if it does not exist) into the path described by the key_prefix variable. To see this for yourself, once you have uploaded the data files, go to the S3 console and look to see where the files have been uploaded.\n",
    "\n",
    "For additional resources, see the __[SageMaker API documentation](http://sagemaker.readthedocs.io/en/latest/)__ and in addition the __[SageMaker Developer Guide.](https://docs.aws.amazon.com/sagemaker/latest/dg/)__"
   ]
  },
  {
   "cell_type": "code",
   "execution_count": 18,
   "metadata": {},
   "outputs": [],
   "source": [
    "import sagemaker\n",
    "\n",
    "session = sagemaker.Session() # Store the current SageMaker session\n",
    "\n",
    "# S3 prefix (which folder will we use)\n",
    "prefix = 'sentiment-web-app'\n",
    "\n",
    "test_location = session.upload_data(os.path.join(data_dir, 'test.csv'), key_prefix=prefix)\n",
    "val_location = session.upload_data(os.path.join(data_dir, 'validation.csv'), key_prefix=prefix)\n",
    "train_location = session.upload_data(os.path.join(data_dir, 'train.csv'), key_prefix=prefix)"
   ]
  },
  {
   "cell_type": "markdown",
   "metadata": {},
   "source": [
    "## Step 4: Creating the XGBoost model\n",
    "\n",
    "Now that the data has been uploaded it is time to create the XGBoost model. To begin with, we need to do some setup. At this point it is worth discussing what a model is in SageMaker. It is easiest to think of a model of comprising three different objects in the SageMaker ecosystem, which interact with one another.\n",
    "\n",
    "- Model Artifacts\n",
    "- Training Code (Container)\n",
    "- Inference Code (Container)\n",
    "\n",
    "The Model Artifacts are what you might think of as the actual model itself. For example, if you were building a neural network, the model artifacts would be the weights of the various layers. In our case, for an XGBoost model, the artifacts are the actual trees that are created during training.\n",
    "\n",
    "The other two objects, the training code and the inference code are then used to manipulate the training artifacts. More precisely, the training code uses the training data that is provided and creates the model artifacts, while the inference code uses the model artifacts to make predictions on new data.\n",
    "\n",
    "The way that SageMaker runs the training and inference code is by making use of Docker containers. For now, think of a container as being a way of packaging code up so that dependencies aren't an issue."
   ]
  },
  {
   "cell_type": "code",
   "execution_count": 19,
   "metadata": {},
   "outputs": [],
   "source": [
    "from sagemaker import get_execution_role\n",
    "\n",
    "# Our current execution role is required when creating the model as the training\n",
    "# and inference code will need to access the model artifacts.\n",
    "role = get_execution_role()"
   ]
  },
  {
   "cell_type": "code",
   "execution_count": 20,
   "metadata": {},
   "outputs": [],
   "source": [
    "# We need to retrieve the location of the container which is provided by Amazon for using XGBoost.\n",
    "# As a matter of convenience, the training and inference code both use the same container.\n",
    "from sagemaker.amazon.amazon_estimator import get_image_uri\n",
    "\n",
    "container = get_image_uri(session.boto_region_name, 'xgboost')"
   ]
  },
  {
   "cell_type": "code",
   "execution_count": 21,
   "metadata": {},
   "outputs": [],
   "source": [
    "# First we create a SageMaker estimator object for our model.\n",
    "xgb = sagemaker.estimator.Estimator(container, # The location of the container we wish to use\n",
    "                                    role,                                    # What is our current IAM Role\n",
    "                                    train_instance_count=1,                  # How many compute instances\n",
    "                                    train_instance_type='ml.m4.xlarge',      # What kind of compute instances\n",
    "                                    output_path='s3://{}/{}/output'.format(session.default_bucket(), prefix),\n",
    "                                    sagemaker_session=session)\n",
    "\n",
    "# And then set the algorithm specific parameters.\n",
    "xgb.set_hyperparameters(max_depth=5,\n",
    "                        eta=0.2,\n",
    "                        gamma=4,\n",
    "                        min_child_weight=6,\n",
    "                        subsample=0.8,\n",
    "                        silent=0,\n",
    "                        objective='binary:logistic',\n",
    "                        early_stopping_rounds=10,\n",
    "                        num_round=500)"
   ]
  },
  {
   "cell_type": "markdown",
   "metadata": {},
   "source": [
    "### Fit the XGBoost model\n",
    "\n",
    "Now that our model has been set up we simply need to attach the training and validation datasets and then ask SageMaker to set up the computation."
   ]
  },
  {
   "cell_type": "code",
   "execution_count": 22,
   "metadata": {},
   "outputs": [],
   "source": [
    "s3_input_train = sagemaker.s3_input(s3_data=train_location, content_type='csv')\n",
    "s3_input_validation = sagemaker.s3_input(s3_data=val_location, content_type='csv')"
   ]
  },
  {
   "cell_type": "code",
   "execution_count": 23,
   "metadata": {},
   "outputs": [
    {
     "name": "stderr",
     "output_type": "stream",
     "text": [
      "INFO:sagemaker:Creating training-job with name: xgboost-2019-05-01-12-08-46-133\n"
     ]
    },
    {
     "name": "stdout",
     "output_type": "stream",
     "text": [
      "2019-05-01 12:08:46 Starting - Starting the training job...\n",
      "2019-05-01 12:08:47 Starting - Launching requested ML instances......\n",
      "2019-05-01 12:09:55 Starting - Preparing the instances for training......\n",
      "2019-05-01 12:11:11 Downloading - Downloading input data...\n",
      "2019-05-01 12:11:37 Training - Training image download completed. Training in progress.\n",
      "\u001b[31mArguments: train\u001b[0m\n",
      "\u001b[31m[2019-05-01:12:11:38:INFO] Running standalone xgboost training.\u001b[0m\n",
      "\u001b[31m[2019-05-01:12:11:38:INFO] File size need to be processed in the node: 238.5mb. Available memory size in the node: 8406.58mb\u001b[0m\n",
      "\u001b[31m[2019-05-01:12:11:38:INFO] Determined delimiter of CSV input is ','\u001b[0m\n",
      "\u001b[31m[12:11:38] S3DistributionType set as FullyReplicated\u001b[0m\n",
      "\u001b[31m[12:11:40] 15000x5000 matrix with 75000000 entries loaded from /opt/ml/input/data/train?format=csv&label_column=0&delimiter=,\u001b[0m\n",
      "\u001b[31m[2019-05-01:12:11:40:INFO] Determined delimiter of CSV input is ','\u001b[0m\n",
      "\u001b[31m[12:11:40] S3DistributionType set as FullyReplicated\u001b[0m\n",
      "\u001b[31m[12:11:41] 10000x5000 matrix with 50000000 entries loaded from /opt/ml/input/data/validation?format=csv&label_column=0&delimiter=,\u001b[0m\n",
      "\u001b[31m[12:11:45] src/tree/updater_prune.cc:74: tree pruning end, 1 roots, 40 extra nodes, 4 pruned nodes, max_depth=5\u001b[0m\n",
      "\u001b[31m[0]#011train-error:0.304733#011validation-error:0.3105\u001b[0m\n",
      "\u001b[31mMultiple eval metrics have been passed: 'validation-error' will be used for early stopping.\n",
      "\u001b[0m\n",
      "\u001b[31mWill train until validation-error hasn't improved in 10 rounds.\u001b[0m\n",
      "\u001b[31m[12:11:46] src/tree/updater_prune.cc:74: tree pruning end, 1 roots, 38 extra nodes, 8 pruned nodes, max_depth=5\u001b[0m\n",
      "\u001b[31m[1]#011train-error:0.300733#011validation-error:0.307\u001b[0m\n",
      "\u001b[31m[12:11:47] src/tree/updater_prune.cc:74: tree pruning end, 1 roots, 36 extra nodes, 12 pruned nodes, max_depth=5\u001b[0m\n",
      "\u001b[31m[2]#011train-error:0.2934#011validation-error:0.2978\u001b[0m\n",
      "\u001b[31m[12:11:49] src/tree/updater_prune.cc:74: tree pruning end, 1 roots, 34 extra nodes, 4 pruned nodes, max_depth=5\u001b[0m\n",
      "\u001b[31m[3]#011train-error:0.279733#011validation-error:0.2853\u001b[0m\n",
      "\u001b[31m[12:11:50] src/tree/updater_prune.cc:74: tree pruning end, 1 roots, 40 extra nodes, 12 pruned nodes, max_depth=5\u001b[0m\n",
      "\u001b[31m[4]#011train-error:0.2682#011validation-error:0.2745\u001b[0m\n",
      "\u001b[31m[12:11:51] src/tree/updater_prune.cc:74: tree pruning end, 1 roots, 36 extra nodes, 0 pruned nodes, max_depth=5\u001b[0m\n",
      "\u001b[31m[5]#011train-error:0.260333#011validation-error:0.2735\u001b[0m\n",
      "\u001b[31m[12:11:53] src/tree/updater_prune.cc:74: tree pruning end, 1 roots, 36 extra nodes, 8 pruned nodes, max_depth=5\u001b[0m\n",
      "\u001b[31m[6]#011train-error:0.2488#011validation-error:0.2632\u001b[0m\n",
      "\u001b[31m[12:11:54] src/tree/updater_prune.cc:74: tree pruning end, 1 roots, 44 extra nodes, 6 pruned nodes, max_depth=5\u001b[0m\n",
      "\u001b[31m[7]#011train-error:0.241067#011validation-error:0.2556\u001b[0m\n",
      "\u001b[31m[12:11:55] src/tree/updater_prune.cc:74: tree pruning end, 1 roots, 40 extra nodes, 8 pruned nodes, max_depth=5\u001b[0m\n",
      "\u001b[31m[8]#011train-error:0.2348#011validation-error:0.2539\u001b[0m\n",
      "\u001b[31m[12:11:56] src/tree/updater_prune.cc:74: tree pruning end, 1 roots, 34 extra nodes, 6 pruned nodes, max_depth=5\u001b[0m\n",
      "\u001b[31m[9]#011train-error:0.230067#011validation-error:0.2502\u001b[0m\n",
      "\u001b[31m[12:11:58] src/tree/updater_prune.cc:74: tree pruning end, 1 roots, 26 extra nodes, 6 pruned nodes, max_depth=5\u001b[0m\n",
      "\u001b[31m[10]#011train-error:0.223933#011validation-error:0.2418\u001b[0m\n",
      "\u001b[31m[12:11:59] src/tree/updater_prune.cc:74: tree pruning end, 1 roots, 40 extra nodes, 8 pruned nodes, max_depth=5\u001b[0m\n",
      "\u001b[31m[11]#011train-error:0.216733#011validation-error:0.2368\u001b[0m\n",
      "\u001b[31m[12:12:00] src/tree/updater_prune.cc:74: tree pruning end, 1 roots, 38 extra nodes, 10 pruned nodes, max_depth=5\u001b[0m\n",
      "\u001b[31m[12]#011train-error:0.2126#011validation-error:0.231\u001b[0m\n",
      "\u001b[31m[12:12:01] src/tree/updater_prune.cc:74: tree pruning end, 1 roots, 20 extra nodes, 10 pruned nodes, max_depth=5\u001b[0m\n",
      "\u001b[31m[13]#011train-error:0.208267#011validation-error:0.2278\u001b[0m\n",
      "\u001b[31m[12:12:03] src/tree/updater_prune.cc:74: tree pruning end, 1 roots, 26 extra nodes, 8 pruned nodes, max_depth=5\u001b[0m\n",
      "\u001b[31m[14]#011train-error:0.203667#011validation-error:0.2236\u001b[0m\n",
      "\u001b[31m[12:12:04] src/tree/updater_prune.cc:74: tree pruning end, 1 roots, 22 extra nodes, 8 pruned nodes, max_depth=5\u001b[0m\n",
      "\u001b[31m[15]#011train-error:0.198733#011validation-error:0.2204\u001b[0m\n",
      "\u001b[31m[12:12:05] src/tree/updater_prune.cc:74: tree pruning end, 1 roots, 20 extra nodes, 10 pruned nodes, max_depth=5\u001b[0m\n",
      "\u001b[31m[16]#011train-error:0.197333#011validation-error:0.2167\u001b[0m\n",
      "\u001b[31m[12:12:07] src/tree/updater_prune.cc:74: tree pruning end, 1 roots, 30 extra nodes, 8 pruned nodes, max_depth=5\u001b[0m\n",
      "\u001b[31m[17]#011train-error:0.1946#011validation-error:0.2155\u001b[0m\n",
      "\u001b[31m[12:12:08] src/tree/updater_prune.cc:74: tree pruning end, 1 roots, 18 extra nodes, 12 pruned nodes, max_depth=5\u001b[0m\n",
      "\u001b[31m[18]#011train-error:0.1922#011validation-error:0.2135\u001b[0m\n",
      "\u001b[31m[12:12:09] src/tree/updater_prune.cc:74: tree pruning end, 1 roots, 36 extra nodes, 2 pruned nodes, max_depth=5\u001b[0m\n",
      "\u001b[31m[19]#011train-error:0.189267#011validation-error:0.215\u001b[0m\n",
      "\u001b[31m[12:12:10] src/tree/updater_prune.cc:74: tree pruning end, 1 roots, 34 extra nodes, 6 pruned nodes, max_depth=5\u001b[0m\n",
      "\u001b[31m[20]#011train-error:0.1876#011validation-error:0.2115\u001b[0m\n",
      "\u001b[31m[12:12:12] src/tree/updater_prune.cc:74: tree pruning end, 1 roots, 24 extra nodes, 8 pruned nodes, max_depth=5\u001b[0m\n",
      "\u001b[31m[21]#011train-error:0.184467#011validation-error:0.2072\u001b[0m\n",
      "\u001b[31m[12:12:13] src/tree/updater_prune.cc:74: tree pruning end, 1 roots, 30 extra nodes, 8 pruned nodes, max_depth=5\u001b[0m\n",
      "\u001b[31m[22]#011train-error:0.183667#011validation-error:0.2046\u001b[0m\n",
      "\u001b[31m[12:12:14] src/tree/updater_prune.cc:74: tree pruning end, 1 roots, 28 extra nodes, 10 pruned nodes, max_depth=5\u001b[0m\n",
      "\u001b[31m[23]#011train-error:0.180267#011validation-error:0.2043\u001b[0m\n",
      "\u001b[31m[12:12:16] src/tree/updater_prune.cc:74: tree pruning end, 1 roots, 30 extra nodes, 6 pruned nodes, max_depth=5\u001b[0m\n",
      "\u001b[31m[24]#011train-error:0.1796#011validation-error:0.2024\u001b[0m\n",
      "\u001b[31m[12:12:17] src/tree/updater_prune.cc:74: tree pruning end, 1 roots, 40 extra nodes, 10 pruned nodes, max_depth=5\u001b[0m\n",
      "\u001b[31m[25]#011train-error:0.175933#011validation-error:0.201\u001b[0m\n",
      "\u001b[31m[12:12:18] src/tree/updater_prune.cc:74: tree pruning end, 1 roots, 36 extra nodes, 2 pruned nodes, max_depth=5\u001b[0m\n",
      "\u001b[31m[26]#011train-error:0.173267#011validation-error:0.1988\u001b[0m\n",
      "\u001b[31m[12:12:19] src/tree/updater_prune.cc:74: tree pruning end, 1 roots, 24 extra nodes, 10 pruned nodes, max_depth=5\u001b[0m\n",
      "\u001b[31m[27]#011train-error:0.171867#011validation-error:0.1976\u001b[0m\n",
      "\u001b[31m[12:12:21] src/tree/updater_prune.cc:74: tree pruning end, 1 roots, 20 extra nodes, 6 pruned nodes, max_depth=5\u001b[0m\n",
      "\u001b[31m[28]#011train-error:0.169#011validation-error:0.1965\u001b[0m\n",
      "\u001b[31m[12:12:22] src/tree/updater_prune.cc:74: tree pruning end, 1 roots, 18 extra nodes, 2 pruned nodes, max_depth=5\u001b[0m\n",
      "\u001b[31m[29]#011train-error:0.166733#011validation-error:0.1953\u001b[0m\n",
      "\u001b[31m[12:12:23] src/tree/updater_prune.cc:74: tree pruning end, 1 roots, 20 extra nodes, 12 pruned nodes, max_depth=5\u001b[0m\n",
      "\u001b[31m[30]#011train-error:0.165267#011validation-error:0.1937\u001b[0m\n",
      "\u001b[31m[12:12:24] src/tree/updater_prune.cc:74: tree pruning end, 1 roots, 24 extra nodes, 0 pruned nodes, max_depth=5\u001b[0m\n",
      "\u001b[31m[31]#011train-error:0.1634#011validation-error:0.1925\u001b[0m\n",
      "\u001b[31m[12:12:26] src/tree/updater_prune.cc:74: tree pruning end, 1 roots, 16 extra nodes, 2 pruned nodes, max_depth=5\u001b[0m\n",
      "\u001b[31m[32]#011train-error:0.162133#011validation-error:0.1901\u001b[0m\n",
      "\u001b[31m[12:12:27] src/tree/updater_prune.cc:74: tree pruning end, 1 roots, 36 extra nodes, 0 pruned nodes, max_depth=5\u001b[0m\n",
      "\u001b[31m[33]#011train-error:0.159533#011validation-error:0.1898\u001b[0m\n",
      "\u001b[31m[12:12:28] src/tree/updater_prune.cc:74: tree pruning end, 1 roots, 20 extra nodes, 6 pruned nodes, max_depth=5\u001b[0m\n",
      "\u001b[31m[34]#011train-error:0.159133#011validation-error:0.189\u001b[0m\n",
      "\u001b[31m[12:12:29] src/tree/updater_prune.cc:74: tree pruning end, 1 roots, 20 extra nodes, 8 pruned nodes, max_depth=5\u001b[0m\n",
      "\u001b[31m[35]#011train-error:0.157333#011validation-error:0.1883\u001b[0m\n",
      "\u001b[31m[12:12:31] src/tree/updater_prune.cc:74: tree pruning end, 1 roots, 24 extra nodes, 12 pruned nodes, max_depth=5\u001b[0m\n",
      "\u001b[31m[36]#011train-error:0.1554#011validation-error:0.1881\u001b[0m\n",
      "\u001b[31m[12:12:32] src/tree/updater_prune.cc:74: tree pruning end, 1 roots, 28 extra nodes, 6 pruned nodes, max_depth=5\u001b[0m\n",
      "\u001b[31m[37]#011train-error:0.154267#011validation-error:0.1859\u001b[0m\n",
      "\u001b[31m[12:12:33] src/tree/updater_prune.cc:74: tree pruning end, 1 roots, 36 extra nodes, 0 pruned nodes, max_depth=5\u001b[0m\n",
      "\u001b[31m[38]#011train-error:0.154533#011validation-error:0.1859\u001b[0m\n",
      "\u001b[31m[12:12:35] src/tree/updater_prune.cc:74: tree pruning end, 1 roots, 22 extra nodes, 8 pruned nodes, max_depth=5\u001b[0m\n",
      "\u001b[31m[39]#011train-error:0.153667#011validation-error:0.1847\u001b[0m\n",
      "\u001b[31m[12:12:36] src/tree/updater_prune.cc:74: tree pruning end, 1 roots, 20 extra nodes, 12 pruned nodes, max_depth=5\u001b[0m\n",
      "\u001b[31m[40]#011train-error:0.152333#011validation-error:0.1826\u001b[0m\n"
     ]
    },
    {
     "name": "stdout",
     "output_type": "stream",
     "text": [
      "\u001b[31m[12:12:37] src/tree/updater_prune.cc:74: tree pruning end, 1 roots, 18 extra nodes, 12 pruned nodes, max_depth=5\u001b[0m\n",
      "\u001b[31m[41]#011train-error:0.152933#011validation-error:0.1821\u001b[0m\n",
      "\u001b[31m[12:12:38] src/tree/updater_prune.cc:74: tree pruning end, 1 roots, 24 extra nodes, 12 pruned nodes, max_depth=5\u001b[0m\n",
      "\u001b[31m[42]#011train-error:0.150533#011validation-error:0.1828\u001b[0m\n",
      "\u001b[31m[12:12:40] src/tree/updater_prune.cc:74: tree pruning end, 1 roots, 18 extra nodes, 10 pruned nodes, max_depth=5\u001b[0m\n",
      "\u001b[31m[43]#011train-error:0.1502#011validation-error:0.1811\u001b[0m\n",
      "\u001b[31m[12:12:41] src/tree/updater_prune.cc:74: tree pruning end, 1 roots, 28 extra nodes, 4 pruned nodes, max_depth=5\u001b[0m\n",
      "\u001b[31m[44]#011train-error:0.147933#011validation-error:0.1806\u001b[0m\n",
      "\u001b[31m[12:12:42] src/tree/updater_prune.cc:74: tree pruning end, 1 roots, 22 extra nodes, 4 pruned nodes, max_depth=5\u001b[0m\n",
      "\u001b[31m[45]#011train-error:0.1466#011validation-error:0.1769\u001b[0m\n",
      "\u001b[31m[12:12:43] src/tree/updater_prune.cc:74: tree pruning end, 1 roots, 24 extra nodes, 4 pruned nodes, max_depth=5\u001b[0m\n",
      "\u001b[31m[46]#011train-error:0.1456#011validation-error:0.176\u001b[0m\n",
      "\u001b[31m[12:12:45] src/tree/updater_prune.cc:74: tree pruning end, 1 roots, 24 extra nodes, 6 pruned nodes, max_depth=5\u001b[0m\n",
      "\u001b[31m[47]#011train-error:0.144533#011validation-error:0.1753\u001b[0m\n",
      "\u001b[31m[12:12:46] src/tree/updater_prune.cc:74: tree pruning end, 1 roots, 18 extra nodes, 8 pruned nodes, max_depth=5\u001b[0m\n",
      "\u001b[31m[48]#011train-error:0.144333#011validation-error:0.1755\u001b[0m\n",
      "\u001b[31m[12:12:47] src/tree/updater_prune.cc:74: tree pruning end, 1 roots, 24 extra nodes, 6 pruned nodes, max_depth=5\u001b[0m\n",
      "\u001b[31m[49]#011train-error:0.142533#011validation-error:0.1763\u001b[0m\n",
      "\u001b[31m[12:12:48] src/tree/updater_prune.cc:74: tree pruning end, 1 roots, 22 extra nodes, 14 pruned nodes, max_depth=5\u001b[0m\n",
      "\u001b[31m[50]#011train-error:0.1412#011validation-error:0.1753\u001b[0m\n",
      "\u001b[31m[12:12:50] src/tree/updater_prune.cc:74: tree pruning end, 1 roots, 20 extra nodes, 12 pruned nodes, max_depth=5\u001b[0m\n",
      "\u001b[31m[51]#011train-error:0.140533#011validation-error:0.1741\u001b[0m\n",
      "\u001b[31m[12:12:51] src/tree/updater_prune.cc:74: tree pruning end, 1 roots, 20 extra nodes, 6 pruned nodes, max_depth=5\u001b[0m\n",
      "\u001b[31m[52]#011train-error:0.139533#011validation-error:0.1734\u001b[0m\n",
      "\u001b[31m[12:12:52] src/tree/updater_prune.cc:74: tree pruning end, 1 roots, 22 extra nodes, 8 pruned nodes, max_depth=5\u001b[0m\n",
      "\u001b[31m[53]#011train-error:0.138067#011validation-error:0.173\u001b[0m\n",
      "\u001b[31m[12:12:53] src/tree/updater_prune.cc:74: tree pruning end, 1 roots, 28 extra nodes, 4 pruned nodes, max_depth=5\u001b[0m\n",
      "\u001b[31m[54]#011train-error:0.1358#011validation-error:0.1723\u001b[0m\n",
      "\u001b[31m[12:12:55] src/tree/updater_prune.cc:74: tree pruning end, 1 roots, 20 extra nodes, 6 pruned nodes, max_depth=5\u001b[0m\n",
      "\u001b[31m[55]#011train-error:0.135267#011validation-error:0.171\u001b[0m\n",
      "\u001b[31m[12:12:56] src/tree/updater_prune.cc:74: tree pruning end, 1 roots, 24 extra nodes, 8 pruned nodes, max_depth=5\u001b[0m\n",
      "\u001b[31m[56]#011train-error:0.134933#011validation-error:0.1716\u001b[0m\n",
      "\u001b[31m[12:12:57] src/tree/updater_prune.cc:74: tree pruning end, 1 roots, 34 extra nodes, 8 pruned nodes, max_depth=5\u001b[0m\n",
      "\u001b[31m[57]#011train-error:0.132467#011validation-error:0.1694\u001b[0m\n",
      "\u001b[31m[12:12:59] src/tree/updater_prune.cc:74: tree pruning end, 1 roots, 16 extra nodes, 8 pruned nodes, max_depth=5\u001b[0m\n",
      "\u001b[31m[58]#011train-error:0.131733#011validation-error:0.1685\u001b[0m\n",
      "\u001b[31m[12:13:00] src/tree/updater_prune.cc:74: tree pruning end, 1 roots, 22 extra nodes, 14 pruned nodes, max_depth=5\u001b[0m\n",
      "\u001b[31m[59]#011train-error:0.132067#011validation-error:0.1693\u001b[0m\n",
      "\u001b[31m[12:13:01] src/tree/updater_prune.cc:74: tree pruning end, 1 roots, 32 extra nodes, 4 pruned nodes, max_depth=5\u001b[0m\n",
      "\u001b[31m[60]#011train-error:0.131467#011validation-error:0.1681\u001b[0m\n",
      "\u001b[31m[12:13:02] src/tree/updater_prune.cc:74: tree pruning end, 1 roots, 26 extra nodes, 10 pruned nodes, max_depth=5\u001b[0m\n",
      "\u001b[31m[61]#011train-error:0.1304#011validation-error:0.1682\u001b[0m\n",
      "\u001b[31m[12:13:04] src/tree/updater_prune.cc:74: tree pruning end, 1 roots, 20 extra nodes, 6 pruned nodes, max_depth=5\u001b[0m\n",
      "\u001b[31m[62]#011train-error:0.128733#011validation-error:0.1679\u001b[0m\n",
      "\u001b[31m[12:13:05] src/tree/updater_prune.cc:74: tree pruning end, 1 roots, 14 extra nodes, 6 pruned nodes, max_depth=5\u001b[0m\n",
      "\u001b[31m[63]#011train-error:0.1282#011validation-error:0.1675\u001b[0m\n",
      "\u001b[31m[12:13:06] src/tree/updater_prune.cc:74: tree pruning end, 1 roots, 12 extra nodes, 4 pruned nodes, max_depth=5\u001b[0m\n",
      "\u001b[31m[64]#011train-error:0.1274#011validation-error:0.1662\u001b[0m\n",
      "\u001b[31m[12:13:07] src/tree/updater_prune.cc:74: tree pruning end, 1 roots, 32 extra nodes, 0 pruned nodes, max_depth=5\u001b[0m\n",
      "\u001b[31m[65]#011train-error:0.126133#011validation-error:0.1653\u001b[0m\n",
      "\u001b[31m[12:13:09] src/tree/updater_prune.cc:74: tree pruning end, 1 roots, 16 extra nodes, 10 pruned nodes, max_depth=5\u001b[0m\n",
      "\u001b[31m[66]#011train-error:0.125067#011validation-error:0.164\u001b[0m\n",
      "\u001b[31m[12:13:10] src/tree/updater_prune.cc:74: tree pruning end, 1 roots, 24 extra nodes, 8 pruned nodes, max_depth=5\u001b[0m\n",
      "\u001b[31m[67]#011train-error:0.123867#011validation-error:0.1636\u001b[0m\n",
      "\u001b[31m[12:13:11] src/tree/updater_prune.cc:74: tree pruning end, 1 roots, 18 extra nodes, 6 pruned nodes, max_depth=5\u001b[0m\n",
      "\u001b[31m[68]#011train-error:0.1238#011validation-error:0.1635\u001b[0m\n",
      "\u001b[31m[12:13:12] src/tree/updater_prune.cc:74: tree pruning end, 1 roots, 32 extra nodes, 4 pruned nodes, max_depth=5\u001b[0m\n",
      "\u001b[31m[69]#011train-error:0.1218#011validation-error:0.1634\u001b[0m\n",
      "\u001b[31m[12:13:14] src/tree/updater_prune.cc:74: tree pruning end, 1 roots, 10 extra nodes, 8 pruned nodes, max_depth=5\u001b[0m\n",
      "\u001b[31m[70]#011train-error:0.121467#011validation-error:0.1615\u001b[0m\n",
      "\u001b[31m[12:13:15] src/tree/updater_prune.cc:74: tree pruning end, 1 roots, 22 extra nodes, 8 pruned nodes, max_depth=5\u001b[0m\n",
      "\u001b[31m[71]#011train-error:0.120933#011validation-error:0.1615\u001b[0m\n",
      "\u001b[31m[12:13:16] src/tree/updater_prune.cc:74: tree pruning end, 1 roots, 14 extra nodes, 14 pruned nodes, max_depth=5\u001b[0m\n",
      "\u001b[31m[72]#011train-error:0.1194#011validation-error:0.1588\u001b[0m\n",
      "\u001b[31m[12:13:17] src/tree/updater_prune.cc:74: tree pruning end, 1 roots, 16 extra nodes, 2 pruned nodes, max_depth=5\u001b[0m\n",
      "\u001b[31m[73]#011train-error:0.118933#011validation-error:0.1588\u001b[0m\n",
      "\u001b[31m[12:13:19] src/tree/updater_prune.cc:74: tree pruning end, 1 roots, 36 extra nodes, 2 pruned nodes, max_depth=5\u001b[0m\n",
      "\u001b[31m[74]#011train-error:0.119067#011validation-error:0.1611\u001b[0m\n",
      "\u001b[31m[12:13:20] src/tree/updater_prune.cc:74: tree pruning end, 1 roots, 24 extra nodes, 12 pruned nodes, max_depth=5\u001b[0m\n",
      "\u001b[31m[75]#011train-error:0.117467#011validation-error:0.1607\u001b[0m\n",
      "\u001b[31m[12:13:21] src/tree/updater_prune.cc:74: tree pruning end, 1 roots, 22 extra nodes, 10 pruned nodes, max_depth=5\u001b[0m\n",
      "\u001b[31m[76]#011train-error:0.116467#011validation-error:0.1604\u001b[0m\n",
      "\u001b[31m[12:13:23] src/tree/updater_prune.cc:74: tree pruning end, 1 roots, 32 extra nodes, 8 pruned nodes, max_depth=5\u001b[0m\n",
      "\u001b[31m[77]#011train-error:0.117133#011validation-error:0.1603\u001b[0m\n",
      "\u001b[31m[12:13:24] src/tree/updater_prune.cc:74: tree pruning end, 1 roots, 14 extra nodes, 18 pruned nodes, max_depth=5\u001b[0m\n",
      "\u001b[31m[78]#011train-error:0.1162#011validation-error:0.159\u001b[0m\n",
      "\u001b[31m[12:13:25] src/tree/updater_prune.cc:74: tree pruning end, 1 roots, 14 extra nodes, 16 pruned nodes, max_depth=5\u001b[0m\n",
      "\u001b[31m[79]#011train-error:0.1162#011validation-error:0.1587\u001b[0m\n",
      "\u001b[31m[12:13:26] src/tree/updater_prune.cc:74: tree pruning end, 1 roots, 36 extra nodes, 10 pruned nodes, max_depth=5\u001b[0m\n",
      "\u001b[31m[80]#011train-error:0.114267#011validation-error:0.1585\u001b[0m\n",
      "\u001b[31m[12:13:28] src/tree/updater_prune.cc:74: tree pruning end, 1 roots, 18 extra nodes, 4 pruned nodes, max_depth=5\u001b[0m\n",
      "\u001b[31m[81]#011train-error:0.1138#011validation-error:0.1585\u001b[0m\n",
      "\u001b[31m[12:13:29] src/tree/updater_prune.cc:74: tree pruning end, 1 roots, 20 extra nodes, 12 pruned nodes, max_depth=5\u001b[0m\n",
      "\u001b[31m[82]#011train-error:0.113333#011validation-error:0.1569\u001b[0m\n",
      "\u001b[31m[12:13:30] src/tree/updater_prune.cc:74: tree pruning end, 1 roots, 10 extra nodes, 2 pruned nodes, max_depth=5\u001b[0m\n",
      "\u001b[31m[83]#011train-error:0.112467#011validation-error:0.1579\u001b[0m\n",
      "\u001b[31m[12:13:31] src/tree/updater_prune.cc:74: tree pruning end, 1 roots, 16 extra nodes, 4 pruned nodes, max_depth=5\u001b[0m\n",
      "\u001b[31m[84]#011train-error:0.112133#011validation-error:0.1565\u001b[0m\n",
      "\u001b[31m[12:13:33] src/tree/updater_prune.cc:74: tree pruning end, 1 roots, 22 extra nodes, 14 pruned nodes, max_depth=5\u001b[0m\n",
      "\u001b[31m[85]#011train-error:0.111133#011validation-error:0.1564\u001b[0m\n",
      "\u001b[31m[12:13:34] src/tree/updater_prune.cc:74: tree pruning end, 1 roots, 28 extra nodes, 14 pruned nodes, max_depth=5\u001b[0m\n",
      "\u001b[31m[86]#011train-error:0.110067#011validation-error:0.1561\u001b[0m\n",
      "\u001b[31m[12:13:35] src/tree/updater_prune.cc:74: tree pruning end, 1 roots, 20 extra nodes, 4 pruned nodes, max_depth=5\u001b[0m\n",
      "\u001b[31m[87]#011train-error:0.109467#011validation-error:0.1568\u001b[0m\n",
      "\u001b[31m[12:13:36] src/tree/updater_prune.cc:74: tree pruning end, 1 roots, 16 extra nodes, 4 pruned nodes, max_depth=5\u001b[0m\n",
      "\u001b[31m[88]#011train-error:0.108933#011validation-error:0.156\u001b[0m\n"
     ]
    },
    {
     "name": "stdout",
     "output_type": "stream",
     "text": [
      "\u001b[31m[12:13:38] src/tree/updater_prune.cc:74: tree pruning end, 1 roots, 18 extra nodes, 10 pruned nodes, max_depth=5\u001b[0m\n",
      "\u001b[31m[89]#011train-error:0.1084#011validation-error:0.1565\u001b[0m\n",
      "\u001b[31m[12:13:39] src/tree/updater_prune.cc:74: tree pruning end, 1 roots, 26 extra nodes, 10 pruned nodes, max_depth=5\u001b[0m\n",
      "\u001b[31m[90]#011train-error:0.107733#011validation-error:0.1558\u001b[0m\n",
      "\u001b[31m[12:13:40] src/tree/updater_prune.cc:74: tree pruning end, 1 roots, 12 extra nodes, 10 pruned nodes, max_depth=5\u001b[0m\n",
      "\u001b[31m[91]#011train-error:0.107733#011validation-error:0.1553\u001b[0m\n",
      "\u001b[31m[12:13:41] src/tree/updater_prune.cc:74: tree pruning end, 1 roots, 14 extra nodes, 16 pruned nodes, max_depth=5\u001b[0m\n",
      "\u001b[31m[92]#011train-error:0.107733#011validation-error:0.1555\u001b[0m\n",
      "\u001b[31m[12:13:43] src/tree/updater_prune.cc:74: tree pruning end, 1 roots, 12 extra nodes, 4 pruned nodes, max_depth=5\u001b[0m\n",
      "\u001b[31m[93]#011train-error:0.107267#011validation-error:0.1548\u001b[0m\n",
      "\u001b[31m[12:13:44] src/tree/updater_prune.cc:74: tree pruning end, 1 roots, 12 extra nodes, 6 pruned nodes, max_depth=5\u001b[0m\n",
      "\u001b[31m[94]#011train-error:0.1068#011validation-error:0.1537\u001b[0m\n",
      "\u001b[31m[12:13:45] src/tree/updater_prune.cc:74: tree pruning end, 1 roots, 12 extra nodes, 6 pruned nodes, max_depth=5\u001b[0m\n",
      "\u001b[31m[95]#011train-error:0.1056#011validation-error:0.1538\u001b[0m\n",
      "\u001b[31m[12:13:46] src/tree/updater_prune.cc:74: tree pruning end, 1 roots, 10 extra nodes, 6 pruned nodes, max_depth=5\u001b[0m\n",
      "\u001b[31m[96]#011train-error:0.105533#011validation-error:0.154\u001b[0m\n",
      "\u001b[31m[12:13:48] src/tree/updater_prune.cc:74: tree pruning end, 1 roots, 20 extra nodes, 8 pruned nodes, max_depth=5\u001b[0m\n",
      "\u001b[31m[97]#011train-error:0.105533#011validation-error:0.1542\u001b[0m\n",
      "\u001b[31m[12:13:49] src/tree/updater_prune.cc:74: tree pruning end, 1 roots, 24 extra nodes, 0 pruned nodes, max_depth=5\u001b[0m\n",
      "\u001b[31m[98]#011train-error:0.105333#011validation-error:0.1543\u001b[0m\n",
      "\u001b[31m[12:13:50] src/tree/updater_prune.cc:74: tree pruning end, 1 roots, 32 extra nodes, 14 pruned nodes, max_depth=5\u001b[0m\n",
      "\u001b[31m[99]#011train-error:0.104267#011validation-error:0.154\u001b[0m\n",
      "\u001b[31m[12:13:51] src/tree/updater_prune.cc:74: tree pruning end, 1 roots, 22 extra nodes, 14 pruned nodes, max_depth=5\u001b[0m\n",
      "\u001b[31m[100]#011train-error:0.103#011validation-error:0.1535\u001b[0m\n",
      "\u001b[31m[12:13:53] src/tree/updater_prune.cc:74: tree pruning end, 1 roots, 26 extra nodes, 6 pruned nodes, max_depth=5\u001b[0m\n",
      "\u001b[31m[101]#011train-error:0.1034#011validation-error:0.1529\u001b[0m\n",
      "\u001b[31m[12:13:54] src/tree/updater_prune.cc:74: tree pruning end, 1 roots, 14 extra nodes, 14 pruned nodes, max_depth=5\u001b[0m\n",
      "\u001b[31m[102]#011train-error:0.103067#011validation-error:0.1527\u001b[0m\n",
      "\u001b[31m[12:13:55] src/tree/updater_prune.cc:74: tree pruning end, 1 roots, 26 extra nodes, 10 pruned nodes, max_depth=5\u001b[0m\n",
      "\u001b[31m[103]#011train-error:0.1022#011validation-error:0.1521\u001b[0m\n",
      "\u001b[31m[12:13:57] src/tree/updater_prune.cc:74: tree pruning end, 1 roots, 14 extra nodes, 12 pruned nodes, max_depth=5\u001b[0m\n",
      "\u001b[31m[104]#011train-error:0.102467#011validation-error:0.1522\u001b[0m\n",
      "\u001b[31m[12:13:58] src/tree/updater_prune.cc:74: tree pruning end, 1 roots, 24 extra nodes, 8 pruned nodes, max_depth=5\u001b[0m\n",
      "\u001b[31m[105]#011train-error:0.1016#011validation-error:0.1527\u001b[0m\n",
      "\u001b[31m[12:13:59] src/tree/updater_prune.cc:74: tree pruning end, 1 roots, 12 extra nodes, 8 pruned nodes, max_depth=5\u001b[0m\n",
      "\u001b[31m[106]#011train-error:0.101467#011validation-error:0.1527\u001b[0m\n",
      "\u001b[31m[12:14:00] src/tree/updater_prune.cc:74: tree pruning end, 1 roots, 30 extra nodes, 2 pruned nodes, max_depth=5\u001b[0m\n",
      "\u001b[31m[107]#011train-error:0.101133#011validation-error:0.1513\u001b[0m\n",
      "\u001b[31m[12:14:02] src/tree/updater_prune.cc:74: tree pruning end, 1 roots, 42 extra nodes, 6 pruned nodes, max_depth=5\u001b[0m\n",
      "\u001b[31m[108]#011train-error:0.100067#011validation-error:0.1521\u001b[0m\n",
      "\u001b[31m[12:14:03] src/tree/updater_prune.cc:74: tree pruning end, 1 roots, 22 extra nodes, 6 pruned nodes, max_depth=5\u001b[0m\n",
      "\u001b[31m[109]#011train-error:0.098733#011validation-error:0.1515\u001b[0m\n",
      "\u001b[31m[12:14:04] src/tree/updater_prune.cc:74: tree pruning end, 1 roots, 24 extra nodes, 2 pruned nodes, max_depth=5\u001b[0m\n",
      "\u001b[31m[110]#011train-error:0.0986#011validation-error:0.1512\u001b[0m\n",
      "\u001b[31m[12:14:05] src/tree/updater_prune.cc:74: tree pruning end, 1 roots, 18 extra nodes, 12 pruned nodes, max_depth=5\u001b[0m\n",
      "\u001b[31m[111]#011train-error:0.0976#011validation-error:0.1508\u001b[0m\n",
      "\u001b[31m[12:14:07] src/tree/updater_prune.cc:74: tree pruning end, 1 roots, 18 extra nodes, 10 pruned nodes, max_depth=5\u001b[0m\n",
      "\u001b[31m[112]#011train-error:0.097333#011validation-error:0.151\u001b[0m\n",
      "\u001b[31m[12:14:08] src/tree/updater_prune.cc:74: tree pruning end, 1 roots, 16 extra nodes, 10 pruned nodes, max_depth=5\u001b[0m\n",
      "\u001b[31m[113]#011train-error:0.096667#011validation-error:0.152\u001b[0m\n",
      "\u001b[31m[12:14:09] src/tree/updater_prune.cc:74: tree pruning end, 1 roots, 14 extra nodes, 4 pruned nodes, max_depth=5\u001b[0m\n",
      "\u001b[31m[114]#011train-error:0.096467#011validation-error:0.1527\u001b[0m\n",
      "\u001b[31m[12:14:10] src/tree/updater_prune.cc:74: tree pruning end, 1 roots, 18 extra nodes, 8 pruned nodes, max_depth=5\u001b[0m\n",
      "\u001b[31m[115]#011train-error:0.0964#011validation-error:0.1527\u001b[0m\n",
      "\u001b[31m[12:14:12] src/tree/updater_prune.cc:74: tree pruning end, 1 roots, 14 extra nodes, 4 pruned nodes, max_depth=5\u001b[0m\n",
      "\u001b[31m[116]#011train-error:0.096733#011validation-error:0.1528\u001b[0m\n",
      "\u001b[31m[12:14:13] src/tree/updater_prune.cc:74: tree pruning end, 1 roots, 12 extra nodes, 18 pruned nodes, max_depth=5\u001b[0m\n",
      "\u001b[31m[117]#011train-error:0.0964#011validation-error:0.1524\u001b[0m\n",
      "\u001b[31m[12:14:14] src/tree/updater_prune.cc:74: tree pruning end, 1 roots, 10 extra nodes, 6 pruned nodes, max_depth=5\u001b[0m\n",
      "\u001b[31m[118]#011train-error:0.0966#011validation-error:0.1526\u001b[0m\n",
      "\u001b[31m[12:14:16] src/tree/updater_prune.cc:74: tree pruning end, 1 roots, 20 extra nodes, 12 pruned nodes, max_depth=5\u001b[0m\n",
      "\u001b[31m[119]#011train-error:0.095733#011validation-error:0.152\u001b[0m\n",
      "\u001b[31m[12:14:17] src/tree/updater_prune.cc:74: tree pruning end, 1 roots, 16 extra nodes, 10 pruned nodes, max_depth=5\u001b[0m\n",
      "\u001b[31m[120]#011train-error:0.095067#011validation-error:0.1519\u001b[0m\n",
      "\u001b[31m[12:14:18] src/tree/updater_prune.cc:74: tree pruning end, 1 roots, 18 extra nodes, 12 pruned nodes, max_depth=5\u001b[0m\n",
      "\u001b[31m[121]#011train-error:0.094467#011validation-error:0.1507\u001b[0m\n",
      "\u001b[31m[12:14:19] src/tree/updater_prune.cc:74: tree pruning end, 1 roots, 16 extra nodes, 2 pruned nodes, max_depth=5\u001b[0m\n",
      "\u001b[31m[122]#011train-error:0.094067#011validation-error:0.1502\u001b[0m\n",
      "\u001b[31m[12:14:21] src/tree/updater_prune.cc:74: tree pruning end, 1 roots, 16 extra nodes, 14 pruned nodes, max_depth=5\u001b[0m\n",
      "\u001b[31m[123]#011train-error:0.0944#011validation-error:0.1505\u001b[0m\n",
      "\u001b[31m[12:14:22] src/tree/updater_prune.cc:74: tree pruning end, 1 roots, 12 extra nodes, 14 pruned nodes, max_depth=5\u001b[0m\n",
      "\u001b[31m[124]#011train-error:0.093667#011validation-error:0.1499\u001b[0m\n",
      "\u001b[31m[12:14:23] src/tree/updater_prune.cc:74: tree pruning end, 1 roots, 12 extra nodes, 6 pruned nodes, max_depth=5\u001b[0m\n",
      "\u001b[31m[125]#011train-error:0.093133#011validation-error:0.1496\u001b[0m\n",
      "\u001b[31m[12:14:25] src/tree/updater_prune.cc:74: tree pruning end, 1 roots, 12 extra nodes, 10 pruned nodes, max_depth=5\u001b[0m\n",
      "\u001b[31m[126]#011train-error:0.0934#011validation-error:0.1492\u001b[0m\n",
      "\u001b[31m[12:14:26] src/tree/updater_prune.cc:74: tree pruning end, 1 roots, 26 extra nodes, 10 pruned nodes, max_depth=5\u001b[0m\n",
      "\u001b[31m[127]#011train-error:0.0926#011validation-error:0.1486\u001b[0m\n",
      "\u001b[31m[12:14:27] src/tree/updater_prune.cc:74: tree pruning end, 1 roots, 16 extra nodes, 2 pruned nodes, max_depth=5\u001b[0m\n",
      "\u001b[31m[128]#011train-error:0.092067#011validation-error:0.148\u001b[0m\n",
      "\u001b[31m[12:14:28] src/tree/updater_prune.cc:74: tree pruning end, 1 roots, 16 extra nodes, 8 pruned nodes, max_depth=5\u001b[0m\n",
      "\u001b[31m[129]#011train-error:0.092133#011validation-error:0.1478\u001b[0m\n",
      "\u001b[31m[12:14:30] src/tree/updater_prune.cc:74: tree pruning end, 1 roots, 12 extra nodes, 10 pruned nodes, max_depth=5\u001b[0m\n",
      "\u001b[31m[130]#011train-error:0.092667#011validation-error:0.1481\u001b[0m\n",
      "\u001b[31m[12:14:31] src/tree/updater_prune.cc:74: tree pruning end, 1 roots, 14 extra nodes, 8 pruned nodes, max_depth=5\u001b[0m\n",
      "\u001b[31m[131]#011train-error:0.092067#011validation-error:0.1479\u001b[0m\n",
      "\u001b[31m[12:14:32] src/tree/updater_prune.cc:74: tree pruning end, 1 roots, 12 extra nodes, 2 pruned nodes, max_depth=5\u001b[0m\n",
      "\u001b[31m[132]#011train-error:0.091733#011validation-error:0.1472\u001b[0m\n",
      "\u001b[31m[12:14:33] src/tree/updater_prune.cc:74: tree pruning end, 1 roots, 14 extra nodes, 4 pruned nodes, max_depth=5\u001b[0m\n",
      "\u001b[31m[133]#011train-error:0.091333#011validation-error:0.1471\u001b[0m\n",
      "\u001b[31m[12:14:35] src/tree/updater_prune.cc:74: tree pruning end, 1 roots, 22 extra nodes, 12 pruned nodes, max_depth=5\u001b[0m\n",
      "\u001b[31m[134]#011train-error:0.090667#011validation-error:0.1467\u001b[0m\n",
      "\u001b[31m[12:14:36] src/tree/updater_prune.cc:74: tree pruning end, 1 roots, 20 extra nodes, 26 pruned nodes, max_depth=5\u001b[0m\n",
      "\u001b[31m[135]#011train-error:0.0898#011validation-error:0.1459\u001b[0m\n",
      "\u001b[31m[12:14:37] src/tree/updater_prune.cc:74: tree pruning end, 1 roots, 26 extra nodes, 8 pruned nodes, max_depth=5\u001b[0m\n",
      "\u001b[31m[136]#011train-error:0.088733#011validation-error:0.1458\u001b[0m\n"
     ]
    },
    {
     "name": "stdout",
     "output_type": "stream",
     "text": [
      "\u001b[31m[12:14:39] src/tree/updater_prune.cc:74: tree pruning end, 1 roots, 10 extra nodes, 10 pruned nodes, max_depth=5\u001b[0m\n",
      "\u001b[31m[137]#011train-error:0.088067#011validation-error:0.1457\u001b[0m\n",
      "\u001b[31m[12:14:40] src/tree/updater_prune.cc:74: tree pruning end, 1 roots, 32 extra nodes, 8 pruned nodes, max_depth=5\u001b[0m\n",
      "\u001b[31m[138]#011train-error:0.0874#011validation-error:0.146\u001b[0m\n",
      "\u001b[31m[12:14:41] src/tree/updater_prune.cc:74: tree pruning end, 1 roots, 12 extra nodes, 6 pruned nodes, max_depth=5\u001b[0m\n",
      "\u001b[31m[139]#011train-error:0.087533#011validation-error:0.1452\u001b[0m\n",
      "\u001b[31m[12:14:42] src/tree/updater_prune.cc:74: tree pruning end, 1 roots, 10 extra nodes, 6 pruned nodes, max_depth=5\u001b[0m\n",
      "\u001b[31m[140]#011train-error:0.0872#011validation-error:0.1448\u001b[0m\n",
      "\u001b[31m[12:14:44] src/tree/updater_prune.cc:74: tree pruning end, 1 roots, 14 extra nodes, 10 pruned nodes, max_depth=5\u001b[0m\n",
      "\u001b[31m[141]#011train-error:0.087533#011validation-error:0.1453\u001b[0m\n",
      "\u001b[31m[12:14:45] src/tree/updater_prune.cc:74: tree pruning end, 1 roots, 12 extra nodes, 0 pruned nodes, max_depth=5\u001b[0m\n",
      "\u001b[31m[142]#011train-error:0.087067#011validation-error:0.1457\u001b[0m\n",
      "\u001b[31m[12:14:46] src/tree/updater_prune.cc:74: tree pruning end, 1 roots, 26 extra nodes, 4 pruned nodes, max_depth=5\u001b[0m\n",
      "\u001b[31m[143]#011train-error:0.086933#011validation-error:0.1456\u001b[0m\n",
      "\u001b[31m[12:14:47] src/tree/updater_prune.cc:74: tree pruning end, 1 roots, 18 extra nodes, 4 pruned nodes, max_depth=5\u001b[0m\n",
      "\u001b[31m[144]#011train-error:0.0858#011validation-error:0.1463\u001b[0m\n",
      "\u001b[31m[12:14:49] src/tree/updater_prune.cc:74: tree pruning end, 1 roots, 14 extra nodes, 12 pruned nodes, max_depth=5\u001b[0m\n",
      "\u001b[31m[145]#011train-error:0.085467#011validation-error:0.1465\u001b[0m\n",
      "\u001b[31m[12:14:50] src/tree/updater_prune.cc:74: tree pruning end, 1 roots, 22 extra nodes, 8 pruned nodes, max_depth=5\u001b[0m\n",
      "\u001b[31m[146]#011train-error:0.0848#011validation-error:0.1457\u001b[0m\n",
      "\u001b[31m[12:14:51] src/tree/updater_prune.cc:74: tree pruning end, 1 roots, 12 extra nodes, 8 pruned nodes, max_depth=5\u001b[0m\n",
      "\u001b[31m[147]#011train-error:0.084#011validation-error:0.1459\u001b[0m\n",
      "\u001b[31m[12:14:53] src/tree/updater_prune.cc:74: tree pruning end, 1 roots, 18 extra nodes, 4 pruned nodes, max_depth=5\u001b[0m\n",
      "\u001b[31m[148]#011train-error:0.083133#011validation-error:0.1449\u001b[0m\n",
      "\u001b[31m[12:14:54] src/tree/updater_prune.cc:74: tree pruning end, 1 roots, 18 extra nodes, 12 pruned nodes, max_depth=5\u001b[0m\n",
      "\u001b[31m[149]#011train-error:0.082867#011validation-error:0.1445\u001b[0m\n",
      "\u001b[31m[12:14:55] src/tree/updater_prune.cc:74: tree pruning end, 1 roots, 20 extra nodes, 4 pruned nodes, max_depth=5\u001b[0m\n",
      "\u001b[31m[150]#011train-error:0.082867#011validation-error:0.1449\u001b[0m\n",
      "\u001b[31m[12:14:56] src/tree/updater_prune.cc:74: tree pruning end, 1 roots, 14 extra nodes, 4 pruned nodes, max_depth=5\u001b[0m\n",
      "\u001b[31m[151]#011train-error:0.0832#011validation-error:0.1446\u001b[0m\n",
      "\u001b[31m[12:14:58] src/tree/updater_prune.cc:74: tree pruning end, 1 roots, 12 extra nodes, 4 pruned nodes, max_depth=5\u001b[0m\n",
      "\u001b[31m[152]#011train-error:0.082933#011validation-error:0.1442\u001b[0m\n",
      "\u001b[31m[12:14:59] src/tree/updater_prune.cc:74: tree pruning end, 1 roots, 18 extra nodes, 14 pruned nodes, max_depth=5\u001b[0m\n",
      "\u001b[31m[153]#011train-error:0.0828#011validation-error:0.1443\u001b[0m\n",
      "\u001b[31m[12:15:00] src/tree/updater_prune.cc:74: tree pruning end, 1 roots, 18 extra nodes, 8 pruned nodes, max_depth=5\u001b[0m\n",
      "\u001b[31m[154]#011train-error:0.082333#011validation-error:0.144\u001b[0m\n",
      "\u001b[31m[12:15:01] src/tree/updater_prune.cc:74: tree pruning end, 1 roots, 24 extra nodes, 4 pruned nodes, max_depth=5\u001b[0m\n",
      "\u001b[31m[155]#011train-error:0.081933#011validation-error:0.1443\u001b[0m\n",
      "\u001b[31m[12:15:03] src/tree/updater_prune.cc:74: tree pruning end, 1 roots, 14 extra nodes, 8 pruned nodes, max_depth=5\u001b[0m\n",
      "\u001b[31m[156]#011train-error:0.082067#011validation-error:0.1445\u001b[0m\n",
      "\u001b[31m[12:15:04] src/tree/updater_prune.cc:74: tree pruning end, 1 roots, 12 extra nodes, 14 pruned nodes, max_depth=5\u001b[0m\n",
      "\u001b[31m[157]#011train-error:0.0816#011validation-error:0.1448\u001b[0m\n",
      "\u001b[31m[12:15:05] src/tree/updater_prune.cc:74: tree pruning end, 1 roots, 16 extra nodes, 8 pruned nodes, max_depth=5\u001b[0m\n",
      "\u001b[31m[158]#011train-error:0.081267#011validation-error:0.1446\u001b[0m\n",
      "\u001b[31m[12:15:07] src/tree/updater_prune.cc:74: tree pruning end, 1 roots, 12 extra nodes, 6 pruned nodes, max_depth=5\u001b[0m\n",
      "\u001b[31m[159]#011train-error:0.081667#011validation-error:0.1438\u001b[0m\n",
      "\u001b[31m[12:15:08] src/tree/updater_prune.cc:74: tree pruning end, 1 roots, 10 extra nodes, 4 pruned nodes, max_depth=5\u001b[0m\n",
      "\u001b[31m[160]#011train-error:0.0814#011validation-error:0.1439\u001b[0m\n",
      "\u001b[31m[12:15:09] src/tree/updater_prune.cc:74: tree pruning end, 1 roots, 20 extra nodes, 12 pruned nodes, max_depth=5\u001b[0m\n",
      "\u001b[31m[161]#011train-error:0.080933#011validation-error:0.144\u001b[0m\n",
      "\u001b[31m[12:15:10] src/tree/updater_prune.cc:74: tree pruning end, 1 roots, 18 extra nodes, 2 pruned nodes, max_depth=5\u001b[0m\n",
      "\u001b[31m[162]#011train-error:0.081#011validation-error:0.1437\u001b[0m\n",
      "\u001b[31m[12:15:12] src/tree/updater_prune.cc:74: tree pruning end, 1 roots, 10 extra nodes, 4 pruned nodes, max_depth=5\u001b[0m\n",
      "\u001b[31m[163]#011train-error:0.080733#011validation-error:0.1445\u001b[0m\n",
      "\u001b[31m[12:15:13] src/tree/updater_prune.cc:74: tree pruning end, 1 roots, 12 extra nodes, 4 pruned nodes, max_depth=5\u001b[0m\n",
      "\u001b[31m[164]#011train-error:0.08#011validation-error:0.1444\u001b[0m\n",
      "\u001b[31m[12:15:14] src/tree/updater_prune.cc:74: tree pruning end, 1 roots, 14 extra nodes, 8 pruned nodes, max_depth=5\u001b[0m\n",
      "\u001b[31m[165]#011train-error:0.0794#011validation-error:0.1439\u001b[0m\n",
      "\u001b[31m[12:15:16] src/tree/updater_prune.cc:74: tree pruning end, 1 roots, 16 extra nodes, 2 pruned nodes, max_depth=5\u001b[0m\n",
      "\u001b[31m[166]#011train-error:0.079133#011validation-error:0.144\u001b[0m\n",
      "\u001b[31m[12:15:17] src/tree/updater_prune.cc:74: tree pruning end, 1 roots, 14 extra nodes, 16 pruned nodes, max_depth=5\u001b[0m\n",
      "\u001b[31m[167]#011train-error:0.079067#011validation-error:0.1437\u001b[0m\n",
      "\u001b[31m[12:15:18] src/tree/updater_prune.cc:74: tree pruning end, 1 roots, 12 extra nodes, 10 pruned nodes, max_depth=5\u001b[0m\n",
      "\u001b[31m[168]#011train-error:0.0794#011validation-error:0.1434\u001b[0m\n",
      "\u001b[31m[12:15:19] src/tree/updater_prune.cc:74: tree pruning end, 1 roots, 14 extra nodes, 4 pruned nodes, max_depth=5\u001b[0m\n",
      "\u001b[31m[169]#011train-error:0.079267#011validation-error:0.1437\u001b[0m\n",
      "\u001b[31m[12:15:21] src/tree/updater_prune.cc:74: tree pruning end, 1 roots, 28 extra nodes, 12 pruned nodes, max_depth=5\u001b[0m\n",
      "\u001b[31m[170]#011train-error:0.078267#011validation-error:0.1434\u001b[0m\n",
      "\u001b[31m[12:15:22] src/tree/updater_prune.cc:74: tree pruning end, 1 roots, 10 extra nodes, 4 pruned nodes, max_depth=5\u001b[0m\n",
      "\u001b[31m[171]#011train-error:0.078067#011validation-error:0.1435\u001b[0m\n",
      "\u001b[31m[12:15:23] src/tree/updater_prune.cc:74: tree pruning end, 1 roots, 12 extra nodes, 0 pruned nodes, max_depth=5\u001b[0m\n",
      "\u001b[31m[172]#011train-error:0.077933#011validation-error:0.1434\u001b[0m\n",
      "\u001b[31m[12:15:24] src/tree/updater_prune.cc:74: tree pruning end, 1 roots, 14 extra nodes, 0 pruned nodes, max_depth=5\u001b[0m\n",
      "\u001b[31m[173]#011train-error:0.077733#011validation-error:0.1428\u001b[0m\n",
      "\u001b[31m[12:15:26] src/tree/updater_prune.cc:74: tree pruning end, 1 roots, 10 extra nodes, 2 pruned nodes, max_depth=5\u001b[0m\n",
      "\u001b[31m[174]#011train-error:0.077533#011validation-error:0.143\u001b[0m\n",
      "\u001b[31m[12:15:27] src/tree/updater_prune.cc:74: tree pruning end, 1 roots, 20 extra nodes, 10 pruned nodes, max_depth=5\u001b[0m\n",
      "\u001b[31m[175]#011train-error:0.076933#011validation-error:0.1435\u001b[0m\n",
      "\u001b[31m[12:15:28] src/tree/updater_prune.cc:74: tree pruning end, 1 roots, 12 extra nodes, 8 pruned nodes, max_depth=5\u001b[0m\n",
      "\u001b[31m[176]#011train-error:0.076733#011validation-error:0.1428\u001b[0m\n",
      "\u001b[31m[12:15:29] src/tree/updater_prune.cc:74: tree pruning end, 1 roots, 26 extra nodes, 6 pruned nodes, max_depth=5\u001b[0m\n",
      "\u001b[31m[177]#011train-error:0.076667#011validation-error:0.1424\u001b[0m\n",
      "\u001b[31m[12:15:31] src/tree/updater_prune.cc:74: tree pruning end, 1 roots, 22 extra nodes, 10 pruned nodes, max_depth=5\u001b[0m\n",
      "\u001b[31m[178]#011train-error:0.075867#011validation-error:0.1424\u001b[0m\n",
      "\u001b[31m[12:15:32] src/tree/updater_prune.cc:74: tree pruning end, 1 roots, 28 extra nodes, 12 pruned nodes, max_depth=5\u001b[0m\n",
      "\u001b[31m[179]#011train-error:0.075067#011validation-error:0.1412\u001b[0m\n",
      "\u001b[31m[12:15:33] src/tree/updater_prune.cc:74: tree pruning end, 1 roots, 12 extra nodes, 16 pruned nodes, max_depth=5\u001b[0m\n",
      "\u001b[31m[180]#011train-error:0.074933#011validation-error:0.1419\u001b[0m\n",
      "\u001b[31m[12:15:34] src/tree/updater_prune.cc:74: tree pruning end, 1 roots, 16 extra nodes, 20 pruned nodes, max_depth=5\u001b[0m\n",
      "\u001b[31m[181]#011train-error:0.074733#011validation-error:0.1413\u001b[0m\n",
      "\u001b[31m[12:15:36] src/tree/updater_prune.cc:74: tree pruning end, 1 roots, 14 extra nodes, 4 pruned nodes, max_depth=5\u001b[0m\n",
      "\u001b[31m[182]#011train-error:0.0742#011validation-error:0.1416\u001b[0m\n",
      "\u001b[31m[12:15:37] src/tree/updater_prune.cc:74: tree pruning end, 1 roots, 10 extra nodes, 6 pruned nodes, max_depth=5\u001b[0m\n",
      "\u001b[31m[183]#011train-error:0.074333#011validation-error:0.1411\u001b[0m\n",
      "\u001b[31m[12:15:38] src/tree/updater_prune.cc:74: tree pruning end, 1 roots, 12 extra nodes, 10 pruned nodes, max_depth=5\u001b[0m\n",
      "\u001b[31m[184]#011train-error:0.074267#011validation-error:0.1409\u001b[0m\n"
     ]
    },
    {
     "name": "stdout",
     "output_type": "stream",
     "text": [
      "\u001b[31m[12:15:39] src/tree/updater_prune.cc:74: tree pruning end, 1 roots, 18 extra nodes, 10 pruned nodes, max_depth=5\u001b[0m\n",
      "\u001b[31m[185]#011train-error:0.0738#011validation-error:0.1414\u001b[0m\n",
      "\u001b[31m[12:15:41] src/tree/updater_prune.cc:74: tree pruning end, 1 roots, 22 extra nodes, 12 pruned nodes, max_depth=5\u001b[0m\n",
      "\u001b[31m[186]#011train-error:0.073533#011validation-error:0.1419\u001b[0m\n",
      "\u001b[31m[12:15:42] src/tree/updater_prune.cc:74: tree pruning end, 1 roots, 10 extra nodes, 2 pruned nodes, max_depth=5\u001b[0m\n",
      "\u001b[31m[187]#011train-error:0.0738#011validation-error:0.1417\u001b[0m\n",
      "\u001b[31m[12:15:43] src/tree/updater_prune.cc:74: tree pruning end, 1 roots, 14 extra nodes, 4 pruned nodes, max_depth=5\u001b[0m\n",
      "\u001b[31m[188]#011train-error:0.073333#011validation-error:0.1406\u001b[0m\n",
      "\u001b[31m[12:15:45] src/tree/updater_prune.cc:74: tree pruning end, 1 roots, 10 extra nodes, 6 pruned nodes, max_depth=5\u001b[0m\n",
      "\u001b[31m[189]#011train-error:0.073733#011validation-error:0.1409\u001b[0m\n",
      "\u001b[31m[12:15:46] src/tree/updater_prune.cc:74: tree pruning end, 1 roots, 14 extra nodes, 10 pruned nodes, max_depth=5\u001b[0m\n",
      "\u001b[31m[190]#011train-error:0.073733#011validation-error:0.1408\u001b[0m\n",
      "\u001b[31m[12:15:47] src/tree/updater_prune.cc:74: tree pruning end, 1 roots, 18 extra nodes, 10 pruned nodes, max_depth=5\u001b[0m\n",
      "\u001b[31m[191]#011train-error:0.073467#011validation-error:0.1404\u001b[0m\n",
      "\u001b[31m[12:15:48] src/tree/updater_prune.cc:74: tree pruning end, 1 roots, 10 extra nodes, 10 pruned nodes, max_depth=5\u001b[0m\n",
      "\u001b[31m[192]#011train-error:0.073333#011validation-error:0.1401\u001b[0m\n",
      "\u001b[31m[12:15:50] src/tree/updater_prune.cc:74: tree pruning end, 1 roots, 10 extra nodes, 6 pruned nodes, max_depth=5\u001b[0m\n",
      "\u001b[31m[193]#011train-error:0.073333#011validation-error:0.1401\u001b[0m\n",
      "\u001b[31m[12:15:51] src/tree/updater_prune.cc:74: tree pruning end, 1 roots, 14 extra nodes, 14 pruned nodes, max_depth=5\u001b[0m\n",
      "\u001b[31m[194]#011train-error:0.073667#011validation-error:0.1405\u001b[0m\n",
      "\u001b[31m[12:15:52] src/tree/updater_prune.cc:74: tree pruning end, 1 roots, 14 extra nodes, 14 pruned nodes, max_depth=5\u001b[0m\n",
      "\u001b[31m[195]#011train-error:0.072867#011validation-error:0.14\u001b[0m\n",
      "\u001b[31m[12:15:53] src/tree/updater_prune.cc:74: tree pruning end, 1 roots, 22 extra nodes, 4 pruned nodes, max_depth=5\u001b[0m\n",
      "\u001b[31m[196]#011train-error:0.0724#011validation-error:0.1405\u001b[0m\n",
      "\u001b[31m[12:15:55] src/tree/updater_prune.cc:74: tree pruning end, 1 roots, 12 extra nodes, 4 pruned nodes, max_depth=5\u001b[0m\n",
      "\u001b[31m[197]#011train-error:0.072#011validation-error:0.1402\u001b[0m\n",
      "\u001b[31m[12:15:56] src/tree/updater_prune.cc:74: tree pruning end, 1 roots, 10 extra nodes, 14 pruned nodes, max_depth=5\u001b[0m\n",
      "\u001b[31m[198]#011train-error:0.072333#011validation-error:0.1407\u001b[0m\n",
      "\u001b[31m[12:15:57] src/tree/updater_prune.cc:74: tree pruning end, 1 roots, 12 extra nodes, 6 pruned nodes, max_depth=5\u001b[0m\n",
      "\u001b[31m[199]#011train-error:0.072333#011validation-error:0.1399\u001b[0m\n",
      "\u001b[31m[12:15:58] src/tree/updater_prune.cc:74: tree pruning end, 1 roots, 12 extra nodes, 6 pruned nodes, max_depth=5\u001b[0m\n",
      "\u001b[31m[200]#011train-error:0.071867#011validation-error:0.1392\u001b[0m\n",
      "\u001b[31m[12:16:00] src/tree/updater_prune.cc:74: tree pruning end, 1 roots, 12 extra nodes, 4 pruned nodes, max_depth=5\u001b[0m\n",
      "\u001b[31m[201]#011train-error:0.072067#011validation-error:0.1388\u001b[0m\n",
      "\u001b[31m[12:16:01] src/tree/updater_prune.cc:74: tree pruning end, 1 roots, 20 extra nodes, 22 pruned nodes, max_depth=5\u001b[0m\n",
      "\u001b[31m[202]#011train-error:0.071933#011validation-error:0.1388\u001b[0m\n",
      "\u001b[31m[12:16:02] src/tree/updater_prune.cc:74: tree pruning end, 1 roots, 12 extra nodes, 20 pruned nodes, max_depth=5\u001b[0m\n",
      "\u001b[31m[203]#011train-error:0.071733#011validation-error:0.1394\u001b[0m\n",
      "\u001b[31m[12:16:03] src/tree/updater_prune.cc:74: tree pruning end, 1 roots, 10 extra nodes, 2 pruned nodes, max_depth=5\u001b[0m\n",
      "\u001b[31m[204]#011train-error:0.072#011validation-error:0.1393\u001b[0m\n",
      "\u001b[31m[12:16:05] src/tree/updater_prune.cc:74: tree pruning end, 1 roots, 10 extra nodes, 8 pruned nodes, max_depth=5\u001b[0m\n",
      "\u001b[31m[205]#011train-error:0.071667#011validation-error:0.139\u001b[0m\n",
      "\u001b[31m[12:16:06] src/tree/updater_prune.cc:74: tree pruning end, 1 roots, 12 extra nodes, 18 pruned nodes, max_depth=5\u001b[0m\n",
      "\u001b[31m[206]#011train-error:0.071267#011validation-error:0.1389\u001b[0m\n",
      "\u001b[31m[12:16:07] src/tree/updater_prune.cc:74: tree pruning end, 1 roots, 18 extra nodes, 6 pruned nodes, max_depth=5\u001b[0m\n",
      "\u001b[31m[207]#011train-error:0.070533#011validation-error:0.1387\u001b[0m\n",
      "\u001b[31m[12:16:08] src/tree/updater_prune.cc:74: tree pruning end, 1 roots, 14 extra nodes, 8 pruned nodes, max_depth=5\u001b[0m\n",
      "\u001b[31m[208]#011train-error:0.070133#011validation-error:0.1389\u001b[0m\n",
      "\u001b[31m[12:16:10] src/tree/updater_prune.cc:74: tree pruning end, 1 roots, 18 extra nodes, 4 pruned nodes, max_depth=5\u001b[0m\n",
      "\u001b[31m[209]#011train-error:0.0702#011validation-error:0.1388\u001b[0m\n",
      "\u001b[31m[12:16:11] src/tree/updater_prune.cc:74: tree pruning end, 1 roots, 20 extra nodes, 14 pruned nodes, max_depth=5\u001b[0m\n",
      "\u001b[31m[210]#011train-error:0.070267#011validation-error:0.1392\u001b[0m\n",
      "\u001b[31m[12:16:12] src/tree/updater_prune.cc:74: tree pruning end, 1 roots, 22 extra nodes, 18 pruned nodes, max_depth=5\u001b[0m\n",
      "\u001b[31m[211]#011train-error:0.069267#011validation-error:0.1384\u001b[0m\n",
      "\u001b[31m[12:16:13] src/tree/updater_prune.cc:74: tree pruning end, 1 roots, 10 extra nodes, 2 pruned nodes, max_depth=5\u001b[0m\n",
      "\u001b[31m[212]#011train-error:0.069267#011validation-error:0.1383\u001b[0m\n",
      "\u001b[31m[12:16:15] src/tree/updater_prune.cc:74: tree pruning end, 1 roots, 18 extra nodes, 10 pruned nodes, max_depth=5\u001b[0m\n",
      "\u001b[31m[213]#011train-error:0.068867#011validation-error:0.1385\u001b[0m\n",
      "\u001b[31m[12:16:16] src/tree/updater_prune.cc:74: tree pruning end, 1 roots, 16 extra nodes, 0 pruned nodes, max_depth=5\u001b[0m\n",
      "\u001b[31m[214]#011train-error:0.0688#011validation-error:0.1388\u001b[0m\n",
      "\u001b[31m[12:16:17] src/tree/updater_prune.cc:74: tree pruning end, 1 roots, 12 extra nodes, 8 pruned nodes, max_depth=5\u001b[0m\n",
      "\u001b[31m[215]#011train-error:0.068533#011validation-error:0.1392\u001b[0m\n",
      "\u001b[31m[12:16:19] src/tree/updater_prune.cc:74: tree pruning end, 1 roots, 12 extra nodes, 6 pruned nodes, max_depth=5\u001b[0m\n",
      "\u001b[31m[216]#011train-error:0.068267#011validation-error:0.1397\u001b[0m\n",
      "\u001b[31m[12:16:20] src/tree/updater_prune.cc:74: tree pruning end, 1 roots, 10 extra nodes, 6 pruned nodes, max_depth=5\u001b[0m\n",
      "\u001b[31m[217]#011train-error:0.068333#011validation-error:0.1391\u001b[0m\n",
      "\u001b[31m[12:16:21] src/tree/updater_prune.cc:74: tree pruning end, 1 roots, 14 extra nodes, 16 pruned nodes, max_depth=5\u001b[0m\n",
      "\u001b[31m[218]#011train-error:0.068267#011validation-error:0.1392\u001b[0m\n",
      "\u001b[31m[12:16:22] src/tree/updater_prune.cc:74: tree pruning end, 1 roots, 10 extra nodes, 6 pruned nodes, max_depth=5\u001b[0m\n",
      "\u001b[31m[219]#011train-error:0.068333#011validation-error:0.1388\u001b[0m\n",
      "\u001b[31m[12:16:24] src/tree/updater_prune.cc:74: tree pruning end, 1 roots, 14 extra nodes, 10 pruned nodes, max_depth=5\u001b[0m\n",
      "\u001b[31m[220]#011train-error:0.068133#011validation-error:0.1381\u001b[0m\n",
      "\u001b[31m[12:16:25] src/tree/updater_prune.cc:74: tree pruning end, 1 roots, 10 extra nodes, 2 pruned nodes, max_depth=5\u001b[0m\n",
      "\u001b[31m[221]#011train-error:0.068333#011validation-error:0.1386\u001b[0m\n",
      "\u001b[31m[12:16:26] src/tree/updater_prune.cc:74: tree pruning end, 1 roots, 14 extra nodes, 4 pruned nodes, max_depth=5\u001b[0m\n",
      "\u001b[31m[222]#011train-error:0.067867#011validation-error:0.1384\u001b[0m\n",
      "\u001b[31m[12:16:27] src/tree/updater_prune.cc:74: tree pruning end, 1 roots, 22 extra nodes, 8 pruned nodes, max_depth=5\u001b[0m\n",
      "\u001b[31m[223]#011train-error:0.068333#011validation-error:0.1385\u001b[0m\n",
      "\u001b[31m[12:16:29] src/tree/updater_prune.cc:74: tree pruning end, 1 roots, 18 extra nodes, 20 pruned nodes, max_depth=5\u001b[0m\n",
      "\u001b[31m[224]#011train-error:0.068067#011validation-error:0.1392\u001b[0m\n",
      "\u001b[31m[12:16:30] src/tree/updater_prune.cc:74: tree pruning end, 1 roots, 12 extra nodes, 8 pruned nodes, max_depth=5\u001b[0m\n",
      "\u001b[31m[225]#011train-error:0.067667#011validation-error:0.1397\u001b[0m\n",
      "\u001b[31m[12:16:31] src/tree/updater_prune.cc:74: tree pruning end, 1 roots, 16 extra nodes, 10 pruned nodes, max_depth=5\u001b[0m\n",
      "\u001b[31m[226]#011train-error:0.067667#011validation-error:0.1388\u001b[0m\n",
      "\u001b[31m[12:16:32] src/tree/updater_prune.cc:74: tree pruning end, 1 roots, 10 extra nodes, 2 pruned nodes, max_depth=5\u001b[0m\n",
      "\u001b[31m[227]#011train-error:0.067533#011validation-error:0.1387\u001b[0m\n",
      "\u001b[31m[12:16:34] src/tree/updater_prune.cc:74: tree pruning end, 1 roots, 10 extra nodes, 10 pruned nodes, max_depth=5\u001b[0m\n",
      "\u001b[31m[228]#011train-error:0.067067#011validation-error:0.1381\u001b[0m\n",
      "\u001b[31m[12:16:35] src/tree/updater_prune.cc:74: tree pruning end, 1 roots, 16 extra nodes, 10 pruned nodes, max_depth=5\u001b[0m\n",
      "\u001b[31m[229]#011train-error:0.066467#011validation-error:0.1381\u001b[0m\n",
      "\u001b[31m[12:16:36] src/tree/updater_prune.cc:74: tree pruning end, 1 roots, 10 extra nodes, 20 pruned nodes, max_depth=5\u001b[0m\n",
      "\u001b[31m[230]#011train-error:0.066467#011validation-error:0.1378\u001b[0m\n",
      "\u001b[31m[12:16:37] src/tree/updater_prune.cc:74: tree pruning end, 1 roots, 10 extra nodes, 6 pruned nodes, max_depth=5\u001b[0m\n",
      "\u001b[31m[231]#011train-error:0.066667#011validation-error:0.1376\u001b[0m\n",
      "\u001b[31m[12:16:39] src/tree/updater_prune.cc:74: tree pruning end, 1 roots, 12 extra nodes, 12 pruned nodes, max_depth=5\u001b[0m\n",
      "\u001b[31m[232]#011train-error:0.066467#011validation-error:0.1372\u001b[0m\n"
     ]
    },
    {
     "name": "stdout",
     "output_type": "stream",
     "text": [
      "\u001b[31m[12:16:40] src/tree/updater_prune.cc:74: tree pruning end, 1 roots, 12 extra nodes, 0 pruned nodes, max_depth=5\u001b[0m\n",
      "\u001b[31m[233]#011train-error:0.066267#011validation-error:0.1366\u001b[0m\n",
      "\u001b[31m[12:16:41] src/tree/updater_prune.cc:74: tree pruning end, 1 roots, 10 extra nodes, 8 pruned nodes, max_depth=5\u001b[0m\n",
      "\u001b[31m[234]#011train-error:0.0658#011validation-error:0.1373\u001b[0m\n",
      "\u001b[31m[12:16:43] src/tree/updater_prune.cc:74: tree pruning end, 1 roots, 14 extra nodes, 6 pruned nodes, max_depth=5\u001b[0m\n",
      "\u001b[31m[235]#011train-error:0.0658#011validation-error:0.1364\u001b[0m\n",
      "\u001b[31m[12:16:44] src/tree/updater_prune.cc:74: tree pruning end, 1 roots, 12 extra nodes, 6 pruned nodes, max_depth=5\u001b[0m\n",
      "\u001b[31m[236]#011train-error:0.0656#011validation-error:0.1361\u001b[0m\n",
      "\u001b[31m[12:16:45] src/tree/updater_prune.cc:74: tree pruning end, 1 roots, 16 extra nodes, 6 pruned nodes, max_depth=5\u001b[0m\n",
      "\u001b[31m[237]#011train-error:0.0654#011validation-error:0.1353\u001b[0m\n",
      "\u001b[31m[12:16:46] src/tree/updater_prune.cc:74: tree pruning end, 1 roots, 12 extra nodes, 4 pruned nodes, max_depth=5\u001b[0m\n",
      "\u001b[31m[238]#011train-error:0.0652#011validation-error:0.1354\u001b[0m\n",
      "\u001b[31m[12:16:48] src/tree/updater_prune.cc:74: tree pruning end, 1 roots, 18 extra nodes, 8 pruned nodes, max_depth=5\u001b[0m\n",
      "\u001b[31m[239]#011train-error:0.065#011validation-error:0.135\u001b[0m\n",
      "\u001b[31m[12:16:49] src/tree/updater_prune.cc:74: tree pruning end, 1 roots, 18 extra nodes, 20 pruned nodes, max_depth=5\u001b[0m\n",
      "\u001b[31m[240]#011train-error:0.064867#011validation-error:0.1353\u001b[0m\n",
      "\u001b[31m[12:16:50] src/tree/updater_prune.cc:74: tree pruning end, 1 roots, 10 extra nodes, 8 pruned nodes, max_depth=5\u001b[0m\n",
      "\u001b[31m[241]#011train-error:0.0646#011validation-error:0.1357\u001b[0m\n",
      "\u001b[31m[12:16:51] src/tree/updater_prune.cc:74: tree pruning end, 1 roots, 12 extra nodes, 14 pruned nodes, max_depth=5\u001b[0m\n",
      "\u001b[31m[242]#011train-error:0.064533#011validation-error:0.1364\u001b[0m\n",
      "\u001b[31m[12:16:53] src/tree/updater_prune.cc:74: tree pruning end, 1 roots, 16 extra nodes, 12 pruned nodes, max_depth=5\u001b[0m\n",
      "\u001b[31m[243]#011train-error:0.064067#011validation-error:0.1366\u001b[0m\n",
      "\u001b[31m[12:16:54] src/tree/updater_prune.cc:74: tree pruning end, 1 roots, 20 extra nodes, 14 pruned nodes, max_depth=5\u001b[0m\n",
      "\u001b[31m[244]#011train-error:0.064#011validation-error:0.1367\u001b[0m\n",
      "\u001b[31m[12:16:55] src/tree/updater_prune.cc:74: tree pruning end, 1 roots, 12 extra nodes, 6 pruned nodes, max_depth=5\u001b[0m\n",
      "\u001b[31m[245]#011train-error:0.063867#011validation-error:0.1366\u001b[0m\n",
      "\u001b[31m[12:16:57] src/tree/updater_prune.cc:74: tree pruning end, 1 roots, 12 extra nodes, 8 pruned nodes, max_depth=5\u001b[0m\n",
      "\u001b[31m[246]#011train-error:0.063667#011validation-error:0.137\u001b[0m\n",
      "\u001b[31m[12:16:58] src/tree/updater_prune.cc:74: tree pruning end, 1 roots, 12 extra nodes, 6 pruned nodes, max_depth=5\u001b[0m\n",
      "\u001b[31m[247]#011train-error:0.063733#011validation-error:0.1374\u001b[0m\n",
      "\u001b[31m[12:16:59] src/tree/updater_prune.cc:74: tree pruning end, 1 roots, 18 extra nodes, 8 pruned nodes, max_depth=5\u001b[0m\n",
      "\u001b[31m[248]#011train-error:0.0634#011validation-error:0.1374\u001b[0m\n",
      "\u001b[31m[12:17:00] src/tree/updater_prune.cc:74: tree pruning end, 1 roots, 16 extra nodes, 14 pruned nodes, max_depth=5\u001b[0m\n",
      "\u001b[31m[249]#011train-error:0.062933#011validation-error:0.1375\u001b[0m\n",
      "\u001b[31mStopping. Best iteration:\u001b[0m\n",
      "\u001b[31m[239]#011train-error:0.065#011validation-error:0.135\n",
      "\u001b[0m\n",
      "\n",
      "2019-05-01 12:17:09 Uploading - Uploading generated training model\n",
      "2019-05-01 12:17:09 Completed - Training job completed\n",
      "Billable seconds: 358\n"
     ]
    }
   ],
   "source": [
    "xgb.fit({'train': s3_input_train, 'validation': s3_input_validation})"
   ]
  },
  {
   "cell_type": "markdown",
   "metadata": {},
   "source": [
    "## Step 5: Testing the model\n",
    "\n",
    "Now that we've fit our XGBoost model, it's time to see how well it performs. To do this we will use SageMakers Batch Transform functionality. Batch Transform is a convenient way to perform inference on a large dataset in a way that is not realtime. That is, we don't necessarily need to use our model's results immediately and instead we can perform inference on a large number of samples. An example of this in industry might be performing an end of month report. This method of inference can also be useful to us as it means that we can perform inference on our entire test set. \n",
    "\n",
    "To perform a Batch Transformation we need to first create a transformer objects from our trained estimator object."
   ]
  },
  {
   "cell_type": "code",
   "execution_count": 24,
   "metadata": {},
   "outputs": [
    {
     "name": "stderr",
     "output_type": "stream",
     "text": [
      "INFO:sagemaker:Creating model with name: xgboost-2019-05-01-12-08-46-133\n"
     ]
    }
   ],
   "source": [
    "xgb_transformer = xgb.transformer(instance_count = 1, instance_type = 'ml.m4.xlarge')"
   ]
  },
  {
   "cell_type": "markdown",
   "metadata": {},
   "source": [
    "Next we actually perform the transform job. When doing so we need to make sure to specify the type of data we are sending so that it is serialized correctly in the background. In our case we are providing our model with csv data so we specify `text/csv`. Also, if the test data that we have provided is too large to process all at once then we need to specify how the data file should be split up. Since each line is a single entry in our data set we tell SageMaker that it can split the input on each line."
   ]
  },
  {
   "cell_type": "code",
   "execution_count": 25,
   "metadata": {},
   "outputs": [
    {
     "name": "stderr",
     "output_type": "stream",
     "text": [
      "INFO:sagemaker:Creating transform job with name: xgboost-2019-05-01-12-17-33-969\n"
     ]
    }
   ],
   "source": [
    "xgb_transformer.transform(test_location, content_type='text/csv', split_type='Line')"
   ]
  },
  {
   "cell_type": "markdown",
   "metadata": {},
   "source": [
    "Currently the transform job is running but it is doing so in the background. Since we wish to wait until the transform job is done and we would like a bit of feedback we can run the `wait()` method."
   ]
  },
  {
   "cell_type": "code",
   "execution_count": 26,
   "metadata": {},
   "outputs": [
    {
     "name": "stdout",
     "output_type": "stream",
     "text": [
      ".....................................................!\n"
     ]
    }
   ],
   "source": [
    "xgb_transformer.wait()"
   ]
  },
  {
   "cell_type": "markdown",
   "metadata": {},
   "source": [
    "Now the transform job has executed and the result, the estimated sentiment of each review, has been saved on S3. Since we would rather work on this file locally we can perform a bit of notebook magic to copy the file to the `data_dir`."
   ]
  },
  {
   "cell_type": "code",
   "execution_count": 27,
   "metadata": {},
   "outputs": [
    {
     "name": "stdout",
     "output_type": "stream",
     "text": [
      "Completed 256.0 KiB/371.3 KiB (2.6 MiB/s) with 1 file(s) remaining\r",
      "Completed 371.3 KiB/371.3 KiB (3.7 MiB/s) with 1 file(s) remaining\r",
      "download: s3://sagemaker-ap-northeast-1-926798200699/xgboost-2019-05-01-12-17-33-969/test.csv.out to ../data/sentiment_web_app/test.csv.out\r\n"
     ]
    }
   ],
   "source": [
    "!aws s3 cp --recursive $xgb_transformer.output_path $data_dir"
   ]
  },
  {
   "cell_type": "markdown",
   "metadata": {},
   "source": [
    "The last step is now to read in the output from our model, convert the output to something a little more usable, in this case we want the sentiment to be either `1` (positive) or `0` (negative), and then compare to the ground truth labels."
   ]
  },
  {
   "cell_type": "code",
   "execution_count": 28,
   "metadata": {},
   "outputs": [],
   "source": [
    "predictions = pd.read_csv(os.path.join(data_dir, 'test.csv.out'), header=None)\n",
    "predictions = [round(num) for num in predictions.squeeze().values]"
   ]
  },
  {
   "cell_type": "code",
   "execution_count": 29,
   "metadata": {},
   "outputs": [
    {
     "data": {
      "text/plain": [
       "0.8658"
      ]
     },
     "execution_count": 29,
     "metadata": {},
     "output_type": "execute_result"
    }
   ],
   "source": [
    "from sklearn.metrics import accuracy_score\n",
    "accuracy_score(test_y, predictions)"
   ]
  },
  {
   "cell_type": "markdown",
   "metadata": {},
   "source": [
    "## Step 6: Deploying the model\n",
    "\n",
    "Once we construct and fit our model, SageMaker stores the resulting model artifacts and we can use those to deploy an endpoint (inference code). To see this, look in the SageMaker console and you should see that a model has been created along with a link to the S3 location where the model artifacts have been stored.\n",
    "\n",
    "Deploying an endpoint is a lot like training the model with a few important differences. The first is that a deployed model doesn't change the model artifacts, so as you send it various testing instances the model won't change. Another difference is that since we aren't performing a fixed computation, as we were in the training step or while performing a batch transform, the compute instance that gets started stays running until we tell it to stop. This is important to note as if we forget and leave it running we will be charged the entire time.\n",
    "\n",
    "In other words **If you are no longer using a deployed endpoint, shut it down!**"
   ]
  },
  {
   "cell_type": "code",
   "execution_count": 30,
   "metadata": {},
   "outputs": [
    {
     "name": "stderr",
     "output_type": "stream",
     "text": [
      "INFO:sagemaker:Creating model with name: xgboost-2019-05-01-12-22-03-439\n",
      "INFO:sagemaker:Creating endpoint with name xgboost-2019-05-01-12-08-46-133\n"
     ]
    },
    {
     "name": "stdout",
     "output_type": "stream",
     "text": [
      "----------------------------------------------------------------------------------------!"
     ]
    }
   ],
   "source": [
    "xgb_predictor = xgb.deploy(initial_instance_count = 1, instance_type = 'ml.m4.xlarge')"
   ]
  },
  {
   "cell_type": "markdown",
   "metadata": {},
   "source": [
    "### Testing the model (again)\n",
    "\n",
    "Now that we have deployed our endpoint, we can send the testing data to it and get back the inference results. We already did this earlier using the batch transform functionality of SageMaker, however, we will test our model again using the newly deployed endpoint so that we can make sure that it works properly and to get a bit of a feel for how the endpoint works.\n",
    "\n",
    "When using the created endpoint it is important to know that we are limited in the amount of information we can send in each call so we need to break the testing data up into chunks and then send each chunk. Also, we need to serialize our data before we send it to the endpoint to ensure that our data is transmitted properly. Fortunately, SageMaker can do the serialization part for us provided we tell it the format of our data."
   ]
  },
  {
   "cell_type": "code",
   "execution_count": 31,
   "metadata": {},
   "outputs": [],
   "source": [
    "from sagemaker.predictor import csv_serializer\n",
    "\n",
    "# We need to tell the endpoint what format the data we are sending is in so that SageMaker can perform the serialization.\n",
    "xgb_predictor.content_type = 'text/csv'\n",
    "xgb_predictor.serializer = csv_serializer"
   ]
  },
  {
   "cell_type": "code",
   "execution_count": 32,
   "metadata": {},
   "outputs": [],
   "source": [
    "# We split the data into chunks and send each chunk seperately, accumulating the results.\n",
    "\n",
    "def predict(data, rows=512):\n",
    "    split_array = np.array_split(data, int(data.shape[0] / float(rows) + 1))\n",
    "    predictions = ''\n",
    "    for array in split_array:\n",
    "        predictions = ','.join([predictions, xgb_predictor.predict(array).decode('utf-8')])\n",
    "    \n",
    "    return np.fromstring(predictions[1:], sep=',')"
   ]
  },
  {
   "cell_type": "code",
   "execution_count": 33,
   "metadata": {},
   "outputs": [],
   "source": [
    "test_X = pd.read_csv(os.path.join(data_dir, 'test.csv'), header=None).values\n",
    "\n",
    "predictions = predict(test_X)\n",
    "predictions = [round(num) for num in predictions]"
   ]
  },
  {
   "cell_type": "markdown",
   "metadata": {},
   "source": [
    "Lastly, we check to see what the accuracy of our model is."
   ]
  },
  {
   "cell_type": "code",
   "execution_count": 34,
   "metadata": {},
   "outputs": [
    {
     "data": {
      "text/plain": [
       "0.8658"
      ]
     },
     "execution_count": 34,
     "metadata": {},
     "output_type": "execute_result"
    }
   ],
   "source": [
    "from sklearn.metrics import accuracy_score\n",
    "accuracy_score(test_y, predictions)"
   ]
  },
  {
   "cell_type": "markdown",
   "metadata": {},
   "source": [
    "And the results here should agree with the model testing that we did earlier using the batch transform job.\n",
    "\n",
    "### Cleaning up\n",
    "\n",
    "Now that we've determined that deploying our model works as expected, we are going to shut it down. Remember that the longer the endpoint is left running, the greater the cost and since we have a bit more work to do before we are able to use our endpoint with our simple web app, we should shut everything down."
   ]
  },
  {
   "cell_type": "code",
   "execution_count": 35,
   "metadata": {},
   "outputs": [
    {
     "name": "stderr",
     "output_type": "stream",
     "text": [
      "INFO:sagemaker:Deleting endpoint configuration with name: xgboost-2019-05-01-12-08-46-133\n",
      "INFO:sagemaker:Deleting endpoint with name: xgboost-2019-05-01-12-08-46-133\n"
     ]
    }
   ],
   "source": [
    "xgb_predictor.delete_endpoint()"
   ]
  },
  {
   "cell_type": "markdown",
   "metadata": {},
   "source": [
    "## Step 7: Putting our model to work\n",
    "\n",
    "As we've mentioned a few times now, our goal is to have our model deployed and then access it using a very simple web app. The intent is for this web app to take some user submitted data (a review), send it off to our endpoint (the model) and then display the result.\n",
    "\n",
    "However, there is a small catch. Currently the only way we can access the endpoint to send it data is using the SageMaker API. We can, if we wish, expose the actual URL that our model's endpoint is receiving data from, however, if we just send it data ourselves we will not get anything in return. This is because the endpoint created by SageMaker requires the entity accessing it have the correct permissions. So, we would need to somehow authenticate our web app with AWS.\n",
    "\n",
    "Having a website that authenticates to AWS seems a bit beyond the scope of this lesson so we will opt for an alternative approach. Namely, we will create a new endpoint which does not require authentication and which acts as a proxy for the SageMaker endpoint.\n",
    "\n",
    "As an additional constraint, we will try to avoid doing any data processing in the web app itself. Remember that when we constructed and tested our model we started with a movie review, then we simplified it by removing any html formatting and punctuation, then we constructed a bag of words embedding and the resulting vector is what we sent to our model. All of this needs to be done to our user input as well.\n",
    "\n",
    "Fortunately we can do all of this data processing in the backend, using Amazon's Lambda service.\n",
    "\n",
    "<img src=\"Web App Diagram.svg\">\n",
    "\n",
    "The diagram above gives an overview of how the various services will work together. On the far right is the model which we trained above and which will be deployed using SageMaker. On the far left is our web app that collects a user's movie review, sends it off and expects a positive or negative sentiment in return.\n",
    "\n",
    "In the middle is where some of the magic happens. We will construct a Lambda function, which you can think of as a straightforward Python function that can be executed whenever a specified event occurs. This Python function will do the data processing we need to perform on a user submitted review. In addition, we will give this function permission to send and recieve data from a SageMaker endpoint.\n",
    "\n",
    "Lastly, the method we will use to execute the Lambda function is a new endpoint that we will create using API Gateway. This endpoint will be a url that listens for data to be sent to it. Once it gets some data it will pass that data on to the Lambda function and then return whatever the Lambda function returns. Essentially it will act as an interface that lets our web app communicate with the Lambda function.\n",
    "\n",
    "### Processing a single review\n",
    "\n",
    "For now, suppose we are given a movie review by our user in the form of a string, like so:"
   ]
  },
  {
   "cell_type": "code",
   "execution_count": 36,
   "metadata": {},
   "outputs": [],
   "source": [
    "test_review = \"Nothing but a disgusting materialistic pageant of glistening abed remote control greed zombies, totally devoid of any heart or heat. A romantic comedy that has zero romantic chemestry and zero laughs!\""
   ]
  },
  {
   "cell_type": "markdown",
   "metadata": {},
   "source": [
    "How do we go from this string to the bag of words feature vector that is expected by our model?\n",
    "\n",
    "If we recall at the beginning of this notebook, the first step is to remove any unnecessary characters using the `review_to_words` method. Remember that we intentionally did this in a very simplistic way. This is because we are going to have to copy this method to our (eventual) Lambda function (we will go into more detail later) and this means it needs to be rather simplistic."
   ]
  },
  {
   "cell_type": "code",
   "execution_count": 37,
   "metadata": {},
   "outputs": [
    {
     "name": "stdout",
     "output_type": "stream",
     "text": [
      "nothing but a disgusting materialistic pageant of glistening abed remote control greed zombies totally devoid of any heart or heat a romantic comedy that has zero romantic chemestry and zero laughs\n"
     ]
    }
   ],
   "source": [
    "test_words = review_to_words(test_review)\n",
    "print(test_words)"
   ]
  },
  {
   "cell_type": "markdown",
   "metadata": {},
   "source": [
    "Next, we need to construct a bag of words embedding of the `test_words` string. To do this, remember that a bag of words embedding uses a `vocabulary` consisting of the most frequently appearing words in a set of documents. Then, for each word in the vocabulary we record the number of times that word appears in `test_words`. We constructed the `vocabulary` earlier using the training set for our problem so encoding `test_words` is relatively straightforward."
   ]
  },
  {
   "cell_type": "code",
   "execution_count": 38,
   "metadata": {},
   "outputs": [],
   "source": [
    "def bow_encoding(words, vocabulary):\n",
    "    bow = [0] * len(vocabulary) # Start by setting the count for each word in the vocabulary to zero.\n",
    "    for word in words.split():  # For each word in the string\n",
    "        if word in vocabulary:  # If the word is one that occurs in the vocabulary, increase its count.\n",
    "            bow[vocabulary[word]] += 1\n",
    "    return bow"
   ]
  },
  {
   "cell_type": "code",
   "execution_count": 39,
   "metadata": {},
   "outputs": [
    {
     "name": "stdout",
     "output_type": "stream",
     "text": [
      "[0, 0, 0, 0, 0, 0, 0, 0, 0, 0, 0, 0, 0, 0, 0, 0, 0, 0, 0, 0, 0, 0, 0, 0, 0, 0, 0, 0, 0, 0, 0, 0, 0, 0, 0, 0, 0, 0, 0, 0, 0, 0, 0, 0, 0, 0, 0, 0, 0, 0, 0, 0, 0, 0, 0, 0, 0, 0, 0, 0, 0, 0, 0, 0, 0, 0, 0, 0, 0, 0, 0, 0, 0, 0, 0, 0, 0, 0, 0, 0, 0, 0, 0, 0, 0, 0, 0, 0, 0, 0, 0, 0, 0, 0, 0, 0, 0, 0, 0, 0, 0, 0, 0, 0, 0, 0, 0, 0, 0, 0, 0, 0, 0, 0, 0, 0, 0, 0, 0, 0, 0, 0, 0, 0, 0, 0, 0, 0, 0, 0, 0, 0, 0, 0, 0, 0, 0, 0, 0, 0, 0, 0, 0, 0, 0, 0, 0, 0, 0, 0, 0, 0, 0, 0, 0, 0, 0, 0, 0, 0, 0, 0, 0, 0, 0, 0, 0, 0, 0, 0, 0, 0, 0, 0, 0, 0, 0, 0, 0, 0, 0, 0, 0, 0, 0, 0, 0, 0, 0, 0, 0, 0, 0, 0, 0, 0, 0, 0, 0, 0, 0, 0, 0, 0, 0, 0, 0, 0, 0, 0, 0, 0, 0, 0, 0, 0, 0, 0, 0, 0, 0, 0, 0, 0, 0, 0, 1, 0, 0, 0, 0, 0, 0, 0, 0, 0, 0, 0, 0, 0, 0, 0, 0, 0, 0, 0, 0, 0, 0, 0, 0, 0, 0, 0, 0, 0, 1, 0, 0, 0, 0, 0, 0, 0, 0, 0, 0, 0, 0, 0, 0, 0, 0, 0, 0, 0, 0, 0, 0, 0, 0, 0, 0, 0, 0, 0, 0, 0, 0, 0, 0, 0, 0, 0, 0, 0, 0, 0, 0, 0, 0, 0, 0, 0, 0, 0, 0, 0, 0, 0, 0, 0, 0, 0, 0, 0, 0, 0, 0, 0, 0, 0, 0, 0, 0, 0, 0, 0, 0, 0, 0, 0, 0, 0, 0, 0, 0, 0, 0, 0, 0, 0, 0, 0, 0, 0, 0, 0, 0, 0, 0, 0, 0, 0, 0, 0, 0, 0, 0, 0, 0, 0, 0, 0, 0, 0, 0, 0, 0, 0, 0, 0, 0, 0, 0, 0, 0, 0, 0, 0, 0, 0, 0, 0, 0, 0, 0, 0, 0, 0, 0, 0, 0, 0, 0, 0, 0, 0, 0, 0, 0, 0, 0, 0, 0, 0, 0, 0, 0, 0, 0, 0, 0, 0, 0, 0, 0, 0, 0, 0, 0, 0, 0, 0, 0, 0, 0, 0, 0, 0, 0, 0, 0, 0, 0, 0, 0, 0, 0, 0, 0, 0, 0, 0, 0, 0, 0, 0, 0, 0, 0, 0, 0, 0, 0, 0, 0, 0, 0, 0, 0, 0, 0, 0, 0, 0, 0, 0, 0, 0, 0, 0, 0, 0, 0, 0, 0, 0, 0, 0, 0, 0, 0, 0, 0, 0, 0, 0, 0, 0, 0, 0, 0, 0, 0, 0, 0, 0, 0, 0, 0, 0, 0, 0, 0, 0, 0, 0, 0, 0, 0, 0, 0, 0, 0, 0, 0, 0, 0, 0, 0, 0, 0, 0, 0, 0, 0, 0, 0, 0, 0, 0, 0, 0, 0, 0, 0, 0, 0, 0, 0, 0, 0, 0, 0, 0, 0, 0, 0, 0, 0, 0, 0, 0, 0, 0, 0, 0, 0, 0, 0, 0, 0, 0, 0, 0, 0, 0, 0, 0, 0, 0, 0, 0, 0, 0, 0, 0, 0, 0, 0, 0, 0, 0, 0, 0, 0, 0, 0, 0, 0, 0, 0, 0, 0, 0, 0, 0, 0, 0, 0, 0, 0, 0, 0, 0, 0, 0, 0, 0, 0, 0, 0, 0, 0, 0, 0, 0, 0, 0, 0, 0, 0, 0, 0, 0, 0, 0, 0, 0, 0, 0, 0, 0, 0, 0, 1, 0, 0, 0, 0, 0, 0, 0, 0, 0, 0, 0, 0, 0, 0, 0, 0, 0, 0, 0, 0, 0, 0, 0, 0, 0, 0, 0, 0, 0, 0, 0, 0, 0, 0, 0, 0, 0, 0, 0, 0, 0, 0, 0, 0, 0, 0, 0, 0, 0, 0, 0, 0, 0, 0, 0, 0, 0, 0, 0, 0, 0, 0, 0, 0, 0, 0, 0, 0, 0, 0, 0, 0, 0, 0, 0, 0, 0, 0, 0, 0, 0, 0, 0, 0, 0, 0, 0, 0, 0, 0, 0, 0, 0, 0, 0, 0, 0, 0, 0, 0, 0, 0, 0, 0, 0, 0, 0, 0, 0, 0, 0, 0, 0, 0, 0, 0, 0, 0, 0, 0, 0, 0, 0, 0, 0, 0, 0, 0, 0, 0, 0, 0, 0, 0, 0, 0, 0, 0, 0, 0, 0, 0, 0, 0, 0, 0, 0, 0, 0, 0, 0, 0, 0, 0, 0, 0, 0, 0, 0, 0, 0, 0, 0, 0, 0, 0, 0, 0, 0, 0, 0, 0, 0, 0, 0, 0, 0, 0, 0, 0, 0, 0, 0, 0, 0, 0, 0, 0, 0, 0, 0, 0, 0, 0, 0, 0, 0, 0, 0, 0, 0, 0, 0, 0, 0, 0, 0, 0, 0, 0, 0, 0, 0, 0, 0, 0, 0, 0, 0, 0, 0, 0, 0, 0, 0, 0, 0, 0, 0, 0, 0, 0, 0, 0, 0, 0, 0, 0, 0, 0, 0, 0, 0, 0, 0, 0, 0, 0, 0, 0, 0, 0, 0, 1, 0, 0, 0, 0, 0, 0, 0, 0, 0, 0, 0, 0, 0, 0, 0, 0, 0, 0, 0, 0, 0, 0, 0, 0, 0, 0, 0, 0, 0, 0, 0, 0, 0, 0, 0, 0, 0, 0, 0, 0, 0, 0, 0, 0, 0, 0, 0, 0, 0, 0, 0, 0, 0, 0, 0, 0, 0, 0, 0, 0, 0, 0, 0, 0, 0, 0, 0, 0, 0, 0, 0, 0, 0, 0, 0, 0, 0, 0, 0, 0, 0, 0, 0, 0, 0, 0, 1, 0, 0, 0, 0, 0, 0, 0, 0, 0, 0, 0, 0, 0, 0, 0, 0, 0, 0, 0, 0, 0, 0, 0, 0, 0, 0, 0, 0, 0, 0, 0, 0, 0, 0, 0, 0, 0, 0, 0, 0, 0, 0, 0, 0, 0, 0, 0, 0, 0, 0, 0, 0, 0, 0, 0, 0, 0, 0, 0, 0, 0, 0, 0, 0, 0, 0, 0, 0, 0, 0, 0, 0, 0, 0, 0, 0, 0, 0, 0, 0, 0, 0, 0, 0, 0, 0, 0, 0, 0, 0, 0, 0, 0, 0, 0, 0, 0, 0, 0, 0, 0, 0, 0, 0, 0, 0, 0, 0, 0, 0, 0, 0, 0, 0, 0, 0, 0, 0, 0, 0, 0, 0, 0, 0, 0, 0, 0, 0, 0, 0, 0, 0, 0, 0, 0, 0, 0, 0, 0, 0, 0, 0, 0, 0, 0, 0, 0, 0, 0, 0, 0, 0, 0, 0, 0, 0, 0, 0, 0, 0, 0, 0, 0, 0, 0, 0, 0, 0, 0, 0, 0, 0, 0, 0, 0, 0, 0, 0, 0, 0, 0, 0, 0, 0, 0, 0, 0, 0, 0, 0, 0, 0, 0, 0, 0, 0, 0, 0, 0, 0, 0, 0, 0, 0, 0, 0, 0, 0, 0, 0, 0, 0, 0, 0, 0, 0, 0, 0, 0, 0, 0, 0, 0, 0, 0, 0, 0, 0, 0, 0, 0, 0, 0, 0, 0, 0, 0, 0, 0, 0, 0, 0, 0, 0, 0, 0, 0, 0, 0, 0, 0, 0, 1, 0, 0, 0, 0, 0, 0, 0, 0, 0, 0, 0, 0, 0, 0, 0, 0, 0, 0, 0, 0, 0, 0, 0, 0, 0, 0, 0, 0, 0, 0, 0, 0, 0, 0, 0, 0, 0, 0, 0, 0, 0, 0, 0, 0, 0, 0, 0, 0, 0, 0, 0, 0, 0, 0, 0, 1, 0, 0, 0, 0, 0, 0, 0, 0, 0, 0, 0, 0, 0, 0, 0, 0, 0, 0, 0, 0, 0, 0, 0, 0, 0, 0, 0, 0, 0, 0, 0, 0, 0, 0, 0, 0, 0, 0, 0, 0, 0, 0, 0, 0, 0, 0, 0, 0, 0, 0, 0, 0, 0, 0, 0, 0, 0, 0, 0, 0, 0, 0, 0, 0, 0, 0, 0, 0, 0, 0, 0, 0, 0, 0, 0, 0, 0, 0, 0, 0, 0, 0, 0, 0, 0, 0, 0, 0, 0, 0, 0, 0, 0, 0, 0, 0, 0, 0, 0, 0, 0, 0, 0, 0, 0, 0, 0, 0, 0, 0, 0, 0, 0, 0, 0, 0, 0, 0, 0, 0, 0, 0, 0, 0, 0, 0, 0, 0, 0, 0, 0, 0, 0, 0, 0, 0, 0, 0, 0, 0, 0, 0, 0, 0, 0, 0, 0, 0, 0, 0, 0, 0, 0, 0, 0, 0, 0, 0, 0, 0, 0, 0, 0, 0, 0, 0, 0, 0, 0, 0, 0, 0, 0, 0, 0, 0, 0, 0, 0, 0, 0, 0, 0, 0, 0, 0, 0, 0, 0, 0, 0, 0, 0, 0, 0, 0, 0, 0, 0, 0, 0, 0, 0, 0, 0, 0, 0, 0, 0, 0, 0, 0, 0, 0, 0, 0, 0, 0, 0, 0, 0, 0, 0, 0, 0, 0, 0, 0, 0, 0, 0, 0, 0, 0, 0, 0, 0, 0, 0, 0, 0, 0, 0, 0, 0, 0, 0, 0, 0, 0, 0, 0, 0, 0, 0, 0, 0, 0, 0, 0, 0, 0, 0, 0, 0, 0, 0, 0, 0, 0, 0, 0, 0, 0, 0, 0, 0, 0, 0, 0, 0, 0, 0, 0, 0, 0, 0, 0, 0, 0, 0, 0, 0, 0, 0, 0, 0, 0, 0, 0, 0, 0, 0, 0, 0, 0, 0, 0, 0, 0, 0, 0, 0, 0, 0, 0, 0, 0, 0, 0, 0, 0, 0, 0, 0, 0, 0, 0, 0, 0, 0, 0, 0, 0, 0, 0, 0, 0, 0, 0, 0, 0, 0, 0, 0, 0, 0, 0, 0, 0, 0, 0, 0, 0, 0, 0, 0, 0, 0, 0, 0, 0, 0, 0, 0, 0, 0, 0, 0, 0, 0, 0, 0, 0, 0, 0, 0, 0, 0, 0, 0, 0, 0, 0, 0, 0, 0, 0, 0, 0, 0, 0, 0, 0, 0, 0, 0, 0, 0, 0, 0, 0, 0, 0, 0, 0, 0, 0, 0, 0, 0, 0, 0, 0, 0, 0, 0, 0, 0, 0, 0, 0, 0, 0, 0, 0, 0, 0, 0, 0, 0, 0, 0, 0, 0, 0, 0, 0, 0, 0, 0, 0, 0, 0, 0, 0, 0, 0, 0, 0, 0, 0, 0, 0, 0, 0, 0, 0, 0, 0, 0, 0, 0, 0, 0, 0, 0, 0, 0, 0, 0, 0, 0, 0, 0, 0, 0, 0, 0, 0, 0, 0, 0, 0, 0, 0, 0, 0, 0, 0, 0, 0, 0, 0, 0, 0, 0, 0, 0, 0, 0, 0, 0, 0, 0, 0, 0, 0, 0, 0, 0, 0, 0, 0, 0, 0, 0, 0, 0, 0, 0, 0, 0, 0, 0, 0, 0, 0, 0, 0, 0, 0, 0, 0, 0, 0, 0, 0, 0, 0, 0, 0, 0, 0, 0, 0, 0, 0, 0, 0, 0, 0, 0, 0, 0, 0, 0, 0, 0, 0, 0, 0, 0, 0, 0, 0, 0, 0, 0, 0, 0, 0, 0, 0, 0, 0, 0, 0, 0, 0, 0, 0, 0, 0, 0, 0, 0, 0, 0, 0, 0, 0, 0, 0, 0, 0, 0, 0, 0, 0, 0, 0, 0, 0, 0, 0, 0, 0, 0, 0, 0, 0, 0, 0, 0, 0, 0, 0, 0, 0, 0, 0, 0, 0, 0, 0, 0, 0, 0, 0, 0, 0, 0, 0, 0, 0, 0, 0, 0, 0, 0, 0, 0, 0, 0, 0, 0, 0, 0, 0, 0, 0, 0, 0, 0, 0, 0, 0, 0, 0, 0, 0, 0, 0, 0, 0, 0, 0, 0, 0, 0, 0, 0, 0, 0, 0, 0, 0, 0, 0, 0, 1, 0, 0, 0, 0, 0, 0, 0, 0, 0, 0, 0, 0, 0, 0, 0, 0, 0, 0, 0, 0, 0, 0, 0, 0, 0, 0, 0, 0, 0, 0, 0, 0, 0, 0, 0, 0, 0, 0, 0, 0, 0, 0, 0, 0, 0, 0, 0, 0, 0, 0, 0, 0, 0, 0, 0, 0, 0, 0, 0, 0, 0, 0, 0, 0, 0, 0, 0, 0, 0, 0, 0, 0, 0, 0, 1, 0, 0, 0, 0, 0, 0, 0, 0, 0, 0, 0, 0, 0, 0, 0, 0, 0, 0, 0, 0, 1, 0, 0, 1, 0, 0, 0, 0, 0, 0, 0, 0, 0, 0, 0, 0, 0, 0, 0, 0, 0, 0, 0, 0, 0, 0, 0, 0, 0, 0, 0, 0, 0, 0, 0, 0, 0, 0, 0, 0, 0, 0, 0, 0, 0, 0, 0, 0, 0, 0, 0, 0, 0, 0, 0, 0, 0, 0, 0, 0, 0, 0, 0, 0, 0, 0, 0, 0, 0, 0, 0, 0, 0, 0, 0, 0, 0, 0, 0, 0, 0, 0, 0, 0, 0, 0, 0, 0, 0, 0, 0, 0, 0, 0, 0, 0, 0, 0, 0, 0, 0, 0, 0, 0, 0, 0, 0, 0, 0, 0, 0, 0, 0, 0, 0, 0, 0, 0, 0, 0, 0, 0, 0, 0, 0, 0, 0, 0, 0, 0, 0, 0, 0, 0, 0, 0, 0, 0, 0, 0, 0, 0, 0, 0, 0, 0, 0, 0, 0, 0, 0, 0, 0, 0, 0, 0, 0, 0, 0, 0, 0, 0, 0, 0, 0, 0, 0, 0, 0, 0, 0, 0, 0, 0, 0, 0, 0, 0, 0, 0, 0, 0, 0, 0, 0, 0, 0, 0, 0, 0, 0, 0, 0, 0, 0, 0, 0, 0, 0, 0, 0, 0, 0, 0, 0, 0, 0, 0, 0, 0, 0, 0, 0, 0, 0, 0, 0, 0, 0, 0, 0, 0, 0, 0, 0, 0, 0, 0, 0, 0, 0, 0, 0, 0, 0, 0, 0, 0, 0, 0, 0, 0, 0, 0, 0, 0, 0, 0, 0, 0, 0, 0, 0, 0, 0, 0, 0, 0, 0, 0, 0, 0, 0, 0, 0, 0, 0, 0, 0, 0, 0, 0, 0, 0, 0, 0, 0, 0, 0, 0, 0, 0, 0, 0, 0, 0, 0, 0, 0, 0, 0, 0, 0, 0, 0, 0, 0, 0, 0, 0, 0, 0, 0, 0, 0, 0, 0, 0, 0, 0, 0, 0, 0, 0, 0, 0, 0, 0, 0, 0, 0, 0, 0, 0, 0, 0, 0, 0, 0, 0, 0, 0, 0, 0, 0, 0, 0, 0, 0, 0, 0, 0, 0, 0, 0, 0, 0, 0, 0, 0, 0, 0, 0, 0, 0, 0, 0, 0, 0, 0, 0, 0, 0, 0, 0, 0, 0, 0, 0, 0, 0, 0, 0, 0, 0, 0, 0, 0, 0, 0, 0, 0, 0, 0, 0, 0, 0, 0, 0, 0, 0, 0, 0, 0, 0, 0, 0, 0, 0, 0, 0, 0, 0, 0, 0, 0, 0, 0, 0, 0, 0, 0, 0, 0, 0, 0, 0, 0, 0, 0, 0, 0, 0, 0, 0, 0, 0, 0, 0, 0, 0, 0, 0, 0, 0, 0, 0, 0, 0, 0, 0, 0, 0, 0, 0, 0, 0, 0, 0, 0, 0, 0, 0, 0, 0, 0, 0, 0, 0, 0, 0, 0, 0, 0, 0, 0, 0, 0, 0, 0, 1, 0, 0, 0, 0, 0, 0, 0, 0, 0, 0, 0, 0, 0, 0, 0, 0, 0, 0, 0, 0, 0, 0, 0, 0, 0, 0, 0, 0, 0, 0, 0, 0, 0, 0, 0, 0, 0, 0, 0, 0, 0, 0, 0, 0, 0, 0, 0, 0, 0, 0, 0, 0, 0, 0, 0, 0, 0, 0, 0, 0, 0, 0, 0, 0, 0, 0, 0, 0, 0, 0, 0, 0, 0, 0, 0, 0, 0, 0, 0, 0, 0, 0, 0, 0, 0, 0, 0, 0, 0, 0, 0, 0, 0, 0, 0, 0, 0, 0, 0, 0, 0, 0, 0, 0, 0, 0, 0, 0, 0, 0, 0, 0, 0, 0, 0, 0, 0, 0, 0, 0, 0, 0, 0, 0, 0, 0, 0, 0, 0, 0, 0, 0, 0, 0, 0, 0, 0, 0, 0, 0, 0, 0, 0, 0, 0, 0, 0, 0, 0, 0, 0, 0, 0, 0, 0, 0, 0, 0, 0, 0, 0, 0, 0, 0, 0, 0, 0, 0, 0, 0, 0, 0, 0, 0, 0, 0, 0, 0, 0, 0, 0, 0, 0, 0, 0, 0, 0, 0, 0, 0, 0, 0, 0, 0, 0, 0, 0, 0, 0, 0, 0, 0, 0, 0, 0, 0, 0, 0, 0, 0, 0, 0, 0, 0, 0, 0, 0, 0, 0, 0, 0, 0, 0, 0, 0, 0, 0, 0, 0, 0, 0, 0, 0, 0, 0, 0, 0, 0, 0, 0, 0, 0, 0, 0, 0, 0, 0, 0, 0, 0, 0, 0, 0, 0, 0, 0, 0, 0, 0, 0, 0, 0, 0, 0, 0, 0, 0, 0, 0, 0, 0, 0, 0, 0, 0, 0, 0, 0, 0, 0, 0, 0, 0, 0, 0, 0, 0, 0, 0, 0, 0, 0, 0, 0, 0, 0, 0, 0, 0, 0, 0, 0, 0, 0, 0, 0, 0, 0, 0, 0, 0, 0, 0, 0, 0, 0, 0, 0, 0, 0, 0, 0, 0, 0, 0, 0, 0, 0, 0, 0, 0, 0, 0, 0, 0, 0, 0, 0, 0, 0, 0, 0, 0, 0, 0, 0, 0, 0, 0, 0, 0, 0, 0, 0, 0, 0, 0, 0, 0, 0, 0, 0, 0, 0, 0, 0, 0, 0, 0, 0, 0, 0, 0, 0, 0, 0, 0, 0, 0, 0, 0, 0, 0, 0, 0, 0, 0, 0, 0, 0, 0, 0, 0, 0, 0, 0, 0, 0, 0, 0, 0, 0, 0, 0, 0, 0, 0, 0, 0, 0, 0, 0, 0, 0, 0, 0, 0, 0, 0, 0, 0, 0, 0, 0, 0, 0, 0, 0, 0, 0, 0, 0, 0, 0, 0, 0, 0, 0, 0, 0, 0, 0, 0, 0, 0, 0, 0, 0, 0, 0, 0, 0, 0, 0, 0, 0, 0, 0, 0, 0, 0, 0, 0, 0, 0, 0, 0, 0, 0, 0, 0, 0, 0, 0, 0, 0, 0, 0, 0, 0, 0, 0, 0, 0, 0, 0, 0, 0, 0, 0, 0, 0, 0, 0, 0, 0, 0, 0, 0, 0, 0, 0, 0, 0, 0, 0, 0, 0, 0, 0, 0, 0, 1, 0, 0, 0, 0, 0, 0, 0, 0, 0, 0, 0, 0, 0, 0, 0, 0, 0, 0, 0, 0, 0, 0, 0, 0, 0, 0, 0, 0, 0, 0, 0, 0, 0, 0, 0, 2, 0, 0, 0, 0, 0, 0, 0, 0, 0, 0, 0, 0, 0, 0, 0, 0, 0, 0, 0, 0, 0, 0, 0, 0, 0, 0, 0, 0, 0, 0, 0, 0, 0, 0, 0, 0, 0, 0, 0, 0, 1, 0, 0, 0, 0, 0, 0, 0, 0, 0, 0, 0, 0, 0, 0, 0, 0, 0, 0, 0, 0, 0, 0, 0, 0, 0, 0, 0, 0, 0, 0, 0, 0, 0, 0, 0, 0, 0, 0, 0, 0, 0, 0, 0, 0, 0, 0, 0, 0, 0, 0, 0, 0, 0, 0, 0, 0, 0, 0, 0, 0, 0, 0, 0, 0, 0, 0, 0, 0, 0, 0, 0, 0, 0, 0, 0, 0, 0, 0, 0, 0, 0, 0, 0, 0, 0, 0, 0, 0, 0, 0, 0, 0, 0, 0, 0, 0, 0, 0, 0, 0, 0, 0, 0, 0, 0, 0, 0, 0, 0, 0, 0, 0, 0, 0, 0, 0, 0, 0, 0, 0, 0, 0, 0, 0, 0, 0, 0, 0, 0, 0, 0, 0, 0, 0, 0, 0, 0, 0, 0, 0, 0, 0, 0, 0, 0, 0, 0, 0, 0, 0, 0, 0, 0, 0, 0, 0, 0, 0, 0, 0, 0, 0, 0, 0, 0, 0, 0, 0, 0, 0, 0, 0, 0, 0, 0, 0, 0, 0, 0, 0, 0, 0, 0, 0, 0, 0, 0, 0, 0, 0, 0, 0, 0, 0, 0, 0, 0, 0, 0, 0, 0, 0, 0, 0, 0, 0, 0, 0, 0, 0, 0, 0, 0, 0, 0, 0, 0, 0, 0, 0, 0, 0, 0, 0, 0, 0, 0, 0, 0, 0, 0, 0, 0, 0, 0, 0, 0, 0, 0, 0, 0, 0, 0, 0, 0, 0, 0, 0, 0, 0, 0, 0, 0, 0, 0, 0, 0, 0, 0, 0, 0, 0, 0, 0, 0, 0, 0, 0, 0, 0, 0, 0, 0, 0, 0, 0, 0, 0, 0, 0, 0, 0, 0, 0, 0, 0, 0, 0, 0, 0, 0, 0, 0, 0, 0, 0, 0, 0, 0, 0, 0, 0, 0, 0, 0, 0, 0, 0, 0, 0, 0, 0, 0, 0, 0, 0, 0, 0, 0, 0, 0, 0, 0, 0, 0, 0, 0, 0, 0, 0, 0, 0, 0, 0, 0, 0, 0, 0, 0, 0, 0, 0, 0, 0, 0, 0, 0, 0, 0, 0, 0, 0, 0, 0, 0, 0, 0, 0, 0, 0, 0, 0, 0, 0, 0, 0, 0, 0, 0, 0, 0, 0, 0, 0, 0, 0, 0, 0, 0, 0, 0, 0, 0, 0, 0, 0, 0, 0, 0, 0, 0, 0, 0, 0, 0, 0, 0, 0, 0, 0, 0, 0, 0, 0, 0, 0, 0, 0, 0, 0, 0, 0, 0, 0, 0, 0, 0, 0, 0, 0, 0, 0, 0, 0, 0, 0, 0, 0, 0, 0, 0, 0, 0, 0, 0, 0, 0, 0, 0, 0, 0, 0, 0, 0, 0, 0, 0, 0, 0, 0, 0, 0, 0, 0, 0, 0, 0, 0, 0, 0, 0, 0, 0, 0, 0, 0, 0, 0, 0, 0, 0, 0, 0, 0, 0, 0, 0, 0, 0, 0, 0, 0, 0, 0, 0, 0, 0, 0, 0, 0, 0, 0, 0, 0, 0, 0, 0, 1, 0, 0, 0, 0, 0, 0, 0, 0, 0, 0, 0, 0, 0, 0, 0, 0, 0, 0, 0, 0, 0, 0, 0, 0, 0, 0, 0, 0, 0, 0, 0, 0, 0, 0, 0, 0, 0, 0, 0, 0, 0, 0, 0, 0, 0, 0, 0, 0, 0, 0, 0, 0, 0, 0, 0, 0, 0, 0, 0, 0, 0, 0, 0, 0, 0, 0, 0, 0, 0, 0, 0, 0, 0, 0, 0, 0, 0, 0, 0, 0, 0, 0, 0, 0, 0, 0, 0, 0, 0, 0, 0, 0, 0, 0, 0, 0, 0, 0, 0, 0, 0, 0, 0, 0, 0, 0, 0, 0, 0, 0, 2, 0, 0, 0, 0, 0, 0, 0, 0, 0, 0, 0, 0, 0, 0, 0, 0, 0, 0, 0, 0, 0, 0, 0, 0, 0, 0, 0, 0, 0, 0, 0, 0, 0, 0, 0, 0, 0, 0, 0, 0, 0, 0, 0, 0, 0, 0, 0, 0, 0, 0, 0, 0, 0, 0, 0, 0, 0, 0, 0, 0, 0, 0, 0, 0, 0, 0, 0, 0, 0, 0, 0, 0, 0, 0, 0, 0, 0, 0, 0, 0, 0, 0, 0, 0, 0, 0, 0, 0, 0, 0, 0, 0, 0, 0, 0, 0, 0, 0, 0, 0, 0, 0, 0, 0, 0, 0, 0, 0, 0, 0, 0, 0, 0, 0, 0, 0, 0, 0, 0, 0, 0, 0, 0, 0, 0, 0, 0, 0, 0, 0, 0, 0, 0, 0, 0, 0, 0, 0, 0, 0, 0, 0, 0, 0, 0, 0, 0, 0, 0, 0, 0, 0, 0, 0, 0, 0, 0, 0, 0, 0, 0, 0, 0, 0, 0, 0, 0, 0, 0, 0, 0, 0, 0, 0, 0, 0, 0, 0, 0, 0, 0, 0, 0, 0, 0, 0, 0, 0, 0, 0, 0, 0, 0, 0, 0, 0, 0, 0, 0, 0, 0, 0, 0, 0, 0, 0, 0, 0, 0, 0, 0, 0, 0, 0, 0, 0, 0, 0, 0, 0, 0, 0, 0, 0, 0, 0, 0, 0, 0, 0, 0, 0, 0, 0, 0, 0, 0, 0, 0, 0, 0, 0, 0, 0, 0, 0, 0, 0, 0, 0, 0, 0, 0, 0, 0, 0, 0, 0, 0, 0, 0, 0, 0, 0, 0, 0, 0, 0, 0, 0, 0, 0, 0, 0, 0, 0, 0, 0, 0, 0, 0, 0, 0, 0, 0, 0, 0, 0, 0, 0, 0, 0, 0, 0, 0, 0, 0, 0, 0, 0, 0, 0, 0, 0, 0, 0, 0, 0, 0, 0, 0, 0, 0, 0, 0, 0, 0, 0, 0, 0, 0, 0, 0, 0, 0, 0, 0, 0, 0, 0, 0, 0, 0, 0, 0, 0, 0, 0, 0, 0, 0, 0, 0, 0, 0, 0, 0, 0, 0, 0, 0, 0, 0, 0, 0, 0, 0, 0, 0, 0, 0, 0, 0, 0, 0, 0, 0, 0, 0, 0, 0, 0, 0, 0, 0, 0, 0, 0, 0, 0, 0, 0, 0, 0, 0, 0, 0, 0, 0, 0, 0, 0, 0, 0, 0, 0, 0, 0, 0, 0, 0, 0, 0, 0, 0, 0, 0, 0, 0, 0, 0, 0, 0, 0, 0, 0, 0, 0, 0, 0, 0, 0, 0, 0, 0, 0, 0, 0, 0, 0, 0, 0, 0, 0, 0, 0, 0, 0, 0, 0, 0, 0, 0, 0, 0, 0, 0, 0, 0, 0, 0, 0, 0, 0, 0, 0, 0, 0, 0, 0, 0, 0, 0, 0, 0, 0, 0, 0, 0, 0, 0, 0, 0, 0, 0, 0, 0, 0, 0, 0, 0, 0, 0, 0, 0, 0, 0, 0, 0, 0, 0, 0, 0, 0, 0, 0, 0, 0, 0, 0, 0, 0, 0, 0, 0, 0, 0, 0, 0, 0, 0, 0, 0, 0, 0, 0, 0, 0, 0, 0, 0, 0, 0, 0, 0, 0, 0, 0, 0, 0, 0, 0, 0, 0, 0, 0, 0, 0, 0, 0, 0, 0, 0, 0, 0, 0, 0, 0, 0, 0, 0, 0, 0, 0, 0, 0, 0, 0, 0, 0, 0, 0, 0, 0, 0, 0, 0, 0, 0, 0, 0, 0, 0, 0, 0, 0, 0, 0, 0, 0, 0, 0, 0, 0, 0, 0, 0, 0, 0, 0, 0, 0, 0, 0, 0, 0, 0, 0, 0, 0, 0, 0, 0, 0, 0, 0, 0, 0, 0, 0, 0, 0, 0, 0, 0, 0, 0, 0, 0, 0, 0, 0, 0, 0, 0, 0, 0, 0, 0, 0, 0, 0, 0, 0, 0, 0, 0, 0, 0, 0, 0, 0, 0, 0, 0, 0, 0, 0, 0, 0, 0, 0, 0, 0, 0, 0, 0, 0, 0, 0, 0, 0, 0, 0, 0, 0, 0, 0, 0, 0, 0, 0, 0, 0, 0, 0, 0, 0, 0, 0, 0, 0, 0, 0, 0, 0, 0, 0, 0, 0, 1, 0, 0, 0, 0, 0, 0, 0, 0, 0, 0, 0, 0, 0, 0, 0, 0, 0, 0, 0, 0, 0, 0, 0, 0, 0, 0, 0, 0, 0, 0, 0, 0, 0, 0, 0, 0, 0, 0, 0, 0, 0, 0, 0, 0, 0, 0, 0, 0, 0, 0, 0, 0, 0, 0, 0, 0, 0, 0, 0, 0, 0, 0, 0, 0, 0, 0, 0, 0, 0, 0, 0, 0, 0, 0, 0, 0, 0, 0, 0, 0, 0, 0, 0, 0, 0, 0, 0, 0, 0, 0, 0, 0, 0, 0, 0, 0, 0, 0, 0, 0, 0, 0, 0, 0, 0, 0, 0, 1, 0, 0, 0, 0, 0, 0, 0, 0, 0, 0, 0, 0, 0, 0, 0, 0, 0, 0, 0, 0, 0, 0, 0, 0, 0, 0, 0, 0, 0, 0, 0, 0, 0, 0, 0, 0, 0, 0, 0, 0, 0, 0, 0, 0, 0, 0, 0, 0, 0, 0, 0, 0, 0, 0, 0, 0, 0, 0, 0, 0, 0, 0, 0, 0, 0, 0, 0, 0, 0, 0, 0, 0, 0, 0, 0, 0, 0, 0, 0, 0, 0, 0, 0, 0, 0, 0, 0, 0, 0, 0, 0, 0, 0, 0, 0, 0, 0, 0, 0, 0, 0, 0, 0, 0, 0, 0, 0, 0, 0, 0, 0, 0, 0, 0, 0, 0, 0, 0, 0, 0, 0, 0, 0, 0, 0, 0, 0, 0, 0, 0, 0, 0, 0, 0, 0, 0, 0, 0, 0, 0, 0, 0, 0, 0, 0, 0, 0, 0, 0, 0, 0, 0, 0, 0, 0, 0, 0, 0, 0, 0, 0, 0, 0, 0, 0, 0, 0, 0, 0, 0, 0, 0, 0, 0, 0, 0, 0, 0, 0, 0, 0, 0, 0, 0, 0, 0, 0, 0, 0, 0, 0, 0, 0, 0, 0, 0, 0, 0, 0, 0, 0, 0, 0, 0, 0, 0, 0, 0, 0, 0, 0, 0, 0, 0, 0, 0, 0, 0, 0, 0, 0, 0, 0, 0, 0, 0, 0, 0, 0, 0, 0, 0, 0, 0, 0, 0, 0, 0, 0, 0, 0, 0, 0, 0, 0, 0, 0, 0, 0, 0, 0, 0, 0, 0, 0, 0, 0, 0, 0, 0, 0, 0, 0, 0, 0, 0, 0, 0, 0, 0, 0, 0, 0, 0, 0, 0, 0, 0, 0, 0, 0, 0, 0, 0, 0, 0, 0, 0, 0, 0, 0, 0, 0, 0, 0, 0, 0, 0, 0, 0, 0, 0, 0, 0, 0, 0, 0, 0, 0, 0, 0, 0, 0, 0, 0, 0, 0, 0, 0, 0, 0, 0, 0, 0, 0, 0, 0, 0, 0, 0, 0, 0, 0, 0, 0, 0, 0, 0, 0, 0, 0, 0, 0, 0, 0, 0, 0, 0, 0, 0, 0, 0, 0, 0, 0, 0, 0, 0, 0, 0, 0, 0, 0, 0, 0, 0, 0, 0, 0, 0, 0, 0, 0, 0, 0, 0, 0, 0, 0, 0, 0, 0, 0, 0, 0, 0, 0, 0, 0, 0, 0, 0, 0, 0, 0, 0, 0, 0, 0, 0, 0, 0, 0, 0, 0, 0, 0, 0, 0, 0, 0, 0, 0, 0, 0, 0, 0, 0, 0, 0, 0, 0, 0, 0, 0, 0, 0, 0, 0, 0, 0, 0, 0, 0, 0, 0, 0, 0, 0, 0, 0, 0, 0, 0, 0, 0, 0, 0, 0, 0, 0, 0, 0, 0, 0, 0, 0, 0, 0, 0, 0, 0, 0, 2, 0, 1, 0]\n"
     ]
    }
   ],
   "source": [
    "test_bow = bow_encoding(test_words, vocabulary)\n",
    "print(test_bow)"
   ]
  },
  {
   "cell_type": "code",
   "execution_count": 40,
   "metadata": {},
   "outputs": [
    {
     "data": {
      "text/plain": [
       "5000"
      ]
     },
     "execution_count": 40,
     "metadata": {},
     "output_type": "execute_result"
    }
   ],
   "source": [
    "len(test_bow)"
   ]
  },
  {
   "cell_type": "markdown",
   "metadata": {},
   "source": [
    "So now we know how to construct a bag of words encoding of a user provided review, how to we send it to our endpoint? First, we need to start the endpoint back up."
   ]
  },
  {
   "cell_type": "code",
   "execution_count": 41,
   "metadata": {},
   "outputs": [
    {
     "name": "stderr",
     "output_type": "stream",
     "text": [
      "INFO:sagemaker:Creating model with name: xgboost-2019-05-01-12-31-54-335\n",
      "INFO:sagemaker:Creating endpoint with name xgboost-2019-05-01-12-08-46-133\n"
     ]
    },
    {
     "name": "stdout",
     "output_type": "stream",
     "text": [
      "---------------------------------------------------------------------------!"
     ]
    }
   ],
   "source": [
    "xgb_predictor = xgb.deploy(initial_instance_count = 1, instance_type = 'ml.m4.xlarge')"
   ]
  },
  {
   "cell_type": "markdown",
   "metadata": {},
   "source": [
    "At this point we could just do the same thing that we did earlier when we tested our deployed model and send `test_bow` to our endpoint using the `xgb_predictor` object. However, when we eventually construct our Lambda function we won't have access to this object, so how do we call a SageMaker endpoint?\n",
    "\n",
    "It turns out that Python functions that are used in Lambda have access to another Amazon library called `boto3`. This library provides an API for working with Amazon services, including SageMaker. To start with, we need to get a handle to the SageMaker runtime."
   ]
  },
  {
   "cell_type": "code",
   "execution_count": 43,
   "metadata": {},
   "outputs": [],
   "source": [
    "import boto3\n",
    "\n",
    "runtime = boto3.Session().client('sagemaker-runtime')"
   ]
  },
  {
   "cell_type": "markdown",
   "metadata": {},
   "source": [
    "And now that we have access to the SageMaker runtime, we can ask it to make use of (invoke) an endpoint that has already been created. However, we need to provide SageMaker with the name of the deployed endpoint. To find this out we can print it out using the `xgb_predictor` object."
   ]
  },
  {
   "cell_type": "code",
   "execution_count": 44,
   "metadata": {},
   "outputs": [
    {
     "data": {
      "text/plain": [
       "'xgboost-2019-05-01-12-08-46-133'"
      ]
     },
     "execution_count": 44,
     "metadata": {},
     "output_type": "execute_result"
    }
   ],
   "source": [
    "xgb_predictor.endpoint"
   ]
  },
  {
   "cell_type": "markdown",
   "metadata": {},
   "source": [
    "Using the SageMaker runtime and the name of our endpoint, we can invoke the endpoint and send it the `test_bow` data."
   ]
  },
  {
   "cell_type": "code",
   "execution_count": 45,
   "metadata": {},
   "outputs": [
    {
     "ename": "ParamValidationError",
     "evalue": "Parameter validation failed:\nInvalid type for parameter Body, value: [0, 0, 0, 0, 0, 0, 0, 0, 0, 0, 0, 0, 0, 0, 0, 0, 0, 0, 0, 0, 0, 0, 0, 0, 0, 0, 0, 0, 0, 0, 0, 0, 0, 0, 0, 0, 0, 0, 0, 0, 0, 0, 0, 0, 0, 0, 0, 0, 0, 0, 0, 0, 0, 0, 0, 0, 0, 0, 0, 0, 0, 0, 0, 0, 0, 0, 0, 0, 0, 0, 0, 0, 0, 0, 0, 0, 0, 0, 0, 0, 0, 0, 0, 0, 0, 0, 0, 0, 0, 0, 0, 0, 0, 0, 0, 0, 0, 0, 0, 0, 0, 0, 0, 0, 0, 0, 0, 0, 0, 0, 0, 0, 0, 0, 0, 0, 0, 0, 0, 0, 0, 0, 0, 0, 0, 0, 0, 0, 0, 0, 0, 0, 0, 0, 0, 0, 0, 0, 0, 0, 0, 0, 0, 0, 0, 0, 0, 0, 0, 0, 0, 0, 0, 0, 0, 0, 0, 0, 0, 0, 0, 0, 0, 0, 0, 0, 0, 0, 0, 0, 0, 0, 0, 0, 0, 0, 0, 0, 0, 0, 0, 0, 0, 0, 0, 0, 0, 0, 0, 0, 0, 0, 0, 0, 0, 0, 0, 0, 0, 0, 0, 0, 0, 0, 0, 0, 0, 0, 0, 0, 0, 0, 0, 0, 0, 0, 0, 0, 0, 0, 0, 0, 0, 0, 0, 0, 1, 0, 0, 0, 0, 0, 0, 0, 0, 0, 0, 0, 0, 0, 0, 0, 0, 0, 0, 0, 0, 0, 0, 0, 0, 0, 0, 0, 0, 0, 1, 0, 0, 0, 0, 0, 0, 0, 0, 0, 0, 0, 0, 0, 0, 0, 0, 0, 0, 0, 0, 0, 0, 0, 0, 0, 0, 0, 0, 0, 0, 0, 0, 0, 0, 0, 0, 0, 0, 0, 0, 0, 0, 0, 0, 0, 0, 0, 0, 0, 0, 0, 0, 0, 0, 0, 0, 0, 0, 0, 0, 0, 0, 0, 0, 0, 0, 0, 0, 0, 0, 0, 0, 0, 0, 0, 0, 0, 0, 0, 0, 0, 0, 0, 0, 0, 0, 0, 0, 0, 0, 0, 0, 0, 0, 0, 0, 0, 0, 0, 0, 0, 0, 0, 0, 0, 0, 0, 0, 0, 0, 0, 0, 0, 0, 0, 0, 0, 0, 0, 0, 0, 0, 0, 0, 0, 0, 0, 0, 0, 0, 0, 0, 0, 0, 0, 0, 0, 0, 0, 0, 0, 0, 0, 0, 0, 0, 0, 0, 0, 0, 0, 0, 0, 0, 0, 0, 0, 0, 0, 0, 0, 0, 0, 0, 0, 0, 0, 0, 0, 0, 0, 0, 0, 0, 0, 0, 0, 0, 0, 0, 0, 0, 0, 0, 0, 0, 0, 0, 0, 0, 0, 0, 0, 0, 0, 0, 0, 0, 0, 0, 0, 0, 0, 0, 0, 0, 0, 0, 0, 0, 0, 0, 0, 0, 0, 0, 0, 0, 0, 0, 0, 0, 0, 0, 0, 0, 0, 0, 0, 0, 0, 0, 0, 0, 0, 0, 0, 0, 0, 0, 0, 0, 0, 0, 0, 0, 0, 0, 0, 0, 0, 0, 0, 0, 0, 0, 0, 0, 0, 0, 0, 0, 0, 0, 0, 0, 0, 0, 0, 0, 0, 0, 0, 0, 0, 0, 0, 0, 0, 0, 0, 0, 0, 0, 0, 0, 0, 0, 0, 0, 0, 0, 0, 0, 0, 0, 0, 0, 0, 0, 0, 0, 0, 0, 0, 0, 0, 0, 0, 0, 0, 0, 0, 0, 0, 0, 0, 0, 0, 0, 0, 0, 0, 0, 0, 0, 0, 0, 0, 0, 0, 0, 0, 0, 0, 0, 0, 0, 0, 0, 0, 0, 0, 0, 0, 0, 0, 0, 0, 0, 0, 0, 0, 0, 0, 0, 0, 0, 0, 0, 0, 0, 0, 0, 0, 0, 0, 0, 0, 0, 0, 0, 0, 0, 0, 0, 0, 0, 0, 1, 0, 0, 0, 0, 0, 0, 0, 0, 0, 0, 0, 0, 0, 0, 0, 0, 0, 0, 0, 0, 0, 0, 0, 0, 0, 0, 0, 0, 0, 0, 0, 0, 0, 0, 0, 0, 0, 0, 0, 0, 0, 0, 0, 0, 0, 0, 0, 0, 0, 0, 0, 0, 0, 0, 0, 0, 0, 0, 0, 0, 0, 0, 0, 0, 0, 0, 0, 0, 0, 0, 0, 0, 0, 0, 0, 0, 0, 0, 0, 0, 0, 0, 0, 0, 0, 0, 0, 0, 0, 0, 0, 0, 0, 0, 0, 0, 0, 0, 0, 0, 0, 0, 0, 0, 0, 0, 0, 0, 0, 0, 0, 0, 0, 0, 0, 0, 0, 0, 0, 0, 0, 0, 0, 0, 0, 0, 0, 0, 0, 0, 0, 0, 0, 0, 0, 0, 0, 0, 0, 0, 0, 0, 0, 0, 0, 0, 0, 0, 0, 0, 0, 0, 0, 0, 0, 0, 0, 0, 0, 0, 0, 0, 0, 0, 0, 0, 0, 0, 0, 0, 0, 0, 0, 0, 0, 0, 0, 0, 0, 0, 0, 0, 0, 0, 0, 0, 0, 0, 0, 0, 0, 0, 0, 0, 0, 0, 0, 0, 0, 0, 0, 0, 0, 0, 0, 0, 0, 0, 0, 0, 0, 0, 0, 0, 0, 0, 0, 0, 0, 0, 0, 0, 0, 0, 0, 0, 0, 0, 0, 0, 0, 0, 0, 0, 0, 0, 0, 0, 0, 0, 0, 0, 0, 0, 0, 0, 0, 0, 0, 0, 0, 0, 0, 1, 0, 0, 0, 0, 0, 0, 0, 0, 0, 0, 0, 0, 0, 0, 0, 0, 0, 0, 0, 0, 0, 0, 0, 0, 0, 0, 0, 0, 0, 0, 0, 0, 0, 0, 0, 0, 0, 0, 0, 0, 0, 0, 0, 0, 0, 0, 0, 0, 0, 0, 0, 0, 0, 0, 0, 0, 0, 0, 0, 0, 0, 0, 0, 0, 0, 0, 0, 0, 0, 0, 0, 0, 0, 0, 0, 0, 0, 0, 0, 0, 0, 0, 0, 0, 0, 0, 1, 0, 0, 0, 0, 0, 0, 0, 0, 0, 0, 0, 0, 0, 0, 0, 0, 0, 0, 0, 0, 0, 0, 0, 0, 0, 0, 0, 0, 0, 0, 0, 0, 0, 0, 0, 0, 0, 0, 0, 0, 0, 0, 0, 0, 0, 0, 0, 0, 0, 0, 0, 0, 0, 0, 0, 0, 0, 0, 0, 0, 0, 0, 0, 0, 0, 0, 0, 0, 0, 0, 0, 0, 0, 0, 0, 0, 0, 0, 0, 0, 0, 0, 0, 0, 0, 0, 0, 0, 0, 0, 0, 0, 0, 0, 0, 0, 0, 0, 0, 0, 0, 0, 0, 0, 0, 0, 0, 0, 0, 0, 0, 0, 0, 0, 0, 0, 0, 0, 0, 0, 0, 0, 0, 0, 0, 0, 0, 0, 0, 0, 0, 0, 0, 0, 0, 0, 0, 0, 0, 0, 0, 0, 0, 0, 0, 0, 0, 0, 0, 0, 0, 0, 0, 0, 0, 0, 0, 0, 0, 0, 0, 0, 0, 0, 0, 0, 0, 0, 0, 0, 0, 0, 0, 0, 0, 0, 0, 0, 0, 0, 0, 0, 0, 0, 0, 0, 0, 0, 0, 0, 0, 0, 0, 0, 0, 0, 0, 0, 0, 0, 0, 0, 0, 0, 0, 0, 0, 0, 0, 0, 0, 0, 0, 0, 0, 0, 0, 0, 0, 0, 0, 0, 0, 0, 0, 0, 0, 0, 0, 0, 0, 0, 0, 0, 0, 0, 0, 0, 0, 0, 0, 0, 0, 0, 0, 0, 0, 0, 0, 0, 0, 0, 1, 0, 0, 0, 0, 0, 0, 0, 0, 0, 0, 0, 0, 0, 0, 0, 0, 0, 0, 0, 0, 0, 0, 0, 0, 0, 0, 0, 0, 0, 0, 0, 0, 0, 0, 0, 0, 0, 0, 0, 0, 0, 0, 0, 0, 0, 0, 0, 0, 0, 0, 0, 0, 0, 0, 0, 1, 0, 0, 0, 0, 0, 0, 0, 0, 0, 0, 0, 0, 0, 0, 0, 0, 0, 0, 0, 0, 0, 0, 0, 0, 0, 0, 0, 0, 0, 0, 0, 0, 0, 0, 0, 0, 0, 0, 0, 0, 0, 0, 0, 0, 0, 0, 0, 0, 0, 0, 0, 0, 0, 0, 0, 0, 0, 0, 0, 0, 0, 0, 0, 0, 0, 0, 0, 0, 0, 0, 0, 0, 0, 0, 0, 0, 0, 0, 0, 0, 0, 0, 0, 0, 0, 0, 0, 0, 0, 0, 0, 0, 0, 0, 0, 0, 0, 0, 0, 0, 0, 0, 0, 0, 0, 0, 0, 0, 0, 0, 0, 0, 0, 0, 0, 0, 0, 0, 0, 0, 0, 0, 0, 0, 0, 0, 0, 0, 0, 0, 0, 0, 0, 0, 0, 0, 0, 0, 0, 0, 0, 0, 0, 0, 0, 0, 0, 0, 0, 0, 0, 0, 0, 0, 0, 0, 0, 0, 0, 0, 0, 0, 0, 0, 0, 0, 0, 0, 0, 0, 0, 0, 0, 0, 0, 0, 0, 0, 0, 0, 0, 0, 0, 0, 0, 0, 0, 0, 0, 0, 0, 0, 0, 0, 0, 0, 0, 0, 0, 0, 0, 0, 0, 0, 0, 0, 0, 0, 0, 0, 0, 0, 0, 0, 0, 0, 0, 0, 0, 0, 0, 0, 0, 0, 0, 0, 0, 0, 0, 0, 0, 0, 0, 0, 0, 0, 0, 0, 0, 0, 0, 0, 0, 0, 0, 0, 0, 0, 0, 0, 0, 0, 0, 0, 0, 0, 0, 0, 0, 0, 0, 0, 0, 0, 0, 0, 0, 0, 0, 0, 0, 0, 0, 0, 0, 0, 0, 0, 0, 0, 0, 0, 0, 0, 0, 0, 0, 0, 0, 0, 0, 0, 0, 0, 0, 0, 0, 0, 0, 0, 0, 0, 0, 0, 0, 0, 0, 0, 0, 0, 0, 0, 0, 0, 0, 0, 0, 0, 0, 0, 0, 0, 0, 0, 0, 0, 0, 0, 0, 0, 0, 0, 0, 0, 0, 0, 0, 0, 0, 0, 0, 0, 0, 0, 0, 0, 0, 0, 0, 0, 0, 0, 0, 0, 0, 0, 0, 0, 0, 0, 0, 0, 0, 0, 0, 0, 0, 0, 0, 0, 0, 0, 0, 0, 0, 0, 0, 0, 0, 0, 0, 0, 0, 0, 0, 0, 0, 0, 0, 0, 0, 0, 0, 0, 0, 0, 0, 0, 0, 0, 0, 0, 0, 0, 0, 0, 0, 0, 0, 0, 0, 0, 0, 0, 0, 0, 0, 0, 0, 0, 0, 0, 0, 0, 0, 0, 0, 0, 0, 0, 0, 0, 0, 0, 0, 0, 0, 0, 0, 0, 0, 0, 0, 0, 0, 0, 0, 0, 0, 0, 0, 0, 0, 0, 0, 0, 0, 0, 0, 0, 0, 0, 0, 0, 0, 0, 0, 0, 0, 0, 0, 0, 0, 0, 0, 0, 0, 0, 0, 0, 0, 0, 0, 0, 0, 0, 0, 0, 0, 0, 0, 0, 0, 0, 0, 0, 0, 0, 0, 0, 0, 0, 0, 0, 0, 0, 0, 0, 0, 0, 0, 0, 0, 0, 0, 0, 0, 0, 0, 0, 0, 0, 0, 0, 0, 0, 0, 0, 0, 0, 0, 0, 0, 0, 0, 0, 0, 0, 0, 0, 0, 0, 0, 0, 0, 0, 0, 0, 0, 0, 0, 0, 0, 0, 0, 0, 0, 0, 0, 0, 0, 0, 0, 0, 0, 0, 0, 0, 0, 0, 0, 0, 0, 0, 0, 0, 0, 0, 0, 0, 0, 0, 0, 0, 0, 0, 0, 0, 0, 0, 0, 0, 0, 0, 0, 0, 0, 0, 0, 0, 0, 0, 0, 0, 0, 0, 0, 0, 0, 0, 0, 0, 0, 0, 0, 0, 0, 0, 0, 0, 0, 0, 0, 0, 0, 0, 0, 0, 0, 0, 0, 0, 0, 0, 0, 0, 0, 0, 0, 0, 0, 0, 0, 0, 0, 0, 0, 0, 0, 0, 0, 0, 0, 0, 0, 0, 0, 0, 0, 0, 0, 0, 0, 0, 0, 0, 0, 0, 0, 0, 0, 0, 0, 0, 0, 0, 0, 0, 0, 0, 0, 1, 0, 0, 0, 0, 0, 0, 0, 0, 0, 0, 0, 0, 0, 0, 0, 0, 0, 0, 0, 0, 0, 0, 0, 0, 0, 0, 0, 0, 0, 0, 0, 0, 0, 0, 0, 0, 0, 0, 0, 0, 0, 0, 0, 0, 0, 0, 0, 0, 0, 0, 0, 0, 0, 0, 0, 0, 0, 0, 0, 0, 0, 0, 0, 0, 0, 0, 0, 0, 0, 0, 0, 0, 0, 0, 1, 0, 0, 0, 0, 0, 0, 0, 0, 0, 0, 0, 0, 0, 0, 0, 0, 0, 0, 0, 0, 1, 0, 0, 1, 0, 0, 0, 0, 0, 0, 0, 0, 0, 0, 0, 0, 0, 0, 0, 0, 0, 0, 0, 0, 0, 0, 0, 0, 0, 0, 0, 0, 0, 0, 0, 0, 0, 0, 0, 0, 0, 0, 0, 0, 0, 0, 0, 0, 0, 0, 0, 0, 0, 0, 0, 0, 0, 0, 0, 0, 0, 0, 0, 0, 0, 0, 0, 0, 0, 0, 0, 0, 0, 0, 0, 0, 0, 0, 0, 0, 0, 0, 0, 0, 0, 0, 0, 0, 0, 0, 0, 0, 0, 0, 0, 0, 0, 0, 0, 0, 0, 0, 0, 0, 0, 0, 0, 0, 0, 0, 0, 0, 0, 0, 0, 0, 0, 0, 0, 0, 0, 0, 0, 0, 0, 0, 0, 0, 0, 0, 0, 0, 0, 0, 0, 0, 0, 0, 0, 0, 0, 0, 0, 0, 0, 0, 0, 0, 0, 0, 0, 0, 0, 0, 0, 0, 0, 0, 0, 0, 0, 0, 0, 0, 0, 0, 0, 0, 0, 0, 0, 0, 0, 0, 0, 0, 0, 0, 0, 0, 0, 0, 0, 0, 0, 0, 0, 0, 0, 0, 0, 0, 0, 0, 0, 0, 0, 0, 0, 0, 0, 0, 0, 0, 0, 0, 0, 0, 0, 0, 0, 0, 0, 0, 0, 0, 0, 0, 0, 0, 0, 0, 0, 0, 0, 0, 0, 0, 0, 0, 0, 0, 0, 0, 0, 0, 0, 0, 0, 0, 0, 0, 0, 0, 0, 0, 0, 0, 0, 0, 0, 0, 0, 0, 0, 0, 0, 0, 0, 0, 0, 0, 0, 0, 0, 0, 0, 0, 0, 0, 0, 0, 0, 0, 0, 0, 0, 0, 0, 0, 0, 0, 0, 0, 0, 0, 0, 0, 0, 0, 0, 0, 0, 0, 0, 0, 0, 0, 0, 0, 0, 0, 0, 0, 0, 0, 0, 0, 0, 0, 0, 0, 0, 0, 0, 0, 0, 0, 0, 0, 0, 0, 0, 0, 0, 0, 0, 0, 0, 0, 0, 0, 0, 0, 0, 0, 0, 0, 0, 0, 0, 0, 0, 0, 0, 0, 0, 0, 0, 0, 0, 0, 0, 0, 0, 0, 0, 0, 0, 0, 0, 0, 0, 0, 0, 0, 0, 0, 0, 0, 0, 0, 0, 0, 0, 0, 0, 0, 0, 0, 0, 0, 0, 0, 0, 0, 0, 0, 0, 0, 0, 0, 0, 0, 0, 0, 0, 0, 0, 0, 0, 0, 0, 0, 0, 0, 0, 0, 0, 0, 0, 0, 0, 0, 0, 0, 0, 0, 0, 0, 0, 0, 0, 0, 0, 0, 0, 0, 0, 0, 0, 0, 0, 0, 0, 0, 0, 0, 0, 0, 0, 0, 0, 0, 0, 0, 0, 0, 0, 0, 0, 0, 0, 0, 0, 0, 0, 0, 0, 0, 0, 0, 0, 0, 0, 0, 0, 0, 0, 0, 1, 0, 0, 0, 0, 0, 0, 0, 0, 0, 0, 0, 0, 0, 0, 0, 0, 0, 0, 0, 0, 0, 0, 0, 0, 0, 0, 0, 0, 0, 0, 0, 0, 0, 0, 0, 0, 0, 0, 0, 0, 0, 0, 0, 0, 0, 0, 0, 0, 0, 0, 0, 0, 0, 0, 0, 0, 0, 0, 0, 0, 0, 0, 0, 0, 0, 0, 0, 0, 0, 0, 0, 0, 0, 0, 0, 0, 0, 0, 0, 0, 0, 0, 0, 0, 0, 0, 0, 0, 0, 0, 0, 0, 0, 0, 0, 0, 0, 0, 0, 0, 0, 0, 0, 0, 0, 0, 0, 0, 0, 0, 0, 0, 0, 0, 0, 0, 0, 0, 0, 0, 0, 0, 0, 0, 0, 0, 0, 0, 0, 0, 0, 0, 0, 0, 0, 0, 0, 0, 0, 0, 0, 0, 0, 0, 0, 0, 0, 0, 0, 0, 0, 0, 0, 0, 0, 0, 0, 0, 0, 0, 0, 0, 0, 0, 0, 0, 0, 0, 0, 0, 0, 0, 0, 0, 0, 0, 0, 0, 0, 0, 0, 0, 0, 0, 0, 0, 0, 0, 0, 0, 0, 0, 0, 0, 0, 0, 0, 0, 0, 0, 0, 0, 0, 0, 0, 0, 0, 0, 0, 0, 0, 0, 0, 0, 0, 0, 0, 0, 0, 0, 0, 0, 0, 0, 0, 0, 0, 0, 0, 0, 0, 0, 0, 0, 0, 0, 0, 0, 0, 0, 0, 0, 0, 0, 0, 0, 0, 0, 0, 0, 0, 0, 0, 0, 0, 0, 0, 0, 0, 0, 0, 0, 0, 0, 0, 0, 0, 0, 0, 0, 0, 0, 0, 0, 0, 0, 0, 0, 0, 0, 0, 0, 0, 0, 0, 0, 0, 0, 0, 0, 0, 0, 0, 0, 0, 0, 0, 0, 0, 0, 0, 0, 0, 0, 0, 0, 0, 0, 0, 0, 0, 0, 0, 0, 0, 0, 0, 0, 0, 0, 0, 0, 0, 0, 0, 0, 0, 0, 0, 0, 0, 0, 0, 0, 0, 0, 0, 0, 0, 0, 0, 0, 0, 0, 0, 0, 0, 0, 0, 0, 0, 0, 0, 0, 0, 0, 0, 0, 0, 0, 0, 0, 0, 0, 0, 0, 0, 0, 0, 0, 0, 0, 0, 0, 0, 0, 0, 0, 0, 0, 0, 0, 0, 0, 0, 0, 0, 0, 0, 0, 0, 0, 0, 0, 0, 0, 0, 0, 0, 0, 0, 0, 0, 0, 0, 0, 0, 0, 0, 0, 0, 0, 0, 0, 0, 0, 0, 0, 0, 0, 0, 0, 0, 0, 0, 0, 0, 0, 0, 0, 0, 0, 0, 0, 0, 0, 0, 0, 0, 0, 0, 0, 0, 0, 0, 0, 0, 0, 0, 0, 0, 0, 0, 0, 0, 0, 0, 0, 0, 0, 0, 0, 0, 0, 0, 0, 0, 0, 0, 0, 0, 0, 0, 0, 0, 0, 0, 0, 0, 0, 0, 0, 0, 0, 0, 0, 0, 0, 0, 0, 0, 0, 0, 0, 0, 0, 0, 0, 0, 0, 0, 0, 0, 0, 0, 0, 0, 0, 0, 0, 0, 0, 1, 0, 0, 0, 0, 0, 0, 0, 0, 0, 0, 0, 0, 0, 0, 0, 0, 0, 0, 0, 0, 0, 0, 0, 0, 0, 0, 0, 0, 0, 0, 0, 0, 0, 0, 0, 2, 0, 0, 0, 0, 0, 0, 0, 0, 0, 0, 0, 0, 0, 0, 0, 0, 0, 0, 0, 0, 0, 0, 0, 0, 0, 0, 0, 0, 0, 0, 0, 0, 0, 0, 0, 0, 0, 0, 0, 0, 1, 0, 0, 0, 0, 0, 0, 0, 0, 0, 0, 0, 0, 0, 0, 0, 0, 0, 0, 0, 0, 0, 0, 0, 0, 0, 0, 0, 0, 0, 0, 0, 0, 0, 0, 0, 0, 0, 0, 0, 0, 0, 0, 0, 0, 0, 0, 0, 0, 0, 0, 0, 0, 0, 0, 0, 0, 0, 0, 0, 0, 0, 0, 0, 0, 0, 0, 0, 0, 0, 0, 0, 0, 0, 0, 0, 0, 0, 0, 0, 0, 0, 0, 0, 0, 0, 0, 0, 0, 0, 0, 0, 0, 0, 0, 0, 0, 0, 0, 0, 0, 0, 0, 0, 0, 0, 0, 0, 0, 0, 0, 0, 0, 0, 0, 0, 0, 0, 0, 0, 0, 0, 0, 0, 0, 0, 0, 0, 0, 0, 0, 0, 0, 0, 0, 0, 0, 0, 0, 0, 0, 0, 0, 0, 0, 0, 0, 0, 0, 0, 0, 0, 0, 0, 0, 0, 0, 0, 0, 0, 0, 0, 0, 0, 0, 0, 0, 0, 0, 0, 0, 0, 0, 0, 0, 0, 0, 0, 0, 0, 0, 0, 0, 0, 0, 0, 0, 0, 0, 0, 0, 0, 0, 0, 0, 0, 0, 0, 0, 0, 0, 0, 0, 0, 0, 0, 0, 0, 0, 0, 0, 0, 0, 0, 0, 0, 0, 0, 0, 0, 0, 0, 0, 0, 0, 0, 0, 0, 0, 0, 0, 0, 0, 0, 0, 0, 0, 0, 0, 0, 0, 0, 0, 0, 0, 0, 0, 0, 0, 0, 0, 0, 0, 0, 0, 0, 0, 0, 0, 0, 0, 0, 0, 0, 0, 0, 0, 0, 0, 0, 0, 0, 0, 0, 0, 0, 0, 0, 0, 0, 0, 0, 0, 0, 0, 0, 0, 0, 0, 0, 0, 0, 0, 0, 0, 0, 0, 0, 0, 0, 0, 0, 0, 0, 0, 0, 0, 0, 0, 0, 0, 0, 0, 0, 0, 0, 0, 0, 0, 0, 0, 0, 0, 0, 0, 0, 0, 0, 0, 0, 0, 0, 0, 0, 0, 0, 0, 0, 0, 0, 0, 0, 0, 0, 0, 0, 0, 0, 0, 0, 0, 0, 0, 0, 0, 0, 0, 0, 0, 0, 0, 0, 0, 0, 0, 0, 0, 0, 0, 0, 0, 0, 0, 0, 0, 0, 0, 0, 0, 0, 0, 0, 0, 0, 0, 0, 0, 0, 0, 0, 0, 0, 0, 0, 0, 0, 0, 0, 0, 0, 0, 0, 0, 0, 0, 0, 0, 0, 0, 0, 0, 0, 0, 0, 0, 0, 0, 0, 0, 0, 0, 0, 0, 0, 0, 0, 0, 0, 0, 0, 0, 0, 0, 0, 0, 0, 0, 0, 0, 0, 0, 0, 0, 0, 0, 0, 0, 0, 0, 0, 0, 0, 0, 0, 0, 0, 0, 0, 0, 0, 0, 0, 0, 0, 0, 0, 0, 0, 0, 0, 0, 0, 0, 0, 0, 0, 0, 0, 0, 0, 0, 0, 0, 0, 0, 0, 0, 0, 0, 0, 0, 0, 0, 0, 0, 0, 0, 0, 1, 0, 0, 0, 0, 0, 0, 0, 0, 0, 0, 0, 0, 0, 0, 0, 0, 0, 0, 0, 0, 0, 0, 0, 0, 0, 0, 0, 0, 0, 0, 0, 0, 0, 0, 0, 0, 0, 0, 0, 0, 0, 0, 0, 0, 0, 0, 0, 0, 0, 0, 0, 0, 0, 0, 0, 0, 0, 0, 0, 0, 0, 0, 0, 0, 0, 0, 0, 0, 0, 0, 0, 0, 0, 0, 0, 0, 0, 0, 0, 0, 0, 0, 0, 0, 0, 0, 0, 0, 0, 0, 0, 0, 0, 0, 0, 0, 0, 0, 0, 0, 0, 0, 0, 0, 0, 0, 0, 0, 0, 0, 2, 0, 0, 0, 0, 0, 0, 0, 0, 0, 0, 0, 0, 0, 0, 0, 0, 0, 0, 0, 0, 0, 0, 0, 0, 0, 0, 0, 0, 0, 0, 0, 0, 0, 0, 0, 0, 0, 0, 0, 0, 0, 0, 0, 0, 0, 0, 0, 0, 0, 0, 0, 0, 0, 0, 0, 0, 0, 0, 0, 0, 0, 0, 0, 0, 0, 0, 0, 0, 0, 0, 0, 0, 0, 0, 0, 0, 0, 0, 0, 0, 0, 0, 0, 0, 0, 0, 0, 0, 0, 0, 0, 0, 0, 0, 0, 0, 0, 0, 0, 0, 0, 0, 0, 0, 0, 0, 0, 0, 0, 0, 0, 0, 0, 0, 0, 0, 0, 0, 0, 0, 0, 0, 0, 0, 0, 0, 0, 0, 0, 0, 0, 0, 0, 0, 0, 0, 0, 0, 0, 0, 0, 0, 0, 0, 0, 0, 0, 0, 0, 0, 0, 0, 0, 0, 0, 0, 0, 0, 0, 0, 0, 0, 0, 0, 0, 0, 0, 0, 0, 0, 0, 0, 0, 0, 0, 0, 0, 0, 0, 0, 0, 0, 0, 0, 0, 0, 0, 0, 0, 0, 0, 0, 0, 0, 0, 0, 0, 0, 0, 0, 0, 0, 0, 0, 0, 0, 0, 0, 0, 0, 0, 0, 0, 0, 0, 0, 0, 0, 0, 0, 0, 0, 0, 0, 0, 0, 0, 0, 0, 0, 0, 0, 0, 0, 0, 0, 0, 0, 0, 0, 0, 0, 0, 0, 0, 0, 0, 0, 0, 0, 0, 0, 0, 0, 0, 0, 0, 0, 0, 0, 0, 0, 0, 0, 0, 0, 0, 0, 0, 0, 0, 0, 0, 0, 0, 0, 0, 0, 0, 0, 0, 0, 0, 0, 0, 0, 0, 0, 0, 0, 0, 0, 0, 0, 0, 0, 0, 0, 0, 0, 0, 0, 0, 0, 0, 0, 0, 0, 0, 0, 0, 0, 0, 0, 0, 0, 0, 0, 0, 0, 0, 0, 0, 0, 0, 0, 0, 0, 0, 0, 0, 0, 0, 0, 0, 0, 0, 0, 0, 0, 0, 0, 0, 0, 0, 0, 0, 0, 0, 0, 0, 0, 0, 0, 0, 0, 0, 0, 0, 0, 0, 0, 0, 0, 0, 0, 0, 0, 0, 0, 0, 0, 0, 0, 0, 0, 0, 0, 0, 0, 0, 0, 0, 0, 0, 0, 0, 0, 0, 0, 0, 0, 0, 0, 0, 0, 0, 0, 0, 0, 0, 0, 0, 0, 0, 0, 0, 0, 0, 0, 0, 0, 0, 0, 0, 0, 0, 0, 0, 0, 0, 0, 0, 0, 0, 0, 0, 0, 0, 0, 0, 0, 0, 0, 0, 0, 0, 0, 0, 0, 0, 0, 0, 0, 0, 0, 0, 0, 0, 0, 0, 0, 0, 0, 0, 0, 0, 0, 0, 0, 0, 0, 0, 0, 0, 0, 0, 0, 0, 0, 0, 0, 0, 0, 0, 0, 0, 0, 0, 0, 0, 0, 0, 0, 0, 0, 0, 0, 0, 0, 0, 0, 0, 0, 0, 0, 0, 0, 0, 0, 0, 0, 0, 0, 0, 0, 0, 0, 0, 0, 0, 0, 0, 0, 0, 0, 0, 0, 0, 0, 0, 0, 0, 0, 0, 0, 0, 0, 0, 0, 0, 0, 0, 0, 0, 0, 0, 0, 0, 0, 0, 0, 0, 0, 0, 0, 0, 0, 0, 0, 0, 0, 0, 0, 0, 0, 0, 0, 0, 0, 0, 0, 0, 0, 0, 0, 0, 0, 0, 0, 0, 0, 0, 0, 0, 0, 0, 0, 0, 0, 0, 0, 0, 0, 0, 0, 0, 0, 0, 0, 0, 0, 0, 0, 0, 0, 0, 0, 0, 0, 0, 0, 0, 0, 0, 0, 0, 0, 0, 0, 0, 0, 0, 0, 0, 0, 0, 0, 0, 0, 0, 0, 0, 0, 0, 0, 0, 0, 0, 0, 0, 0, 0, 0, 0, 0, 0, 0, 0, 0, 0, 0, 0, 0, 0, 0, 0, 0, 0, 0, 0, 0, 0, 0, 0, 0, 0, 0, 0, 0, 0, 0, 0, 0, 0, 0, 0, 0, 0, 0, 0, 0, 0, 0, 0, 0, 0, 0, 0, 0, 0, 0, 0, 0, 0, 0, 0, 0, 0, 0, 1, 0, 0, 0, 0, 0, 0, 0, 0, 0, 0, 0, 0, 0, 0, 0, 0, 0, 0, 0, 0, 0, 0, 0, 0, 0, 0, 0, 0, 0, 0, 0, 0, 0, 0, 0, 0, 0, 0, 0, 0, 0, 0, 0, 0, 0, 0, 0, 0, 0, 0, 0, 0, 0, 0, 0, 0, 0, 0, 0, 0, 0, 0, 0, 0, 0, 0, 0, 0, 0, 0, 0, 0, 0, 0, 0, 0, 0, 0, 0, 0, 0, 0, 0, 0, 0, 0, 0, 0, 0, 0, 0, 0, 0, 0, 0, 0, 0, 0, 0, 0, 0, 0, 0, 0, 0, 0, 0, 1, 0, 0, 0, 0, 0, 0, 0, 0, 0, 0, 0, 0, 0, 0, 0, 0, 0, 0, 0, 0, 0, 0, 0, 0, 0, 0, 0, 0, 0, 0, 0, 0, 0, 0, 0, 0, 0, 0, 0, 0, 0, 0, 0, 0, 0, 0, 0, 0, 0, 0, 0, 0, 0, 0, 0, 0, 0, 0, 0, 0, 0, 0, 0, 0, 0, 0, 0, 0, 0, 0, 0, 0, 0, 0, 0, 0, 0, 0, 0, 0, 0, 0, 0, 0, 0, 0, 0, 0, 0, 0, 0, 0, 0, 0, 0, 0, 0, 0, 0, 0, 0, 0, 0, 0, 0, 0, 0, 0, 0, 0, 0, 0, 0, 0, 0, 0, 0, 0, 0, 0, 0, 0, 0, 0, 0, 0, 0, 0, 0, 0, 0, 0, 0, 0, 0, 0, 0, 0, 0, 0, 0, 0, 0, 0, 0, 0, 0, 0, 0, 0, 0, 0, 0, 0, 0, 0, 0, 0, 0, 0, 0, 0, 0, 0, 0, 0, 0, 0, 0, 0, 0, 0, 0, 0, 0, 0, 0, 0, 0, 0, 0, 0, 0, 0, 0, 0, 0, 0, 0, 0, 0, 0, 0, 0, 0, 0, 0, 0, 0, 0, 0, 0, 0, 0, 0, 0, 0, 0, 0, 0, 0, 0, 0, 0, 0, 0, 0, 0, 0, 0, 0, 0, 0, 0, 0, 0, 0, 0, 0, 0, 0, 0, 0, 0, 0, 0, 0, 0, 0, 0, 0, 0, 0, 0, 0, 0, 0, 0, 0, 0, 0, 0, 0, 0, 0, 0, 0, 0, 0, 0, 0, 0, 0, 0, 0, 0, 0, 0, 0, 0, 0, 0, 0, 0, 0, 0, 0, 0, 0, 0, 0, 0, 0, 0, 0, 0, 0, 0, 0, 0, 0, 0, 0, 0, 0, 0, 0, 0, 0, 0, 0, 0, 0, 0, 0, 0, 0, 0, 0, 0, 0, 0, 0, 0, 0, 0, 0, 0, 0, 0, 0, 0, 0, 0, 0, 0, 0, 0, 0, 0, 0, 0, 0, 0, 0, 0, 0, 0, 0, 0, 0, 0, 0, 0, 0, 0, 0, 0, 0, 0, 0, 0, 0, 0, 0, 0, 0, 0, 0, 0, 0, 0, 0, 0, 0, 0, 0, 0, 0, 0, 0, 0, 0, 0, 0, 0, 0, 0, 0, 0, 0, 0, 0, 0, 0, 0, 0, 0, 0, 0, 0, 0, 0, 0, 0, 0, 0, 0, 0, 0, 0, 0, 0, 0, 0, 0, 0, 0, 0, 0, 0, 0, 0, 0, 0, 0, 0, 0, 0, 0, 0, 0, 0, 0, 0, 0, 0, 0, 0, 0, 0, 0, 0, 0, 0, 0, 0, 0, 0, 0, 0, 0, 0, 0, 0, 0, 0, 0, 0, 0, 0, 0, 0, 0, 0, 0, 0, 0, 0, 0, 0, 0, 0, 2, 0, 1, 0], type: <class 'list'>, valid types: <class 'bytes'>, <class 'bytearray'>, file-like object",
     "output_type": "error",
     "traceback": [
      "\u001b[0;31m---------------------------------------------------------------------------\u001b[0m",
      "\u001b[0;31mParamValidationError\u001b[0m                      Traceback (most recent call last)",
      "\u001b[0;32m<ipython-input-45-c9ab54ae3a48>\u001b[0m in \u001b[0;36m<module>\u001b[0;34m()\u001b[0m\n\u001b[1;32m      1\u001b[0m response = runtime.invoke_endpoint(EndpointName = xgb_predictor.endpoint, # The name of the endpoint we created\n\u001b[1;32m      2\u001b[0m                                        \u001b[0mContentType\u001b[0m \u001b[0;34m=\u001b[0m \u001b[0;34m'text/csv'\u001b[0m\u001b[0;34m,\u001b[0m                     \u001b[0;31m# The data format that is expected\u001b[0m\u001b[0;34m\u001b[0m\u001b[0m\n\u001b[0;32m----> 3\u001b[0;31m                                        Body = test_bow)\n\u001b[0m",
      "\u001b[0;32m~/anaconda3/envs/python3/lib/python3.6/site-packages/botocore/client.py\u001b[0m in \u001b[0;36m_api_call\u001b[0;34m(self, *args, **kwargs)\u001b[0m\n\u001b[1;32m    355\u001b[0m                     \"%s() only accepts keyword arguments.\" % py_operation_name)\n\u001b[1;32m    356\u001b[0m             \u001b[0;31m# The \"self\" in this scope is referring to the BaseClient.\u001b[0m\u001b[0;34m\u001b[0m\u001b[0;34m\u001b[0m\u001b[0m\n\u001b[0;32m--> 357\u001b[0;31m             \u001b[0;32mreturn\u001b[0m \u001b[0mself\u001b[0m\u001b[0;34m.\u001b[0m\u001b[0m_make_api_call\u001b[0m\u001b[0;34m(\u001b[0m\u001b[0moperation_name\u001b[0m\u001b[0;34m,\u001b[0m \u001b[0mkwargs\u001b[0m\u001b[0;34m)\u001b[0m\u001b[0;34m\u001b[0m\u001b[0m\n\u001b[0m\u001b[1;32m    358\u001b[0m \u001b[0;34m\u001b[0m\u001b[0m\n\u001b[1;32m    359\u001b[0m         \u001b[0m_api_call\u001b[0m\u001b[0;34m.\u001b[0m\u001b[0m__name__\u001b[0m \u001b[0;34m=\u001b[0m \u001b[0mstr\u001b[0m\u001b[0;34m(\u001b[0m\u001b[0mpy_operation_name\u001b[0m\u001b[0;34m)\u001b[0m\u001b[0;34m\u001b[0m\u001b[0m\n",
      "\u001b[0;32m~/anaconda3/envs/python3/lib/python3.6/site-packages/botocore/client.py\u001b[0m in \u001b[0;36m_make_api_call\u001b[0;34m(self, operation_name, api_params)\u001b[0m\n\u001b[1;32m    632\u001b[0m         }\n\u001b[1;32m    633\u001b[0m         request_dict = self._convert_to_request_dict(\n\u001b[0;32m--> 634\u001b[0;31m             api_params, operation_model, context=request_context)\n\u001b[0m\u001b[1;32m    635\u001b[0m \u001b[0;34m\u001b[0m\u001b[0m\n\u001b[1;32m    636\u001b[0m         \u001b[0mservice_id\u001b[0m \u001b[0;34m=\u001b[0m \u001b[0mself\u001b[0m\u001b[0;34m.\u001b[0m\u001b[0m_service_model\u001b[0m\u001b[0;34m.\u001b[0m\u001b[0mservice_id\u001b[0m\u001b[0;34m.\u001b[0m\u001b[0mhyphenize\u001b[0m\u001b[0;34m(\u001b[0m\u001b[0;34m)\u001b[0m\u001b[0;34m\u001b[0m\u001b[0m\n",
      "\u001b[0;32m~/anaconda3/envs/python3/lib/python3.6/site-packages/botocore/client.py\u001b[0m in \u001b[0;36m_convert_to_request_dict\u001b[0;34m(self, api_params, operation_model, context)\u001b[0m\n\u001b[1;32m    680\u001b[0m             api_params, operation_model, context)\n\u001b[1;32m    681\u001b[0m         request_dict = self._serializer.serialize_to_request(\n\u001b[0;32m--> 682\u001b[0;31m             api_params, operation_model)\n\u001b[0m\u001b[1;32m    683\u001b[0m         \u001b[0;32mif\u001b[0m \u001b[0;32mnot\u001b[0m \u001b[0mself\u001b[0m\u001b[0;34m.\u001b[0m\u001b[0m_client_config\u001b[0m\u001b[0;34m.\u001b[0m\u001b[0minject_host_prefix\u001b[0m\u001b[0;34m:\u001b[0m\u001b[0;34m\u001b[0m\u001b[0m\n\u001b[1;32m    684\u001b[0m             \u001b[0mrequest_dict\u001b[0m\u001b[0;34m.\u001b[0m\u001b[0mpop\u001b[0m\u001b[0;34m(\u001b[0m\u001b[0;34m'host_prefix'\u001b[0m\u001b[0;34m,\u001b[0m \u001b[0;32mNone\u001b[0m\u001b[0;34m)\u001b[0m\u001b[0;34m\u001b[0m\u001b[0m\n",
      "\u001b[0;32m~/anaconda3/envs/python3/lib/python3.6/site-packages/botocore/validate.py\u001b[0m in \u001b[0;36mserialize_to_request\u001b[0;34m(self, parameters, operation_model)\u001b[0m\n\u001b[1;32m    295\u001b[0m                                                     operation_model.input_shape)\n\u001b[1;32m    296\u001b[0m             \u001b[0;32mif\u001b[0m \u001b[0mreport\u001b[0m\u001b[0;34m.\u001b[0m\u001b[0mhas_errors\u001b[0m\u001b[0;34m(\u001b[0m\u001b[0;34m)\u001b[0m\u001b[0;34m:\u001b[0m\u001b[0;34m\u001b[0m\u001b[0m\n\u001b[0;32m--> 297\u001b[0;31m                 \u001b[0;32mraise\u001b[0m \u001b[0mParamValidationError\u001b[0m\u001b[0;34m(\u001b[0m\u001b[0mreport\u001b[0m\u001b[0;34m=\u001b[0m\u001b[0mreport\u001b[0m\u001b[0;34m.\u001b[0m\u001b[0mgenerate_report\u001b[0m\u001b[0;34m(\u001b[0m\u001b[0;34m)\u001b[0m\u001b[0;34m)\u001b[0m\u001b[0;34m\u001b[0m\u001b[0m\n\u001b[0m\u001b[1;32m    298\u001b[0m         return self._serializer.serialize_to_request(parameters,\n\u001b[1;32m    299\u001b[0m                                                      operation_model)\n",
      "\u001b[0;31mParamValidationError\u001b[0m: Parameter validation failed:\nInvalid type for parameter Body, value: [0, 0, 0, 0, 0, 0, 0, 0, 0, 0, 0, 0, 0, 0, 0, 0, 0, 0, 0, 0, 0, 0, 0, 0, 0, 0, 0, 0, 0, 0, 0, 0, 0, 0, 0, 0, 0, 0, 0, 0, 0, 0, 0, 0, 0, 0, 0, 0, 0, 0, 0, 0, 0, 0, 0, 0, 0, 0, 0, 0, 0, 0, 0, 0, 0, 0, 0, 0, 0, 0, 0, 0, 0, 0, 0, 0, 0, 0, 0, 0, 0, 0, 0, 0, 0, 0, 0, 0, 0, 0, 0, 0, 0, 0, 0, 0, 0, 0, 0, 0, 0, 0, 0, 0, 0, 0, 0, 0, 0, 0, 0, 0, 0, 0, 0, 0, 0, 0, 0, 0, 0, 0, 0, 0, 0, 0, 0, 0, 0, 0, 0, 0, 0, 0, 0, 0, 0, 0, 0, 0, 0, 0, 0, 0, 0, 0, 0, 0, 0, 0, 0, 0, 0, 0, 0, 0, 0, 0, 0, 0, 0, 0, 0, 0, 0, 0, 0, 0, 0, 0, 0, 0, 0, 0, 0, 0, 0, 0, 0, 0, 0, 0, 0, 0, 0, 0, 0, 0, 0, 0, 0, 0, 0, 0, 0, 0, 0, 0, 0, 0, 0, 0, 0, 0, 0, 0, 0, 0, 0, 0, 0, 0, 0, 0, 0, 0, 0, 0, 0, 0, 0, 0, 0, 0, 0, 0, 1, 0, 0, 0, 0, 0, 0, 0, 0, 0, 0, 0, 0, 0, 0, 0, 0, 0, 0, 0, 0, 0, 0, 0, 0, 0, 0, 0, 0, 0, 1, 0, 0, 0, 0, 0, 0, 0, 0, 0, 0, 0, 0, 0, 0, 0, 0, 0, 0, 0, 0, 0, 0, 0, 0, 0, 0, 0, 0, 0, 0, 0, 0, 0, 0, 0, 0, 0, 0, 0, 0, 0, 0, 0, 0, 0, 0, 0, 0, 0, 0, 0, 0, 0, 0, 0, 0, 0, 0, 0, 0, 0, 0, 0, 0, 0, 0, 0, 0, 0, 0, 0, 0, 0, 0, 0, 0, 0, 0, 0, 0, 0, 0, 0, 0, 0, 0, 0, 0, 0, 0, 0, 0, 0, 0, 0, 0, 0, 0, 0, 0, 0, 0, 0, 0, 0, 0, 0, 0, 0, 0, 0, 0, 0, 0, 0, 0, 0, 0, 0, 0, 0, 0, 0, 0, 0, 0, 0, 0, 0, 0, 0, 0, 0, 0, 0, 0, 0, 0, 0, 0, 0, 0, 0, 0, 0, 0, 0, 0, 0, 0, 0, 0, 0, 0, 0, 0, 0, 0, 0, 0, 0, 0, 0, 0, 0, 0, 0, 0, 0, 0, 0, 0, 0, 0, 0, 0, 0, 0, 0, 0, 0, 0, 0, 0, 0, 0, 0, 0, 0, 0, 0, 0, 0, 0, 0, 0, 0, 0, 0, 0, 0, 0, 0, 0, 0, 0, 0, 0, 0, 0, 0, 0, 0, 0, 0, 0, 0, 0, 0, 0, 0, 0, 0, 0, 0, 0, 0, 0, 0, 0, 0, 0, 0, 0, 0, 0, 0, 0, 0, 0, 0, 0, 0, 0, 0, 0, 0, 0, 0, 0, 0, 0, 0, 0, 0, 0, 0, 0, 0, 0, 0, 0, 0, 0, 0, 0, 0, 0, 0, 0, 0, 0, 0, 0, 0, 0, 0, 0, 0, 0, 0, 0, 0, 0, 0, 0, 0, 0, 0, 0, 0, 0, 0, 0, 0, 0, 0, 0, 0, 0, 0, 0, 0, 0, 0, 0, 0, 0, 0, 0, 0, 0, 0, 0, 0, 0, 0, 0, 0, 0, 0, 0, 0, 0, 0, 0, 0, 0, 0, 0, 0, 0, 0, 0, 0, 0, 0, 0, 0, 0, 0, 0, 0, 0, 0, 0, 0, 0, 0, 0, 0, 0, 0, 0, 0, 0, 0, 0, 0, 0, 0, 0, 0, 0, 0, 0, 0, 0, 0, 0, 0, 0, 0, 0, 0, 0, 0, 0, 0, 1, 0, 0, 0, 0, 0, 0, 0, 0, 0, 0, 0, 0, 0, 0, 0, 0, 0, 0, 0, 0, 0, 0, 0, 0, 0, 0, 0, 0, 0, 0, 0, 0, 0, 0, 0, 0, 0, 0, 0, 0, 0, 0, 0, 0, 0, 0, 0, 0, 0, 0, 0, 0, 0, 0, 0, 0, 0, 0, 0, 0, 0, 0, 0, 0, 0, 0, 0, 0, 0, 0, 0, 0, 0, 0, 0, 0, 0, 0, 0, 0, 0, 0, 0, 0, 0, 0, 0, 0, 0, 0, 0, 0, 0, 0, 0, 0, 0, 0, 0, 0, 0, 0, 0, 0, 0, 0, 0, 0, 0, 0, 0, 0, 0, 0, 0, 0, 0, 0, 0, 0, 0, 0, 0, 0, 0, 0, 0, 0, 0, 0, 0, 0, 0, 0, 0, 0, 0, 0, 0, 0, 0, 0, 0, 0, 0, 0, 0, 0, 0, 0, 0, 0, 0, 0, 0, 0, 0, 0, 0, 0, 0, 0, 0, 0, 0, 0, 0, 0, 0, 0, 0, 0, 0, 0, 0, 0, 0, 0, 0, 0, 0, 0, 0, 0, 0, 0, 0, 0, 0, 0, 0, 0, 0, 0, 0, 0, 0, 0, 0, 0, 0, 0, 0, 0, 0, 0, 0, 0, 0, 0, 0, 0, 0, 0, 0, 0, 0, 0, 0, 0, 0, 0, 0, 0, 0, 0, 0, 0, 0, 0, 0, 0, 0, 0, 0, 0, 0, 0, 0, 0, 0, 0, 0, 0, 0, 0, 0, 0, 0, 0, 0, 0, 0, 1, 0, 0, 0, 0, 0, 0, 0, 0, 0, 0, 0, 0, 0, 0, 0, 0, 0, 0, 0, 0, 0, 0, 0, 0, 0, 0, 0, 0, 0, 0, 0, 0, 0, 0, 0, 0, 0, 0, 0, 0, 0, 0, 0, 0, 0, 0, 0, 0, 0, 0, 0, 0, 0, 0, 0, 0, 0, 0, 0, 0, 0, 0, 0, 0, 0, 0, 0, 0, 0, 0, 0, 0, 0, 0, 0, 0, 0, 0, 0, 0, 0, 0, 0, 0, 0, 0, 1, 0, 0, 0, 0, 0, 0, 0, 0, 0, 0, 0, 0, 0, 0, 0, 0, 0, 0, 0, 0, 0, 0, 0, 0, 0, 0, 0, 0, 0, 0, 0, 0, 0, 0, 0, 0, 0, 0, 0, 0, 0, 0, 0, 0, 0, 0, 0, 0, 0, 0, 0, 0, 0, 0, 0, 0, 0, 0, 0, 0, 0, 0, 0, 0, 0, 0, 0, 0, 0, 0, 0, 0, 0, 0, 0, 0, 0, 0, 0, 0, 0, 0, 0, 0, 0, 0, 0, 0, 0, 0, 0, 0, 0, 0, 0, 0, 0, 0, 0, 0, 0, 0, 0, 0, 0, 0, 0, 0, 0, 0, 0, 0, 0, 0, 0, 0, 0, 0, 0, 0, 0, 0, 0, 0, 0, 0, 0, 0, 0, 0, 0, 0, 0, 0, 0, 0, 0, 0, 0, 0, 0, 0, 0, 0, 0, 0, 0, 0, 0, 0, 0, 0, 0, 0, 0, 0, 0, 0, 0, 0, 0, 0, 0, 0, 0, 0, 0, 0, 0, 0, 0, 0, 0, 0, 0, 0, 0, 0, 0, 0, 0, 0, 0, 0, 0, 0, 0, 0, 0, 0, 0, 0, 0, 0, 0, 0, 0, 0, 0, 0, 0, 0, 0, 0, 0, 0, 0, 0, 0, 0, 0, 0, 0, 0, 0, 0, 0, 0, 0, 0, 0, 0, 0, 0, 0, 0, 0, 0, 0, 0, 0, 0, 0, 0, 0, 0, 0, 0, 0, 0, 0, 0, 0, 0, 0, 0, 0, 0, 0, 0, 0, 0, 1, 0, 0, 0, 0, 0, 0, 0, 0, 0, 0, 0, 0, 0, 0, 0, 0, 0, 0, 0, 0, 0, 0, 0, 0, 0, 0, 0, 0, 0, 0, 0, 0, 0, 0, 0, 0, 0, 0, 0, 0, 0, 0, 0, 0, 0, 0, 0, 0, 0, 0, 0, 0, 0, 0, 0, 1, 0, 0, 0, 0, 0, 0, 0, 0, 0, 0, 0, 0, 0, 0, 0, 0, 0, 0, 0, 0, 0, 0, 0, 0, 0, 0, 0, 0, 0, 0, 0, 0, 0, 0, 0, 0, 0, 0, 0, 0, 0, 0, 0, 0, 0, 0, 0, 0, 0, 0, 0, 0, 0, 0, 0, 0, 0, 0, 0, 0, 0, 0, 0, 0, 0, 0, 0, 0, 0, 0, 0, 0, 0, 0, 0, 0, 0, 0, 0, 0, 0, 0, 0, 0, 0, 0, 0, 0, 0, 0, 0, 0, 0, 0, 0, 0, 0, 0, 0, 0, 0, 0, 0, 0, 0, 0, 0, 0, 0, 0, 0, 0, 0, 0, 0, 0, 0, 0, 0, 0, 0, 0, 0, 0, 0, 0, 0, 0, 0, 0, 0, 0, 0, 0, 0, 0, 0, 0, 0, 0, 0, 0, 0, 0, 0, 0, 0, 0, 0, 0, 0, 0, 0, 0, 0, 0, 0, 0, 0, 0, 0, 0, 0, 0, 0, 0, 0, 0, 0, 0, 0, 0, 0, 0, 0, 0, 0, 0, 0, 0, 0, 0, 0, 0, 0, 0, 0, 0, 0, 0, 0, 0, 0, 0, 0, 0, 0, 0, 0, 0, 0, 0, 0, 0, 0, 0, 0, 0, 0, 0, 0, 0, 0, 0, 0, 0, 0, 0, 0, 0, 0, 0, 0, 0, 0, 0, 0, 0, 0, 0, 0, 0, 0, 0, 0, 0, 0, 0, 0, 0, 0, 0, 0, 0, 0, 0, 0, 0, 0, 0, 0, 0, 0, 0, 0, 0, 0, 0, 0, 0, 0, 0, 0, 0, 0, 0, 0, 0, 0, 0, 0, 0, 0, 0, 0, 0, 0, 0, 0, 0, 0, 0, 0, 0, 0, 0, 0, 0, 0, 0, 0, 0, 0, 0, 0, 0, 0, 0, 0, 0, 0, 0, 0, 0, 0, 0, 0, 0, 0, 0, 0, 0, 0, 0, 0, 0, 0, 0, 0, 0, 0, 0, 0, 0, 0, 0, 0, 0, 0, 0, 0, 0, 0, 0, 0, 0, 0, 0, 0, 0, 0, 0, 0, 0, 0, 0, 0, 0, 0, 0, 0, 0, 0, 0, 0, 0, 0, 0, 0, 0, 0, 0, 0, 0, 0, 0, 0, 0, 0, 0, 0, 0, 0, 0, 0, 0, 0, 0, 0, 0, 0, 0, 0, 0, 0, 0, 0, 0, 0, 0, 0, 0, 0, 0, 0, 0, 0, 0, 0, 0, 0, 0, 0, 0, 0, 0, 0, 0, 0, 0, 0, 0, 0, 0, 0, 0, 0, 0, 0, 0, 0, 0, 0, 0, 0, 0, 0, 0, 0, 0, 0, 0, 0, 0, 0, 0, 0, 0, 0, 0, 0, 0, 0, 0, 0, 0, 0, 0, 0, 0, 0, 0, 0, 0, 0, 0, 0, 0, 0, 0, 0, 0, 0, 0, 0, 0, 0, 0, 0, 0, 0, 0, 0, 0, 0, 0, 0, 0, 0, 0, 0, 0, 0, 0, 0, 0, 0, 0, 0, 0, 0, 0, 0, 0, 0, 0, 0, 0, 0, 0, 0, 0, 0, 0, 0, 0, 0, 0, 0, 0, 0, 0, 0, 0, 0, 0, 0, 0, 0, 0, 0, 0, 0, 0, 0, 0, 0, 0, 0, 0, 0, 0, 0, 0, 0, 0, 0, 0, 0, 0, 0, 0, 0, 0, 0, 0, 0, 0, 0, 0, 0, 0, 0, 0, 0, 0, 0, 0, 0, 0, 0, 0, 0, 0, 0, 0, 0, 0, 0, 0, 0, 0, 0, 0, 0, 0, 0, 0, 0, 0, 0, 0, 0, 0, 0, 0, 0, 0, 0, 0, 0, 0, 0, 0, 0, 0, 0, 0, 0, 0, 0, 0, 0, 0, 0, 0, 0, 0, 0, 0, 0, 0, 0, 0, 0, 0, 0, 0, 0, 0, 0, 0, 0, 0, 0, 0, 0, 0, 0, 0, 0, 0, 0, 0, 0, 0, 0, 0, 0, 0, 0, 0, 0, 0, 0, 0, 0, 0, 0, 0, 0, 0, 0, 0, 0, 0, 0, 0, 0, 0, 0, 0, 0, 0, 0, 0, 0, 0, 0, 0, 0, 0, 0, 0, 0, 0, 0, 0, 0, 0, 0, 1, 0, 0, 0, 0, 0, 0, 0, 0, 0, 0, 0, 0, 0, 0, 0, 0, 0, 0, 0, 0, 0, 0, 0, 0, 0, 0, 0, 0, 0, 0, 0, 0, 0, 0, 0, 0, 0, 0, 0, 0, 0, 0, 0, 0, 0, 0, 0, 0, 0, 0, 0, 0, 0, 0, 0, 0, 0, 0, 0, 0, 0, 0, 0, 0, 0, 0, 0, 0, 0, 0, 0, 0, 0, 0, 1, 0, 0, 0, 0, 0, 0, 0, 0, 0, 0, 0, 0, 0, 0, 0, 0, 0, 0, 0, 0, 1, 0, 0, 1, 0, 0, 0, 0, 0, 0, 0, 0, 0, 0, 0, 0, 0, 0, 0, 0, 0, 0, 0, 0, 0, 0, 0, 0, 0, 0, 0, 0, 0, 0, 0, 0, 0, 0, 0, 0, 0, 0, 0, 0, 0, 0, 0, 0, 0, 0, 0, 0, 0, 0, 0, 0, 0, 0, 0, 0, 0, 0, 0, 0, 0, 0, 0, 0, 0, 0, 0, 0, 0, 0, 0, 0, 0, 0, 0, 0, 0, 0, 0, 0, 0, 0, 0, 0, 0, 0, 0, 0, 0, 0, 0, 0, 0, 0, 0, 0, 0, 0, 0, 0, 0, 0, 0, 0, 0, 0, 0, 0, 0, 0, 0, 0, 0, 0, 0, 0, 0, 0, 0, 0, 0, 0, 0, 0, 0, 0, 0, 0, 0, 0, 0, 0, 0, 0, 0, 0, 0, 0, 0, 0, 0, 0, 0, 0, 0, 0, 0, 0, 0, 0, 0, 0, 0, 0, 0, 0, 0, 0, 0, 0, 0, 0, 0, 0, 0, 0, 0, 0, 0, 0, 0, 0, 0, 0, 0, 0, 0, 0, 0, 0, 0, 0, 0, 0, 0, 0, 0, 0, 0, 0, 0, 0, 0, 0, 0, 0, 0, 0, 0, 0, 0, 0, 0, 0, 0, 0, 0, 0, 0, 0, 0, 0, 0, 0, 0, 0, 0, 0, 0, 0, 0, 0, 0, 0, 0, 0, 0, 0, 0, 0, 0, 0, 0, 0, 0, 0, 0, 0, 0, 0, 0, 0, 0, 0, 0, 0, 0, 0, 0, 0, 0, 0, 0, 0, 0, 0, 0, 0, 0, 0, 0, 0, 0, 0, 0, 0, 0, 0, 0, 0, 0, 0, 0, 0, 0, 0, 0, 0, 0, 0, 0, 0, 0, 0, 0, 0, 0, 0, 0, 0, 0, 0, 0, 0, 0, 0, 0, 0, 0, 0, 0, 0, 0, 0, 0, 0, 0, 0, 0, 0, 0, 0, 0, 0, 0, 0, 0, 0, 0, 0, 0, 0, 0, 0, 0, 0, 0, 0, 0, 0, 0, 0, 0, 0, 0, 0, 0, 0, 0, 0, 0, 0, 0, 0, 0, 0, 0, 0, 0, 0, 0, 0, 0, 0, 0, 0, 0, 0, 0, 0, 0, 0, 0, 0, 0, 0, 0, 0, 0, 0, 0, 0, 0, 0, 0, 0, 0, 0, 0, 0, 0, 0, 0, 0, 0, 0, 0, 0, 0, 0, 0, 0, 0, 0, 0, 0, 0, 0, 0, 0, 0, 0, 0, 0, 0, 0, 0, 0, 0, 0, 0, 0, 0, 0, 0, 0, 0, 0, 0, 0, 0, 0, 0, 0, 0, 0, 0, 0, 0, 0, 0, 0, 0, 0, 0, 0, 0, 0, 0, 0, 0, 0, 0, 0, 0, 0, 0, 0, 0, 0, 0, 0, 0, 0, 0, 0, 0, 0, 0, 0, 0, 0, 0, 0, 0, 0, 1, 0, 0, 0, 0, 0, 0, 0, 0, 0, 0, 0, 0, 0, 0, 0, 0, 0, 0, 0, 0, 0, 0, 0, 0, 0, 0, 0, 0, 0, 0, 0, 0, 0, 0, 0, 0, 0, 0, 0, 0, 0, 0, 0, 0, 0, 0, 0, 0, 0, 0, 0, 0, 0, 0, 0, 0, 0, 0, 0, 0, 0, 0, 0, 0, 0, 0, 0, 0, 0, 0, 0, 0, 0, 0, 0, 0, 0, 0, 0, 0, 0, 0, 0, 0, 0, 0, 0, 0, 0, 0, 0, 0, 0, 0, 0, 0, 0, 0, 0, 0, 0, 0, 0, 0, 0, 0, 0, 0, 0, 0, 0, 0, 0, 0, 0, 0, 0, 0, 0, 0, 0, 0, 0, 0, 0, 0, 0, 0, 0, 0, 0, 0, 0, 0, 0, 0, 0, 0, 0, 0, 0, 0, 0, 0, 0, 0, 0, 0, 0, 0, 0, 0, 0, 0, 0, 0, 0, 0, 0, 0, 0, 0, 0, 0, 0, 0, 0, 0, 0, 0, 0, 0, 0, 0, 0, 0, 0, 0, 0, 0, 0, 0, 0, 0, 0, 0, 0, 0, 0, 0, 0, 0, 0, 0, 0, 0, 0, 0, 0, 0, 0, 0, 0, 0, 0, 0, 0, 0, 0, 0, 0, 0, 0, 0, 0, 0, 0, 0, 0, 0, 0, 0, 0, 0, 0, 0, 0, 0, 0, 0, 0, 0, 0, 0, 0, 0, 0, 0, 0, 0, 0, 0, 0, 0, 0, 0, 0, 0, 0, 0, 0, 0, 0, 0, 0, 0, 0, 0, 0, 0, 0, 0, 0, 0, 0, 0, 0, 0, 0, 0, 0, 0, 0, 0, 0, 0, 0, 0, 0, 0, 0, 0, 0, 0, 0, 0, 0, 0, 0, 0, 0, 0, 0, 0, 0, 0, 0, 0, 0, 0, 0, 0, 0, 0, 0, 0, 0, 0, 0, 0, 0, 0, 0, 0, 0, 0, 0, 0, 0, 0, 0, 0, 0, 0, 0, 0, 0, 0, 0, 0, 0, 0, 0, 0, 0, 0, 0, 0, 0, 0, 0, 0, 0, 0, 0, 0, 0, 0, 0, 0, 0, 0, 0, 0, 0, 0, 0, 0, 0, 0, 0, 0, 0, 0, 0, 0, 0, 0, 0, 0, 0, 0, 0, 0, 0, 0, 0, 0, 0, 0, 0, 0, 0, 0, 0, 0, 0, 0, 0, 0, 0, 0, 0, 0, 0, 0, 0, 0, 0, 0, 0, 0, 0, 0, 0, 0, 0, 0, 0, 0, 0, 0, 0, 0, 0, 0, 0, 0, 0, 0, 0, 0, 0, 0, 0, 0, 0, 0, 0, 0, 0, 0, 0, 0, 0, 0, 0, 0, 0, 0, 0, 0, 0, 0, 0, 0, 0, 0, 0, 0, 0, 0, 0, 0, 0, 0, 0, 0, 0, 0, 0, 0, 0, 0, 0, 0, 0, 0, 0, 0, 0, 0, 0, 0, 0, 0, 0, 0, 0, 0, 0, 0, 0, 0, 0, 0, 0, 0, 0, 0, 0, 0, 0, 0, 0, 0, 0, 0, 0, 0, 0, 0, 0, 0, 0, 0, 0, 0, 0, 0, 0, 0, 1, 0, 0, 0, 0, 0, 0, 0, 0, 0, 0, 0, 0, 0, 0, 0, 0, 0, 0, 0, 0, 0, 0, 0, 0, 0, 0, 0, 0, 0, 0, 0, 0, 0, 0, 0, 2, 0, 0, 0, 0, 0, 0, 0, 0, 0, 0, 0, 0, 0, 0, 0, 0, 0, 0, 0, 0, 0, 0, 0, 0, 0, 0, 0, 0, 0, 0, 0, 0, 0, 0, 0, 0, 0, 0, 0, 0, 1, 0, 0, 0, 0, 0, 0, 0, 0, 0, 0, 0, 0, 0, 0, 0, 0, 0, 0, 0, 0, 0, 0, 0, 0, 0, 0, 0, 0, 0, 0, 0, 0, 0, 0, 0, 0, 0, 0, 0, 0, 0, 0, 0, 0, 0, 0, 0, 0, 0, 0, 0, 0, 0, 0, 0, 0, 0, 0, 0, 0, 0, 0, 0, 0, 0, 0, 0, 0, 0, 0, 0, 0, 0, 0, 0, 0, 0, 0, 0, 0, 0, 0, 0, 0, 0, 0, 0, 0, 0, 0, 0, 0, 0, 0, 0, 0, 0, 0, 0, 0, 0, 0, 0, 0, 0, 0, 0, 0, 0, 0, 0, 0, 0, 0, 0, 0, 0, 0, 0, 0, 0, 0, 0, 0, 0, 0, 0, 0, 0, 0, 0, 0, 0, 0, 0, 0, 0, 0, 0, 0, 0, 0, 0, 0, 0, 0, 0, 0, 0, 0, 0, 0, 0, 0, 0, 0, 0, 0, 0, 0, 0, 0, 0, 0, 0, 0, 0, 0, 0, 0, 0, 0, 0, 0, 0, 0, 0, 0, 0, 0, 0, 0, 0, 0, 0, 0, 0, 0, 0, 0, 0, 0, 0, 0, 0, 0, 0, 0, 0, 0, 0, 0, 0, 0, 0, 0, 0, 0, 0, 0, 0, 0, 0, 0, 0, 0, 0, 0, 0, 0, 0, 0, 0, 0, 0, 0, 0, 0, 0, 0, 0, 0, 0, 0, 0, 0, 0, 0, 0, 0, 0, 0, 0, 0, 0, 0, 0, 0, 0, 0, 0, 0, 0, 0, 0, 0, 0, 0, 0, 0, 0, 0, 0, 0, 0, 0, 0, 0, 0, 0, 0, 0, 0, 0, 0, 0, 0, 0, 0, 0, 0, 0, 0, 0, 0, 0, 0, 0, 0, 0, 0, 0, 0, 0, 0, 0, 0, 0, 0, 0, 0, 0, 0, 0, 0, 0, 0, 0, 0, 0, 0, 0, 0, 0, 0, 0, 0, 0, 0, 0, 0, 0, 0, 0, 0, 0, 0, 0, 0, 0, 0, 0, 0, 0, 0, 0, 0, 0, 0, 0, 0, 0, 0, 0, 0, 0, 0, 0, 0, 0, 0, 0, 0, 0, 0, 0, 0, 0, 0, 0, 0, 0, 0, 0, 0, 0, 0, 0, 0, 0, 0, 0, 0, 0, 0, 0, 0, 0, 0, 0, 0, 0, 0, 0, 0, 0, 0, 0, 0, 0, 0, 0, 0, 0, 0, 0, 0, 0, 0, 0, 0, 0, 0, 0, 0, 0, 0, 0, 0, 0, 0, 0, 0, 0, 0, 0, 0, 0, 0, 0, 0, 0, 0, 0, 0, 0, 0, 0, 0, 0, 0, 0, 0, 0, 0, 0, 0, 0, 0, 0, 0, 0, 0, 0, 0, 0, 0, 0, 0, 0, 0, 0, 0, 0, 0, 0, 0, 0, 0, 0, 0, 0, 0, 0, 0, 0, 0, 0, 0, 0, 0, 0, 0, 0, 0, 0, 0, 0, 0, 0, 0, 0, 0, 0, 0, 0, 0, 0, 0, 0, 0, 0, 0, 0, 0, 0, 0, 1, 0, 0, 0, 0, 0, 0, 0, 0, 0, 0, 0, 0, 0, 0, 0, 0, 0, 0, 0, 0, 0, 0, 0, 0, 0, 0, 0, 0, 0, 0, 0, 0, 0, 0, 0, 0, 0, 0, 0, 0, 0, 0, 0, 0, 0, 0, 0, 0, 0, 0, 0, 0, 0, 0, 0, 0, 0, 0, 0, 0, 0, 0, 0, 0, 0, 0, 0, 0, 0, 0, 0, 0, 0, 0, 0, 0, 0, 0, 0, 0, 0, 0, 0, 0, 0, 0, 0, 0, 0, 0, 0, 0, 0, 0, 0, 0, 0, 0, 0, 0, 0, 0, 0, 0, 0, 0, 0, 0, 0, 0, 2, 0, 0, 0, 0, 0, 0, 0, 0, 0, 0, 0, 0, 0, 0, 0, 0, 0, 0, 0, 0, 0, 0, 0, 0, 0, 0, 0, 0, 0, 0, 0, 0, 0, 0, 0, 0, 0, 0, 0, 0, 0, 0, 0, 0, 0, 0, 0, 0, 0, 0, 0, 0, 0, 0, 0, 0, 0, 0, 0, 0, 0, 0, 0, 0, 0, 0, 0, 0, 0, 0, 0, 0, 0, 0, 0, 0, 0, 0, 0, 0, 0, 0, 0, 0, 0, 0, 0, 0, 0, 0, 0, 0, 0, 0, 0, 0, 0, 0, 0, 0, 0, 0, 0, 0, 0, 0, 0, 0, 0, 0, 0, 0, 0, 0, 0, 0, 0, 0, 0, 0, 0, 0, 0, 0, 0, 0, 0, 0, 0, 0, 0, 0, 0, 0, 0, 0, 0, 0, 0, 0, 0, 0, 0, 0, 0, 0, 0, 0, 0, 0, 0, 0, 0, 0, 0, 0, 0, 0, 0, 0, 0, 0, 0, 0, 0, 0, 0, 0, 0, 0, 0, 0, 0, 0, 0, 0, 0, 0, 0, 0, 0, 0, 0, 0, 0, 0, 0, 0, 0, 0, 0, 0, 0, 0, 0, 0, 0, 0, 0, 0, 0, 0, 0, 0, 0, 0, 0, 0, 0, 0, 0, 0, 0, 0, 0, 0, 0, 0, 0, 0, 0, 0, 0, 0, 0, 0, 0, 0, 0, 0, 0, 0, 0, 0, 0, 0, 0, 0, 0, 0, 0, 0, 0, 0, 0, 0, 0, 0, 0, 0, 0, 0, 0, 0, 0, 0, 0, 0, 0, 0, 0, 0, 0, 0, 0, 0, 0, 0, 0, 0, 0, 0, 0, 0, 0, 0, 0, 0, 0, 0, 0, 0, 0, 0, 0, 0, 0, 0, 0, 0, 0, 0, 0, 0, 0, 0, 0, 0, 0, 0, 0, 0, 0, 0, 0, 0, 0, 0, 0, 0, 0, 0, 0, 0, 0, 0, 0, 0, 0, 0, 0, 0, 0, 0, 0, 0, 0, 0, 0, 0, 0, 0, 0, 0, 0, 0, 0, 0, 0, 0, 0, 0, 0, 0, 0, 0, 0, 0, 0, 0, 0, 0, 0, 0, 0, 0, 0, 0, 0, 0, 0, 0, 0, 0, 0, 0, 0, 0, 0, 0, 0, 0, 0, 0, 0, 0, 0, 0, 0, 0, 0, 0, 0, 0, 0, 0, 0, 0, 0, 0, 0, 0, 0, 0, 0, 0, 0, 0, 0, 0, 0, 0, 0, 0, 0, 0, 0, 0, 0, 0, 0, 0, 0, 0, 0, 0, 0, 0, 0, 0, 0, 0, 0, 0, 0, 0, 0, 0, 0, 0, 0, 0, 0, 0, 0, 0, 0, 0, 0, 0, 0, 0, 0, 0, 0, 0, 0, 0, 0, 0, 0, 0, 0, 0, 0, 0, 0, 0, 0, 0, 0, 0, 0, 0, 0, 0, 0, 0, 0, 0, 0, 0, 0, 0, 0, 0, 0, 0, 0, 0, 0, 0, 0, 0, 0, 0, 0, 0, 0, 0, 0, 0, 0, 0, 0, 0, 0, 0, 0, 0, 0, 0, 0, 0, 0, 0, 0, 0, 0, 0, 0, 0, 0, 0, 0, 0, 0, 0, 0, 0, 0, 0, 0, 0, 0, 0, 0, 0, 0, 0, 0, 0, 0, 0, 0, 0, 0, 0, 0, 0, 0, 0, 0, 0, 0, 0, 0, 0, 0, 0, 0, 0, 0, 0, 0, 0, 0, 0, 0, 0, 0, 0, 0, 0, 0, 0, 0, 0, 0, 0, 0, 0, 0, 0, 0, 0, 0, 0, 0, 0, 0, 0, 0, 0, 0, 0, 0, 0, 0, 0, 0, 0, 0, 0, 0, 0, 0, 0, 0, 0, 0, 0, 0, 0, 0, 0, 0, 0, 0, 0, 0, 0, 0, 0, 0, 0, 0, 0, 0, 0, 0, 0, 0, 0, 0, 0, 0, 0, 0, 0, 0, 0, 0, 0, 0, 0, 0, 0, 0, 0, 0, 0, 0, 0, 0, 0, 0, 0, 0, 0, 0, 0, 0, 0, 0, 0, 0, 0, 0, 0, 0, 0, 0, 0, 0, 0, 0, 0, 0, 0, 0, 0, 0, 0, 0, 0, 0, 0, 0, 0, 0, 0, 0, 0, 0, 0, 0, 0, 0, 0, 1, 0, 0, 0, 0, 0, 0, 0, 0, 0, 0, 0, 0, 0, 0, 0, 0, 0, 0, 0, 0, 0, 0, 0, 0, 0, 0, 0, 0, 0, 0, 0, 0, 0, 0, 0, 0, 0, 0, 0, 0, 0, 0, 0, 0, 0, 0, 0, 0, 0, 0, 0, 0, 0, 0, 0, 0, 0, 0, 0, 0, 0, 0, 0, 0, 0, 0, 0, 0, 0, 0, 0, 0, 0, 0, 0, 0, 0, 0, 0, 0, 0, 0, 0, 0, 0, 0, 0, 0, 0, 0, 0, 0, 0, 0, 0, 0, 0, 0, 0, 0, 0, 0, 0, 0, 0, 0, 0, 1, 0, 0, 0, 0, 0, 0, 0, 0, 0, 0, 0, 0, 0, 0, 0, 0, 0, 0, 0, 0, 0, 0, 0, 0, 0, 0, 0, 0, 0, 0, 0, 0, 0, 0, 0, 0, 0, 0, 0, 0, 0, 0, 0, 0, 0, 0, 0, 0, 0, 0, 0, 0, 0, 0, 0, 0, 0, 0, 0, 0, 0, 0, 0, 0, 0, 0, 0, 0, 0, 0, 0, 0, 0, 0, 0, 0, 0, 0, 0, 0, 0, 0, 0, 0, 0, 0, 0, 0, 0, 0, 0, 0, 0, 0, 0, 0, 0, 0, 0, 0, 0, 0, 0, 0, 0, 0, 0, 0, 0, 0, 0, 0, 0, 0, 0, 0, 0, 0, 0, 0, 0, 0, 0, 0, 0, 0, 0, 0, 0, 0, 0, 0, 0, 0, 0, 0, 0, 0, 0, 0, 0, 0, 0, 0, 0, 0, 0, 0, 0, 0, 0, 0, 0, 0, 0, 0, 0, 0, 0, 0, 0, 0, 0, 0, 0, 0, 0, 0, 0, 0, 0, 0, 0, 0, 0, 0, 0, 0, 0, 0, 0, 0, 0, 0, 0, 0, 0, 0, 0, 0, 0, 0, 0, 0, 0, 0, 0, 0, 0, 0, 0, 0, 0, 0, 0, 0, 0, 0, 0, 0, 0, 0, 0, 0, 0, 0, 0, 0, 0, 0, 0, 0, 0, 0, 0, 0, 0, 0, 0, 0, 0, 0, 0, 0, 0, 0, 0, 0, 0, 0, 0, 0, 0, 0, 0, 0, 0, 0, 0, 0, 0, 0, 0, 0, 0, 0, 0, 0, 0, 0, 0, 0, 0, 0, 0, 0, 0, 0, 0, 0, 0, 0, 0, 0, 0, 0, 0, 0, 0, 0, 0, 0, 0, 0, 0, 0, 0, 0, 0, 0, 0, 0, 0, 0, 0, 0, 0, 0, 0, 0, 0, 0, 0, 0, 0, 0, 0, 0, 0, 0, 0, 0, 0, 0, 0, 0, 0, 0, 0, 0, 0, 0, 0, 0, 0, 0, 0, 0, 0, 0, 0, 0, 0, 0, 0, 0, 0, 0, 0, 0, 0, 0, 0, 0, 0, 0, 0, 0, 0, 0, 0, 0, 0, 0, 0, 0, 0, 0, 0, 0, 0, 0, 0, 0, 0, 0, 0, 0, 0, 0, 0, 0, 0, 0, 0, 0, 0, 0, 0, 0, 0, 0, 0, 0, 0, 0, 0, 0, 0, 0, 0, 0, 0, 0, 0, 0, 0, 0, 0, 0, 0, 0, 0, 0, 0, 0, 0, 0, 0, 0, 0, 0, 0, 0, 0, 0, 0, 0, 0, 0, 0, 0, 0, 0, 0, 0, 0, 0, 0, 0, 0, 0, 0, 0, 0, 0, 0, 0, 0, 0, 0, 0, 0, 0, 0, 0, 0, 0, 0, 0, 0, 0, 0, 0, 0, 0, 0, 0, 0, 0, 0, 0, 0, 2, 0, 1, 0], type: <class 'list'>, valid types: <class 'bytes'>, <class 'bytearray'>, file-like object"
     ]
    }
   ],
   "source": [
    "response = runtime.invoke_endpoint(EndpointName = xgb_predictor.endpoint, # The name of the endpoint we created\n",
    "                                       ContentType = 'text/csv',                     # The data format that is expected\n",
    "                                       Body = test_bow)"
   ]
  },
  {
   "cell_type": "markdown",
   "metadata": {},
   "source": [
    "So why did we get an error?\n",
    "\n",
    "Because we tried to send the endpoint a list of integers but it expected us to send data of type `text/csv`. So, we need to convert it."
   ]
  },
  {
   "cell_type": "code",
   "execution_count": 46,
   "metadata": {},
   "outputs": [],
   "source": [
    "response = runtime.invoke_endpoint(EndpointName = xgb_predictor.endpoint, # The name of the endpoint we created\n",
    "                                       ContentType = 'text/csv',                     # The data format that is expected\n",
    "                                       Body = ','.join([str(val) for val in test_bow]).encode('utf-8'))"
   ]
  },
  {
   "cell_type": "code",
   "execution_count": 47,
   "metadata": {},
   "outputs": [
    {
     "name": "stdout",
     "output_type": "stream",
     "text": [
      "{'ResponseMetadata': {'RequestId': '49589eb0-7d37-4149-9d78-29664fa3e38b', 'HTTPStatusCode': 200, 'HTTPHeaders': {'x-amzn-requestid': '49589eb0-7d37-4149-9d78-29664fa3e38b', 'x-amzn-invoked-production-variant': 'AllTraffic', 'date': 'Wed, 1 May 2019 12:40:42 GMT', 'content-type': 'text/csv; charset=utf-8', 'content-length': '14'}, 'RetryAttempts': 0}, 'ContentType': 'text/csv; charset=utf-8', 'InvokedProductionVariant': 'AllTraffic', 'Body': <botocore.response.StreamingBody object at 0x7fef9b329f28>}\n"
     ]
    }
   ],
   "source": [
    "print(response)"
   ]
  },
  {
   "cell_type": "markdown",
   "metadata": {},
   "source": [
    "As we can see, the response from our model is a somewhat complicated looking dict that contains a bunch of information. The bit that we are most interested in is `'Body'` object which is a streaming object that we need to `read` in order to make use of."
   ]
  },
  {
   "cell_type": "code",
   "execution_count": 48,
   "metadata": {},
   "outputs": [
    {
     "name": "stdout",
     "output_type": "stream",
     "text": [
      "0.544519305229\n"
     ]
    }
   ],
   "source": [
    "response = response['Body'].read().decode('utf-8')\n",
    "print(response)"
   ]
  },
  {
   "cell_type": "markdown",
   "metadata": {},
   "source": [
    "Now that we know how to process the incoming user data we can start setting up the infrastructure to make our simple web app work. To do this we will make use of two different services. Amazon's Lambda and API Gateway services.\n",
    "\n",
    "Lambda is a service which allows someone to write some relatively simple code and have it executed whenever a chosen trigger occurs. For example, you may want to update a database whenever new data is uploaded to a folder stored on S3.\n",
    "\n",
    "API Gateway is a service that allows you to create HTTP endpoints (url addresses) which are connected to other AWS services. One of the benefits to this is that you get to decide what credentials, if any, are required to access these endpoints.\n",
    "\n",
    "In our case we are going to set up an HTTP endpoint through API Gateway which is open to the public. Then, whenever anyone sends data to our public endpoint we will trigger a Lambda function which will send the input (in our case a review) to our model's endpoint and then return the result."
   ]
  },
  {
   "cell_type": "markdown",
   "metadata": {},
   "source": [
    "### Setting up a Lambda function\n",
    "\n",
    "The first thing we are going to do is set up a Lambda function. This Lambda function will be executed whenever our public API has data sent to it. When it is executed it will receive the data, perform any sort of processing that is required, send the data (the review) to the SageMaker endpoint we've created and then return the result.\n",
    "\n",
    "#### Part A: Create an IAM Role for the Lambda function\n",
    "\n",
    "Since we want the Lambda function to call a SageMaker endpoint, we need to make sure that it has permission to do so. To do this, we will construct a role that we can later give the Lambda function.\n",
    "\n",
    "Using the AWS Console, navigate to the **IAM** page and click on **Roles**. Then, click on **Create role**. Make sure that the **AWS service** is the type of trusted entity selected and choose **Lambda** as the service that will use this role, then click **Next: Permissions**.\n",
    "\n",
    "In the search box type `sagemaker` and select the check box next to the **AmazonSageMakerFullAccess** policy. Then, click on **Next: Review**.\n",
    "\n",
    "Lastly, give this role a name. Make sure you use a name that you will remember later on, for example `LambdaSageMakerRole`. Then, click on **Create role**."
   ]
  },
  {
   "cell_type": "markdown",
   "metadata": {},
   "source": [
    "#### Part B: Create a Lambda function\n",
    "\n",
    "Now it is time to actually create the Lambda function. Remember from earlier that in order to process the user provided input and send it to our endpoint we need to gather two pieces of information:\n",
    "\n",
    " - The name of the endpoint, and\n",
    " - the vocabulary object.\n",
    "\n",
    "We will copy these pieces of information to our Lambda function after we create it.\n",
    "\n",
    "To start, using the AWS Console, navigate to the AWS Lambda page and click on **Create a function**. When you get to the next page, make sure that **Author from scratch** is selected. Now, name your Lambda function, using a name that you will remember later on, for example `sentiment_analysis_xgboost_func`. Make sure that the **Python 3.6** runtime is selected and then choose the role that you created in the previous part. Then, click on **Create Function**.\n",
    "\n",
    "On the next page you will see some information about the Lambda function you've just created. If you scroll down you should see an editor in which you can write the code that will be executed when your Lambda function is triggered. Collecting the code we wrote above to process a single review and adding it to the provided example `lambda_handler` we arrive at the following.\n",
    "\n",
    "```python\n",
    "# We need to use the low-level library to interact with SageMaker since the SageMaker API\n",
    "# is not available natively through Lambda.\n",
    "import boto3\n",
    "\n",
    "# And we need the regular expression library to do some of the data processing\n",
    "import re\n",
    "\n",
    "REPLACE_NO_SPACE = re.compile(\"(\\.)|(\\;)|(\\:)|(\\!)|(\\')|(\\?)|(\\,)|(\\\")|(\\()|(\\))|(\\[)|(\\])\")\n",
    "REPLACE_WITH_SPACE = re.compile(\"(<br\\s*/><br\\s*/>)|(\\-)|(\\/)\")\n",
    "\n",
    "def review_to_words(review):\n",
    "    words = REPLACE_NO_SPACE.sub(\"\", review.lower())\n",
    "    words = REPLACE_WITH_SPACE.sub(\" \", words)\n",
    "    return words\n",
    "    \n",
    "def bow_encoding(words, vocabulary):\n",
    "    bow = [0] * len(vocabulary) # Start by setting the count for each word in the vocabulary to zero.\n",
    "    for word in words.split():  # For each word in the string\n",
    "        if word in vocabulary:  # If the word is one that occurs in the vocabulary, increase its count.\n",
    "            bow[vocabulary[word]] += 1\n",
    "    return bow\n",
    "\n",
    "\n",
    "def lambda_handler(event, context):\n",
    "    \n",
    "    vocab = \"*** ACTUAL VOCABULARY GOES HERE ***\"\n",
    "    \n",
    "    words = review_to_words(event['body'])\n",
    "    bow = bow_encoding(words, vocab)\n",
    "\n",
    "    # The SageMaker runtime is what allows us to invoke the endpoint that we've created.\n",
    "    runtime = boto3.Session().client('sagemaker-runtime')\n",
    "\n",
    "    # Now we use the SageMaker runtime to invoke our endpoint, sending the review we were given\n",
    "    response = runtime.invoke_endpoint(EndpointName = '***ENDPOINT NAME HERE***',# The name of the endpoint we created\n",
    "                                       ContentType = 'text/csv',                 # The data format that is expected\n",
    "                                       Body = ','.join([str(val) for val in bow]).encode('utf-8')) # The actual review\n",
    "\n",
    "    # The response is an HTTP response whose body contains the result of our inference\n",
    "    result = response['Body'].read().decode('utf-8')\n",
    "    \n",
    "    # Round the result so that our web app only gets '1' or '0' as a response.\n",
    "    result = round(float(result))\n",
    "\n",
    "    return {\n",
    "        'statusCode' : 200,\n",
    "        'headers' : { 'Content-Type' : 'text/plain', 'Access-Control-Allow-Origin' : '*' },\n",
    "        'body' : str(result)\n",
    "    }\n",
    "```"
   ]
  },
  {
   "cell_type": "markdown",
   "metadata": {},
   "source": [
    "Once you have copy and pasted the code above into the Lambda code editor, replace the `**ENDPOINT NAME HERE**` portion with the name of the endpoint that we deployed earlier. You can determine the name of the endpoint using the code cell below."
   ]
  },
  {
   "cell_type": "code",
   "execution_count": 49,
   "metadata": {},
   "outputs": [
    {
     "data": {
      "text/plain": [
       "'xgboost-2019-05-01-12-08-46-133'"
      ]
     },
     "execution_count": 49,
     "metadata": {},
     "output_type": "execute_result"
    }
   ],
   "source": [
    "xgb_predictor.endpoint"
   ]
  },
  {
   "cell_type": "markdown",
   "metadata": {},
   "source": [
    "In addition, you will need to copy the vocabulary dict to the appropriate place in the code at the beginning of the `lambda_handler` method. The cell below prints out the vocabulary dict in a way that is easy to copy and paste."
   ]
  },
  {
   "cell_type": "code",
   "execution_count": 50,
   "metadata": {
    "scrolled": true
   },
   "outputs": [
    {
     "name": "stdout",
     "output_type": "stream",
     "text": [
      "{'as': 311, 'huge': 2185, 'fan': 1648, 'of': 3083, 'horror': 2168, 'films': 1721, 'especially': 1520, 'and': 226, 'also': 199, 'gore': 1941, 'thought': 4462, 'sounded': 4082, 'pretty': 3384, 'good': 1937, 'the': 4426, 'plot': 3309, 'read': 3543, 'reviews': 3679, 'even': 1533, 'looked': 2647, 'at': 331, 'some': 4061, 'photos': 3261, 'to': 4507, 'make': 2713, 'sure': 4308, 'it': 2366, 'seemed': 3862, 'like': 2599, 'gory': 1943, 'scary': 3807, 'movie': 2926, 'watch': 4811, 'before': 440, 'so': 4046, 'excited': 1561, 'had': 2003, 'finished': 1733, 'ready': 3546, 'be': 418, 'scared': 3805, 'in': 2257, 'amazing': 209, 'was': 4805, 'expecting': 1578, 'terribly': 4408, 'disappointed': 1273, 'ridiculous': 3693, 'didnt': 1242, 'sense': 3877, 'left': 2561, 'too': 4522, 'much': 2934, 'hilarious': 2106, 'rather': 3528, 'then': 4436, 'horrifying': 2167, 'what': 4858, 'with': 4911, 'cartoon': 704, 'style': 4249, 'sound': 4081, 'effects': 1431, 'acting': 99, 'probably': 3407, 'only': 3110, 'thing': 4450, 'mildly': 2840, 'about': 67, 'did': 1241, 'not': 3040, 'understand': 4643, 'idea': 2213, 'way': 4820, 'mothers': 2912, 'husband': 2204, 'disappeared': 1271, 'middle': 2833, 'sea': 3838, 'after': 143, 'following': 1774, 'light': 2595, 'they': 4442, 'both': 547, 'or': 3124, 'perhaps': 3235, 'missed': 2867, 'my': 2951, 'mind': 2849, 'couldnt': 1008, 'actually': 109, 'seeing': 3857, 'appreciate': 279, 'supposed': 4306, 'shocking': 3940, 'few': 1700, 'scenes': 3811, 'strange': 4211, 'own': 3158, 'mother': 2911, 'were': 4848, 'just': 2437, 'think': 4452, 'went': 4847, 'little': 2624, 'bit': 488, 'far': 1653, 'made': 2697, 'unconvincing': 4638, 'which': 4867, 'more': 2904, 'believable': 453, 'comedy': 890, 'than': 4420, 'opinion': 3118, 'however': 2183, 'is': 2360, 'very': 4723, 'entertaining': 1499, 'film': 1716, 'got': 1944, 'lot': 2661, 'laughs': 2534, 'out': 3141, 'me': 2778, 'couple': 1016, 'friends': 1837, 'but': 636, 'sadly': 3769, 'we': 4823, 'its': 2370, 'worth': 4953, 'for': 1784, 'entertainment': 1500, 'value': 4709, 'dont': 1324, 'dark': 1115, 'deeply': 1156, 'youll': 4988, 'if': 2222, 'this': 4457, 'spoof': 4127, 'id': 2212, 'rate': 3526, 'nine': 3017, 'climax': 849, 'being': 448, 'weird': 4841, 'scene': 3809, 'when': 4862, 'inside': 2297, 'his': 2118, 'stomach': 4196, 'closed': 854, 'up': 4683, 'her': 2085, 'gave': 1875, 'one': 3107, 'watching': 4815, 'you': 4986, 'enjoy': 1484, 'over': 3148, 'special': 4097, 'there': 4438, 'are': 285, 'interesting': 2325, 'visuals': 4759, 'aside': 315, 'from': 1840, 'that': 4424, 'typical': 4623, 'hollywood': 2137, 'fare': 1655, 'without': 4913, 'substance': 4258, 'true': 4596, 'title': 4504, 'picking': 3267, 'apart': 264, 'story': 4207, 'thats': 4425, 'performing': 3233, 'brain': 562, 'on': 3105, 'dinosaur': 1255, 'theres': 4440, 'begin': 442, 'nothing': 3047, 'original': 3129, 'go': 1924, 'all': 187, 'look': 2646, 'has': 2043, 'been': 438, 'mentioned': 2811, 'end': 1468, 'great': 1964, 'fx': 1858, 'treatment': 4574, 'an': 223, 'invisible': 2344, 'times': 4497, 'half': 2007, 'man': 2721, 'ignore': 2224, 'standard': 4144, 'sight': 3969, 'decent': 1147, 'purpose': 3474, 'alone': 194, 'goodness': 1938, 'bad': 382, 'totally': 4532, 'by': 642, 'local': 2634, 'review': 3676, 'because': 432, 'garbage': 1870, 'yeah': 4977, 'guys': 2001, 'wear': 4830, 'white': 4870, 'always': 203, 'win': 4892, 'now': 3054, 'home': 2142, 'your': 4991, 'kids': 2467, 'feel': 1684, 'how': 2181, 'cant': 671, 'believe': 454, 'dead': 1132, 'wes': 4851, 'craven': 1034, 'im': 2232, 'guessing': 1991, 'he': 2056, 'needed': 2988, 'money': 2888, 'pay': 3216, 'piece': 3272, 'sort': 4077, 'production': 3419, 'makes': 2716, 'anyone': 259, 'who': 4871, 'watches': 4814, 'movies': 2927, 'could': 1007, 'do': 1302, 'better': 472, 'such': 4268, 'experienced': 1581, 'director': 1264, 'ya': 4976, 'see': 3855, 'guy': 2000, 'wants': 4791, 'sweet': 4336, 'girl': 1909, 'loves': 2674, 'daddy': 1096, 'hes': 2093, 'gonna': 1936, 'hurt': 2202, 'ms': 2931, 'american': 213, 'next': 3007, 'door': 1328, 'know': 2489, 'shes': 3930, 'save': 3794, 'day': 1129, 'beat': 423, 'power': 3359, 'rocks': 3722, 'idiot': 2218, 'would': 4957, 'find': 1726, 'ride': 3692, 'let': 2579, 'something': 4066, 'fresh': 1833, 'new': 3003, 'those': 4460, 'super': 4295, 'site': 4005, 'industry': 2280, 'either': 1438, 'making': 2718, 'off': 3084, 'flick': 1754, 'paying': 3217, 'back': 378, 'favor': 1670, 'have': 2052, 'sold': 4052, 'their': 4431, 'souls': 4080, 'devil': 1228, 'performance': 3228, 'horrible': 2163, 'cute': 1090, 'she': 3923, 'show': 3953, 'whole': 4873, 'skin': 4015, 'isnt': 2362, 'tough': 4537, 'enough': 1491, 'female': 1693, 'action': 100, 'lead': 2545, 'murphy': 2944, 'least': 2554, 'days': 1130, 'here': 2086, 'plays': 3301, 'dumb': 1385, 'villain': 4744, 'pretending': 3382, 'smart': 4035, 'gets': 1900, 'ass': 323, 'kicked': 2461, 'field': 1704, 'bo': 521, 'should': 3951, 'able': 66, 'kick': 2460, 'crap': 1031, 'international': 2326, 'terrorist': 4413, 'hire': 2116, 'wouldnt': 4958, 'trust': 4598, 'him': 2110, 'steal': 4170, 'pack': 3165, '11': 2, 'done': 1322, 'except': 1556, 'well': 4843, 're': 3535, 'rent': 3626, 'any': 256, 'die': 1243, 'hard': 2033, 'loved': 2670, 'ones': 3108, 'danger': 1109, 'terrorists': 4414, 'characters': 760, 'likable': 2598, 'competent': 917, 'simply': 3986, 'can': 665, 'continue': 969, 'proper': 3436, 'models': 2881, 'copy': 994, 'no': 3020, 'wonder': 4926, 'down': 1335, 'throw': 4479, 'toilet': 4512, 'yourself': 4993, 'hours': 2177, 'life': 2592, 'never': 3001, 'get': 1899, 'video': 4733, 'wannabe': 4787, 'western': 4853, 'stay': 4166, 'vehicle': 4718, 'big': 478, 'frank': 1821, 'time': 4495, 'career': 686, 'lives': 2628, 'reputation': 3640, 'gun': 1996, 'brother': 598, 'run': 3755, 'town': 4541, 'return': 3665, 'found': 1811, 'courage': 1018, 'must': 2950, 'written': 4972, 'room': 3735, 'writer': 4968, 'stinks': 4192, 'basically': 407, 'boring': 543, 'ill': 2228, 'conceived': 929, 'naive': 2958, 'intelligence': 2313, 'complete': 921, 'other': 3135, 'reviewer': 3677, 'underrated': 4642, 'critics': 1064, 'catch': 714, 'last': 2521, 'late': 2523, 'having': 2054, 'sit': 4003, 'through': 4477, 'youve': 4995, 'most': 2909, 'buff': 611, 'really': 3556, 'liked': 2600, 'two': 4620, 'within': 4912, 'week': 4837, 'cat': 713, 'rage': 3505, 'lust': 2689, 'taking': 4352, 'young': 4989, 'lover': 2672, 'hundreds': 2196, 'pieces': 3273, 'fine': 1729, 'china': 795, 'floor': 1759, 'full': 1846, 'beautiful': 428, 'touches': 4535, 'wonderful': 4928, 'along': 195, 'particularly': 3195, 'enjoyed': 1486, 'ancient': 225, 'greek': 1970, 'class': 833, 'feeling': 1685, 'where': 4864, 'people': 3221, 'means': 2783, 'sexual': 3908, 'adventure': 130, 'walks': 4780, 'around': 297, 'fantastic': 1651, 'apartment': 265, 'ease': 1404, 'why': 4878, 'flesh': 1753, 'real': 3547, 'treat': 4572, 'recently': 3567, 'purchased': 3470, 'gothic': 1945, 'series': 3890, 'dvd': 1391, 'lived': 2626, 'memories': 2803, 'view': 4736, 'first': 1736, 'episodes': 1508, 'ring': 3698, 'fire': 1734, 'particular': 3194, 'stories': 4205, 'hadnt': 2004, 'seen': 3865, 'gary': 1873, 'cole': 873, 'evil': 1548, 'sexy': 3911, 'lucas': 2680, 'buck': 605, 'black': 493, 'superb': 4296, 'player': 3298, 'brenda': 575, 'portrayal': 3341, 'fact': 1621, 'cast': 710, 'talented': 4355, 'chemistry': 782, 'each': 1395, 'shame': 3918, 'network': 3000, 'group': 1980, 'truly': 4597, 'designed': 1203, 'adult': 125, 'viewing': 4740, 'mixture': 2878, 'tragedy': 4551, 'farce': 1654, 'satire': 3788, 'romance': 3732, 'genres': 1889, 'offered': 3088, 'brilliant': 583, 'genius': 1887, 'level': 2584, 'tremendous': 4579, 'once': 3106, 'long': 2644, 'live': 2625, 'sheriff': 3929, 'fallen': 1638, 'angel': 231, 'ever': 1538, 'keep': 2449, 'genre': 1888, 'ive': 2372, 'overlooked': 3154, 'high': 2100, 'excellent': 1555, 'outstanding': 3147, 'cinematography': 820, 'westerns': 4854, 'james': 2378, 'stewart': 4184, 'whatsoever': 4861, 'yes': 4982, 'watched': 4813, 'entire': 1502, 'train': 4556, 'wreck': 4965, 'later': 2525, 'come': 886, 'latter': 2528, 'part': 3193, 'may': 2775, 'historically': 2120, 'british': 589, 'humor': 2192, 'included': 2262, 'jokes': 2415, 'these': 4441, 'thirty': 4456, 'years': 4979, 'ago': 154, 'though': 4461, 'reviewers': 3678, 'comments': 901, 'yet': 4984, 'turn': 4605, 'give': 1912, 'vast': 4716, 'majority': 2712, 'comedies': 889, 'worse': 4951, 'certainly': 738, 'pity': 3281, 'appears': 278, 'aimed': 162, 'subject': 4253, 'matter': 2769, 'does': 1308, 'repeated': 3631, 'drawn': 1351, 'double': 1331, 'takes': 4351, 'drug': 1373, 'short': 3946, 'trip': 4588, 'low': 2676, 'three': 4469, 'stooges': 4200, 'still': 4188, 'funny': 1852, 'kid': 2464, 'effort': 1432, 'work': 4940, 'fear': 1676, 'civilization': 827, 'stuff': 4243, 'accepted': 82, 'worthwhile': 4955, 'telling': 4396, 'tv': 4610, 'popular': 3333, 'camera': 659, 'annoying': 249, 'distracting': 1297, 'editing': 1421, 'pictures': 3270, 'many': 2732, 'background': 380, 'music': 2946, 'loud': 2664, 'covered': 1023, 'voices': 4763, 'said': 3774, 'doesnt': 1309, 'anybody': 257, 'check': 777, 'things': 4451, 'them': 4432, 'again': 146, 'please': 3304, 'future': 1856, 'relative': 3599, 'levels': 2585, 'job': 2405, 'editor': 1423, 'julia': 2427, 'loose': 2650, 'ends': 1474, 'basic': 406, 'line': 2610, 'potential': 3355, 'rushed': 3760, 'ran': 3513, 'started': 4157, 'toward': 4539, 'board': 522, 'goes': 1930, 'into': 2332, 'taken': 4350, 'care': 684, 'sorry': 4076, 'critical': 1062, 'edition': 1422, 'night': 3013, 'living': 2629, 'tad': 4347, 'zombies': 4998, 'sounds': 4084, 'silly': 3976, 'fun': 1848, 'paper': 3183, 'execution': 1566, 'different': 1248, 'say': 3799, 'dawn': 1127, 'son': 4070, 'bride': 577, 'revenge': 3675, 'terror': 4412, 'attack': 337, 'alien': 183, 'eating': 1413, 'parody': 3192, 'nearly': 2981, 'lame': 2510, 'grade': 1951, 'word': 4937, 'quirky': 3493, 'hearted': 2065, 'concept': 930, 'exactly': 1551, 'call': 651, 'grand': 1953, 'unforgettable': 4652, 'cinema': 816, 'seem': 3861, 'quite': 3495, 'memorable': 2802, 'directors': 1266, 'cube': 1076, 'pit': 3278, 'sunday': 4293, 'morning': 2906, 'serious': 3891, 'state': 4160, 'matrix': 2767, 'meets': 2795, 'head': 2057, 'human': 2188, 'nature': 2975, 'ten': 4399, 'point': 3316, 'calls': 654, 'attention': 345, 'absence': 70, 'summary': 4290, 'imdb': 2240, 'explanation': 1590, 'simple': 3983, 'since': 3990, 'screenplay': 3831, 'whatever': 4859, 'might': 2835, 'recall': 3562, 'minimum': 2856, 'structure': 4233, 'jean': 2389, 'overrated': 3156, 'pretentious': 3383, 'pointless': 3318, 'among': 217, 'neither': 2996, 'himself': 2111, 'understood': 4647, 'justify': 2439, 'explain': 1586, 'vote': 4766, 'brazil': 568, 'forever': 1792, 'highest': 2102, 'rating': 3529, 'given': 1913, 'considering': 952, 'zero': 4996, 'negative': 2991, 'numbers': 3061, 'allowed': 190, 'mess': 2818, 'wasted': 4809, 'list': 2617, 'actors': 104, 'directed': 1259, 'twelve': 4611, 'year': 4978, 'old': 3100, 'stupid': 4247, 'example': 1553, 'gene': 1879, 'bat': 410, 'family': 1645, 'character': 758, 'ways': 4822, 'sexually': 3910, 'cheap': 774, 'attempt': 340, 'general': 1880, 'want': 4788, 'animal': 239, 'house': 2178, 'pie': 3271, 'school': 3813, 'office': 3091, 'space': 4090, 'expectations': 1576, 'guess': 1989, 'trick': 4582, 'contrast': 975, 'mistake': 2871, 'soon': 4074, 'saw': 3798, 'close': 853, 'faces': 1618, 'knew': 2486, 'hands': 2020, 'extremely': 1610, 'amateur': 206, 'clear': 839, 'sign': 3970, 'effective': 1429, 'intense': 2316, 'hold': 2129, 'away': 369, 'facial': 1619, 'expression': 1602, 'wasnt': 4807, 'lack': 2502, 'killed': 2469, 'entirely': 1503, 'filmed': 1717, 'cinematographer': 819, 'rank': 3518, 'going': 1931, 'set': 3898, 'will': 4886, 'intimate': 2331, 'top': 4525, 'technical': 4381, 'flaws': 1752, 'absolutely': 72, 'beyond': 476, 'hint': 2112, 'developed': 1223, 'kind': 2476, 'relationship': 3597, 'germany': 1898, 'los': 2653, 'angeles': 233, 'forget': 1793, 'won': 4925, 'festival': 1697, 'awards': 367, 'quality': 3484, 'wont': 4932, 'anything': 260, 'during': 1387, 'finally': 1724, 'leave': 2555, 'side': 3965, 'total': 4531, 'darkness': 1117, 'technique': 4383, 'instead': 2307, 'coming': 896, 'audience': 352, 'ended': 1470, 'earlier': 1399, 'points': 3319, 'ending': 1471, 'saved': 3795, 'cutting': 1092, 'lonely': 2643, 'figured': 1712, 'beginning': 443, 'recommend': 3571, 'audiences': 353, 'miss': 2866, 'offer': 3087, 'sophisticated': 4075, '10': 0, 'rare': 3523, 'chance': 747, 'happens': 2029, 'involves': 2348, 'world': 4946, 'episode': 1507, 'obviously': 3072, 'finding': 1727, 'feet': 1688, 'running': 3756, 'laugh': 2529, 'laughter': 2535, 'track': 4544, 'right': 3696, 'hear': 2061, 'inner': 2292, 'laughing': 2533, 'easily': 1406, 'drew': 1360, 'incredibly': 2270, 'strong': 4229, 'central': 735, 'forward': 1808, 'usual': 4699, 'ps': 3453, 'sarah': 3785, 'four': 1812, 'robert': 3713, 'various': 4715, 'mansion': 2731, 'sees': 3866, 'killer': 2470, 'writing': 4971, 'spooky': 4128, 'moments': 2887, 'twist': 4617, 'second': 3846, 'peter': 3247, 'becoming': 435, 'obsessed': 3069, 'figure': 1711, 'wife': 4884, 'third': 4455, 'christopher': 811, 'lee': 2559, 'child': 789, 'leads': 2548, 'although': 201, 'jon': 2416, 'pitt': 3280, 'scenery': 3810, 'turns': 4609, 'vampires': 4712, 'playing': 3300, 'dracula': 1341, 'terrifying': 4410, 'fourth': 1813, 'vampire': 4711, 'itself': 2371, 'looks': 2649, 'creepy': 1052, 'nice': 3008, 'atmospheric': 334, 'unusual': 4681, 'score': 3822, 'seeking': 3859, 'try': 4600, 'colors': 879, 'forgotten': 1797, 'caused': 724, 'minor': 2857, 'storm': 4206, 'media': 2789, 'interest': 2323, 'turned': 4606, 'giant': 1905, 'charles': 764, 'intended': 2315, 'version': 4720, 'naked': 2959, 'despite': 1211, 'obvious': 3071, 'problems': 3409, 'harsh': 2040, 'lighting': 2596, 'occasionally': 3075, 'terrific': 4409, 'stands': 4147, 'comparison': 914, 'blood': 512, 'moon': 2900, 'sets': 3899, 'grow': 1982, 'getting': 1901, 'turning': 4608, 'possibly': 3351, 'almost': 193, 'men': 2805, 'dealing': 1136, 'news': 3005, 'death': 1141, 'burning': 627, 'ground': 1979, 'manager': 2724, 'trying': 4601, 'kill': 2468, 'confidence': 938, 'script': 3834, 'surprisingly': 4316, 'supporting': 4304, 'usually': 4700, 'irritating': 2359, 'henry': 2084, 'early': 1400, 'alex': 179, 'north': 3036, 'includes': 2263, 'emotional': 1459, 'featuring': 1681, '50': 51, 'impressive': 2253, 'fairly': 1631, 'dialog': 1232, 'anne': 246, 'francis': 1818, '90s': 61, 'actress': 105, 'mostly': 2910, 'television': 4394, 'shows': 3960, 'looking': 2648, 'leslie': 2574, 'dr': 1340, 'john': 2409, 'adams': 112, 'recognized': 3570, 'voice': 4761, 'boredom': 542, 'came': 656, 'overwhelming': 3157, 'desire': 1205, 'sleep': 4024, 'appreciated': 280, 'doing': 1312, 'vhs': 4725, 'tape': 4365, 'weak': 4824, 'heavy': 2070, 'provoking': 3452, 'nonsense': 3030, 'appeared': 276, 'intelligent': 2314, 'rest': 3657, '50s': 52, 'sci': 3815, 'fi': 1701, 'another': 250, 'transfer': 4559, 'change': 749, 'maybe': 2776, 'identify': 2216, 'cause': 723, 'nyc': 3065, 'suffer': 4275, 'praise': 3364, 'filmmaker': 1719, 'spent': 4108, 'blew': 505, 'suggest': 4280, 'checking': 778, 'directing': 1260, 'course': 1019, 'knock': 2488, 'tale': 4353, 'worst': 4952, 'positive': 3346, 'proof': 3434, 'five': 1743, 'minute': 2858, 'length': 2569, 'poor': 3328, 'sid': 3964, 'hasnt': 2044, 'charm': 767, 'jason': 2383, 'carter': 703, 'songs': 4072, 'dreadful': 1353, 'slow': 4031, 'direction': 1261, 'practically': 3362, 'add': 115, 'anthony': 253, 'daughter': 1121, 'dubbed': 1379, 'reason': 3557, 'fate': 1665, 'players': 3299, 'pace': 3161, 'christian': 808, 'grave': 1962, 'honestly': 2147, 'surprise': 4312, 'straight': 4210, 'literally': 2622, 'fell': 1690, 'asleep': 320, 'granted': 1957, 'shakespeare': 3915, 'certain': 737, 'interested': 2324, 'prevent': 3385, 'caring': 691, 'based': 404, 'often': 3095, 'difficult': 1249, 'whos': 4876, 'lines': 2612, 'english': 1483, 'couldve': 1009, 'added': 116, 'drama': 1346, 'classic': 835, 'greater': 1965, 'age': 148, 'budget': 610, 'painful': 3171, 'hamlet': 2013, 'book': 535, 'shadow': 3912, 'musical': 2947, 'suffers': 4278, 'richard': 3686, 'completely': 922, 'misses': 2868, 'opens': 3115, 'play': 3296, 'dancers': 1105, 'drive': 1363, 'gives': 1914, 'us': 4690, 'faced': 1617, 'break': 569, 'business': 633, 'mix': 2876, 'created': 1037, 'stage': 4139, 'working': 4944, 'advantage': 129, 'opening': 3114, 'showing': 3958, 'size': 4012, 'scale': 3802, '16': 8, '17': 9, 'count': 1010, 'kept': 2456, 'opera': 3116, 'experience': 1580, 'poorly': 3329, 'ok': 3098, 'admit': 122, 'havent': 2053, 'nor': 3032, 'works': 4945, 'discuss': 1283, 'outside': 3146, 'analysis': 224, 'protagonist': 3441, 'falls': 1640, 'love': 2669, 'sometimes': 4067, 'united': 4664, 'partner': 3198, 'hero': 2088, 'already': 197, 'heart': 2064, 'cannot': 670, 'name': 2960, 'southern': 4088, 'india': 2273, 'rule': 3753, 'london': 2641, 'married': 2744, 'indian': 2274, 'legal': 2563, 'marriage': 2743, 'sneak': 4043, 'until': 4680, 'children': 792, 'notice': 3048, 'questions': 3489, 'involvement': 2347, 'contact': 961, 'asks': 319, 'area': 286, 'refuses': 3587, 'suicide': 4283, 'take': 4349, 'note': 3044, 'events': 1536, 'occur': 3076, 'changes': 751, 'tone': 4517, 'becomes': 434, 'crime': 1055, 'final': 1722, 'body': 527, 'discovered': 1280, 'comes': 891, 'visit': 4755, 'assistant': 326, 'knows': 2493, 'masters': 2761, 'affair': 135, 'keeps': 2451, 'silent': 3975, 'innocent': 2294, 'attempts': 343, 'honor': 2150, 'killing': 2472, 'leaves': 2556, 'path': 3209, 'fall': 1637, 'warn': 4797, 'cover': 1022, 'theatrical': 4430, 'woman': 4921, 'setting': 3900, 'image': 2233, 'captured': 677, 'directly': 1263, 'quickly': 3491, 'seems': 3864, 'forbidden': 1785, 'personality': 3242, 'walking': 4779, 'clichés': 846, 'arrogant': 303, 'recognize': 3569, 'friend': 1835, 'torn': 4528, 'between': 475, 'choice': 797, 'romantic': 3733, 'oh': 3096, 'slightly': 4029, 'racist': 3503, 'indians': 2275, 'willing': 4889, 'overlook': 3153, 'presented': 3376, 'highlights': 2104, 'development': 1225, 'terrible': 4407, 'laughable': 2530, 'perform': 3227, 'water': 4816, 'roger': 3724, 'collection': 874, 'happened': 2027, 'inspired': 2301, 'direct': 1258, 'viewed': 4737, 'called': 652, 'red': 3576, 'apparently': 270, 'timeless': 4496, 'create': 1036, 'similar': 3978, '1930s': 11, 'problem': 3408, 'approach': 282, 'design': 1202, 'acceptable': 81, 'unless': 4669, 'share': 3920, 'arent': 288, 'else': 1448, 'spoiler': 4123, 'lovely': 2671, 'drink': 1361, 'thinks': 4454, 'ladies': 2506, 'breasts': 572, 'competition': 918, 'jealous': 2388, 'warm': 4794, 'friendship': 1838, 'put': 3480, 'sub': 4252, 'green': 1971, 'somewhat': 4068, 'best': 469, 'described': 1195, 'cheesy': 781, 'impact': 2244, 'society': 4050, 'poignant': 3315, 'mystery': 2956, 'easy': 1410, 'modern': 2882, 'equivalent': 1512, 'terms': 4406, 'shown': 3959, 'country': 1014, 'youre': 4992, 'facts': 1624, 'important': 2247, 'meat': 2787, 'doubt': 1332, 'america': 212, 'trained': 4557, 'honest': 2146, 'videos': 4734, 'requires': 3642, 'further': 1853, 'possible': 3350, 'worlds': 4947, 'our': 3139, 'progress': 3425, 'documentary': 1307, 'contain': 962, 'information': 2288, 'opinions': 3119, 'accomplished': 87, 'every': 1539, 'details': 1219, 'open': 3112, 'weeks': 4839, 'noted': 3045, 'cable': 644, 'don': 1320, 'hell': 2077, 'aforementioned': 139, 'nowadays': 3055, 'hooked': 2153, 'month': 2896, 'eve': 1532, '12': 3, 'beer': 439, 'bunch': 623, 'party': 3200, 'kinda': 2477, 'agree': 155, 'wanted': 4789, 'louis': 2665, 'rachel': 3500, 'feelings': 1686, 'pet': 3246, 'mean': 2779, 'zombie': 4997, 'atmosphere': 333, 'superficial': 4298, 'compared': 912, 'alright': 198, 'balls': 390, 'overall': 3150, 'perfection': 3225, 'hey': 2095, 'tell': 4395, 'compare': 911, 'theyre': 4445, 'clearly': 840, 'chances': 748, 'boy': 557, 'fast': 1661, 'joan': 2404, 'hart': 2041, 'strike': 4224, 'anyway': 261, 'lets': 2580, 'talking': 4360, 'words': 4938, 'dramatic': 1348, 'brings': 587, 'crew': 1053, 'front': 1841, 'engaging': 1481, 'viewer': 4738, 'leg': 2562, 'stand': 4143, 'ruined': 3751, 'satisfying': 3791, 'taste': 4369, 'dry': 1377, 'anime': 243, 'fans': 1650, 'place': 3282, 'release': 3602, 'unique': 4662, 'science': 3816, 'several': 3905, 'lesson': 2577, 'explaining': 1588, 'behind': 447, 'near': 2979, 'leaving': 2557, 'earth': 1403, 'six': 4010, 'mission': 2870, 'traveling': 4568, 'speed': 4103, 'returning': 3667, 'passed': 3202, 'main': 2707, 'remains': 3611, '18': 10, 'throughout': 4478, 'while': 4868, 'warned': 4798, 'wholly': 4874, 'shots': 3950, 'otherwise': 3137, 'viewers': 4739, 'managed': 2723, 'use': 4692, 'produce': 3413, 'resolution': 3649, 'help': 2079, 'finest': 1730, 'premise': 3370, 'civil': 826, 'war': 4792, 'secret': 3849, 'realized': 3553, 'became': 431, 'wish': 4904, 'rental': 3627, 'cases': 708, 'awful': 372, 'ridiculously': 3694, 'shallow': 3917, 'uninteresting': 4660, 'bag': 384, 'hated': 2047, 'am': 204, 'support': 4303, 'worthless': 4954, 'strongly': 4231, 'superman': 4301, 'reminded': 3619, 'history': 2121, 'violence': 4747, 'study': 4242, 'violent': 4748, 'behavior': 446, 'thinking': 4453, 'hoffman': 2128, 'move': 2921, 'small': 4033, 'encounter': 1466, 'endless': 1473, 'hang': 2022, 'trouble': 4592, 'holds': 2131, 'fights': 1710, 'drunk': 1375, 'gruesome': 1986, 'someone': 4064, 'blown': 516, 'someones': 4065, 'caught': 722, 'bear': 420, 'trap': 4563, 'need': 2987, 'large': 2517, 'mans': 2730, 'sam': 3777, 'wild': 4885, 'topic': 4526, 'letting': 2583, 'believed': 455, 'dogs': 1311, 'location': 2635, 'wrong': 4973, 'england': 1482, 'city': 825, 'south': 4087, 'explained': 1587, 'quick': 3490, 'felt': 1692, 'rape': 3521, 'mark': 2739, 'thomas': 4458, 'ron': 3734, 'attacked': 338, 'invasion': 2340, 'tries': 4585, 'post': 3352, 'stress': 4220, 'finds': 1728, 'bound': 553, 'chair': 742, 'told': 4513, 'likes': 2602, 'highly': 2105, 'unlikely': 4671, 'twists': 4619, 'shocked': 3939, 'using': 4698, 'anymore': 258, 'involved': 2346, 'stars': 4155, 'unbelievable': 4634, 'role': 3726, 'elvis': 1451, 'fame': 1642, 'agent': 150, 'perfect': 3224, 'soundtrack': 4085, 'paul': 3214, 'williams': 4888, 'streisand': 4218, 'creating': 1039, 'period': 3236, 'grace': 1950, 'gift': 1906, 'redemption': 3578, 'upon': 4684, 'types': 4622, 'claim': 828, 'promise': 3430, 'picture': 3269, 'examples': 1554, 'spring': 4134, 'singing': 3995, 'fabulous': 1615, 'starts': 4159, 'maria': 2736, 'sings': 3997, 'la': 2500, 'san': 3780, 'francisco': 1819, 'song': 4071, 'nominated': 3025, 'oscar': 3133, 'golden': 1934, 'lyrics': 2692, 'alan': 171, 'bergman': 466, 'previous': 3387, 'built': 618, 'profound': 3423, 'average': 362, 'famous': 1647, 'singer': 3993, 'asked': 317, 'sing': 3992, 'same': 3778, 'met': 2822, 'loses': 2657, 'doctor': 1304, 'pamela': 3179, 'italian': 2367, 'played': 3297, 'shot': 3949, 'cure': 1081, 'reaction': 3541, 'offers': 3090, 'knowing': 2490, 'promising': 3433, 'thus': 4486, 'predictable': 3367, 'performances': 3229, 'actor': 103, 'tracy': 4546, 'tom': 4514, 'hanks': 2025, 'charming': 768, 'charismatic': 763, 'tells': 4397, 'plant': 3293, 'says': 3801, 'semi': 3874, 'learns': 2553, 'favorite': 1671, 'eddie': 1416, 'albert': 174, 'themselves': 4435, 'cameos': 658, 'singers': 3994, 'etc': 1527, 'lincoln': 2608, 'center': 732, 'difference': 1246, 'disgusting': 1286, 'prequel': 3372, 'starring': 4154, 'key': 2458, 'rise': 3702, 'relation': 3595, 'prison': 3401, 'talks': 4361, 'self': 3869, 'bits': 490, 'held': 2074, 'lay': 2542, 'awake': 365, 'waiting': 4772, 'hit': 2122, 'intriguing': 2335, 'david': 1124, 'lynch': 2691, 'saying': 3800, 'blonde': 511, 'crying': 1074, 'threatening': 4468, 'haunting': 2051, 'form': 1798, 'suspense': 4330, 'feels': 1687, 'therefore': 4439, 'describe': 1194, 'selling': 3873, 'awesome': 371, 'boys': 559, 'nostalgia': 3038, 'tag': 4348, 'relies': 3606, 'heavily': 2069, 'draw': 1349, 'names': 2963, 'irish': 2353, 'besides': 468, 'elements': 1443, 'conflict': 939, 'consequences': 947, 'crisis': 1060, 'situations': 4009, 'result': 3660, 'plots': 3310, 'extent': 1605, 'towards': 4540, 'circumstances': 822, 'achieve': 92, 'theyve': 4446, 'tried': 4584, 'goal': 1925, 'court': 1020, 'planet': 3289, 'utterly': 4702, 'failed': 1626, 'provide': 3448, 'contrived': 976, 'filled': 1715, 'okay': 3099, 'quotes': 3497, 'heard': 2062, 'books': 536, 'together': 4511, 'unnecessary': 4672, 'bears': 421, 'driving': 1368, 'nowhere': 3056, 'catching': 716, 'guard': 1988, 'personal': 3240, 'meaningful': 2781, 'urge': 4689, 'punch': 3466, 'secondly': 3847, 'portrayed': 3342, 'dimensional': 1253, 'exception': 1557, 'motivation': 2914, 'necessary': 2984, 'advice': 133, 'magazine': 2701, 'less': 2575, 'thin': 4449, 'producers': 3416, 'pass': 3201, 'fancy': 1649, 'locations': 2636, 'photography': 3260, 'easier': 1405, 'others': 3136, 'filming': 1718, 'non': 3027, 'consider': 949, 'ford': 1789, 'wayne': 4821, 'william': 4887, 'ability': 65, 'remember': 3616, 'per': 3223, 'wrote': 4974, 'novel': 3052, 'gifted': 1907, 'scripts': 3836, 'badly': 383, 'mention': 2810, 'operation': 3117, 'used': 4693, '40': 48, 'oscars': 3134, 'missing': 2869, 'east': 1407, 'valley': 4707, 'normally': 3034, 'stock': 4193, 'company': 910, 'cowboy': 1025, 'ken': 2453, 'roles': 3727, 'anna': 245, 'familiar': 1643, 'below': 462, 'mr': 2929, 'classics': 837, 'duke': 1383, 'fit': 1740, 'perfectly': 3226, 'adequate': 120, 'required': 3641, 'type': 4621, 'major': 2711, 'person': 3238, 'talent': 4354, 'star': 4150, 'glad': 1916, 'stuck': 4237, 'credits': 1050, 'military': 2844, 'supposedly': 4307, 'ratings': 3530, '100': 1, 'hearts': 2066, 'wind': 4893, 'unlike': 4670, 'tonight': 4519, 'question': 3487, 'hand': 2015, 'tame': 4363, 'heaven': 2068, 'shy': 3962, 'everything': 1544, 'butt': 638, 'tim': 4494, 'snl': 4044, 'hearing': 2063, 'remote': 3622, 'feature': 1678, 'dear': 1140, 'gray': 1963, 'hollywoods': 2138, 'desperate': 1208, 'avoid': 363, 'truth': 4599, 'against': 147, 'feminist': 1695, 'began': 441, 'crude': 1069, 'eyes': 1613, 'philosophy': 3254, 'helping': 2081, 'solve': 4060, 'conflicts': 940, 'julie': 2428, 'suffering': 4277, 'producer': 3415, 'radio': 3504, 'kidding': 2465, 'string': 4227, 'broken': 594, 'angry': 238, 'spirits': 4115, 'manages': 2725, 'bed': 436, 'chicago': 785, 'genuine': 1891, 'calling': 653, 'card': 681, 'expert': 1585, 'husbands': 2205, 'forms': 1801, 'victims': 4730, 'smiling': 4037, 'usa': 4691, 'club': 863, 'lovable': 2668, 'dance': 1103, 'number': 3060, 'plus': 3311, 'delight': 1167, 'billy': 482, 'owner': 3159, 'smooth': 4041, 'narrator': 2967, 'pile': 3275, 'cash': 709, 'hiding': 2099, 'choose': 799, 'search': 3841, 'happiness': 2031, 'offering': 3089, 'dreams': 1355, 'succeed': 4262, 'adults': 126, 'patrick': 3213, 'delivery': 1173, 'ensemble': 1492, 'addition': 118, 'women': 4923, 'pilot': 3276, 'develops': 1226, 'relatively': 3600, 'situation': 4008, 'blame': 499, 'countries': 1013, 'merit': 2816, 'forced': 1787, 'likely': 2601, 'clever': 841, 'unpleasant': 4674, 'screen': 3829, 'painted': 3174, 'case': 707, 'sides': 3967, 'hope': 2155, 'younger': 4990, 'generation': 1883, 'pain': 3170, 'carries': 699, 'message': 2819, 'faults': 1669, 'reality': 3551, 'across': 96, 'border': 539, 'mrs': 2930, 'uk': 4626, 'deal': 1135, 'racism': 3502, 'europe': 1529, 'eg': 1434, 'reed': 3580, 'serial': 3889, 'opportunity': 3121, 'discover': 1279, 'del': 1165, 'ed': 1415, 'ex': 1549, 'tarzan': 4367, 'jim': 2402, 'villains': 4745, 'king': 2479, 'sword': 4340, 'seasons': 3844, 'challenge': 743, 'season': 3843, 'guarantee': 1987, 'finish': 1732, 'reasons': 3560, 'anderson': 227, 'cooper': 990, 'games': 1865, 'mentally': 2809, 'challenging': 744, 'equally': 1510, 'necessarily': 2983, 'creates': 1038, 'absurd': 73, 'cynical': 1093, 'none': 3028, 'happy': 2032, 'friday': 1834, 'persons': 3244, 'common': 906, 'teacher': 4375, 'writes': 4970, 'nobody': 3022, 'reads': 3545, 'sister': 4001, 'constantly': 958, 'touch': 4533, 'law': 2538, 'theater': 4427, 'troubles': 4594, 'advise': 134, 'uses': 4697, 'rock': 3720, 'mood': 2898, 'waste': 4808, 'false': 1641, 'moral': 2902, 'definitely': 1162, 'emotionally': 1460, 'justin': 2440, 'scream': 3826, 'destroy': 1213, 'accept': 80, 'hopeless': 2158, 'horribly': 2164, 'miscast': 2862, 'casting': 711, 'andy': 230, 'dick': 1239, 'lane': 2515, 'jesus': 2399, 'ben': 463, 'sir': 4000, 'ian': 2209, 'expressions': 1603, '25': 40, 'cliché': 844, 'buy': 640, 'justice': 2438, 'journalist': 2420, 'fly': 1763, 'failure': 1629, 'puts': 3481, 'essentially': 1523, 'primary': 3394, 'places': 3284, 'morgan': 2905, 'freeman': 1829, 'kevin': 2457, 'cary': 706, 'surprised': 4313, 'cool': 989, 'imagine': 2238, 'physically': 3263, 'moment': 2886, 'relief': 3605, 'pleasure': 3306, 'minutes': 2859, 'breath': 573, 'air': 164, 'mill': 2845, 'corruption': 1002, 'admire': 121, 'homage': 2141, 'stretch': 4221, 'disbelief': 1277, 'existence': 1571, 'sitting': 4007, 'features': 1680, 'conversation': 980, 'impress': 2250, 'fail': 1625, 'dialogue': 1234, 'emotion': 1458, 'chosen': 805, 'motion': 2913, 'curiosity': 1082, 'art': 304, 'choices': 798, 'incoherent': 2265, 'exciting': 1563, 'talked': 4359, 'team': 4378, 'runs': 3757, 'mediocre': 2791, 'unfortunately': 4654, 'subjects': 4254, 'sad': 3767, 'father': 1666, 'japanese': 2382, 'altogether': 202, 'served': 3894, 'cop': 991, 'vice': 4727, 'overcome': 3151, 'patient': 3211, 'perry': 3237, 'stylish': 4251, 'murderous': 2942, 'eat': 1411, 'expensive': 1579, 'car': 680, 'spot': 4131, 'everyone': 1542, 'incident': 2260, 'cops': 993, 'hole': 2132, 'rough': 3741, 'gone': 1935, 'complicated': 925, 'detective': 1220, 'powers': 3361, 'era': 1513, 'combined': 885, 'murders': 2943, 'committed': 905, 'dropping': 1371, 'chinese': 796, 'somebody': 4062, 'dropped': 1370, 'powell': 3358, 'psychological': 3458, 'wondering': 4930, 'scientific': 3817, 'basis': 408, 'myself': 2953, 'logical': 2639, 'rules': 3754, 'stated': 4161, 'killers': 2471, 'identity': 2217, 'revealed': 3671, 'till': 4493, 'answer': 251, 'murder': 2939, 'dog': 1310, 'italy': 2368, 'restored': 3659, 'actual': 108, '2003': 33, 'tune': 4602, 'teach': 4374, 'fight': 1707, 'beings': 449, 'audio': 354, 'assume': 328, 'lost': 2660, 'language': 2516, 'present': 3374, 'hitler': 2124, 'masterpiece': 2759, 'jack': 2373, 'kelly': 2452, 'vietnam': 4735, 'atrocious': 335, 'bell': 458, 'hanging': 2023, 'tree': 4576, 'unintentional': 4658, 'followed': 1773, 'improved': 2255, 'sequel': 3885, 'visual': 4757, 'artistic': 308, 'beauty': 430, 'kinds': 2478, 'wisdom': 4902, 'received': 3564, 'uninspired': 4657, 'photographer': 3259, 'qualities': 3483, 'images': 2235, 'duty': 1390, 'workers': 4943, 'frankly': 1823, 'generally': 1881, 'according': 88, 'artist': 307, 'issues': 2365, 'surrounding': 4319, 'moves': 2925, 'cinderella': 815, '1950s': 14, 'eccentric': 1414, 'ugly': 4625, 'sisters': 4002, 'become': 433, 'upper': 4685, 'girls': 1911, 'turner': 4607, 'costumes': 1006, 'traditional': 4550, 'oddly': 3081, 'splendid': 4119, 'respect': 3652, 'college': 875, 'presents': 3377, 'developing': 1224, 'focuses': 1768, 'realizing': 3555, 'effect': 1428, 'degree': 1164, 'control': 977, 'movement': 2923, 'olivier': 3103, 'ultimate': 4627, 'today': 4508, 'eye': 1611, 'stiff': 4187, 'stilted': 4190, 'carried': 698, 'larger': 2519, 'theaters': 4428, 'carry': 700, 'unintentionally': 4659, 'meeting': 2794, 'fathers': 1667, 'ghost': 1902, 'bright': 581, 'fill': 1714, 'lights': 2597, 'impression': 2252, 'putting': 3482, 'queen': 3485, 'painfully': 3172, 'differences': 1247, 'lacked': 2503, 'portray': 3340, 'flawed': 1750, 'fellow': 1691, 'combination': 883, 'neo': 2998, 'brothers': 599, 'urban': 4688, 'attitude': 346, 'hung': 2197, 'comedic': 888, 'jet': 2400, 'li': 2587, 'brutal': 603, 'results': 3662, 'holding': 2130, 'merely': 2815, 'jazz': 2387, 'under': 4639, 'thriller': 4472, 'immediately': 2242, 'flawless': 1751, 'european': 1530, 'religious': 3608, 'paris': 3189, 'france': 1816, 'inspector': 2299, 'gadget': 1860, '80s': 59, 'walk': 4775, 'male': 2719, 'gratuitous': 1961, 'dialogues': 1235, 'albeit': 173, 'visually': 4758, 'dig': 1250, 'painting': 3175, 'mental': 2808, 'onto': 3111, 'recommended': 3572, 'seven': 3903, 'sequels': 3886, 'ii': 2226, 'werewolf': 4850, 'uncle': 4636, 'giving': 1915, 'bought': 552, 'brand': 565, 'disturbing': 1300, 'hot': 2174, 'karen': 2444, 'whom': 4875, 'ripped': 3701, 'creature': 1045, 'annie': 247, 'swear': 4334, 'rip': 3700, 'throat': 4476, 'damn': 1100, 'clichéd': 845, 'related': 3594, 'remake': 3612, 'hardly': 2036, 'meant': 2784, 'plain': 3286, 'personally': 3243, 'listed': 2618, 'creatures': 1046, 'expect': 1575, 'academy': 77, 'understanding': 4645, 'honesty': 2148, 'round': 3742, 'desert': 1198, 'died': 1244, 'hate': 2046, 'pulls': 3464, 'somehow': 4063, 'christmas': 810, 'peoples': 3222, 'beloved': 461, 'released': 3603, 'pulled': 3462, 'flow': 1762, 'formula': 1802, 'lazy': 2543, 'americas': 215, 'wit': 4908, 'slapstick': 4019, 'treasure': 4571, 'insult': 2309, 'jewish': 2401, 'century': 736, 'surrounded': 4318, 'dreary': 1356, 'worn': 4948, 'streets': 4217, 'brown': 601, 'tiny': 4500, 'clothes': 860, 'shop': 3945, 'worked': 4941, 'wore': 4939, 'clothing': 861, 'physical': 3262, 'blank': 501, 'grey': 1973, 'mundane': 2938, 'buildings': 616, 'lifestyle': 2593, 'escape': 1517, 'theatre': 4429, 'row': 3744, 'freedom': 1828, 'provides': 3450, 'face': 1616, 'remain': 3609, 'summer': 4291, 'brilliantly': 584, 'convey': 982, 'decides': 1150, 'free': 1827, 'bleak': 503, 'trapped': 4564, 'eventually': 1537, 'parts': 3199, 'skill': 4013, 'begins': 444, 'journey': 2421, 'learning': 2552, 'act': 97, 'emotions': 1461, 'needs': 2990, 'fully': 1847, 'aspects': 322, 'steps': 4177, 'anger': 235, 'react': 3540, 'slowly': 4032, 'experiences': 1582, 'technically': 4382, 'odd': 3080, 'photo': 3257, 'realistic': 3550, 'learn': 2550, 'craft': 1028, 'hitchcock': 2123, 'displays': 1293, 'involving': 2349, 'fighting': 1709, 'stunning': 4244, 'arm': 292, 'boxing': 556, 'handled': 2019, 'prove': 3445, 'ahead': 159, 'insight': 2298, 'object': 3066, 'driven': 1365, 'sex': 3907, 'relationships': 3598, 'campy': 664, 'psychotic': 3459, 'massacre': 2754, 'sucks': 4271, 'individuals': 2278, 'devoid': 1230, 'angle': 236, 'foot': 1781, 'tall': 4362, 'millions': 2848, 'impressed': 2251, 'alive': 186, 'quote': 3496, 'afraid': 140, 'elsewhere': 1449, 'annoyed': 248, 'illogical': 2231, 'teaching': 4377, 'morality': 2903, 'taught': 4370, 'offensive': 3086, 'suppose': 4305, 'stealing': 4171, 'rented': 3628, 'grant': 1956, 'stanley': 4148, 'parker': 3191, 'appalling': 268, 'sat': 3786, 'jaw': 2384, 'believing': 457, 'ears': 1402, 'barely': 399, 'hideous': 2098, 'gorgeous': 1942, 'adorable': 124, 'endearing': 1469, 'ball': 388, 'attempting': 342, 'speak': 4094, 'belief': 451, 'crimes': 1056, 'sexuality': 3909, 'including': 2264, 'nudity': 3059, 'beats': 426, 'falling': 1639, 'theory': 4437, 'females': 1694, 'striking': 4226, 'horses': 2171, 'fashion': 1659, 'older': 3101, 'wearing': 4831, 'asking': 318, 'horse': 2170, 'riding': 3695, 'legs': 2566, 'greatly': 1967, 'excitement': 1562, 'suddenly': 4273, 'con': 928, 'distance': 1294, 'handsome': 2021, 'picks': 3268, 'presence': 3373, 'sean': 3840, 'proves': 3447, 'attorney': 348, 'disjointed': 1287, 'erotic': 1515, 'complex': 923, 'odds': 3082, 'whenever': 4863, 'woods': 4935, 'loaded': 2632, 'sucked': 4270, 'dangerous': 1110, 'user': 4696, 'commented': 900, 'implausible': 2245, 'happen': 2026, 'dream': 1354, 'crazy': 1035, 'creator': 1043, 'portraying': 3343, 'nightmare': 3014, 'superior': 4300, 'laura': 2536, 'centers': 734, 'california': 650, 'kills': 2474, 'decide': 1148, 'joke': 2414, 'surely': 4309, 'nude': 3058, 'actresses': 106, 'pool': 3327, 'excuse': 1564, 'alike': 185, 'topless': 4527, 'cameo': 657, 'higher': 2101, 'serves': 3895, 'excessive': 1560, 'danny': 1112, 'write': 4967, 'historical': 2119, 'defense': 1159, 'talk': 4358, 'planned': 3290, 'arrival': 299, 'portrays': 3344, 'werent': 4849, 'closer': 856, 'sorts': 4078, 'west': 4852, 'exist': 1569, 'depicted': 1183, 'dying': 1393, 'mature': 2773, 'convincing': 985, 'doc': 1303, 'mexican': 2826, 'pro': 3406, 'nazi': 2977, 'occurs': 3078, 'eighties': 1437, 'thrill': 4471, 'weakest': 4825, 'mtv': 2933, 'laughed': 2532, 'delightful': 1168, 'holiday': 2134, 'escaped': 1518, 'dressed': 1358, 'mary': 2751, 'ellen': 1446, 'murdered': 2940, 'struggle': 4234, 'survive': 4321, 'santa': 3783, 'suit': 4284, 'larry': 2520, 'precious': 3366, 'daughters': 1122, 'remembered': 3617, 'program': 3424, 'routine': 3743, 'notable': 3041, 'narrative': 2966, 'tales': 4357, 'seriously': 3892, 'mom': 2885, 'couples': 1017, 'lady': 2507, 'brought': 600, 'cares': 690, 'pushing': 3479, 'fed': 1682, 'past': 3207, 'unbearable': 4633, 'animation': 242, 'clip': 851, 'machine': 2693, 'creation': 1040, 'contemporary': 965, 'initial': 2290, 'exploitation': 1592, 'machines': 2694, 'wow': 4962, 'flying': 1764, 'childhood': 790, 'remotely': 3623, 'stupidity': 4248, 'mainly': 2708, 'walls': 4783, 'shoot': 3942, '45': 50, 'previously': 3388, 'unseen': 4678, 'shooting': 3943, 'deserve': 1199, 'scores': 3823, '1984': 23, 'dickens': 1240, 'color': 877, 'biggest': 480, 'george': 1893, 'scott': 3824, 'incredible': 2269, 'scrooge': 3837, 'businessman': 634, 'haunted': 2050, 'evening': 1534, 'properly': 3437, 'unable': 4631, 'project': 3427, 'valuable': 4708, 'dancing': 1107, 'street': 4216, 'joy': 2422, 'dignity': 1252, 'projects': 3428, 'manner': 2729, 'frightening': 1839, 'shines': 3932, 'frame': 1815, 'aired': 165, 'disappointment': 1275, 'carol': 693, 'basement': 405, 'exotic': 1574, 'storyline': 4208, 'catholic': 720, 'priest': 3392, 'prostitute': 3440, 'raped': 3522, 'religion': 3607, 'dennis': 1179, 'hopper': 2161, 'baby': 376, 'stop': 4201, 'saving': 3797, 'titled': 4505, 'tunes': 4603, 'pop': 3330, 'comment': 898, 'spirit': 4113, 'sky': 4017, 'credible': 1048, 'folks': 1771, 'enormous': 1490, 'dress': 1357, 'gay': 1876, 'bet': 470, 'dollar': 1314, 'unhappy': 4656, 'dozen': 1338, 'finale': 1723, 'noir': 3023, '40s': 49, '60s': 54, '70s': 56, 'gods': 1928, 'writers': 4969, 'depressed': 1187, 'category': 718, 'changed': 750, 'unfortunate': 4653, 'canada': 666, 'snow': 4045, 'canadian': 667, 'efforts': 1433, 'noble': 3021, 'aged': 149, 'bank': 394, '1970s': 17, 'concerning': 933, 'fascinating': 1658, 'accurate': 90, 'prepared': 3371, 'expected': 1577, 'capture': 676, 'fiction': 1702, 'scenario': 3808, 'moving': 2928, 'destruction': 1216, 'thousands': 4466, 'powerful': 3360, 'carrying': 701, 'battle': 414, 'mad': 2696, 'max': 2774, 'travel': 4567, 'distant': 1295, 'thrilling': 4474, 'tend': 4400, 'repeat': 3630, 'proved': 3446, 'thumbs': 4485, 'productions': 3420, '1980': 20, 'independent': 2272, 'produced': 3414, 'studio': 4240, 'faith': 1633, 'picked': 3266, 'distribution': 1298, 'lena': 2568, 'limited': 2606, 'virtually': 4751, 'bother': 548, 'affect': 136, 'todays': 4509, 'market': 2740, 'lovers': 2673, 'loss': 2659, 'record': 3573, 'angela': 232, 'glover': 1923, 'deserved': 1200, 'meet': 2793, 'mindless': 2851, 'flashbacks': 1747, 'breathtaking': 574, 'rights': 3697, 'largely': 2518, 'focus': 1766, 'brave': 567, 'brutally': 604, 'deserves': 1201, '2000': 30, 'absolute': 71, 'follows': 1775, 'students': 4239, 'afternoon': 144, 'lacking': 2504, 'wave': 4818, 'plastic': 3294, 'guns': 1998, 'arms': 294, 'forth': 1804, 'pair': 3176, 'existent': 1572, 'bullets': 621, 'grown': 1984, 'spin': 4112, 'polished': 3323, 'shelf': 3926, 'decades': 1145, 'recent': 3566, 'footage': 1782, 'cuts': 1091, 'captain': 674, 'staff': 4138, 'officers': 3093, 'realize': 3552, 'fantasy': 1652, 'system': 4345, 'russian': 3762, 'advance': 127, 'subplot': 4255, 'member': 2800, 'familys': 1646, 'surviving': 4323, 'detail': 1217, 'german': 1896, 'wears': 4832, 'soldiers': 4054, 'army': 295, 'iron': 2354, 'cross': 1066, 'youth': 4994, 'weapon': 4828, 'model': 2880, 'drunken': 1376, 'wounded': 4961, 'soldier': 4053, 'nurse': 3063, 'embarrassing': 1454, 'wall': 4781, 'screaming': 3827, 'account': 89, 'seconds': 3848, 'funeral': 1849, 'smoke': 4039, '1973': 19, 'der': 1191, 'officer': 3092, 'trial': 4580, 'judge': 2424, 'michael': 2829, 'surprising': 4315, 'hugh': 2186, 'adaptation': 113, 'master': 2757, 'wonderfully': 4929, 'universe': 4666, 'liberal': 2588, 'culture': 1079, 'imagery': 2234, 'cell': 730, 'superbly': 4297, 'captures': 678, 'subtle': 4260, 'transition': 4561, 'settings': 3901, 'themes': 4434, 'computer': 927, 'van': 4713, 'broadway': 592, 'witch': 4909, 'successful': 4266, 'manhattan': 2726, 'kim': 2475, 'steals': 4172, 'witches': 4910, 'spell': 4104, 'harder': 2035, 'attractive': 351, 'amusing': 221, 'village': 4743, 'heat': 2067, 'compelling': 916, 'benefit': 465, 'alfred': 181, 'comic': 893, 'provided': 3449, 'stellar': 4174, 'lemmon': 2567, 'aunt': 355, 'lots': 2662, 'animated': 241, 'paulie': 3215, 'touching': 4536, 'ranks': 3519, 'disney': 1289, 'status': 4165, 'aspect': 321, 'follow': 1772, 'amounts': 220, 'vacation': 4704, 'resort': 3650, 'cats': 721, 'attraction': 350, 'band': 391, 'rebel': 3561, 'plan': 3287, 'wise': 4903, 'achievement': 94, 'cgi': 740, 'amazingly': 210, 'detailed': 1218, 'longer': 2645, 'attacks': 339, 'bloody': 513, 'youd': 4987, 'horrendous': 2162, 'island': 2361, 'hunt': 2198, 'private': 3404, 'property': 3438, 'security': 3854, 'game': 1864, 'sent': 3880, 'normal': 3033, 'bore': 540, 'tears': 4380, 'comical': 894, 'sports': 4130, 'deep': 1154, 'deliver': 1169, 'chick': 786, 'lifetime': 2594, 'halfway': 2008, 'sally': 3776, '15': 7, 'victoria': 4732, 'britain': 588, 'royal': 3746, 'deals': 1137, 'princess': 3397, 'leading': 2547, 'wedding': 4836, 'prince': 3396, 'careers': 687, 'political': 3324, 'emily': 1456, 'blunt': 520, 'welcome': 4842, 'shine': 3931, 'winning': 4898, 'lies': 2591, 'tight': 4492, 'matt': 2768, 'chess': 783, 'acted': 98, 'rated': 3527, 'pg': 3250, 'brief': 579, 'smoking': 4040, 'spoilers': 4124, 'contrary': 974, 'chuck': 812, 'stretched': 4222, 'currently': 1085, 'fifteen': 1706, 'blowing': 515, 'packed': 3166, 'target': 4366, 'originally': 3131, '2001': 31, 'months': 2897, 'bin': 483, 'nuclear': 3057, 'device': 1227, 'states': 4163, 'rat': 3525, 'sinatra': 3989, 'tribute': 4581, 'symbolism': 4341, 'realism': 3549, 'crowd': 1067, 'slick': 4026, 'jeff': 2390, 'variety': 4714, 'gabriel': 1859, 'order': 3126, 'ninja': 3018, 'naturally': 2974, 'threw': 4470, 'tends': 4402, 'darker': 1116, 'suits': 4287, 'greatest': 1966, 'complain': 919, 'rid': 3690, 'rangers': 3517, 'issue': 2364, 'countless': 1012, 'build': 614, 'bring': 585, 'encounters': 1467, 'magic': 2703, 'infamous': 2284, 'de': 1131, 'comfortable': 892, 'sticks': 4186, 'enemies': 1476, 'fortunately': 1805, 'creators': 1044, 'gotten': 1947, 'buried': 624, 'start': 4156, 'gang': 1867, 'gotta': 1946, 'sue': 4274, 'anti': 254, '1980s': 21, 'basketball': 409, 'fetched': 1698, 'childrens': 793, 'peace': 3219, 'celebrity': 729, 'soviet': 4089, 'union': 4661, 'learned': 2551, 'ludicrous': 2685, 'cold': 872, 'dare': 1113, 'miracle': 2860, 'mile': 2842, 'testament': 4417, 'simplistic': 3985, 'wing': 4896, 'block': 508, 'starting': 4158, 'struggling': 4236, 'foreign': 1790, 'realise': 3548, 'social': 4049, 'million': 2847, 'minds': 2852, 'keeping': 2450, 'range': 3516, 'talents': 4356, 'lion': 2614, 'conclusion': 936, 'appreciation': 281, 'speaking': 4095, 'keaton': 2448, 'chaplin': 756, 'mechanical': 2788, 'convoluted': 987, 'laid': 2508, 'surprises': 4314, 'impossible': 2249, 'spy': 4135, 'extraordinary': 1607, 'product': 3418, 'channel': 753, 'grasp': 1960, 'pointed': 3317, 'spoil': 4121, 'road': 3709, 'spoken': 4126, 'pages': 3168, 'appear': 273, 'known': 2492, 'ted': 4386, 'blow': 514, 'directs': 1267, 'access': 83, 'store': 4204, 'unpredictable': 4675, 'spanish': 4092, 'god': 1926, 'thank': 4421, 'decided': 1149, 'seek': 3858, 'join': 2412, 'above': 68, 'nelson': 2997, '3rd': 47, 'cabin': 643, 'lake': 2509, 'horrors': 2169, 'highlight': 2103, 'mid': 2832, 'allows': 192, 'discovers': 1281, 'lie': 2590, 'rose': 3739, 'occasion': 3073, 'delivered': 1170, 'installment': 2303, 'happening': 2028, 'slightest': 4028, 'clue': 864, 'tied': 4489, 'minimal': 2855, 'exposure': 1599, 'sudden': 4272, 'mouth': 2920, 'whose': 4877, 'stale': 4141, 'curious': 1083, 'hip': 2114, '1960s': 15, 'hour': 2176, 'rick': 3689, 'dollars': 1315, 'forgettable': 1794, 'whether': 4866, 'ideas': 2215, 'tired': 4501, 'hat': 2045, 'guide': 1993, 'ultimately': 4628, 'smile': 4036, 'risk': 3704, 'losing': 2658, 'wide': 4880, 'sympathetic': 4342, 'fox': 1814, 'random': 3514, 'appeal': 271, 'funniest': 1851, 'entertain': 1497, 'author': 359, 'introduce': 2336, 'sole': 4055, 'credit': 1049, 'segment': 3867, 'members': 2801, 'namely': 2962, 'hyde': 2206, 'felix': 1689, 'colonel': 876, 'trio': 4587, 'lesser': 2576, 'enjoyable': 1485, 'bargain': 400, 'church': 813, 'service': 3896, 'placed': 3283, 'lengthy': 2570, 'chain': 741, 'education': 1424, 'ask': 316, 'wealthy': 4827, 'respected': 3653, 'measure': 2786, 'irony': 2357, 'sounding': 4083, 'authority': 360, 'sun': 4292, 'former': 1800, 'imitation': 2241, 'price': 3389, 'realizes': 3554, 'position': 3345, 'patients': 3212, 'separate': 3883, 'humorous': 2193, 'resident': 3647, 'melodramatic': 2798, 'raymond': 3534, 'devoted': 1231, 'betty': 474, 'ann': 244, 'davies': 1125, 'simmons': 3981, 'spite': 4117, 'surface': 4310, 'wasting': 4810, 'spain': 4091, 'dinner': 1254, 'hits': 2125, 'responsible': 3656, 'suitable': 4285, 'horrific': 2166, 'outcome': 3142, 'underground': 4640, 'chapter': 757, 'latest': 2526, 'twisted': 4618, 'liners': 2611, 'prior': 3400, 'blockbuster': 509, 'ward': 4793, 'contained': 963, 'sappy': 3784, 'admittedly': 123, 'niro': 3019, 'cuba': 1075, 'jr': 2423, 'hal': 2006, 'carl': 692, 'internet': 2327, 'african': 142, 'navy': 2976, 'reached': 3537, 'helicopter': 2076, 'theyd': 4443, 'legendary': 2565, 'chief': 788, 'born': 544, 'wed': 4835, '90': 60, 'clips': 852, 'acts': 107, 'wanna': 4786, 'hills': 2109, 'drivel': 1364, 'fool': 1779, 'reasonable': 3558, 'bush': 632, 'park': 3190, 'sitcom': 4004, 'plenty': 3307, 'wwii': 4975, 'insane': 2296, 'glory': 1922, 'frustration': 1843, 'utter': 4701, 'bullet': 620, 'germans': 1897, 'massive': 2756, 'poverty': 3357, 'ignored': 2225, 'fictional': 1703, 'sell': 3871, 'inventive': 2341, 'charisma': 762, 'command': 897, 'holes': 2133, 'castle': 712, 'treated': 4573, 'partly': 3197, 'philip': 3252, 'department': 1182, 'veteran': 4724, 'susan': 4326, 'moore': 2901, 'raised': 3508, 'resulting': 3661, 'motivations': 2915, 'skills': 4014, 'passionate': 3206, 'appealing': 272, 'helps': 2082, 'capable': 672, 'flashback': 1746, 'warrior': 4802, 'returns': 3668, 'kingdom': 2480, 'jonathan': 2417, 'kings': 2481, 'wars': 4804, 'empty': 1465, 'hoped': 2156, 'pregnant': 3369, 'spend': 4105, 'agrees': 157, 'temple': 4398, 'accidentally': 85, 'rain': 3506, 'land': 2511, 'eastern': 1408, 'adventures': 131, 'calm': 655, 'eric': 1514, 'continuity': 972, 'errors': 1516, 'bizarre': 492, 'ham': 2011, 'similarly': 3980, 'pig': 3274, 'boot': 538, 'corrupt': 1001, 'abilities': 64, 'clark': 832, 'arrives': 302, 'returned': 3666, 'farm': 1656, 'hired': 2117, 'aka': 168, 'arthur': 305, 'victor': 4731, 'stone': 4197, 'investigate': 2342, 'league': 2549, 'saga': 3773, 'heroes': 2089, 'flash': 1745, 'spectacular': 4101, 'oliver': 3102, 'breaks': 571, 'importance': 2246, 'criminals': 1058, 'goldberg': 1933, 'mgm': 2828, 'musicals': 2948, 'beautifully': 429, 'classical': 836, 'favorites': 1672, 'dozens': 1339, 'piano': 3264, 'dances': 1106, 'jerry': 2396, 'mouse': 2919, 'mountains': 2918, '1940s': 13, 'glorious': 1921, 'disagree': 1269, 'instance': 2304, 'diane': 1238, 'adam': 111, 'worried': 4949, 'minded': 2850, 'intrigued': 2334, 'troubled': 4593, 'soul': 4079, 'complaint': 920, 'took': 4523, 'jackie': 2374, 'chan': 746, 'dubbing': 1380, 'fashioned': 1660, 'kung': 2498, 'fu': 1844, 'choreography': 802, 'gordon': 1940, 'weekend': 4838, 'bay': 416, 'makeup': 2717, 'mayor': 2777, 'mild': 2839, 'neat': 2982, 'convince': 983, 'teenage': 4389, 'considered': 951, 'somewhere': 4069, 'wound': 4960, 'staying': 4168, 'generations': 1884, 'saves': 3796, 'afterwards': 145, 'engaged': 1480, 'rolling': 3730, 'york': 4985, 'amount': 219, 'regular': 3592, '20': 29, 'hbo': 2055, 'comics': 895, 'indie': 2276, 'martin': 2748, 'co': 867, 'robin': 3715, 'accident': 84, 'burned': 626, 'pull': 3461, 'lawyer': 2541, 'buddy': 609, 'theme': 4433, 'wives': 4918, 'supernatural': 4302, 'bill': 481, 'slight': 4027, 'beneath': 464, 'guts': 1999, 'rob': 3710, 'display': 1291, 'phone': 3255, 'indeed': 2271, 'occurred': 3077, 'cry': 1073, 'loving': 2675, 'notorious': 3051, 'bettie': 473, 'page': 3167, 'sin': 3988, 'split': 4120, 'push': 3477, 'allow': 189, 'enjoyment': 1488, 'despair': 1207, 'sensitive': 3879, 'numerous': 3062, 'blows': 517, 'abuse': 74, 'hammer': 2014, 'whereas': 4865, 'essential': 1522, 'heroine': 2091, 'link': 2613, 'soft': 4051, 'core': 995, 'combine': 884, 'destiny': 1212, 'chooses': 800, 'listen': 2619, 'sadness': 3770, 'decision': 1151, 'date': 1118, 'taxi': 4371, 'driver': 1366, 'bridge': 578, 'herself': 2092, 'boyfriend': 558, 'bothered': 549, 'specifically': 4100, 'replaced': 3634, 'community': 908, 'rambo': 3511, 'kurt': 2499, 'crack': 1027, 'snake': 4042, 'regret': 3591, 'unwatchable': 4682, 'redeeming': 3577, 'abandoned': 62, 'due': 1382, 'fails': 1628, 'single': 3996, 'strikes': 4225, 'amateurish': 207, 'nonsensical': 3031, 'afford': 138, 'equipment': 1511, 'miles': 2843, 'porn': 3336, 'defend': 1158, 'dire': 1257, 'fond': 1776, 'references': 3583, 'source': 4086, 'material': 2766, 'channels': 754, 'parents': 3188, 'brian': 576, 'personalities': 3241, 'walked': 4776, 'priceless': 3390, 'anyways': 262, 'introduced': 2337, 'cox': 1026, 'fired': 1735, 'breaking': 570, 'sum': 4289, 'un': 4630, 'heads': 2059, 'cut': 1089, 'chicks': 787, 'circle': 821, 'jerk': 2395, 'torture': 4529, 'trailer': 4554, 'disc': 1278, 'term': 4405, 'loosely': 2651, 'liking': 2604, 'uncomfortable': 4637, 'edited': 1420, 'holly': 2136, 'explains': 1589, 'chris': 806, 'intentions': 2321, 'reach': 3536, 'gain': 1863, 'leader': 2546, 'household': 2179, 'thankfully': 4422, 'cried': 1054, 'bitter': 491, 'heres': 2087, 'itll': 2369, 'dealt': 1138, 'christians': 809, 'areas': 287, 'instantly': 2306, 'football': 1783, 'relate': 3593, 'cardboard': 682, 'bible': 477, 'taylor': 4372, 'lose': 2654, 'kicking': 2462, 'wait': 4770, 'passes': 3203, 'championship': 745, 'coach': 868, 'truck': 4595, 'fair': 1630, 'raise': 3507, 'matters': 2770, 'lord': 2652, 'christ': 807, 'tap': 4364, 'mere': 2814, 'planning': 3291, 'candy': 668, 'facing': 1620, 'manage': 2722, 'responsibility': 3655, 'argument': 291, 'martial': 2747, 'arts': 310, 'convincingly': 986, 'fooled': 1780, 'smaller': 4034, 'mighty': 2836, 'jennifer': 2392, 'edgar': 1417, 'allen': 188, 'pride': 3391, 'neck': 2985, 'rocky': 3723, 'grandmother': 1955, 'cliff': 847, 'buffs': 612, 'characterization': 759, 'exists': 1573, 'remaining': 3610, 'copies': 992, 'pot': 3354, 'joe': 2407, 'baker': 385, 'mitchell': 2875, 'dull': 1384, 'fat': 1663, 'sits': 4006, 'listening': 2620, 'meanwhile': 2785, 'vaguely': 4706, 'criminal': 1057, 'named': 2961, 'territory': 4411, 'shoots': 3944, 'chase': 769, 'texas': 4418, 'embarrassment': 1455, 'government': 1948, 'wilson': 4891, 'vague': 4705, 'freak': 1824, 'clint': 850, 'eastwood': 1409, 'plane': 3288, 'escapes': 1519, 'jail': 2376, 'police': 3322, 'warning': 4800, 'mentions': 2813, 'louise': 2666, 'sidekick': 3966, 'include': 2261, 'colorful': 878, 'tomatoes': 4515, 'monk': 2889, 'angels': 234, 'match': 2762, 'displayed': 1292, 'section': 3853, 'solely': 4056, 'humour': 2194, 'shock': 3938, 'twenty': 4612, 'lively': 2627, 'persona': 3239, 'tommy': 4516, 'frequently': 1832, 'borrowed': 545, 'gag': 1861, 'appearance': 274, 'mysterious': 2955, 'professor': 3422, 'university': 4667, 'allowing': 191, 'humans': 2190, 'causes': 725, 'crush': 1072, 'seventies': 3904, 'chilling': 794, 'pure': 3471, 'cheese': 780, 'lower': 2677, 'peters': 3248, 'experiment': 1583, 'worthy': 4956, 'amongst': 218, 'pants': 3182, 'hair': 2005, 'decade': 1144, 'camp': 662, 'methods': 2825, 'sacrifice': 3766, 'depression': 1189, 'stanwyck': 4149, 'furthermore': 1854, '1990s': 25, 'financial': 1725, 'rings': 3699, 'relevant': 3604, 'format': 1799, 'bar': 396, 'families': 1644, 'concern': 931, 'attend': 344, 'response': 3654, 'sends': 3876, 'wanting': 4790, 'bette': 471, 'significant': 3972, 'led': 2558, 'ginger': 1908, 'rogers': 3725, 'fred': 1825, 'astaire': 330, 'burns': 628, 'pacing': 3163, 'flat': 1748, 'conventional': 979, 'pleasant': 3302, 'mistaken': 2872, 'remind': 3618, 'stevens': 4183, 'element': 1442, 'aware': 368, 'dvds': 1392, 'suck': 4269, 'humanity': 2189, 'crappy': 1032, 'mass': 2753, 'factor': 1622, 'generous': 1886, 'grandfather': 1954, 'kirk': 2482, 'commentary': 899, 'march': 2734, 'trailers': 4555, 'sick': 3963, 'cartoons': 705, 'drawing': 1350, 'beating': 425, 'current': 1084, 'directions': 1262, 'stays': 4169, 'useless': 4695, 'blair': 497, 'reunion': 3669, 'guest': 1992, 'dan': 1102, 'letter': 2581, 'boom': 537, 'jenny': 2393, 'vision': 4754, 'innocence': 2293, 'luck': 2681, 'cultural': 1078, 'anywhere': 263, 'ourselves': 3140, 'wake': 4774, 'focused': 1767, 'formulaic': 1803, 'overly': 3155, 'corner': 996, 'mail': 2706, 'pal': 3177, 'correct': 1000, 'hop': 2154, 'authentic': 358, 'originality': 3130, 'trilogy': 4586, 'sheer': 3925, 'opposite': 3123, 'sequences': 3888, 'satisfy': 3790, 'gundam': 1997, 'nazis': 2978, 'lol': 2640, 'shouldnt': 3952, 'reading': 3544, 'hotel': 2175, 'contest': 967, 'contract': 973, 'notably': 3042, 'natural': 2973, 'briefly': 580, 'nicely': 3009, 'drives': 1367, 'johnny': 2410, 'warner': 4799, '20th': 38, 'donald': 1321, 'event': 1535, 'showed': 3956, 'busy': 635, 'studios': 4241, 'todd': 4510, 'alexander': 180, 'wrapped': 4964, 'ego': 1435, 'ordinary': 3128, 'success': 4265, 'kennedy': 2454, 'restaurant': 3658, 'americans': 214, 'shall': 3916, 'reminds': 3620, 'tragic': 4552, 'comedian': 887, 'disappoint': 1272, 'beach': 419, 'distinct': 1296, 'depiction': 1185, '30s': 44, 'abc': 63, 'sutherland': 4333, 'stinker': 4191, 'spider': 4109, 'stolen': 4195, 'hill': 2108, 'bored': 541, 'losers': 2656, 'isolated': 2363, 'greedy': 1969, 'murderer': 2941, 'senseless': 3878, 'inevitable': 2282, 'retarded': 3663, 'dialogs': 1233, 'multi': 2935, 'inspiration': 2300, 'behave': 445, 'eyed': 1612, 'influence': 2286, 'scope': 3821, 'medical': 2790, 'base': 402, 'korean': 2495, 'daring': 1114, 'stereotype': 4178, 'chasing': 772, 'actions': 101, 'seeks': 3860, '1933': 12, 'mars': 2746, 'guilt': 1994, 'locked': 2637, 'hopes': 2159, 'pick': 3265, 'nose': 3037, 'awe': 370, 'horrid': 2165, 'generated': 1882, 'tooth': 4524, 'gold': 1932, 'handful': 2017, 'scares': 3806, 'sake': 3775, 'everywhere': 1545, 'assumed': 329, 'cheek': 779, 'beaten': 424, 'jones': 2418, 'waves': 4819, 'hitting': 2126, 'lying': 2690, 'lowest': 2678, 'forces': 1788, 'pathetic': 3210, 'sandra': 3782, 'funnier': 1850, 'meaning': 2780, 'disappointing': 1274, 'leonard': 2572, 'skip': 4016, 'root': 3737, 'cliche': 843, 'ridden': 3691, 'unfunny': 4655, 'dean': 1139, 'amazed': 208, 'undoubtedly': 4648, 'fortune': 1806, 'epic': 1506, 'notes': 3046, 'nights': 3016, 'gags': 1862, 'rich': 3685, 'streep': 4215, 'accused': 91, 'australian': 357, 'spoke': 4125, 'sympathy': 4343, 'suspect': 4327, 'nation': 2969, 'strength': 4219, 'stood': 4199, 'cost': 1003, 'monster': 2892, 'theyll': 4444, 'feed': 1683, 'public': 3460, 'table': 4346, 'mainstream': 2709, 'standards': 4145, 'zone': 4999, 'doll': 1313, 'rochester': 3719, 'kudos': 2497, 'appearing': 277, 'sloppy': 4030, 'acid': 95, 'thrown': 4481, 'involve': 2345, 'wood': 4933, 'settle': 3902, 'elderly': 1440, 'deceased': 1146, 'womans': 4922, 'estate': 1525, 'health': 2060, 'solid': 4057, 'shed': 3924, 'shell': 3927, 'nail': 2957, 'suspenseful': 4331, 'weve': 4856, 'enters': 1496, 'grab': 1949, 'national': 2970, '2004': 34, 'thoroughly': 4459, 'conspiracy': 956, 'nicholas': 3010, 'cage': 645, 'seemingly': 3863, 'hunters': 2200, 'hidden': 2096, 'laughably': 2531, 'logic': 2638, 'washington': 4806, 'native': 2972, 'clues': 865, 'wealth': 4826, 'hence': 2083, 'confusing': 942, 'mine': 2853, 'holmes': 2139, 'presumably': 3380, 'diamond': 1236, 'fbi': 1675, 'reminiscent': 3621, 'delivers': 1172, 'blacks': 494, 'clean': 838, 'digital': 1251, 'intensity': 2317, 'extras': 1608, 'host': 2173, 'thick': 4447, 'headed': 2058, 'bang': 393, 'unknown': 4668, 'quit': 3494, 'par': 3184, 'extreme': 1609, 'dies': 1245, 'spoiled': 4122, 'bland': 500, 'molly': 2884, 'ray': 3533, 'craig': 1030, 'station': 4164, 'debut': 1143, 'instant': 2305, 'universal': 4665, 'sadistic': 3768, 'guessed': 1990, 'offended': 3085, 'box': 555, 'teen': 4388, 'australia': 356, 'spread': 4133, 'preview': 3386, 'library': 2589, 'lawrence': 2539, 'wooden': 4934, 'alongside': 196, 'ruth': 3763, 'sharp': 3922, 'constructed': 959, 'bourne': 554, 'damon': 1101, 'cia': 814, 'paced': 3162, 'stunts': 4246, 'chases': 771, 'batman': 413, 'severe': 3906, 'warren': 4801, 'beatty': 427, 'blue': 518, 'orange': 3125, 'yellow': 4981, 'al': 170, 'pacino': 3164, 'nicholson': 3011, 'madonna': 2699, 'babe': 375, 'toy': 4542, 'represents': 3639, 'favourite': 1673, 'slap': 4018, 'hong': 2149, 'kong': 2494, 'bone': 533, 'process': 3412, 'glass': 1917, 'stunt': 4245, 'achieved': 93, 'virgin': 4749, 'advertising': 132, 'gerard': 1895, 'butler': 637, 'ryan': 3765, 'popularity': 3334, 'succeeded': 4263, 'nick': 3012, 'race': 3499, 'apparent': 269, 'suspects': 4328, 'method': 2824, 'signed': 3971, 'guilty': 1995, 'chose': 804, 'burt': 629, 'jump': 2429, 'whats': 4860, 'grew': 1972, 'chorus': 803, 'companion': 909, 'passion': 3205, 'primarily': 3393, 'dorothy': 1330, 'everybody': 1540, 'nightmares': 3015, 'bathroom': 412, 'parties': 3196, 'fake': 1635, 'insulting': 2310, 'spirited': 4114, 'constant': 957, 'essence': 1521, 'depressing': 1188, 'sleeping': 4025, 'dislike': 1288, 'sons': 4073, 'continues': 971, 'abusive': 75, 'online': 3109, 'description': 1197, 'andrew': 228, 'describes': 1196, 'relatives': 3601, 'dolls': 1316, 'tea': 4373, 'bedroom': 437, 'pops': 3332, 'closet': 858, 'mirror': 2861, 'baseball': 403, 'andrews': 229, 'throws': 4482, 'step': 4175, 'shoes': 3941, 'nearby': 2980, 'elephant': 1444, 'enter': 1494, 'upset': 4687, 'wicked': 4879, 'orders': 3127, 'trees': 4577, 'standing': 4146, 'catches': 715, 'reaching': 3539, 'bottom': 551, 'drops': 1372, 'moved': 2922, 'st': 4137, 'believes': 456, 'secretly': 3851, 'tortured': 4530, 'recognition': 3568, 'potentially': 3356, '30': 42, 'blend': 504, 'gritty': 1977, 'watchable': 4812, 'research': 3644, 'folk': 1770, 'understated': 4646, 'kiss': 2483, 'screenwriter': 3833, 'speech': 4102, 'fitting': 1742, 'newly': 3004, 'gandhi': 1866, 'noticed': 3049, 'brosnan': 597, 'protect': 3443, 'starred': 4153, 'bond': 532, 'shorts': 3948, 'tracks': 4545, 'jake': 2377, 'childish': 791, 'ups': 4686, 'imagination': 2236, 'kate': 2446, 'whilst': 4869, 'quest': 3486, 'homeless': 2143, 'worker': 4942, 'awkward': 374, 'tension': 4404, 'fest': 1696, 'clumsy': 866, 'executed': 1565, 'press': 3379, 'unexpected': 4650, 'cheated': 775, 'exact': 1550, 'threat': 4467, 'compelled': 915, 'thrillers': 4473, 'solution': 4059, 'failing': 1627, 'ticket': 4487, 'stephen': 4176, 'desperation': 1210, 'revolves': 3682, 'brady': 561, 'shape': 3919, 'animals': 240, 'spare': 4093, 'lacks': 2505, 'witty': 4917, 'margaret': 2735, 'pulp': 3465, 'roy': 3745, 'depth': 1190, 'heroic': 2090, 'battles': 415, 'savage': 3793, 'sixties': 4011, 'accent': 78, 'belongs': 460, 'succeeds': 4264, 'genuinely': 1892, 'remarkable': 3613, 'bomb': 531, 'thoughts': 4464, 'dawson': 1128, 'teenager': 4390, 'tie': 4488, '2nd': 41, 'dude': 1381, 'lesbian': 2573, 'explored': 1595, 'strangely': 4212, 'opened': 3113, 'construction': 960, 'established': 1524, 'drugs': 1374, 'test': 4416, 'promised': 3431, 'possibility': 3349, 'importantly': 2248, 'saturday': 3792, 'balance': 387, 'mike': 2838, 'frequent': 1831, 'joseph': 2419, 'foster': 1809, 'dad': 1095, 'sleazy': 4023, 'lloyd': 2630, 'davis': 1126, 'dressing': 1359, 'obnoxious': 3067, 'jay': 2386, 'matthew': 2772, 'johnson': 2411, 'appropriate': 283, 'unrealistic': 4677, 'titles': 4506, 'franco': 1820, 'official': 3094, 'nasty': 2968, 'hunter': 2199, 'jungle': 2434, 'inept': 2281, 'loads': 2633, 'ruthless': 3764, 'confusion': 943, 'aint': 163, 'stargate': 4151, 'retired': 3664, 'shut': 3961, 'kidnapped': 2466, 'scientist': 3818, 'claims': 830, 'determined': 1221, 'daniel': 1111, 'consists': 955, 'rescue': 3643, 'prisoners': 3403, 'prime': 3395, 'alternate': 200, 'bodies': 526, 'global': 1920, 'disaster': 1276, 'teeth': 4393, 'lasted': 2522, 'enemy': 1477, 'bringing': 586, 'mysteries': 2954, 'introduction': 2339, 'cameron': 661, 'revelation': 3674, 'drag': 1342, 'houses': 2180, 'changing': 752, 'closest': 857, 'web': 4833, '1990': 24, '1968': 16, 'context': 968, 'corpse': 999, 'irrelevant': 2358, 'covers': 1024, 'tour': 4538, 'french': 1830, 'passing': 3204, 'medium': 2792, 'defeat': 1157, 'pitch': 3279, 'hed': 2072, 'dragged': 1343, 'evidence': 1546, 'doubts': 1333, 'graphics': 1959, 'gas': 1874, 'firstly': 1737, 'confused': 941, 'unoriginal': 4673, 'ice': 2210, 'incomprehensible': 2267, 'rap': 3520, 'steve': 4181, 'lewis': 2586, 'alas': 172, 'outrageous': 3145, 'antics': 255, 'window': 4894, 'blatant': 502, 'outfit': 3144, 'triumph': 4590, 'serve': 3893, 'reel': 3581, 'ireland': 2352, 'forest': 1791, 'student': 4238, 'girlfriend': 1910, 'removed': 3624, 'population': 3335, 'cousin': 1021, 'hunting': 2201, 'blind': 506, 'deaf': 1134, 'reference': 3582, 'shadows': 3913, 'ashamed': 312, 'purposes': 3475, 'drinking': 1362, 'fairy': 1632, 'ruin': 3750, 'hospital': 2172, 'bus': 631, 'cameras': 660, 'interview': 2329, 'ie': 2221, 'roman': 3731, 'nevertheless': 3002, 'poster': 3353, 'crash': 1033, 'professional': 3421, 'killings': 2473, 'makers': 2715, 'dentist': 1180, 'tony': 4521, 'bonus': 534, 'adapted': 114, 'content': 966, 'sincere': 3991, 'directorial': 1265, 'views': 4742, 'creativity': 1042, 'soap': 4047, 'miserable': 2863, 'robots': 3718, 'trashy': 4566, 'alcohol': 176, 'interaction': 2322, 'harry': 2039, 'thugs': 4484, 'forgot': 1796, 'develop': 1222, 'creative': 1041, 'marie': 2737, 'deeper': 1155, 'filmmakers': 1720, 'tiresome': 4502, 'synopsis': 4344, 'vivid': 4760, 'stones': 4198, 'latin': 2527, 'capturing': 679, 'explosions': 1597, 'idiots': 2220, 'answers': 252, 'dedicated': 1153, 'rival': 3706, 'fury': 1855, 'survivors': 4325, 'force': 1786, 'eva': 1531, 'dragon': 1344, 'menacing': 2807, 'purple': 3473, 'jessica': 2398, 'wells': 4845, 'hood': 2151, 'yelling': 4980, '13': 4, '75': 57, 'connection': 946, 'stronger': 4230, 'bold': 528, 'junk': 2436, 'conversations': 981, 'toys': 4543, 'outer': 3143, 'figures': 1713, 'catherine': 719, 'extra': 1606, 'training': 4558, 'struggles': 4235, 'slave': 4022, 'downright': 1337, 'cinematic': 818, 'closing': 859, 'website': 4834, 'jaws': 2385, 'slasher': 4020, 'flicks': 1755, 'damage': 1099, 'reasonably': 3559, 'downhill': 1336, 'virus': 4752, 'resources': 3651, 'helped': 2080, 'assigned': 325, 'agents': 151, 'swimming': 4338, 'bbc': 417, 'monkeys': 2891, 'captivating': 675, 'gradually': 1952, 'reaches': 3538, 'overdone': 3152, 'noise': 3024, 'fault': 1668, 'wandering': 4785, 'broadcast': 591, 'via': 4726, 'buying': 641, 'roll': 3728, 'eerie': 1427, 'decisions': 1152, 'lately': 2524, 'purely': 3472, 'carpenter': 694, 'staring': 4152, 'womens': 4924, 'pre': 3365, 'suited': 4286, 'progresses': 3426, 'individual': 2277, 'widow': 4883, 'loser': 2655, 'spends': 4107, 'energy': 1478, 'lessons': 2578, 'elizabeth': 1445, 'specific': 4099, 'send': 3875, 'ingredients': 2289, 'stick': 4185, 'junior': 2435, 'scheme': 3812, 'mixed': 2877, 'juvenile': 2441, 'trail': 4553, 'dramas': 1347, 'investigation': 2343, 'duo': 1386, 'petty': 3249, 'environment': 1505, 'brando': 566, 'available': 361, '2007': 37, 'sidney': 3968, 'ensues': 1493, '3000': 43, 'moronic': 2907, 'dirty': 1268, 'foul': 1810, 'trash': 4565, 'presentation': 3375, 'stranger': 4213, 'dolph': 1317, 'river': 3707, 'ironic': 2355, 'steel': 4173, 'poetic': 3313, 'glimpse': 1919, 'turkey': 4604, 'credibility': 1047, 'cake': 648, 'nomination': 3026, 'groups': 1981, 'riveting': 3708, 'tense': 4403, 'gripping': 1976, 'plight': 3308, 'understandable': 4644, 'accents': 79, 'screams': 3828, 'caliber': 649, 'lucky': 2683, 'claimed': 829, 'mildred': 2841, 'waitress': 4773, 'eager': 1396, 'sink': 3999, 'transformation': 4560, 'widely': 4881, 'uneven': 4649, 'howard': 2182, 'nervous': 2999, 'angles': 237, 'bare': 398, 'translation': 4562, 'punishment': 3467, 'kay': 2447, 'vulnerable': 4768, 'miller': 2846, '1983': 22, '2002': 32, 'influenced': 2287, 'imaginative': 2237, 'styles': 4250, 'performers': 3232, 'artists': 309, 'screens': 3832, 'endings': 1472, 'dancer': 1104, 'narration': 2965, 'raw': 3532, 'doom': 1326, 'disneys': 1290, 'commercial': 902, 'versions': 4721, 'letters': 2582, 'gentle': 1890, 'dub': 1378, 'touched': 4534, 'signs': 3973, 'wouldve': 4959, 'hoping': 2160, 'fears': 1677, 'legend': 2564, 'ah': 158, 'seat': 3845, 'concerned': 932, 'values': 4710, 'rocket': 3721, 'fighter': 1708, 'robot': 3717, 'maggie': 2702, 'blake': 498, 'notch': 3043, 'safe': 3771, 'popcorn': 3331, 'modesty': 2883, 'novels': 3053, 'regard': 3588, 'integrity': 2311, 'sinister': 3998, 'destroyed': 1214, 'surreal': 4317, 'witness': 4914, 'disturbed': 1299, 'tender': 4401, 'phantom': 3251, 'attached': 336, 'ties': 4490, 'luckily': 2682, 'proceedings': 3410, 'giallo': 1904, 'curtis': 1087, 'providing': 3451, 'victim': 4729, 'cook': 988, 'buddies': 608, 'maintain': 2710, 'bob': 524, 'blade': 495, 'trite': 4589, 'fish': 1738, 'reactions': 3542, 'cup': 1080, 'iran': 2350, 'demand': 1174, 'soccer': 4048, 'nations': 2971, 'advanced': 128, 'broke': 593, 'deadly': 1133, 'rats': 3531, 'species': 4098, 'lab': 2501, 'bigger': 479, 'building': 615, 'cared': 685, 'jane': 2380, 'survival': 4320, 'instinct': 2308, 'linda': 2609, 'prisoner': 3402, 'hatred': 2049, 'opposed': 3122, 'entry': 1504, 'opportunities': 3120, 'illness': 2230, 'freddy': 1826, 'lisa': 2616, 'teens': 4392, 'hints': 2113, 'citizen': 824, 'tricks': 4583, 'props': 3439, 'franchise': 1817, 'september': 3884, 'edge': 1418, 'thanks': 4423, 'birth': 486, 'cinemas': 817, 'faithful': 1634, 'melodrama': 2797, 'remarkably': 3614, 'faster': 1662, 'overacting': 3149, 'adds': 119, 'exaggerated': 1552, 'exercise': 1568, 'controversial': 978, 'techniques': 4384, 'elegant': 1441, 'tradition': 4549, 'communist': 907, 'lone': 2642, 'meaningless': 2782, 'shake': 3914, 'needless': 2989, 'similarities': 3979, 'intentionally': 2320, 'witnessed': 4915, 'hysterical': 2208, 'flies': 1756, 'goofy': 1939, 'idiotic': 2219, 'waters': 4817, 'express': 1600, 'empathy': 1462, 'africa': 141, 'troops': 4591, 'documentaries': 1306, 'everyday': 1541, 'flight': 1757, 'reveals': 3673, 'plans': 3292, 'frankenstein': 1822, 'fonda': 1777, 'hide': 2097, 'wondered': 4927, 'factory': 1623, 'successfully': 4267, 'pink': 3277, 'entertained': 1498, 'demon': 1177, 'wishing': 4907, 'judy': 2426, 'dating': 1120, 'mann': 2728, 'intention': 2319, 'phony': 3256, 'mob': 2879, 'boss': 546, 'gangsters': 1869, 'suspicious': 4332, 'happily': 2030, 'iraq': 2351, 'rush': 3759, 'renting': 3629, 'immensely': 2243, 'proud': 3444, 'unbelievably': 4635, 'eyre': 1614, 'timothy': 4499, 'dalton': 1098, 'charlotte': 766, 'ideal': 2214, 'lousy': 2667, 'icon': 2211, 'strip': 4228, 'pleasantly': 3303, 'paint': 3173, 'cult': 1077, 'shelley': 3928, 'winters': 4901, 'mini': 2854, 'merits': 2817, 'performed': 3230, 'technology': 4385, 'aliens': 184, 'corny': 997, 'alcoholic': 177, 'stayed': 4167, 'enjoying': 1487, 'nuts': 3064, 'portrait': 3339, 'survived': 4322, 'neighborhood': 2993, 'activities': 102, 'kicks': 2463, 'grows': 1985, 'drags': 1345, 'cruise': 1071, 'stops': 4203, 'receives': 3565, 'inspiring': 2302, 'et': 1526, 'le': 2544, 'deliberately': 1166, 'arrived': 301, 'waited': 4771, 'ages': 152, 'teenagers': 4391, 'ethan': 1528, 'classes': 834, 'attracted': 349, 'delivering': 1171, 'movements': 2924, 'text': 4419, 'perspective': 3245, '1996': 26, 'suffered': 4276, 'hopefully': 2157, 'award': 366, 'improve': 2254, 'flop': 1760, 'tear': 4379, 'wins': 4899, 'searching': 3842, 'hook': 2152, 'bollywood': 530, 'exceptional': 1558, 'roots': 3738, 'philosophical': 3253, 'growing': 1983, 'strictly': 4223, 'stole': 4194, 'mountain': 2917, 'walker': 4778, 'brooks': 596, 'practice': 3363, 'punk': 3468, 'timing': 4498, 'speaks': 4096, 'stan': 4142, 'sequence': 3887, 'twice': 4613, 'mario': 2738, 'cars': 702, 'draws': 1352, 'magical': 2704, 'humble': 2191, 'thru': 4483, 'alert': 178, 'burn': 625, 'landing': 2512, 'woody': 4936, 'columbo': 881, 'marks': 2742, 'douglas': 1334, 'cannibal': 669, 'carrie': 697, 'willis': 4890, 'reporter': 3636, 'broad': 590, 'contains': 964, 'thoughtful': 4463, 'japan': 2381, 'cringe': 1059, 'handed': 2016, 'trade': 4547, 'drop': 1369, 'composed': 926, 'mistakes': 2873, 'storytelling': 4209, 'paid': 3169, 'desperately': 1209, 'inane': 2258, 'shortly': 3947, 'spending': 4106, 'attempted': 341, 'chest': 784, 'randomly': 3515, 'rubbish': 3748, 'abysmal': 76, 'shining': 3933, 'domino': 1319, 'elaborate': 1439, 'thousand': 4465, 'reveal': 3670, 'costs': 1004, 'catchy': 717, 'futuristic': 1857, 'ha': 2002, 'trek': 4578, 'arrested': 298, 'affected': 137, 'gross': 1978, 'definite': 1161, 'associated': 327, 'consistent': 953, 'maker': 2714, 'grinch': 1975, 'eight': 1436, 'viewings': 4741, 'rabbit': 3498, 'typically': 4624, 'lou': 2663, 'belong': 459, 'heck': 2071, 'agreed': 156, 'sandler': 3781, 'psycho': 3457, 'robbery': 3711, 'improvement': 2256, 'arnold': 296, 'subtitles': 4259, 'argue': 290, 'derek': 1192, 'harris': 2038, 'lucy': 2684, 'marry': 2745, 'beast': 422, 'handle': 2018, 'exceptionally': 1559, 'commit': 904, 'ho': 2127, 'jobs': 2406, 'propaganda': 3435, 'represent': 3637, 'masses': 2755, 'miike': 2837, 'sentence': 3881, 'relations': 3596, 'scottish': 3825, 'bobby': 525, 'consistently': 954, 'represented': 3638, 'khan': 2459, 'barbara': 397, 'concerns': 934, 'visits': 4756, 'deaths': 1142, 'flaw': 1749, 'portion': 3338, 'blond': 510, 'rarely': 3524, '1972': 18, 'doomed': 1327, 'criticism': 1063, 'winter': 4900, 'engage': 1479, 'effectively': 1430, 'iii': 2227, 'midnight': 2834, 'receive': 3563, 'ambitious': 211, 'voight': 4764, 'travels': 4569, 'initially': 2291, 'convinced': 984, 'warmth': 4796, 'ultra': 4629, 'discussion': 1284, '1st': 28, 'statement': 4162, 'scientists': 3819, 'blah': 496, 'vicious': 4728, 'colour': 880, 'witnesses': 4916, 'doctors': 1305, 'hundred': 2195, 'burton': 630, 'nonetheless': 3029, 'mexico': 2827, 'charlie': 765, 'claire': 831, 'carefully': 689, 'plague': 3285, 'crucial': 1068, 'disease': 1285, 'regardless': 3590, 'widmark': 4882, 'domestic': 1318, 'grim': 1974, 'walter': 4784, 'panic': 3181, 'memory': 2804, 'jackson': 2375, 'increasingly': 2268, 'bakshi': 386, 'extended': 1604, 'monsters': 2893, 'counter': 1011, 'reflect': 3584, 'montage': 2894, 'plausible': 3295, 'embarrassed': 1453, 'holy': 2140, 'treats': 4575, 'builds': 617, 'segments': 3868, '2005': 35, 'interpretation': 2328, 'wonders': 4931, 'silence': 3974, 'clown': 862, 'fascinated': 1657, 'selfish': 3870, 'divorce': 1301, 'explore': 1594, 'focusing': 1769, 'vs': 4767, 'print': 3399, 'revolution': 3680, 'revolutionary': 3681, 'mate': 2765, 'capital': 673, 'mask': 2752, 'fisher': 1739, 'luke': 2687, 'psychiatrist': 3455, 'denzel': 1181, 'screening': 3830, 'amanda': 205, 'brains': 563, 'vincent': 4746, 'principal': 3398, 'judging': 2425, 'politically': 3325, 'intent': 2318, 'closely': 855, 'centered': 733, 'combat': 882, 'charge': 761, 'helen': 2075, 'psychic': 3456, 'godfather': 1927, 'mafia': 2700, 'vegas': 4717, 'graphic': 1958, 'nancy': 2964, 'mistress': 2874, 'edie': 1419, 'descent': 1193, 'bird': 484, 'gangster': 1868, 'matthau': 2771, 'frustrated': 1842, 'neil': 2995, 'simon': 3982, 'inferior': 2285, 'obsession': 3070, 'whoever': 4872, 'hardcore': 2034, 'hall': 2009, 'rising': 3703, 'solo': 4058, 'magnificent': 2705, 'task': 4368, 'steven': 4182, 'quiet': 3492, 'stiller': 4189, 'continued': 970, 'occasional': 3074, 'motives': 2916, 'intrigue': 2333, 'multiple': 2936, 'twilight': 4614, 'bruce': 602, 'bugs': 613, 'innovative': 2295, 'silver': 3977, 'protagonists': 3442, 'huh': 2187, 'jeffrey': 2391, 'shark': 3921, 'desired': 1206, 'producing': 3417, 'tongue': 4518, 'marvelous': 2750, 'smith': 4038, 'enterprise': 1495, 'repetitive': 3633, 'educational': 1425, 'dated': 1119, 'ship': 3934, 'jamie': 2379, 'messages': 2820, 'knowledge': 2491, 'countryside': 1015, 'spots': 4132, 'caine': 647, 'rex': 3683, 'imagined': 2239, 'backdrop': 379, 'equal': 1509, 'choreographed': 801, 'staged': 4140, 'ballet': 389, 'hurts': 2203, 'misery': 2865, 'devils': 1229, 'versus': 4722, 'weapons': 4829, 'lees': 2560, 'throwing': 4480, 'wet': 4855, 'carrey': 696, 'literature': 2623, 'poem': 3312, 'wizard': 4919, 'atlantis': 332, 'lips': 2615, 'condition': 937, 'cards': 683, 'dave': 1123, 'heights': 2073, 'inevitably': 2283, 'tedious': 4387, 'curse': 1086, 'newspaper': 3006, 'prize': 3405, 'winner': 4897, 'unit': 4663, 'jumped': 2430, 'richardson': 3688, 'photographed': 3258, 'birthday': 487, 'demented': 1176, 'climactic': 848, 'mel': 2796, 'parallel': 3185, 'boat': 523, 'inducing': 2279, 'coherent': 871, 'bucks': 606, 'tons': 4520, 'limits': 2607, 'wolf': 4920, 'shirt': 3937, 'wished': 4905, 'bottle': 550, 'arrive': 300, 'cleverly': 842, 'branagh': 564, 'forty': 1807, 'avoided': 364, '60': 53, 'rubber': 3747, 'terry': 4415, 'attitudes': 347, 'fever': 1699, 'jimmy': 2403, 'bela': 450, 'lugosi': 2686, 'cg': 739, 'cave': 727, 'glenn': 1918, 'rural': 3758, 'kitchen': 2485, 'safety': 3772, 'finger': 1731, 'remarks': 3615, 'crafted': 1029, 'russell': 3761, 'abraham': 69, 'flynn': 1765, 'secretary': 3850, 'monkey': 2890, 'performs': 3234, 'commercials': 903, 'executive': 1567, 'ritter': 3705, 'edward': 1426, 'airplane': 166, 'airport': 167, '14': 6, 'ruins': 3752, 'manipulative': 2727, 'careful': 688, 'report': 3635, 'kenneth': 2455, 'cheating': 776, 'revealing': 3672, 'explicit': 1591, 'generic': 1885, 'wishes': 4906, 'conservative': 948, 'cd': 728, 'metal': 2823, 'joey': 2408, 'amy': 222, 'discovery': 1282, 'landscape': 2513, 'connect': 944, 'stopped': 4202, 'godzilla': 1929, 'blues': 519, 'ralph': 3510, 'jumps': 2432, 'pokemon': 3320, 'pushed': 3478, 'spike': 4111, 'defined': 1160, 'floating': 1758, 'nostalgic': 3039, 'shower': 3957, 'dutch': 1389, 'alice': 182, 'mentioning': 2812, 'scripted': 3835, 'neighbor': 2992, 'brad': 560, 'lumet': 2688, 'president': 3378, 'worry': 4950, 'gem': 1877, '2006': 36, 'proceeds': 3411, 'everyones': 1543, 'miserably': 2864, 'knife': 2487, 'definition': 1163, 'jeremy': 2394, 'welles': 4844, 'orson': 3132, 'menace': 2806, 'suggested': 4281, 'scarecrow': 3804, 'dust': 1388, 'friendly': 1836, 'twins': 4616, '3d': 46, 'june': 2433, 'expressed': 1601, 'suspend': 4329, 'existed': 1570, 'scare': 3803, 'winds': 4895, 'bath': 411, 'robinson': 3716, '24': 39, 'evident': 1547, 'enthusiasm': 1501, 'destroying': 1215, 'exposed': 1598, 'refreshing': 3586, 'ought': 3138, 'connected': 945, 'subsequent': 4257, 'interviews': 2330, 'heston': 2094, 'spiritual': 4116, 'code': 869, 'greed': 1968, 'politics': 3326, 'banned': 395, 'schools': 3814, 'oil': 3097, 'warming': 4795, 'travesty': 4570, 'cruel': 1070, 'che': 773, 'endure': 1475, 'fatal': 1664, 'mummy': 2937, 'pursuit': 3476, 'samurai': 3779, 'hello': 2078, 'walken': 4777, 'showdown': 3955, 'regarding': 3589, 'loyal': 2679, 'marketing': 2741, 'costume': 1005, 'unfolds': 4651, 'simplicity': 3984, 'stereotypical': 4180, 'bacall': 377, 'hates': 2048, 'adding': 117, 'fields': 1705, '80': 58, 'repeatedly': 3632, 'dynamic': 1394, 'seagal': 3839, 'food': 1778, 'apes': 267, 'ships': 3935, 'laws': 2540, 'prefer': 3368, 'doors': 1329, 'neighbors': 2994, 'strangers': 4214, 'complexity': 924, 'demands': 1175, 'slaughter': 4021, 'racial': 3501, 'paranoia': 3186, 'rolled': 3729, 'pleased': 3305, 'matches': 2764, 'thrills': 4475, 'pulling': 3463, 'garden': 1872, 'satisfied': 3789, 'obscure': 3068, 'reflection': 3585, 'bumbling': 622, 'exploration': 1593, 'appearances': 275, 'comparing': 913, 'earl': 1398, 'causing': 726, 'intellectual': 2312, 'voiced': 4762, 'celluloid': 731, 'unaware': 4632, 'laurel': 2537, 'hardy': 2037, 'ghosts': 1903, 'hilariously': 2107, 'macy': 2695, 'purchase': 3469, 'resemblance': 3645, 'richards': 3687, '35': 45, 'von': 4765, 'depicts': 1186, 'weight': 4840, 'jesse': 2397, 'demons': 1178, 'satan': 3787, 'moody': 2899, 'diana': 1237, 'titanic': 4503, 'ocean': 3079, 'pearl': 3220, 'landscapes': 2514, 'madness': 2698, 'poetry': 3314, 'porno': 3337, 'concert': 935, 'wrap': 4963, 'showcase': 3954, '70': 55, 'superhero': 4299, 'forgive': 1795, 'bite': 489, 'mst3k': 2932, 'ad': 110, 'pays': 3218, 'matched': 2763, 'cities': 823, 'bands': 392, 'square': 4136, 'resembles': 3646, 'karloff': 2445, 'wacky': 4769, 'barry': 401, 'em': 1452, 'leo': 2571, 'messed': 2821, 'unreal': 4676, 'explosion': 1596, 'thief': 4448, 'accompanied': 86, 'georges': 1894, 'designs': 1204, 'morris': 2908, 'doo': 1325, 'wrestling': 4966, 'danes': 1108, 'possessed': 3347, 'gender': 1878, 'marty': 2749, 'emma': 1457, 'roberts': 3714, 'sport': 4129, 'rooms': 3736, 'elm': 1447, 'subplots': 4256, 'questionable': 3488, 'reduced': 3579, 'florida': 1761, 'lit': 2621, 'brilliance': 582, 'ignorant': 2223, 'awfully': 373, 'hype': 2207, 'homosexual': 2145, 'load': 2631, 'ramones': 3512, 'enjoys': 1489, 'chaos': 755, 'critic': 1061, 'falk': 1636, 'pat': 3208, 'earned': 1401, 'joined': 2413, 'kane': 2442, 'hippie': 2115, 'suggests': 4282, 'boll': 529, 'unsettling': 4679, 'performer': 3231, 'asian': 314, 'coffee': 870, 'robbins': 3712, 'resist': 3648, 'fits': 1741, 'featured': 1679, 'cusack': 1088, 'ned': 2986, 'serving': 3897, 'rotten': 3740, 'brooklyn': 595, 'ape': 266, 'armed': 293, 'incompetent': 2266, 'melting': 2799, 'beliefs': 452, 'splatter': 4118, 'garbo': 1871, 'blob': 507, 'eaten': 1412, 'likewise': 2603, 'subtlety': 4261, 'virginia': 4750, 'rendition': 3625, 'sentimental': 3882, 'artificial': 306, 'harvey': 2042, 'donna': 1323, 'stereotypes': 4179, 'fay': 1674, 'norman': 3035, 'sunshine': 4294, 'struck': 4232, 'underlying': 4641, 'michelle': 2830, 'survivor': 4324, '1999': 27, 'halloween': 2010, 'warriors': 4803, 'useful': 4694, 'experiments': 1584, 'possibilities': 3348, 'campbell': 663, 'berlin': 467, 'secrets': 3852, 'raising': 3509, 'map': 2733, 'surfing': 4311, 'vengeance': 4719, 'prom': 3429, 'mickey': 2831, 'twin': 4615, 'mall': 2720, 'hollow': 2135, 'jumping': 2431, '13th': 5, 'birds': 485, 'kissing': 2484, 'pretend': 3381, 'fulci': 1845, 'swim': 4337, 'ear': 1397, 'arguably': 289, 'lily': 2605, 'corporate': 998, 'hudson': 2184, 'bull': 619, 'depicting': 1184, 'april': 284, 'empire': 1464, 'cagney': 646, 'muslim': 2949, 'notion': 3050, 'trademark': 4548, 'switch': 4339, 'chased': 770, 'ruby': 3749, 'reynolds': 3684, 'montana': 2895, 'fix': 1744, 'pan': 3180, 'daily': 1097, 'dinosaurs': 1256, 'simpson': 3987, 'backgrounds': 381, 'da': 1094, 'assault': 324, 'crocodile': 1065, 'myers': 2952, 'visible': 4753, 'emphasis': 1463, 'sellers': 3872, 'parent': 3187, 'ashley': 313, 'introduces': 2338, 'kubrick': 2496, 'ironically': 2356, 'illegal': 2229, 'paltrow': 3178, 'uwe': 4703, 'considerable': 950, 'aid': 160, 'inappropriate': 2259, 'scooby': 3820, 'swedish': 4335, 'oz': 3160, 'polanski': 3321, 'button': 639, 'aids': 161, 'homer': 2144, 'disappear': 1270, 'amitabh': 216, 'kapoor': 2443, 'seed': 3856, 'creep': 1051, 'sullivan': 4288, 'recording': 3575, 'wallace': 4782, 'museum': 2945, 'recorded': 3574, 'masterpieces': 2760, 'whale': 4857, 'hamilton': 2012, 'bud': 607, 'wendy': 4846, 'aging': 153, 'album': 175, 'spielberg': 4110, 'teachers': 4376, 'akshay': 169, 'carradine': 695, 'shirley': 3936, 'hank': 2024, 'yesterday': 4983, 'masterful': 2758, 'promises': 3432, 'tiger': 4491, 'pseudo': 3454, 'suffice': 4279, 'elvira': 1450, 'omen': 3104}\n"
     ]
    }
   ],
   "source": [
    "print(str(vocabulary))"
   ]
  },
  {
   "cell_type": "markdown",
   "metadata": {},
   "source": [
    "Once you have added the endpoint name to the Lambda function, click on **Save**. Your Lambda function is now up and running. Next we need to create a way for our web app to execute the Lambda function."
   ]
  },
  {
   "cell_type": "markdown",
   "metadata": {},
   "source": [
    "### Setting up API Gateway\n",
    "\n",
    "Now that our Lambda function is set up, it is time to create a new API using API Gateway that will trigger the Lambda function we have just created.\n",
    "\n",
    "Using AWS Console, navigate to **Amazon API Gateway** and then click on **Get started**.\n",
    "\n",
    "On the next page, make sure that **New API** is selected and give the new api a name, for example, `sentiment_analysis_web_app`. Then, click on **Create API**.\n",
    "\n",
    "Now we have created an API, however it doesn't currently do anything. What we want it to do is to trigger the Lambda function that we created earlier.\n",
    "\n",
    "Select the **Actions** dropdown menu and click **Create Method**. A new blank method will be created, select its dropdown menu and select **POST**, then click on the check mark beside it.\n",
    "\n",
    "For the integration point, make sure that **Lambda Function** is selected and click on the **Use Lambda Proxy integration**. This option makes sure that the data that is sent to the API is then sent directly to the Lambda function with no processing. It also means that the return value must be a proper response object as it will also not be processed by API Gateway.\n",
    "\n",
    "Type the name of the Lambda function you created earlier into the **Lambda Function** text entry box and then click on **Save**. Click on **OK** in the pop-up box that then appears, giving permission to API Gateway to invoke the Lambda function you created.\n",
    "\n",
    "The last step in creating the API Gateway is to select the **Actions** dropdown and click on **Deploy API**. You will need to create a new Deployment stage and name it anything you like, for example `prod`.\n",
    "\n",
    "You have now successfully set up a public API to access your SageMaker model. Make sure to copy or write down the URL provided to invoke your newly created public API as this will be needed in the next step. This URL can be found at the top of the page, highlighted in blue next to the text **Invoke URL**."
   ]
  },
  {
   "cell_type": "markdown",
   "metadata": {},
   "source": [
    "## Step 7: Deploying our web app\n",
    "\n",
    "Now that we have a publicly available API, we can start using it in a web app. For our purposes, we have provided a simple static html file which can make use of the public api you created earlier.\n",
    "\n",
    "In the `website` folder there should be a file called `index.html`. Download the file to your computer and open that file up in a text editor of your choice. There should be a line which contains **\\*\\*REPLACE WITH PUBLIC API URL\\*\\***. Replace this string with the url that you wrote down in the last step and then save the file.\n",
    "\n",
    "Now, if you open `index.html` on your local computer, your browser will behave as a local web server and you can use the provided site to interact with your SageMaker model.\n",
    "\n",
    "If you'd like to go further, you can host this html file anywhere you'd like, for example using github or hosting a static site on Amazon's S3. Once you have done this you can share the link with anyone you'd like and have them play with it too!\n",
    "\n",
    "> **Important Note** In order for the web app to communicate with the SageMaker endpoint, the endpoint has to actually be deployed and running. This means that you are paying for it. Make sure that the endpoint is running when you want to use the web app but that you shut it down when you don't need it, otherwise you will end up with a surprisingly large AWS bill."
   ]
  },
  {
   "cell_type": "markdown",
   "metadata": {},
   "source": [
    "### Delete the endpoint\n",
    "\n",
    "Remember to always shut down your endpoint if you are no longer using it. You are charged for the length of time that the endpoint is running so if you forget and leave it on you could end up with an unexpectedly large bill."
   ]
  },
  {
   "cell_type": "code",
   "execution_count": 51,
   "metadata": {},
   "outputs": [
    {
     "name": "stderr",
     "output_type": "stream",
     "text": [
      "INFO:sagemaker:Deleting endpoint configuration with name: xgboost-2019-05-01-12-08-46-133\n",
      "INFO:sagemaker:Deleting endpoint with name: xgboost-2019-05-01-12-08-46-133\n"
     ]
    }
   ],
   "source": [
    "xgb_predictor.delete_endpoint()"
   ]
  },
  {
   "cell_type": "markdown",
   "metadata": {},
   "source": [
    "## Optional: Clean up\n",
    "\n",
    "The default notebook instance on SageMaker doesn't have a lot of excess disk space available. As you continue to complete and execute notebooks you will eventually fill up this disk space, leading to errors which can be difficult to diagnose. Once you are completely finished using a notebook it is a good idea to remove the files that you created along the way. Of course, you can do this from the terminal or from the notebook hub if you would like. The cell below contains some commands to clean up the created files from within the notebook."
   ]
  },
  {
   "cell_type": "code",
   "execution_count": 52,
   "metadata": {},
   "outputs": [],
   "source": [
    "# First we will remove all of the files contained in the data_dir directory\n",
    "!rm $data_dir/*\n",
    "\n",
    "# And then we delete the directory itself\n",
    "!rmdir $data_dir\n",
    "\n",
    "# Similarly we remove the files in the cache_dir directory and the directory itself\n",
    "!rm $cache_dir/*\n",
    "!rmdir $cache_dir"
   ]
  },
  {
   "cell_type": "code",
   "execution_count": null,
   "metadata": {},
   "outputs": [],
   "source": []
  }
 ],
 "metadata": {
  "kernelspec": {
   "display_name": "conda_python3",
   "language": "python",
   "name": "conda_python3"
  },
  "language_info": {
   "codemirror_mode": {
    "name": "ipython",
    "version": 3
   },
   "file_extension": ".py",
   "mimetype": "text/x-python",
   "name": "python",
   "nbconvert_exporter": "python",
   "pygments_lexer": "ipython3",
   "version": "3.6.5"
  }
 },
 "nbformat": 4,
 "nbformat_minor": 2
}
